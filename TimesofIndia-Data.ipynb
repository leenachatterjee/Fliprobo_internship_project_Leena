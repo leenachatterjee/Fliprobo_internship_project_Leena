{
 "cells": [
  {
   "cell_type": "code",
   "execution_count": 1,
   "metadata": {},
   "outputs": [],
   "source": [
    "#Importing the library\n",
    "import pandas as pd\n",
    "import numpy as np\n",
    "import requests\n",
    "import selenium\n",
    "from selenium import webdriver\n",
    "from bs4 import BeautifulSoup\n",
    "#importing the Web driver\n",
    "dr=webdriver.Chrome(\"chromedriver.exe\")\n",
    "import time\n",
    "\n",
    "# Importing required Exceptions which needs to handled\n",
    "from selenium.common.exceptions import StaleElementReferenceException, NoSuchElementException\n",
    "import re"
   ]
  },
  {
   "cell_type": "code",
   "execution_count": 2,
   "metadata": {},
   "outputs": [],
   "source": [
    "\n",
    "url1=\"https://timesofindia.indiatimes.com/archive/year-2021.cms\""
   ]
  },
  {
   "cell_type": "code",
   "execution_count": 3,
   "metadata": {},
   "outputs": [],
   "source": [
    "dr.get(url1)"
   ]
  },
  {
   "cell_type": "code",
   "execution_count": 4,
   "metadata": {},
   "outputs": [
    {
     "data": {
      "text/plain": [
       "<selenium.webdriver.remote.webelement.WebElement (session=\"3152486ec53bc28d83e853f6fa59470c\", element=\"5f394d52-674d-45d1-b0b8-0d87ee07d106\")>"
      ]
     },
     "execution_count": 4,
     "metadata": {},
     "output_type": "execute_result"
    }
   ],
   "source": [
    "\n",
    "dec=dr.find_element_by_xpath(\"//span[@class='normtxt']/div/a[7]\")\n",
    "dec"
   ]
  },
  {
   "cell_type": "code",
   "execution_count": 5,
   "metadata": {},
   "outputs": [],
   "source": [
    "dr.get(dec.get_attribute('href'))"
   ]
  },
  {
   "cell_type": "code",
   "execution_count": 6,
   "metadata": {},
   "outputs": [],
   "source": [
    "date_att1=[]\n",
    "date1=dr.find_elements_by_xpath(\"//div[@id='calenderdiv']/table/tbody/tr/td/a\")"
   ]
  },
  {
   "cell_type": "code",
   "execution_count": 7,
   "metadata": {},
   "outputs": [],
   "source": [
    "for i in date1:\n",
    "        date_att1.append(i.get_attribute('href'))"
   ]
  },
  {
   "cell_type": "code",
   "execution_count": 8,
   "metadata": {},
   "outputs": [
    {
     "data": {
      "text/plain": [
       "['https://timesofindia.indiatimes.com/2021/7/1/archivelist/year-2021,month-7,starttime-44378.cms',\n",
       " 'https://timesofindia.indiatimes.com/2021/7/1/archivelist/year-2021,month-7,starttime-44378.cms',\n",
       " 'https://timesofindia.indiatimes.com/2021/7/1/archivelist/year-2021,month-7,starttime-44378.cms',\n",
       " 'https://timesofindia.indiatimes.com/2021/7/1/archivelist/year-2021,month-7,starttime-44378.cms',\n",
       " 'https://timesofindia.indiatimes.com/2021/7/1/archivelist/year-2021,month-7,starttime-44378.cms',\n",
       " 'https://timesofindia.indiatimes.com/2021/7/2/archivelist/year-2021,month-7,starttime-44379.cms',\n",
       " 'https://timesofindia.indiatimes.com/2021/7/3/archivelist/year-2021,month-7,starttime-44380.cms',\n",
       " 'https://timesofindia.indiatimes.com/2021/7/4/archivelist/year-2021,month-7,starttime-44381.cms',\n",
       " 'https://timesofindia.indiatimes.com/2021/7/5/archivelist/year-2021,month-7,starttime-44382.cms',\n",
       " 'https://timesofindia.indiatimes.com/2021/7/6/archivelist/year-2021,month-7,starttime-44383.cms',\n",
       " 'https://timesofindia.indiatimes.com/2021/7/7/archivelist/year-2021,month-7,starttime-44384.cms',\n",
       " 'https://timesofindia.indiatimes.com/2021/7/8/archivelist/year-2021,month-7,starttime-44385.cms',\n",
       " 'https://timesofindia.indiatimes.com/2021/7/9/archivelist/year-2021,month-7,starttime-44386.cms',\n",
       " 'https://timesofindia.indiatimes.com/2021/7/10/archivelist/year-2021,month-7,starttime-44387.cms',\n",
       " 'https://timesofindia.indiatimes.com/2021/7/11/archivelist/year-2021,month-7,starttime-44388.cms',\n",
       " 'https://timesofindia.indiatimes.com/2021/7/12/archivelist/year-2021,month-7,starttime-44389.cms',\n",
       " 'https://timesofindia.indiatimes.com/2021/7/13/archivelist/year-2021,month-7,starttime-44390.cms',\n",
       " 'https://timesofindia.indiatimes.com/2021/7/14/archivelist/year-2021,month-7,starttime-44391.cms',\n",
       " 'https://timesofindia.indiatimes.com/2021/7/15/archivelist/year-2021,month-7,starttime-44392.cms',\n",
       " 'https://timesofindia.indiatimes.com/2021/7/16/archivelist/year-2021,month-7,starttime-44393.cms',\n",
       " 'https://timesofindia.indiatimes.com/2021/7/17/archivelist/year-2021,month-7,starttime-44394.cms',\n",
       " 'https://timesofindia.indiatimes.com/2021/7/18/archivelist/year-2021,month-7,starttime-44395.cms',\n",
       " 'https://timesofindia.indiatimes.com/2021/7/19/archivelist/year-2021,month-7,starttime-44396.cms',\n",
       " 'https://timesofindia.indiatimes.com/2021/7/20/archivelist/year-2021,month-7,starttime-44397.cms',\n",
       " 'https://timesofindia.indiatimes.com/2021/7/21/archivelist/year-2021,month-7,starttime-44398.cms',\n",
       " 'https://timesofindia.indiatimes.com/2021/7/22/archivelist/year-2021,month-7,starttime-44399.cms',\n",
       " 'https://timesofindia.indiatimes.com/2021/7/23/archivelist/year-2021,month-7,starttime-44400.cms',\n",
       " 'https://timesofindia.indiatimes.com/2021/7/24/archivelist/year-2021,month-7,starttime-44401.cms',\n",
       " 'https://timesofindia.indiatimes.com/2021/7/25/archivelist/year-2021,month-7,starttime-44402.cms',\n",
       " 'https://timesofindia.indiatimes.com/2021/7/26/archivelist/year-2021,month-7,starttime-44403.cms',\n",
       " 'https://timesofindia.indiatimes.com/2021/7/27/archivelist/year-2021,month-7,starttime-44404.cms',\n",
       " 'https://timesofindia.indiatimes.com/2021/7/28/archivelist/year-2021,month-7,starttime-44405.cms',\n",
       " 'https://timesofindia.indiatimes.com/2021/7/29/archivelist/year-2021,month-7,starttime-44406.cms',\n",
       " 'https://timesofindia.indiatimes.com/2021/7/30/archivelist/year-2021,month-7,starttime-44407.cms',\n",
       " 'https://timesofindia.indiatimes.com/2021/7/31/archivelist/year-2021,month-7,starttime-44408.cms']"
      ]
     },
     "execution_count": 8,
     "metadata": {},
     "output_type": "execute_result"
    }
   ],
   "source": [
    "date_att1"
   ]
  },
  {
   "cell_type": "code",
   "execution_count": 9,
   "metadata": {},
   "outputs": [
    {
     "data": {
      "text/plain": [
       "35"
      ]
     },
     "execution_count": 9,
     "metadata": {},
     "output_type": "execute_result"
    }
   ],
   "source": [
    "len(date_att1)"
   ]
  },
  {
   "cell_type": "code",
   "execution_count": 10,
   "metadata": {},
   "outputs": [],
   "source": [
    "Head_Line=[]\n",
    "Vector=[]\n",
    "Author=[]\n",
    "DOP=[]\n",
    "Desc=[]"
   ]
  },
  {
   "cell_type": "code",
   "execution_count": 11,
   "metadata": {},
   "outputs": [],
   "source": [
    "news=[]\n",
    "for i in date_att1:\n",
    "    dr.get(i)\n",
    "    news_tag=dr.find_elements_by_xpath(\"//span[@style='font-family:arial ;font-size:12;color: #006699']/a\")\n",
    "    for n in news_tag:\n",
    "        news.append(n.get_attribute('href'))"
   ]
  },
  {
   "cell_type": "code",
   "execution_count": 12,
   "metadata": {},
   "outputs": [
    {
     "data": {
      "text/plain": [
       "17500"
      ]
     },
     "execution_count": 12,
     "metadata": {},
     "output_type": "execute_result"
    }
   ],
   "source": [
    "len(news)"
   ]
  },
  {
   "cell_type": "code",
   "execution_count": null,
   "metadata": {},
   "outputs": [],
   "source": []
  },
  {
   "cell_type": "code",
   "execution_count": null,
   "metadata": {},
   "outputs": [],
   "source": []
  },
  {
   "cell_type": "code",
   "execution_count": 13,
   "metadata": {},
   "outputs": [],
   "source": [
    "for i in news[:5000]:\n",
    "    if ('entertainment' in i or 'life-style' in i or 'tv' in i or \"City\" in i or \"Tech\" in i or 'Education' in i or 'Cricket' in i or 'sports' in i):\n",
    "        dr.get(i)\n",
    "        try:\n",
    "            Head_Line_tag=dr.find_element_by_xpath(\"//div[@class='as_heading']/h1/arttitle\")\n",
    "            Head_Line.append(Head_Line_tag.text)\n",
    "        except NoSuchElementException:\n",
    "            Head_Line.append(\" \")\n",
    "        #Date Of Publish\n",
    "        try:\n",
    "            Date=dr.find_element_by_xpath(\"//div[@class='as_byline']/div[3]\")\n",
    "            DOP.append(Date.text[8:])\n",
    "\n",
    "        except NoSuchElementException:\n",
    "            DOP.append(\" \")\n",
    "        #vector\n",
    "        try:\n",
    "            vec=dr.find_element_by_xpath(\"//div[@class='wrapper']/ol/li[2]/a/span\")\n",
    "            Vector.append(vec.text)\n",
    "        except NoSuchElementException:\n",
    "            Vector.append(\" \")\n",
    "            #Author\n",
    "        try:\n",
    "            aut= dr.find_element_by_xpath(\"//div[@itemtype='https://schema.org/Person']/a\")\n",
    "            Author.append(aut.text)\n",
    "        except NoSuchElementException:\n",
    "            Author.append(\" \")\n",
    "        #Description\n",
    "        try:\n",
    "            des=dr.find_element_by_xpath(\"//div[@class='section1']/div[1]\")\n",
    "            Desc.append(des.text.replace('/n',\"\"))\n",
    "\n",
    "        except NoSuchElementException:\n",
    "            Desc.append(\" \")\n",
    "        time.sleep(5)"
   ]
  },
  {
   "cell_type": "code",
   "execution_count": 14,
   "metadata": {},
   "outputs": [
    {
     "name": "stdout",
     "output_type": "stream",
     "text": [
      "178 178 178 178 178\n"
     ]
    }
   ],
   "source": [
    "print (len(Head_Line),len(Vector),len(Author),len(DOP),len(Desc))"
   ]
  },
  {
   "cell_type": "code",
   "execution_count": 15,
   "metadata": {},
   "outputs": [],
   "source": [
    "TIO_july_2021=pd.DataFrame({\"Date\":DOP,\"Author\":Author,\"Vertical\":Vector,\"Head_Line\":Head_Line,\"Description\":Desc})"
   ]
  },
  {
   "cell_type": "code",
   "execution_count": 16,
   "metadata": {},
   "outputs": [
    {
     "data": {
      "text/html": [
       "<div>\n",
       "<style scoped>\n",
       "    .dataframe tbody tr th:only-of-type {\n",
       "        vertical-align: middle;\n",
       "    }\n",
       "\n",
       "    .dataframe tbody tr th {\n",
       "        vertical-align: top;\n",
       "    }\n",
       "\n",
       "    .dataframe thead th {\n",
       "        text-align: right;\n",
       "    }\n",
       "</style>\n",
       "<table border=\"1\" class=\"dataframe\">\n",
       "  <thead>\n",
       "    <tr style=\"text-align: right;\">\n",
       "      <th></th>\n",
       "      <th>Date</th>\n",
       "      <th>Author</th>\n",
       "      <th>Vertical</th>\n",
       "      <th>Head_Line</th>\n",
       "      <th>Description</th>\n",
       "    </tr>\n",
       "  </thead>\n",
       "  <tbody>\n",
       "    <tr>\n",
       "      <th>0</th>\n",
       "      <td>Jul 1, 2021, 00:00 IST</td>\n",
       "      <td>Vinay Lokesh</td>\n",
       "      <td>Entertainment</td>\n",
       "      <td>Anusha Rai features in an English hip hop musi...</td>\n",
       "      <td>Actress Anusha Rai is extending her horizons b...</td>\n",
       "    </tr>\n",
       "    <tr>\n",
       "      <th>1</th>\n",
       "      <td></td>\n",
       "      <td></td>\n",
       "      <td>Entertainment</td>\n",
       "      <td>Krishi Thapanda goes online to teach orphans i...</td>\n",
       "      <td>Krishi Thapanda, who was involved in organisin...</td>\n",
       "    </tr>\n",
       "    <tr>\n",
       "      <th>2</th>\n",
       "      <td>Jul 1, 2021, 19:58 IST</td>\n",
       "      <td>P Sangeetha</td>\n",
       "      <td>Lifestyle</td>\n",
       "      <td>National Doctor’s Day: Here’s how doctors cope...</td>\n",
       "      <td>General physician Dr Rashmi Shivaram is one of...</td>\n",
       "    </tr>\n",
       "    <tr>\n",
       "      <th>3</th>\n",
       "      <td>Jul 1, 2021, 00:00 IST</td>\n",
       "      <td>Ashish Ittyerah Joseph</td>\n",
       "      <td>Lifestyle</td>\n",
       "      <td>Medicos on training to be frontline warriors: ...</td>\n",
       "      <td>From being genuinely praised for their altruis...</td>\n",
       "    </tr>\n",
       "    <tr>\n",
       "      <th>4</th>\n",
       "      <td></td>\n",
       "      <td></td>\n",
       "      <td>Entertainment</td>\n",
       "      <td>I have learnt to deal with my insecurities and...</td>\n",
       "      <td>After lockdown restrictions were eased across ...</td>\n",
       "    </tr>\n",
       "  </tbody>\n",
       "</table>\n",
       "</div>"
      ],
      "text/plain": [
       "                      Date                  Author       Vertical  \\\n",
       "0   Jul 1, 2021, 00:00 IST            Vinay Lokesh  Entertainment   \n",
       "1                                                   Entertainment   \n",
       "2   Jul 1, 2021, 19:58 IST             P Sangeetha      Lifestyle   \n",
       "3   Jul 1, 2021, 00:00 IST  Ashish Ittyerah Joseph      Lifestyle   \n",
       "4                                                   Entertainment   \n",
       "\n",
       "                                           Head_Line  \\\n",
       "0  Anusha Rai features in an English hip hop musi...   \n",
       "1  Krishi Thapanda goes online to teach orphans i...   \n",
       "2  National Doctor’s Day: Here’s how doctors cope...   \n",
       "3  Medicos on training to be frontline warriors: ...   \n",
       "4  I have learnt to deal with my insecurities and...   \n",
       "\n",
       "                                         Description  \n",
       "0  Actress Anusha Rai is extending her horizons b...  \n",
       "1  Krishi Thapanda, who was involved in organisin...  \n",
       "2  General physician Dr Rashmi Shivaram is one of...  \n",
       "3  From being genuinely praised for their altruis...  \n",
       "4  After lockdown restrictions were eased across ...  "
      ]
     },
     "execution_count": 16,
     "metadata": {},
     "output_type": "execute_result"
    }
   ],
   "source": [
    "TIO_july_2021.head()"
   ]
  },
  {
   "cell_type": "code",
   "execution_count": 23,
   "metadata": {},
   "outputs": [],
   "source": [
    "df=TIO_july_2021"
   ]
  },
  {
   "cell_type": "code",
   "execution_count": 24,
   "metadata": {},
   "outputs": [
    {
     "data": {
      "text/html": [
       "<div>\n",
       "<style scoped>\n",
       "    .dataframe tbody tr th:only-of-type {\n",
       "        vertical-align: middle;\n",
       "    }\n",
       "\n",
       "    .dataframe tbody tr th {\n",
       "        vertical-align: top;\n",
       "    }\n",
       "\n",
       "    .dataframe thead th {\n",
       "        text-align: right;\n",
       "    }\n",
       "</style>\n",
       "<table border=\"1\" class=\"dataframe\">\n",
       "  <thead>\n",
       "    <tr style=\"text-align: right;\">\n",
       "      <th></th>\n",
       "      <th>Date</th>\n",
       "      <th>Author</th>\n",
       "      <th>Vertical</th>\n",
       "      <th>Head_Line</th>\n",
       "      <th>Description</th>\n",
       "    </tr>\n",
       "  </thead>\n",
       "  <tbody>\n",
       "    <tr>\n",
       "      <th>0</th>\n",
       "      <td>Jul 1, 2021, 00:00 IST</td>\n",
       "      <td>Vinay Lokesh</td>\n",
       "      <td>Entertainment</td>\n",
       "      <td>Anusha Rai features in an English hip hop musi...</td>\n",
       "      <td>Actress Anusha Rai is extending her horizons b...</td>\n",
       "    </tr>\n",
       "    <tr>\n",
       "      <th>1</th>\n",
       "      <td></td>\n",
       "      <td></td>\n",
       "      <td>Entertainment</td>\n",
       "      <td>Krishi Thapanda goes online to teach orphans i...</td>\n",
       "      <td>Krishi Thapanda, who was involved in organisin...</td>\n",
       "    </tr>\n",
       "    <tr>\n",
       "      <th>2</th>\n",
       "      <td>Jul 1, 2021, 19:58 IST</td>\n",
       "      <td>P Sangeetha</td>\n",
       "      <td>Lifestyle</td>\n",
       "      <td>National Doctor’s Day: Here’s how doctors cope...</td>\n",
       "      <td>General physician Dr Rashmi Shivaram is one of...</td>\n",
       "    </tr>\n",
       "    <tr>\n",
       "      <th>3</th>\n",
       "      <td>Jul 1, 2021, 00:00 IST</td>\n",
       "      <td>Ashish Ittyerah Joseph</td>\n",
       "      <td>Lifestyle</td>\n",
       "      <td>Medicos on training to be frontline warriors: ...</td>\n",
       "      <td>From being genuinely praised for their altruis...</td>\n",
       "    </tr>\n",
       "    <tr>\n",
       "      <th>4</th>\n",
       "      <td></td>\n",
       "      <td></td>\n",
       "      <td>Entertainment</td>\n",
       "      <td>I have learnt to deal with my insecurities and...</td>\n",
       "      <td>After lockdown restrictions were eased across ...</td>\n",
       "    </tr>\n",
       "    <tr>\n",
       "      <th>...</th>\n",
       "      <td>...</td>\n",
       "      <td>...</td>\n",
       "      <td>...</td>\n",
       "      <td>...</td>\n",
       "      <td>...</td>\n",
       "    </tr>\n",
       "    <tr>\n",
       "      <th>173</th>\n",
       "      <td>Jul 6, 2021, 01:00 IST</td>\n",
       "      <td>Ruman Ganguly</td>\n",
       "      <td>Entertainment</td>\n",
       "      <td>I’ve reassured Nikhil that he’ll come out of t...</td>\n",
       "      <td>She was recently in the news for her link-up r...</td>\n",
       "    </tr>\n",
       "    <tr>\n",
       "      <th>174</th>\n",
       "      <td>Jul 6, 2021, 07:52 IST</td>\n",
       "      <td>Debarati S Sen</td>\n",
       "      <td>Entertainment</td>\n",
       "      <td>Happy Birthday Ranveer Singh: The actor's best...</td>\n",
       "      <td>Birthday boy Ranveer Singh is the complete pac...</td>\n",
       "    </tr>\n",
       "    <tr>\n",
       "      <th>175</th>\n",
       "      <td></td>\n",
       "      <td></td>\n",
       "      <td>Entertainment</td>\n",
       "      <td>India Pavilion at Cannes 2021 to celebrate 100...</td>\n",
       "      <td>India is participating at the Cannes Film Mark...</td>\n",
       "    </tr>\n",
       "    <tr>\n",
       "      <th>176</th>\n",
       "      <td></td>\n",
       "      <td></td>\n",
       "      <td>Entertainment</td>\n",
       "      <td>Kangana Ranaut shares beautiful pictures from ...</td>\n",
       "      <td>Bollywood actor Kangana Ranaut, on Monday, sha...</td>\n",
       "    </tr>\n",
       "    <tr>\n",
       "      <th>177</th>\n",
       "      <td></td>\n",
       "      <td></td>\n",
       "      <td></td>\n",
       "      <td></td>\n",
       "      <td></td>\n",
       "    </tr>\n",
       "  </tbody>\n",
       "</table>\n",
       "<p>178 rows × 5 columns</p>\n",
       "</div>"
      ],
      "text/plain": [
       "                        Date                  Author       Vertical  \\\n",
       "0     Jul 1, 2021, 00:00 IST            Vinay Lokesh  Entertainment   \n",
       "1                                                     Entertainment   \n",
       "2     Jul 1, 2021, 19:58 IST             P Sangeetha      Lifestyle   \n",
       "3     Jul 1, 2021, 00:00 IST  Ashish Ittyerah Joseph      Lifestyle   \n",
       "4                                                     Entertainment   \n",
       "..                       ...                     ...            ...   \n",
       "173   Jul 6, 2021, 01:00 IST           Ruman Ganguly  Entertainment   \n",
       "174   Jul 6, 2021, 07:52 IST          Debarati S Sen  Entertainment   \n",
       "175                                                   Entertainment   \n",
       "176                                                   Entertainment   \n",
       "177                                                                   \n",
       "\n",
       "                                             Head_Line  \\\n",
       "0    Anusha Rai features in an English hip hop musi...   \n",
       "1    Krishi Thapanda goes online to teach orphans i...   \n",
       "2    National Doctor’s Day: Here’s how doctors cope...   \n",
       "3    Medicos on training to be frontline warriors: ...   \n",
       "4    I have learnt to deal with my insecurities and...   \n",
       "..                                                 ...   \n",
       "173  I’ve reassured Nikhil that he’ll come out of t...   \n",
       "174  Happy Birthday Ranveer Singh: The actor's best...   \n",
       "175  India Pavilion at Cannes 2021 to celebrate 100...   \n",
       "176  Kangana Ranaut shares beautiful pictures from ...   \n",
       "177                                                      \n",
       "\n",
       "                                           Description  \n",
       "0    Actress Anusha Rai is extending her horizons b...  \n",
       "1    Krishi Thapanda, who was involved in organisin...  \n",
       "2    General physician Dr Rashmi Shivaram is one of...  \n",
       "3    From being genuinely praised for their altruis...  \n",
       "4    After lockdown restrictions were eased across ...  \n",
       "..                                                 ...  \n",
       "173  She was recently in the news for her link-up r...  \n",
       "174  Birthday boy Ranveer Singh is the complete pac...  \n",
       "175  India is participating at the Cannes Film Mark...  \n",
       "176  Bollywood actor Kangana Ranaut, on Monday, sha...  \n",
       "177                                                     \n",
       "\n",
       "[178 rows x 5 columns]"
      ]
     },
     "execution_count": 24,
     "metadata": {},
     "output_type": "execute_result"
    }
   ],
   "source": [
    "df"
   ]
  },
  {
   "cell_type": "code",
   "execution_count": 30,
   "metadata": {},
   "outputs": [],
   "source": [
    "df.to_csv('raw_data.csv', index=False)"
   ]
  },
  {
   "cell_type": "code",
   "execution_count": null,
   "metadata": {},
   "outputs": [],
   "source": []
  }
 ],
 "metadata": {
  "kernelspec": {
   "display_name": "Python 3",
   "language": "python",
   "name": "python3"
  },
  "language_info": {
   "codemirror_mode": {
    "name": "ipython",
    "version": 3
   },
   "file_extension": ".py",
   "mimetype": "text/x-python",
   "name": "python",
   "nbconvert_exporter": "python",
   "pygments_lexer": "ipython3",
   "version": "3.8.8"
  }
 },
 "nbformat": 4,
 "nbformat_minor": 4
}
