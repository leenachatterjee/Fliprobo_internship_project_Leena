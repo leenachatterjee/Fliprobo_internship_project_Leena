{
 "cells": [
  {
   "cell_type": "markdown",
   "id": "ca07eeec",
   "metadata": {},
   "source": [
    "# Q1: Write a python program to scrape data for “Data Analyst” Job position in\n",
    "“Bangalore” location. You have to scrape the job-title, job-location, company_name, experience_required. You have to scrape first 10 jobs data. This task will be done in following steps:\n",
    "\n",
    "first get the webpage https://www.naukri.com/\n",
    "Enter “Data Analyst” in “Skill,Designations,Companies” field and enter “Bangalore” in “enter the location” field.\n",
    "Then click the search button.\n",
    "Then scrape the data for the first 10 jobs results you get.\n",
    "Finally create a dataframe of the scraped data. Note- All of the above steps have to be done in code. No step is to be done manually."
   ]
  },
  {
   "cell_type": "code",
   "execution_count": 1,
   "id": "a96c8c95",
   "metadata": {},
   "outputs": [
    {
     "name": "stdout",
     "output_type": "stream",
     "text": [
      "Requirement already satisfied: selenium in c:\\users\\91636\\anaconda3\\lib\\site-packages (3.141.0)\n",
      "Requirement already satisfied: urllib3 in c:\\users\\91636\\anaconda3\\lib\\site-packages (from selenium) (1.26.4)\n",
      "Note: you may need to restart the kernel to use updated packages.\n"
     ]
    }
   ],
   "source": [
    "pip install selenium"
   ]
  },
  {
   "cell_type": "code",
   "execution_count": 2,
   "id": "78fd26a8",
   "metadata": {},
   "outputs": [],
   "source": [
    "import selenium"
   ]
  },
  {
   "cell_type": "code",
   "execution_count": null,
   "id": "73ab8439",
   "metadata": {},
   "outputs": [],
   "source": []
  },
  {
   "cell_type": "code",
   "execution_count": 3,
   "id": "17d2f460",
   "metadata": {},
   "outputs": [],
   "source": [
    "from selenium import webdriver\n",
    "driver = webdriver.Chrome()"
   ]
  },
  {
   "cell_type": "code",
   "execution_count": 4,
   "id": "7511076e",
   "metadata": {},
   "outputs": [],
   "source": [
    "driver=webdriver.Chrome(\"chromedriver.exe\")"
   ]
  },
  {
   "cell_type": "code",
   "execution_count": 6,
   "id": "27cf195e",
   "metadata": {},
   "outputs": [],
   "source": [
    "url=\"https://www.naukri.com/\"\n",
    "driver.get(url)"
   ]
  },
  {
   "cell_type": "code",
   "execution_count": 7,
   "id": "bb08ec29",
   "metadata": {},
   "outputs": [
    {
     "data": {
      "text/plain": [
       "<selenium.webdriver.remote.webelement.WebElement (session=\"ac0395142004920173b6777f8b5187a0\", element=\"94235faf-e874-4d38-a13f-1a8d242e6bea\")>"
      ]
     },
     "execution_count": 7,
     "metadata": {},
     "output_type": "execute_result"
    }
   ],
   "source": [
    "search_jobs=driver.find_element_by_xpath('//input[@ class =\"sugInp\"]')\n",
    "search_jobs"
   ]
  },
  {
   "cell_type": "code",
   "execution_count": 8,
   "id": "9a2dc1ba",
   "metadata": {},
   "outputs": [],
   "source": [
    "search_jobs.send_keys('Data Scientist')"
   ]
  },
  {
   "cell_type": "code",
   "execution_count": 9,
   "id": "df26f38a",
   "metadata": {},
   "outputs": [
    {
     "data": {
      "text/plain": [
       "<selenium.webdriver.remote.webelement.WebElement (session=\"ac0395142004920173b6777f8b5187a0\", element=\"ac03978f-9dad-4864-8caf-fb72202352e7\")>"
      ]
     },
     "execution_count": 9,
     "metadata": {},
     "output_type": "execute_result"
    }
   ],
   "source": [
    "search_location=driver.find_element_by_id('qsb-location-sugg')\n",
    "search_location"
   ]
  },
  {
   "cell_type": "code",
   "execution_count": 10,
   "id": "894a00c6",
   "metadata": {},
   "outputs": [],
   "source": [
    "search_location.send_keys('Bangaluru')"
   ]
  },
  {
   "cell_type": "code",
   "execution_count": 11,
   "id": "025e972e",
   "metadata": {},
   "outputs": [],
   "source": [
    "search_botton=driver.find_element_by_xpath('//button[@class=\"btn\"]').click()"
   ]
  },
  {
   "cell_type": "code",
   "execution_count": 12,
   "id": "e786ca1a",
   "metadata": {},
   "outputs": [],
   "source": [
    "search_botton "
   ]
  },
  {
   "cell_type": "code",
   "execution_count": 13,
   "id": "68d5fa52",
   "metadata": {},
   "outputs": [],
   "source": [
    "job_title=[]\n",
    "\n",
    "for i in driver.find_elements_by_xpath('//a[@ class =\"title fw500 ellipsis\"]'):\n",
    "\n",
    "    job_title.append(i.text.replace('\\n',''))\n",
    "    \n",
    "    \n",
    "    \n",
    "     \n",
    "\n",
    "        \n",
    "        \n",
    "        \n",
    "    "
   ]
  },
  {
   "cell_type": "code",
   "execution_count": 14,
   "id": "2b2a6092",
   "metadata": {},
   "outputs": [
    {
     "data": {
      "text/plain": [
       "['Data Scientist / Data Analyst -Business Analyst',\n",
       " 'Senior / Lead Data Scientist',\n",
       " 'data scientist',\n",
       " 'Data analytics / Data scientist intern (work from Home)',\n",
       " 'Senior Data Scientist',\n",
       " 'VP - Sr. Data Scientist For Morgan Stanley, Bangalore',\n",
       " 'Senior Data Scientist',\n",
       " 'Senior Data Scientist',\n",
       " 'Senior Data Scientist',\n",
       " 'Sr Data Scientist']"
      ]
     },
     "execution_count": 14,
     "metadata": {},
     "output_type": "execute_result"
    }
   ],
   "source": [
    "job_title[:10]"
   ]
  },
  {
   "cell_type": "code",
   "execution_count": 15,
   "id": "ed2a6e23",
   "metadata": {},
   "outputs": [
    {
     "data": {
      "text/plain": [
       "['Inflexion Analytix Private Limited',\n",
       " 'TVS CREDIT SERVICES LIMITED',\n",
       " 'Global Talent Pool',\n",
       " 'TalkValley LLC',\n",
       " 'RedBus',\n",
       " 'Morgan Stanley Advantage Services',\n",
       " 'Walmart Labs',\n",
       " 'ExecBoardinAsia',\n",
       " 'Perform Group',\n",
       " 'intelligent industrial internet systems pvt ltd.']"
      ]
     },
     "execution_count": 15,
     "metadata": {},
     "output_type": "execute_result"
    }
   ],
   "source": [
    "company_name=[]\n",
    "\n",
    "for i in driver.find_elements_by_xpath('//a[@ class =\"subTitle ellipsis fleft\"]'):\n",
    "\n",
    "    company_name.append(i.text.replace('\\n',''))\n",
    "    \n",
    "company_name[:10]"
   ]
  },
  {
   "cell_type": "code",
   "execution_count": 16,
   "id": "28f82994",
   "metadata": {},
   "outputs": [
    {
     "data": {
      "text/plain": [
       "[<selenium.webdriver.remote.webelement.WebElement (session=\"ac0395142004920173b6777f8b5187a0\", element=\"655b3c6b-b42c-4b67-a7f2-e608feb9fc8f\")>,\n",
       " <selenium.webdriver.remote.webelement.WebElement (session=\"ac0395142004920173b6777f8b5187a0\", element=\"4b85f4a7-0cac-4395-94f3-bb20c204744e\")>,\n",
       " <selenium.webdriver.remote.webelement.WebElement (session=\"ac0395142004920173b6777f8b5187a0\", element=\"c1d024ca-fc16-4fef-9910-7a6284123d07\")>,\n",
       " <selenium.webdriver.remote.webelement.WebElement (session=\"ac0395142004920173b6777f8b5187a0\", element=\"1efb7f30-201c-494a-9158-970f15d75639\")>,\n",
       " <selenium.webdriver.remote.webelement.WebElement (session=\"ac0395142004920173b6777f8b5187a0\", element=\"52120228-7d25-4f9b-8b97-94e6a3d4abc9\")>,\n",
       " <selenium.webdriver.remote.webelement.WebElement (session=\"ac0395142004920173b6777f8b5187a0\", element=\"38b9c08f-b073-49d6-b0ff-3c72a2adc5e6\")>,\n",
       " <selenium.webdriver.remote.webelement.WebElement (session=\"ac0395142004920173b6777f8b5187a0\", element=\"690abd32-5801-45b0-8ffe-9999df1ef7fb\")>,\n",
       " <selenium.webdriver.remote.webelement.WebElement (session=\"ac0395142004920173b6777f8b5187a0\", element=\"0a918558-8406-4346-bcf7-6a29080364e3\")>,\n",
       " <selenium.webdriver.remote.webelement.WebElement (session=\"ac0395142004920173b6777f8b5187a0\", element=\"2eb404b5-3692-4282-9c9a-f12876069746\")>,\n",
       " <selenium.webdriver.remote.webelement.WebElement (session=\"ac0395142004920173b6777f8b5187a0\", element=\"1131f91e-2095-462d-b2c1-503f15291998\")>,\n",
       " <selenium.webdriver.remote.webelement.WebElement (session=\"ac0395142004920173b6777f8b5187a0\", element=\"0941c6aa-1474-403c-b321-c6386da3d6e6\")>,\n",
       " <selenium.webdriver.remote.webelement.WebElement (session=\"ac0395142004920173b6777f8b5187a0\", element=\"770267b6-6c7d-4bc5-ab90-c2fa459d8817\")>,\n",
       " <selenium.webdriver.remote.webelement.WebElement (session=\"ac0395142004920173b6777f8b5187a0\", element=\"8d883ad3-aaa3-4b06-97e0-1889ca232524\")>,\n",
       " <selenium.webdriver.remote.webelement.WebElement (session=\"ac0395142004920173b6777f8b5187a0\", element=\"f50f1a6d-c559-46b4-a143-1255bcb72211\")>,\n",
       " <selenium.webdriver.remote.webelement.WebElement (session=\"ac0395142004920173b6777f8b5187a0\", element=\"d2916cce-b7df-46ca-8d41-d38b49015b8c\")>,\n",
       " <selenium.webdriver.remote.webelement.WebElement (session=\"ac0395142004920173b6777f8b5187a0\", element=\"d2b99f61-bcfb-4296-b1fa-25930d410d2c\")>,\n",
       " <selenium.webdriver.remote.webelement.WebElement (session=\"ac0395142004920173b6777f8b5187a0\", element=\"2115e9c5-1802-4481-991c-034411696a75\")>,\n",
       " <selenium.webdriver.remote.webelement.WebElement (session=\"ac0395142004920173b6777f8b5187a0\", element=\"fddab941-9cfb-4190-8e43-0a47ce2a8739\")>,\n",
       " <selenium.webdriver.remote.webelement.WebElement (session=\"ac0395142004920173b6777f8b5187a0\", element=\"0c3de030-9d13-4e1d-9d23-bc0a04abad1f\")>,\n",
       " <selenium.webdriver.remote.webelement.WebElement (session=\"ac0395142004920173b6777f8b5187a0\", element=\"0b2d7e7f-1d19-47e1-b0b1-beed4712576d\")>,\n",
       " <selenium.webdriver.remote.webelement.WebElement (session=\"ac0395142004920173b6777f8b5187a0\", element=\"a3ac5dc0-d292-46c4-8a8c-77bf4b062007\")>,\n",
       " <selenium.webdriver.remote.webelement.WebElement (session=\"ac0395142004920173b6777f8b5187a0\", element=\"6a388c3d-8d62-4887-b565-f4447c719969\")>,\n",
       " <selenium.webdriver.remote.webelement.WebElement (session=\"ac0395142004920173b6777f8b5187a0\", element=\"9250c94d-540e-4b72-a73d-a5a97bac8c48\")>,\n",
       " <selenium.webdriver.remote.webelement.WebElement (session=\"ac0395142004920173b6777f8b5187a0\", element=\"c25a6343-f3f5-4a7c-8054-b470047c35e5\")>,\n",
       " <selenium.webdriver.remote.webelement.WebElement (session=\"ac0395142004920173b6777f8b5187a0\", element=\"51480f91-1e62-4136-9876-225bf7ab8fe0\")>,\n",
       " <selenium.webdriver.remote.webelement.WebElement (session=\"ac0395142004920173b6777f8b5187a0\", element=\"43dcf420-f3b4-4aa2-b807-405226e40df2\")>,\n",
       " <selenium.webdriver.remote.webelement.WebElement (session=\"ac0395142004920173b6777f8b5187a0\", element=\"70fb1e25-be2a-4856-81fc-00d4d2ea40e6\")>,\n",
       " <selenium.webdriver.remote.webelement.WebElement (session=\"ac0395142004920173b6777f8b5187a0\", element=\"9f6b0ed7-c6d5-4bdd-9649-e470a4ed7b3e\")>,\n",
       " <selenium.webdriver.remote.webelement.WebElement (session=\"ac0395142004920173b6777f8b5187a0\", element=\"b0f1b6d9-e430-4a59-a4ca-a0f402ec87e7\")>,\n",
       " <selenium.webdriver.remote.webelement.WebElement (session=\"ac0395142004920173b6777f8b5187a0\", element=\"da795f84-91f2-4fc3-a61e-fb0ac119caf2\")>,\n",
       " <selenium.webdriver.remote.webelement.WebElement (session=\"ac0395142004920173b6777f8b5187a0\", element=\"ed1b9d38-d779-4e7d-9a39-cb865bb4b705\")>,\n",
       " <selenium.webdriver.remote.webelement.WebElement (session=\"ac0395142004920173b6777f8b5187a0\", element=\"65752b8e-c3a8-4685-bd5d-8dfdf61eea35\")>,\n",
       " <selenium.webdriver.remote.webelement.WebElement (session=\"ac0395142004920173b6777f8b5187a0\", element=\"2b0736b2-45bf-4057-b02c-b9c2aba2f209\")>,\n",
       " <selenium.webdriver.remote.webelement.WebElement (session=\"ac0395142004920173b6777f8b5187a0\", element=\"37dd59e5-ae83-453d-8248-937b44c0e354\")>,\n",
       " <selenium.webdriver.remote.webelement.WebElement (session=\"ac0395142004920173b6777f8b5187a0\", element=\"83298792-07a4-4ecf-a491-929da34b81f5\")>,\n",
       " <selenium.webdriver.remote.webelement.WebElement (session=\"ac0395142004920173b6777f8b5187a0\", element=\"df43a01e-f612-4dd1-be57-979da2d3e2f0\")>,\n",
       " <selenium.webdriver.remote.webelement.WebElement (session=\"ac0395142004920173b6777f8b5187a0\", element=\"2d75a227-2649-4ede-b51c-450399c16e1a\")>,\n",
       " <selenium.webdriver.remote.webelement.WebElement (session=\"ac0395142004920173b6777f8b5187a0\", element=\"6397207c-cb80-41b7-96d8-5c3d2b9ca4f1\")>,\n",
       " <selenium.webdriver.remote.webelement.WebElement (session=\"ac0395142004920173b6777f8b5187a0\", element=\"3a22becf-6207-49b7-a52f-7edc2d0027f2\")>,\n",
       " <selenium.webdriver.remote.webelement.WebElement (session=\"ac0395142004920173b6777f8b5187a0\", element=\"27882274-8d88-4f4f-8115-a1218b6479e3\")>,\n",
       " <selenium.webdriver.remote.webelement.WebElement (session=\"ac0395142004920173b6777f8b5187a0\", element=\"3b7221e0-448d-4080-b803-05e5443cb506\")>,\n",
       " <selenium.webdriver.remote.webelement.WebElement (session=\"ac0395142004920173b6777f8b5187a0\", element=\"7c01953d-0a3a-4ed7-a75a-f8ecfcea9f74\")>,\n",
       " <selenium.webdriver.remote.webelement.WebElement (session=\"ac0395142004920173b6777f8b5187a0\", element=\"5db69c28-2eca-4deb-bcf5-2e7f300970c6\")>,\n",
       " <selenium.webdriver.remote.webelement.WebElement (session=\"ac0395142004920173b6777f8b5187a0\", element=\"51d8f958-af24-4fc3-b623-48c375f3ddc0\")>,\n",
       " <selenium.webdriver.remote.webelement.WebElement (session=\"ac0395142004920173b6777f8b5187a0\", element=\"47d0b74e-c841-4c97-935a-d5d40cf5f4e9\")>,\n",
       " <selenium.webdriver.remote.webelement.WebElement (session=\"ac0395142004920173b6777f8b5187a0\", element=\"f5ea2ec5-4b52-4192-97fc-80e8005b5802\")>,\n",
       " <selenium.webdriver.remote.webelement.WebElement (session=\"ac0395142004920173b6777f8b5187a0\", element=\"47d97981-0f30-4b98-8169-55911081bbc4\")>,\n",
       " <selenium.webdriver.remote.webelement.WebElement (session=\"ac0395142004920173b6777f8b5187a0\", element=\"8e0ede1d-0c20-45bd-bca0-189dff50d074\")>,\n",
       " <selenium.webdriver.remote.webelement.WebElement (session=\"ac0395142004920173b6777f8b5187a0\", element=\"12f1abfa-fe67-4201-9701-ff8adc7649a5\")>,\n",
       " <selenium.webdriver.remote.webelement.WebElement (session=\"ac0395142004920173b6777f8b5187a0\", element=\"61f8f80a-d335-4aab-9040-50d3e391cec2\")>,\n",
       " <selenium.webdriver.remote.webelement.WebElement (session=\"ac0395142004920173b6777f8b5187a0\", element=\"c39c3a6a-005d-4773-b2d7-5434533bd010\")>,\n",
       " <selenium.webdriver.remote.webelement.WebElement (session=\"ac0395142004920173b6777f8b5187a0\", element=\"41805ff6-67ab-41d5-a033-cffcc3a0002a\")>,\n",
       " <selenium.webdriver.remote.webelement.WebElement (session=\"ac0395142004920173b6777f8b5187a0\", element=\"214f1647-70d3-4510-93d0-18febdac46c6\")>,\n",
       " <selenium.webdriver.remote.webelement.WebElement (session=\"ac0395142004920173b6777f8b5187a0\", element=\"a7c20753-c9dc-4de0-9768-f1b1be34f152\")>,\n",
       " <selenium.webdriver.remote.webelement.WebElement (session=\"ac0395142004920173b6777f8b5187a0\", element=\"95426fb2-b81f-4027-bcab-3a7ba2d54863\")>,\n",
       " <selenium.webdriver.remote.webelement.WebElement (session=\"ac0395142004920173b6777f8b5187a0\", element=\"be45906c-43a5-4c6d-aafc-2689bde4a604\")>,\n",
       " <selenium.webdriver.remote.webelement.WebElement (session=\"ac0395142004920173b6777f8b5187a0\", element=\"6130dc33-1a65-4fdd-b10d-34acaf9daced\")>,\n",
       " <selenium.webdriver.remote.webelement.WebElement (session=\"ac0395142004920173b6777f8b5187a0\", element=\"5111ce6a-2b6e-4275-9fd1-03331a9038ce\")>,\n",
       " <selenium.webdriver.remote.webelement.WebElement (session=\"ac0395142004920173b6777f8b5187a0\", element=\"ec94e780-aa1f-41d5-8694-ca127da76ba4\")>,\n",
       " <selenium.webdriver.remote.webelement.WebElement (session=\"ac0395142004920173b6777f8b5187a0\", element=\"351e93a0-791b-43b4-9da8-4a924225d273\")>]"
      ]
     },
     "execution_count": 16,
     "metadata": {},
     "output_type": "execute_result"
    }
   ],
   "source": [
    "\n",
    "\n",
    "info=driver.find_elements_by_xpath('//span[@ class =\"ellipsis fleft fs12 lh16\"]')\n",
    "info   "
   ]
  },
  {
   "cell_type": "code",
   "execution_count": 17,
   "id": "44c96627",
   "metadata": {},
   "outputs": [
    {
     "data": {
      "text/plain": [
       "['0-3 Yrs',\n",
       " '3-8 Yrs',\n",
       " '0-2 Yrs',\n",
       " '0-5 Yrs',\n",
       " '5-8 Yrs',\n",
       " '8-13 Yrs',\n",
       " '8-10 Yrs',\n",
       " '5-10 Yrs',\n",
       " '4-7 Yrs',\n",
       " '3-6 Yrs']"
      ]
     },
     "execution_count": 17,
     "metadata": {},
     "output_type": "execute_result"
    }
   ],
   "source": [
    "job_exp=[]\n",
    "for i in info:\n",
    "    if  'Yrs' in  i.text.strip():\n",
    "        job_exp.append(i.text.strip())\n",
    "job_exp[:10]"
   ]
  },
  {
   "cell_type": "code",
   "execution_count": 18,
   "id": "84512ccf",
   "metadata": {},
   "outputs": [
    {
     "data": {
      "text/plain": [
       "['3,50,000 - 4,50,000 PA.',\n",
       " 'Not disclosed',\n",
       " 'Not disclosed',\n",
       " '2,00,000 - 3,00,000 PA.',\n",
       " 'Not disclosed',\n",
       " '25,00,000 - 40,00,000 PA.',\n",
       " 'Not disclosed',\n",
       " 'Not disclosed',\n",
       " 'Not disclosed',\n",
       " '5,50,000 - 14,00,000 PA.']"
      ]
     },
     "execution_count": 18,
     "metadata": {},
     "output_type": "execute_result"
    }
   ],
   "source": [
    "job_salary=[]\n",
    "for i in info:\n",
    "    if  'Yrs' not in  i.text.strip():\n",
    "        if '/' not in i.text.strip():\n",
    "         job_salary.append(i.text.strip())\n",
    "job_salary[:10]"
   ]
  },
  {
   "cell_type": "code",
   "execution_count": 19,
   "id": "79fbe0da",
   "metadata": {},
   "outputs": [
    {
     "data": {
      "text/plain": [
       "['Mumbai, Hyderabad/Secunderabad, Pune, Gurgaon/Gurugram, Chennai, Bangalore/Bengaluru',\n",
       " 'Pune, Chennai, Bangalore/Bengaluru',\n",
       " 'Bangalore/Bengaluru',\n",
       " 'Kolkata, Bangalore/Bengaluru, Delhi / NCR',\n",
       " 'Bangalore/Bengaluru',\n",
       " 'Bangalore/Bengaluru',\n",
       " 'Bangalore/Bengaluru',\n",
       " 'Bangalore/Bengaluru',\n",
       " 'Bangalore/Bengaluru',\n",
       " 'Bangalore/Bengaluru, Mumbai (All Areas)']"
      ]
     },
     "execution_count": 19,
     "metadata": {},
     "output_type": "execute_result"
    }
   ],
   "source": [
    "job_location=[]\n",
    "for i in info:\n",
    "    if  'Not'   not in i.text.strip():\n",
    "        if  'Yrs' not in  i.text.strip():\n",
    "         if '-' not in i.text.strip():\n",
    "          job_location.append(i.text.strip())\n",
    "job_location[:10]\n"
   ]
  },
  {
   "cell_type": "code",
   "execution_count": 20,
   "id": "33c34973",
   "metadata": {},
   "outputs": [],
   "source": [
    "import pandas as pd\n",
    "jobs=pd.DataFrame({})\n",
    "\n",
    "jobs['Titles']=job_title[:10]\n",
    "jobs['Company names']=company_name[:10]\n",
    "jobs['CTC']=job_salary[:10]\n",
    "jobs['Location']=job_location[:10]\n",
    "jobs['Experience Required']=job_exp[:10]"
   ]
  },
  {
   "cell_type": "code",
   "execution_count": 21,
   "id": "2113502d",
   "metadata": {},
   "outputs": [
    {
     "data": {
      "text/html": [
       "<div>\n",
       "<style scoped>\n",
       "    .dataframe tbody tr th:only-of-type {\n",
       "        vertical-align: middle;\n",
       "    }\n",
       "\n",
       "    .dataframe tbody tr th {\n",
       "        vertical-align: top;\n",
       "    }\n",
       "\n",
       "    .dataframe thead th {\n",
       "        text-align: right;\n",
       "    }\n",
       "</style>\n",
       "<table border=\"1\" class=\"dataframe\">\n",
       "  <thead>\n",
       "    <tr style=\"text-align: right;\">\n",
       "      <th></th>\n",
       "      <th>Titles</th>\n",
       "      <th>Company names</th>\n",
       "      <th>CTC</th>\n",
       "      <th>Location</th>\n",
       "      <th>Experience Required</th>\n",
       "    </tr>\n",
       "  </thead>\n",
       "  <tbody>\n",
       "    <tr>\n",
       "      <th>0</th>\n",
       "      <td>Data Scientist / Data Analyst -Business Analyst</td>\n",
       "      <td>Inflexion Analytix Private Limited</td>\n",
       "      <td>3,50,000 - 4,50,000 PA.</td>\n",
       "      <td>Mumbai, Hyderabad/Secunderabad, Pune, Gurgaon/...</td>\n",
       "      <td>0-3 Yrs</td>\n",
       "    </tr>\n",
       "    <tr>\n",
       "      <th>1</th>\n",
       "      <td>Senior / Lead Data Scientist</td>\n",
       "      <td>TVS CREDIT SERVICES LIMITED</td>\n",
       "      <td>Not disclosed</td>\n",
       "      <td>Pune, Chennai, Bangalore/Bengaluru</td>\n",
       "      <td>3-8 Yrs</td>\n",
       "    </tr>\n",
       "    <tr>\n",
       "      <th>2</th>\n",
       "      <td>data scientist</td>\n",
       "      <td>Global Talent Pool</td>\n",
       "      <td>Not disclosed</td>\n",
       "      <td>Bangalore/Bengaluru</td>\n",
       "      <td>0-2 Yrs</td>\n",
       "    </tr>\n",
       "    <tr>\n",
       "      <th>3</th>\n",
       "      <td>Data analytics / Data scientist intern (work f...</td>\n",
       "      <td>TalkValley LLC</td>\n",
       "      <td>2,00,000 - 3,00,000 PA.</td>\n",
       "      <td>Kolkata, Bangalore/Bengaluru, Delhi / NCR</td>\n",
       "      <td>0-5 Yrs</td>\n",
       "    </tr>\n",
       "    <tr>\n",
       "      <th>4</th>\n",
       "      <td>Senior Data Scientist</td>\n",
       "      <td>RedBus</td>\n",
       "      <td>Not disclosed</td>\n",
       "      <td>Bangalore/Bengaluru</td>\n",
       "      <td>5-8 Yrs</td>\n",
       "    </tr>\n",
       "    <tr>\n",
       "      <th>5</th>\n",
       "      <td>VP - Sr. Data Scientist For Morgan Stanley, Ba...</td>\n",
       "      <td>Morgan Stanley Advantage Services</td>\n",
       "      <td>25,00,000 - 40,00,000 PA.</td>\n",
       "      <td>Bangalore/Bengaluru</td>\n",
       "      <td>8-13 Yrs</td>\n",
       "    </tr>\n",
       "    <tr>\n",
       "      <th>6</th>\n",
       "      <td>Senior Data Scientist</td>\n",
       "      <td>Walmart Labs</td>\n",
       "      <td>Not disclosed</td>\n",
       "      <td>Bangalore/Bengaluru</td>\n",
       "      <td>8-10 Yrs</td>\n",
       "    </tr>\n",
       "    <tr>\n",
       "      <th>7</th>\n",
       "      <td>Senior Data Scientist</td>\n",
       "      <td>ExecBoardinAsia</td>\n",
       "      <td>Not disclosed</td>\n",
       "      <td>Bangalore/Bengaluru</td>\n",
       "      <td>5-10 Yrs</td>\n",
       "    </tr>\n",
       "    <tr>\n",
       "      <th>8</th>\n",
       "      <td>Senior Data Scientist</td>\n",
       "      <td>Perform Group</td>\n",
       "      <td>Not disclosed</td>\n",
       "      <td>Bangalore/Bengaluru</td>\n",
       "      <td>4-7 Yrs</td>\n",
       "    </tr>\n",
       "    <tr>\n",
       "      <th>9</th>\n",
       "      <td>Sr Data Scientist</td>\n",
       "      <td>intelligent industrial internet systems pvt ltd.</td>\n",
       "      <td>5,50,000 - 14,00,000 PA.</td>\n",
       "      <td>Bangalore/Bengaluru, Mumbai (All Areas)</td>\n",
       "      <td>3-6 Yrs</td>\n",
       "    </tr>\n",
       "  </tbody>\n",
       "</table>\n",
       "</div>"
      ],
      "text/plain": [
       "                                              Titles  \\\n",
       "0    Data Scientist / Data Analyst -Business Analyst   \n",
       "1                       Senior / Lead Data Scientist   \n",
       "2                                     data scientist   \n",
       "3  Data analytics / Data scientist intern (work f...   \n",
       "4                              Senior Data Scientist   \n",
       "5  VP - Sr. Data Scientist For Morgan Stanley, Ba...   \n",
       "6                              Senior Data Scientist   \n",
       "7                              Senior Data Scientist   \n",
       "8                              Senior Data Scientist   \n",
       "9                                  Sr Data Scientist   \n",
       "\n",
       "                                      Company names  \\\n",
       "0                Inflexion Analytix Private Limited   \n",
       "1                       TVS CREDIT SERVICES LIMITED   \n",
       "2                                Global Talent Pool   \n",
       "3                                    TalkValley LLC   \n",
       "4                                            RedBus   \n",
       "5                 Morgan Stanley Advantage Services   \n",
       "6                                      Walmart Labs   \n",
       "7                                   ExecBoardinAsia   \n",
       "8                                     Perform Group   \n",
       "9  intelligent industrial internet systems pvt ltd.   \n",
       "\n",
       "                         CTC  \\\n",
       "0    3,50,000 - 4,50,000 PA.   \n",
       "1              Not disclosed   \n",
       "2              Not disclosed   \n",
       "3    2,00,000 - 3,00,000 PA.   \n",
       "4              Not disclosed   \n",
       "5  25,00,000 - 40,00,000 PA.   \n",
       "6              Not disclosed   \n",
       "7              Not disclosed   \n",
       "8              Not disclosed   \n",
       "9   5,50,000 - 14,00,000 PA.   \n",
       "\n",
       "                                            Location Experience Required  \n",
       "0  Mumbai, Hyderabad/Secunderabad, Pune, Gurgaon/...             0-3 Yrs  \n",
       "1                 Pune, Chennai, Bangalore/Bengaluru             3-8 Yrs  \n",
       "2                                Bangalore/Bengaluru             0-2 Yrs  \n",
       "3          Kolkata, Bangalore/Bengaluru, Delhi / NCR             0-5 Yrs  \n",
       "4                                Bangalore/Bengaluru             5-8 Yrs  \n",
       "5                                Bangalore/Bengaluru            8-13 Yrs  \n",
       "6                                Bangalore/Bengaluru            8-10 Yrs  \n",
       "7                                Bangalore/Bengaluru            5-10 Yrs  \n",
       "8                                Bangalore/Bengaluru             4-7 Yrs  \n",
       "9            Bangalore/Bengaluru, Mumbai (All Areas)             3-6 Yrs  "
      ]
     },
     "execution_count": 21,
     "metadata": {},
     "output_type": "execute_result"
    }
   ],
   "source": [
    "jobs"
   ]
  },
  {
   "cell_type": "markdown",
   "id": "dcf7c99e",
   "metadata": {},
   "source": [
    "# Q2: Write a python program to scrape data for “Data Scientist” Job position in \n",
    "“Bangalore” location. You have to scrape the job-title, job-location,\n",
    "company_name, full job-description. You have to scrape first 10 jobs data.\n",
    "This task will be done in following steps:\n",
    "1. first get the webpage https://www.naukri.com/\n",
    "2. Enter “Data Scientist” in “Skill,Designations,Companies” field and enter \n",
    "“Bangalore” in “enter the location” field.\n",
    "3. Then click the search button.\n",
    "4. Then scrape the data for the first 10 jobs results you get.\n",
    "5. Finally create a dataframe of the scraped data.\n",
    "Note- 1. All of the above steps have to be done in code. No step is to be done \n",
    "manually"
   ]
  },
  {
   "cell_type": "code",
   "execution_count": 84,
   "id": "0db8322d",
   "metadata": {},
   "outputs": [],
   "source": [
    "from selenium.webdriver.support.ui import WebDriverWait\n",
    "from selenium.webdriver.support import expected_conditions as EC\n",
    "from selenium.webdriver.common.by import By"
   ]
  },
  {
   "cell_type": "code",
   "execution_count": 85,
   "id": "65a09ad5",
   "metadata": {},
   "outputs": [],
   "source": [
    "from selenium.common.exceptions import NoSuchElementException"
   ]
  },
  {
   "cell_type": "code",
   "execution_count": null,
   "id": "96fd1fe2",
   "metadata": {},
   "outputs": [],
   "source": []
  },
  {
   "cell_type": "code",
   "execution_count": null,
   "id": "b527be1c",
   "metadata": {},
   "outputs": [],
   "source": []
  },
  {
   "cell_type": "code",
   "execution_count": 86,
   "id": "161d6539",
   "metadata": {},
   "outputs": [],
   "source": [
    "from selenium import webdriver\n",
    "driver = webdriver.Chrome()"
   ]
  },
  {
   "cell_type": "code",
   "execution_count": 87,
   "id": "ad86e07f",
   "metadata": {},
   "outputs": [],
   "source": [
    "url=\"https://www.naukri.com/\"\n",
    "driver.get(url)"
   ]
  },
  {
   "cell_type": "code",
   "execution_count": 88,
   "id": "92e3e211",
   "metadata": {},
   "outputs": [
    {
     "data": {
      "text/plain": [
       "<selenium.webdriver.remote.webelement.WebElement (session=\"0970959056545afbe40d2d5890e1025a\", element=\"838376d4-67a9-4232-953a-e53d3e34bc87\")>"
      ]
     },
     "execution_count": 88,
     "metadata": {},
     "output_type": "execute_result"
    }
   ],
   "source": [
    "search_jobs=driver.find_element_by_xpath('//input[@ class =\"sugInp\"]')\n",
    "search_jobs"
   ]
  },
  {
   "cell_type": "code",
   "execution_count": 89,
   "id": "050e8477",
   "metadata": {},
   "outputs": [],
   "source": [
    "search_jobs.send_keys('Data Scientist')"
   ]
  },
  {
   "cell_type": "code",
   "execution_count": 90,
   "id": "d4a85832",
   "metadata": {},
   "outputs": [
    {
     "data": {
      "text/plain": [
       "<selenium.webdriver.remote.webelement.WebElement (session=\"0970959056545afbe40d2d5890e1025a\", element=\"b121b274-96d8-4ee4-90e8-2ed36b3e4c40\")>"
      ]
     },
     "execution_count": 90,
     "metadata": {},
     "output_type": "execute_result"
    }
   ],
   "source": [
    "search_location=driver.find_element_by_id('qsb-location-sugg')\n",
    "search_location"
   ]
  },
  {
   "cell_type": "code",
   "execution_count": 91,
   "id": "b664e423",
   "metadata": {},
   "outputs": [],
   "source": [
    "search_location.send_keys('Bangaluru')"
   ]
  },
  {
   "cell_type": "code",
   "execution_count": 92,
   "id": "d648d6fe",
   "metadata": {},
   "outputs": [],
   "source": [
    "search_botton=driver.find_element_by_xpath('//button[@class=\"btn\"]').click()"
   ]
  },
  {
   "cell_type": "code",
   "execution_count": 93,
   "id": "d2ba7a60",
   "metadata": {},
   "outputs": [],
   "source": [
    "search_botton "
   ]
  },
  {
   "cell_type": "code",
   "execution_count": 94,
   "id": "d8495e1c",
   "metadata": {},
   "outputs": [
    {
     "data": {
      "text/plain": [
       "['Data Scientist / Data Analyst -Business Analyst',\n",
       " 'Senior / Lead Data Scientist',\n",
       " 'data scientist',\n",
       " 'Data analytics / Data scientist intern (work from Home)',\n",
       " 'Senior Data Scientist',\n",
       " 'VP - Sr. Data Scientist For Morgan Stanley, Bangalore',\n",
       " 'Senior Data Scientist',\n",
       " 'Senior Data Scientist',\n",
       " 'Senior Data Scientist',\n",
       " 'Sr Data Scientist',\n",
       " 'Senior Data Scientist (Marketplace)',\n",
       " 'Data Scientist - IBM Garage',\n",
       " 'Digital Enterprise Architect (Data Scientist)',\n",
       " 'Data Scientist',\n",
       " 'Data Scientist',\n",
       " 'Data Scientist',\n",
       " 'Lead Data Scientist',\n",
       " 'Data Scientist (Visualization)',\n",
       " 'Data Scientist',\n",
       " 'Lead Data Scientist']"
      ]
     },
     "execution_count": 94,
     "metadata": {},
     "output_type": "execute_result"
    }
   ],
   "source": [
    "job_title=[]\n",
    "\n",
    "for i in driver.find_elements_by_xpath('//a[@class=\"title fw500 ellipsis\"]'):\n",
    "\n",
    "   job_title.append(i.text.replace('\\n',''))\n",
    "job_title    "
   ]
  },
  {
   "cell_type": "code",
   "execution_count": 95,
   "id": "1adc5850",
   "metadata": {},
   "outputs": [
    {
     "data": {
      "text/plain": [
       "[<selenium.webdriver.remote.webelement.WebElement (session=\"0970959056545afbe40d2d5890e1025a\", element=\"9b366c4d-c0b1-42b3-80d2-9a23e0c72831\")>,\n",
       " <selenium.webdriver.remote.webelement.WebElement (session=\"0970959056545afbe40d2d5890e1025a\", element=\"ae37dbef-ad91-497b-8157-6df63351c597\")>,\n",
       " <selenium.webdriver.remote.webelement.WebElement (session=\"0970959056545afbe40d2d5890e1025a\", element=\"7e9885ee-a7bb-4f15-9296-125f5b54db77\")>,\n",
       " <selenium.webdriver.remote.webelement.WebElement (session=\"0970959056545afbe40d2d5890e1025a\", element=\"1ecf8245-70f1-4182-9ade-e8b2e2f57325\")>,\n",
       " <selenium.webdriver.remote.webelement.WebElement (session=\"0970959056545afbe40d2d5890e1025a\", element=\"d1e4099b-2dd2-466f-9c78-a0276fec4688\")>,\n",
       " <selenium.webdriver.remote.webelement.WebElement (session=\"0970959056545afbe40d2d5890e1025a\", element=\"188c9a20-5a28-4902-9eb4-70ef5da40e14\")>,\n",
       " <selenium.webdriver.remote.webelement.WebElement (session=\"0970959056545afbe40d2d5890e1025a\", element=\"cec8caa0-695b-475e-b84c-2d42bc0ac53d\")>,\n",
       " <selenium.webdriver.remote.webelement.WebElement (session=\"0970959056545afbe40d2d5890e1025a\", element=\"b879bf7b-f8d1-4f54-95bd-c534d5652766\")>,\n",
       " <selenium.webdriver.remote.webelement.WebElement (session=\"0970959056545afbe40d2d5890e1025a\", element=\"d6673246-844f-4f53-833b-b5f626400d7b\")>,\n",
       " <selenium.webdriver.remote.webelement.WebElement (session=\"0970959056545afbe40d2d5890e1025a\", element=\"fdc47b60-7aa4-4dba-9500-26671148b182\")>,\n",
       " <selenium.webdriver.remote.webelement.WebElement (session=\"0970959056545afbe40d2d5890e1025a\", element=\"8aeaf704-b438-451c-84b9-fbfff71a82b6\")>,\n",
       " <selenium.webdriver.remote.webelement.WebElement (session=\"0970959056545afbe40d2d5890e1025a\", element=\"11cccf4b-14dc-4e45-862a-8d8df60cea30\")>,\n",
       " <selenium.webdriver.remote.webelement.WebElement (session=\"0970959056545afbe40d2d5890e1025a\", element=\"0dfda52e-4ac2-4f87-9dd8-ee34cd1e7403\")>,\n",
       " <selenium.webdriver.remote.webelement.WebElement (session=\"0970959056545afbe40d2d5890e1025a\", element=\"02b7a634-84cf-4105-9b7f-60bfb9cb354a\")>,\n",
       " <selenium.webdriver.remote.webelement.WebElement (session=\"0970959056545afbe40d2d5890e1025a\", element=\"1cefdc46-b049-4df6-9dbc-1c915a9ffe31\")>,\n",
       " <selenium.webdriver.remote.webelement.WebElement (session=\"0970959056545afbe40d2d5890e1025a\", element=\"2e4325e1-da72-426f-ad46-e739081deb5a\")>,\n",
       " <selenium.webdriver.remote.webelement.WebElement (session=\"0970959056545afbe40d2d5890e1025a\", element=\"61c6482f-299f-4510-97ca-6d23f8267d31\")>,\n",
       " <selenium.webdriver.remote.webelement.WebElement (session=\"0970959056545afbe40d2d5890e1025a\", element=\"2d1d7ed1-1525-4ad9-8649-e53b7d20e284\")>,\n",
       " <selenium.webdriver.remote.webelement.WebElement (session=\"0970959056545afbe40d2d5890e1025a\", element=\"fc69a0e4-884e-4e8f-848e-94a403e1303c\")>,\n",
       " <selenium.webdriver.remote.webelement.WebElement (session=\"0970959056545afbe40d2d5890e1025a\", element=\"18207227-2273-4c50-943a-cc7aa6fe9568\")>,\n",
       " <selenium.webdriver.remote.webelement.WebElement (session=\"0970959056545afbe40d2d5890e1025a\", element=\"13c3e07f-fed2-4c85-b92d-efac48935529\")>,\n",
       " <selenium.webdriver.remote.webelement.WebElement (session=\"0970959056545afbe40d2d5890e1025a\", element=\"c5268c7b-bb2a-4e2e-ab68-635352a74a97\")>,\n",
       " <selenium.webdriver.remote.webelement.WebElement (session=\"0970959056545afbe40d2d5890e1025a\", element=\"376abac8-fbab-42fd-8e5d-9129fddb4e2d\")>,\n",
       " <selenium.webdriver.remote.webelement.WebElement (session=\"0970959056545afbe40d2d5890e1025a\", element=\"91485a20-9e39-4ed0-ab47-fdb85200da7a\")>,\n",
       " <selenium.webdriver.remote.webelement.WebElement (session=\"0970959056545afbe40d2d5890e1025a\", element=\"4d224d92-ca32-4637-95e4-1654729646ae\")>,\n",
       " <selenium.webdriver.remote.webelement.WebElement (session=\"0970959056545afbe40d2d5890e1025a\", element=\"aabb71c2-8e85-4f5f-bc0b-2bbc3e0424b1\")>,\n",
       " <selenium.webdriver.remote.webelement.WebElement (session=\"0970959056545afbe40d2d5890e1025a\", element=\"5cd3262c-51c0-4b43-a54a-8aaf335733e2\")>,\n",
       " <selenium.webdriver.remote.webelement.WebElement (session=\"0970959056545afbe40d2d5890e1025a\", element=\"da7bab3e-e7a5-4dda-b084-646e6fbb766d\")>,\n",
       " <selenium.webdriver.remote.webelement.WebElement (session=\"0970959056545afbe40d2d5890e1025a\", element=\"e7fcb28e-1d0d-4ffd-8aa2-dcfcda299031\")>,\n",
       " <selenium.webdriver.remote.webelement.WebElement (session=\"0970959056545afbe40d2d5890e1025a\", element=\"fd8a3317-97da-4872-8ef2-f829916ff5fa\")>,\n",
       " <selenium.webdriver.remote.webelement.WebElement (session=\"0970959056545afbe40d2d5890e1025a\", element=\"758118c3-54d9-4546-944d-aaee7e377425\")>,\n",
       " <selenium.webdriver.remote.webelement.WebElement (session=\"0970959056545afbe40d2d5890e1025a\", element=\"db7f8684-9f34-454d-a379-ffa4ebb9c108\")>,\n",
       " <selenium.webdriver.remote.webelement.WebElement (session=\"0970959056545afbe40d2d5890e1025a\", element=\"d1626ded-7e59-4823-8c67-4e20d1128717\")>,\n",
       " <selenium.webdriver.remote.webelement.WebElement (session=\"0970959056545afbe40d2d5890e1025a\", element=\"0ae3a3ae-8359-4591-a2ec-5d7e0f175100\")>,\n",
       " <selenium.webdriver.remote.webelement.WebElement (session=\"0970959056545afbe40d2d5890e1025a\", element=\"958bb6c5-7f5a-4017-9255-7bad226b891b\")>,\n",
       " <selenium.webdriver.remote.webelement.WebElement (session=\"0970959056545afbe40d2d5890e1025a\", element=\"84b9d025-6945-4fd2-b9f7-cc25e8a20015\")>,\n",
       " <selenium.webdriver.remote.webelement.WebElement (session=\"0970959056545afbe40d2d5890e1025a\", element=\"687080d8-a25f-448a-a9c4-b8231ee8793d\")>,\n",
       " <selenium.webdriver.remote.webelement.WebElement (session=\"0970959056545afbe40d2d5890e1025a\", element=\"fead324c-932e-4e7b-b7a3-643941f35bbf\")>,\n",
       " <selenium.webdriver.remote.webelement.WebElement (session=\"0970959056545afbe40d2d5890e1025a\", element=\"6d48573a-4b07-48b4-b835-a102070b2698\")>,\n",
       " <selenium.webdriver.remote.webelement.WebElement (session=\"0970959056545afbe40d2d5890e1025a\", element=\"f0ce8502-8324-4878-b7cc-f875bbe9cb5c\")>,\n",
       " <selenium.webdriver.remote.webelement.WebElement (session=\"0970959056545afbe40d2d5890e1025a\", element=\"c275e86a-08ac-4940-a51c-f16d88ee8151\")>,\n",
       " <selenium.webdriver.remote.webelement.WebElement (session=\"0970959056545afbe40d2d5890e1025a\", element=\"f6e14b99-838b-4213-a05f-c1258f486e3d\")>,\n",
       " <selenium.webdriver.remote.webelement.WebElement (session=\"0970959056545afbe40d2d5890e1025a\", element=\"56992cae-bca2-4721-83b7-af50c56eb519\")>,\n",
       " <selenium.webdriver.remote.webelement.WebElement (session=\"0970959056545afbe40d2d5890e1025a\", element=\"300b20aa-3d19-409d-b4ed-5a672d4bae41\")>,\n",
       " <selenium.webdriver.remote.webelement.WebElement (session=\"0970959056545afbe40d2d5890e1025a\", element=\"463ec94e-28b7-4c9c-8284-4ff2410813ef\")>,\n",
       " <selenium.webdriver.remote.webelement.WebElement (session=\"0970959056545afbe40d2d5890e1025a\", element=\"b04b60cd-7128-444d-a093-ffb5520f6b65\")>,\n",
       " <selenium.webdriver.remote.webelement.WebElement (session=\"0970959056545afbe40d2d5890e1025a\", element=\"91e4788f-7d19-4dca-9f0b-5e5cbada7389\")>,\n",
       " <selenium.webdriver.remote.webelement.WebElement (session=\"0970959056545afbe40d2d5890e1025a\", element=\"514f651c-805d-4e93-af57-5da45e46ef78\")>,\n",
       " <selenium.webdriver.remote.webelement.WebElement (session=\"0970959056545afbe40d2d5890e1025a\", element=\"1850fa96-0750-40f1-b2f4-d195a7f12796\")>,\n",
       " <selenium.webdriver.remote.webelement.WebElement (session=\"0970959056545afbe40d2d5890e1025a\", element=\"da6e3f3f-5a6d-4960-b21a-d3e90b8efc29\")>,\n",
       " <selenium.webdriver.remote.webelement.WebElement (session=\"0970959056545afbe40d2d5890e1025a\", element=\"63359589-c908-428c-8125-4d4451fbb7a1\")>,\n",
       " <selenium.webdriver.remote.webelement.WebElement (session=\"0970959056545afbe40d2d5890e1025a\", element=\"29262c23-a852-4505-87bd-1bd838905018\")>,\n",
       " <selenium.webdriver.remote.webelement.WebElement (session=\"0970959056545afbe40d2d5890e1025a\", element=\"82fe066e-4fe7-46f8-9958-af24090e8828\")>,\n",
       " <selenium.webdriver.remote.webelement.WebElement (session=\"0970959056545afbe40d2d5890e1025a\", element=\"e44a70bd-a597-45df-bdb1-5655796baf4c\")>,\n",
       " <selenium.webdriver.remote.webelement.WebElement (session=\"0970959056545afbe40d2d5890e1025a\", element=\"6eb81cdb-7691-4de4-86f9-e46b5037ca4e\")>,\n",
       " <selenium.webdriver.remote.webelement.WebElement (session=\"0970959056545afbe40d2d5890e1025a\", element=\"12afdaa0-345d-4f5f-a57a-b5cc2b9d7d47\")>,\n",
       " <selenium.webdriver.remote.webelement.WebElement (session=\"0970959056545afbe40d2d5890e1025a\", element=\"bae5cf66-f0b7-451d-977e-3aa65ac2c9e5\")>,\n",
       " <selenium.webdriver.remote.webelement.WebElement (session=\"0970959056545afbe40d2d5890e1025a\", element=\"bb6ead51-0e1f-4641-bfbe-5988d0ff3871\")>,\n",
       " <selenium.webdriver.remote.webelement.WebElement (session=\"0970959056545afbe40d2d5890e1025a\", element=\"39e5d0a7-b8e3-44b3-a208-4c11290e156e\")>,\n",
       " <selenium.webdriver.remote.webelement.WebElement (session=\"0970959056545afbe40d2d5890e1025a\", element=\"257557ac-501d-45cb-95b7-9ebd7ed5b04b\")>]"
      ]
     },
     "execution_count": 95,
     "metadata": {},
     "output_type": "execute_result"
    }
   ],
   "source": [
    "info=driver.find_elements_by_xpath('//span[@ class =\"ellipsis fleft fs12 lh16\"]')\n",
    "info"
   ]
  },
  {
   "cell_type": "code",
   "execution_count": 96,
   "id": "04dfd674",
   "metadata": {},
   "outputs": [
    {
     "data": {
      "text/plain": [
       "['Mumbai, Hyderabad/Secunderabad, Pune, Gurgaon/Gurugram, Chennai, Bangalore/Bengaluru',\n",
       " 'Pune, Chennai, Bangalore/Bengaluru',\n",
       " 'Bangalore/Bengaluru',\n",
       " 'Kolkata, Bangalore/Bengaluru, Delhi / NCR',\n",
       " 'Bangalore/Bengaluru',\n",
       " 'Bangalore/Bengaluru',\n",
       " 'Bangalore/Bengaluru',\n",
       " 'Bangalore/Bengaluru',\n",
       " 'Bangalore/Bengaluru',\n",
       " 'Bangalore/Bengaluru, Mumbai (All Areas)']"
      ]
     },
     "execution_count": 96,
     "metadata": {},
     "output_type": "execute_result"
    }
   ],
   "source": [
    "job_location=[]\n",
    "for i in info:\n",
    "    if  'Not'   not in i.text.strip():\n",
    "        if  'Yrs' not in  i.text.strip():\n",
    "         if '-' not in i.text.strip():\n",
    "          job_location.append(i.text.strip())\n",
    "job_location[:10]"
   ]
  },
  {
   "cell_type": "code",
   "execution_count": 97,
   "id": "56711662",
   "metadata": {},
   "outputs": [
    {
     "data": {
      "text/plain": [
       "['Inflexion Analytix Private Limited',\n",
       " 'TVS CREDIT SERVICES LIMITED',\n",
       " 'Global Talent Pool',\n",
       " 'TalkValley LLC',\n",
       " 'RedBus',\n",
       " 'Morgan Stanley Advantage Services',\n",
       " 'Walmart Labs',\n",
       " 'ExecBoardinAsia',\n",
       " 'Perform Group',\n",
       " 'intelligent industrial internet systems pvt ltd.']"
      ]
     },
     "execution_count": 97,
     "metadata": {},
     "output_type": "execute_result"
    }
   ],
   "source": [
    "company_name=[]\n",
    "\n",
    "for i in driver.find_elements_by_xpath('//a[@ class =\"subTitle ellipsis fleft\"]'):\n",
    "\n",
    "    company_name.append(i.text.replace('\\n',''))\n",
    "    \n",
    "company_name[:10]"
   ]
  },
  {
   "cell_type": "code",
   "execution_count": 99,
   "id": "f1be4b17",
   "metadata": {},
   "outputs": [],
   "source": [
    "import pandas as pd\n",
    "jobtab=pd.DataFrame({})\n",
    "\n",
    "jobtab['Titles']=job_title[:10]\n",
    "jobtab['Company names']=company_name[:10]\n",
    "jobtab['Location']=job_location[:10]\n"
   ]
  },
  {
   "cell_type": "code",
   "execution_count": 100,
   "id": "ac6e9173",
   "metadata": {},
   "outputs": [
    {
     "data": {
      "text/html": [
       "<div>\n",
       "<style scoped>\n",
       "    .dataframe tbody tr th:only-of-type {\n",
       "        vertical-align: middle;\n",
       "    }\n",
       "\n",
       "    .dataframe tbody tr th {\n",
       "        vertical-align: top;\n",
       "    }\n",
       "\n",
       "    .dataframe thead th {\n",
       "        text-align: right;\n",
       "    }\n",
       "</style>\n",
       "<table border=\"1\" class=\"dataframe\">\n",
       "  <thead>\n",
       "    <tr style=\"text-align: right;\">\n",
       "      <th></th>\n",
       "      <th>Titles</th>\n",
       "      <th>Company names</th>\n",
       "      <th>Location</th>\n",
       "    </tr>\n",
       "  </thead>\n",
       "  <tbody>\n",
       "    <tr>\n",
       "      <th>0</th>\n",
       "      <td>Data Scientist / Data Analyst -Business Analyst</td>\n",
       "      <td>Inflexion Analytix Private Limited</td>\n",
       "      <td>Mumbai, Hyderabad/Secunderabad, Pune, Gurgaon/...</td>\n",
       "    </tr>\n",
       "    <tr>\n",
       "      <th>1</th>\n",
       "      <td>Senior / Lead Data Scientist</td>\n",
       "      <td>TVS CREDIT SERVICES LIMITED</td>\n",
       "      <td>Pune, Chennai, Bangalore/Bengaluru</td>\n",
       "    </tr>\n",
       "    <tr>\n",
       "      <th>2</th>\n",
       "      <td>data scientist</td>\n",
       "      <td>Global Talent Pool</td>\n",
       "      <td>Bangalore/Bengaluru</td>\n",
       "    </tr>\n",
       "    <tr>\n",
       "      <th>3</th>\n",
       "      <td>Data analytics / Data scientist intern (work f...</td>\n",
       "      <td>TalkValley LLC</td>\n",
       "      <td>Kolkata, Bangalore/Bengaluru, Delhi / NCR</td>\n",
       "    </tr>\n",
       "    <tr>\n",
       "      <th>4</th>\n",
       "      <td>Senior Data Scientist</td>\n",
       "      <td>RedBus</td>\n",
       "      <td>Bangalore/Bengaluru</td>\n",
       "    </tr>\n",
       "    <tr>\n",
       "      <th>5</th>\n",
       "      <td>VP - Sr. Data Scientist For Morgan Stanley, Ba...</td>\n",
       "      <td>Morgan Stanley Advantage Services</td>\n",
       "      <td>Bangalore/Bengaluru</td>\n",
       "    </tr>\n",
       "    <tr>\n",
       "      <th>6</th>\n",
       "      <td>Senior Data Scientist</td>\n",
       "      <td>Walmart Labs</td>\n",
       "      <td>Bangalore/Bengaluru</td>\n",
       "    </tr>\n",
       "    <tr>\n",
       "      <th>7</th>\n",
       "      <td>Senior Data Scientist</td>\n",
       "      <td>ExecBoardinAsia</td>\n",
       "      <td>Bangalore/Bengaluru</td>\n",
       "    </tr>\n",
       "    <tr>\n",
       "      <th>8</th>\n",
       "      <td>Senior Data Scientist</td>\n",
       "      <td>Perform Group</td>\n",
       "      <td>Bangalore/Bengaluru</td>\n",
       "    </tr>\n",
       "    <tr>\n",
       "      <th>9</th>\n",
       "      <td>Sr Data Scientist</td>\n",
       "      <td>intelligent industrial internet systems pvt ltd.</td>\n",
       "      <td>Bangalore/Bengaluru, Mumbai (All Areas)</td>\n",
       "    </tr>\n",
       "  </tbody>\n",
       "</table>\n",
       "</div>"
      ],
      "text/plain": [
       "                                              Titles  \\\n",
       "0    Data Scientist / Data Analyst -Business Analyst   \n",
       "1                       Senior / Lead Data Scientist   \n",
       "2                                     data scientist   \n",
       "3  Data analytics / Data scientist intern (work f...   \n",
       "4                              Senior Data Scientist   \n",
       "5  VP - Sr. Data Scientist For Morgan Stanley, Ba...   \n",
       "6                              Senior Data Scientist   \n",
       "7                              Senior Data Scientist   \n",
       "8                              Senior Data Scientist   \n",
       "9                                  Sr Data Scientist   \n",
       "\n",
       "                                      Company names  \\\n",
       "0                Inflexion Analytix Private Limited   \n",
       "1                       TVS CREDIT SERVICES LIMITED   \n",
       "2                                Global Talent Pool   \n",
       "3                                    TalkValley LLC   \n",
       "4                                            RedBus   \n",
       "5                 Morgan Stanley Advantage Services   \n",
       "6                                      Walmart Labs   \n",
       "7                                   ExecBoardinAsia   \n",
       "8                                     Perform Group   \n",
       "9  intelligent industrial internet systems pvt ltd.   \n",
       "\n",
       "                                            Location  \n",
       "0  Mumbai, Hyderabad/Secunderabad, Pune, Gurgaon/...  \n",
       "1                 Pune, Chennai, Bangalore/Bengaluru  \n",
       "2                                Bangalore/Bengaluru  \n",
       "3          Kolkata, Bangalore/Bengaluru, Delhi / NCR  \n",
       "4                                Bangalore/Bengaluru  \n",
       "5                                Bangalore/Bengaluru  \n",
       "6                                Bangalore/Bengaluru  \n",
       "7                                Bangalore/Bengaluru  \n",
       "8                                Bangalore/Bengaluru  \n",
       "9            Bangalore/Bengaluru, Mumbai (All Areas)  "
      ]
     },
     "execution_count": 100,
     "metadata": {},
     "output_type": "execute_result"
    }
   ],
   "source": [
    "jobtab"
   ]
  },
  {
   "cell_type": "code",
   "execution_count": 34,
   "id": "c5faf666",
   "metadata": {},
   "outputs": [
    {
     "data": {
      "text/plain": [
       "['https://www.naukri.com/job-listings-data-scientist-data-analyst-business-analyst-inflexion-analytix-private-limited-mumbai-hyderabad-secunderabad-pune-gurgaon-gurugram-chennai-bangalore-bengaluru-0-to-3-years-100521000368?src=jobsearchDesk&sid=16236001208405074&xp=1&px=1',\n",
       " 'https://www.naukri.com/job-listings-senior-lead-data-scientist-tvs-credit-services-limited-pune-chennai-bangalore-bengaluru-3-to-8-years-261220002239?src=jobsearchDesk&sid=16236001208405074&xp=2&px=1',\n",
       " 'https://www.naukri.com/job-listings-data-scientist-global-talent-pool-bangalore-bengaluru-0-to-2-years-310521500397?src=jobsearchDesk&sid=16236001208405074&xp=3&px=1',\n",
       " 'https://www.naukri.com/job-listings-data-analytics-data-scientist-intern-work-from-home-talkvalley-llc-kolkata-bangalore-bengaluru-delhi-ncr-0-to-5-years-050621000128?src=jobsearchDesk&sid=16236001208405074&xp=4&px=1',\n",
       " 'https://www.naukri.com/job-listings-senior-data-scientist-redbus-in-ibibo-group-private-limited-bangalore-bengaluru-5-to-8-years-090621001584?src=jobsearchDesk&sid=16236001208405074&xp=5&px=1',\n",
       " 'https://www.naukri.com/job-listings-vp-sr-data-scientist-for-morgan-stanley-bangalore-morgan-stanley-advantage-services-pvt-ltd-bangalore-bengaluru-8-to-13-years-010621002131?src=jobsearchDesk&sid=16236001208405074&xp=6&px=1',\n",
       " 'https://www.naukri.com/job-listings-senior-data-scientist-walmart-labs-bangalore-bengaluru-8-to-10-years-020621500403?src=jobsearchDesk&sid=16236001208405074&xp=7&px=1',\n",
       " 'https://www.naukri.com/job-listings-senior-data-scientist-execboardinasia-bangalore-bengaluru-5-to-10-years-030621500359?src=jobsearchDesk&sid=16236001208405074&xp=8&px=1',\n",
       " 'https://www.naukri.com/job-listings-senior-data-scientist-perform-group-bangalore-bengaluru-4-to-7-years-310521501774?src=jobsearchDesk&sid=16236001208405074&xp=9&px=1',\n",
       " 'https://www.naukri.com/job-listings-sr-data-scientist-intelligent-industrial-internet-systems-pvt-ltd-bangalore-bengaluru-mumbai-all-areas-3-to-6-years-030621003155?src=jobsearchDesk&sid=16236001208405074&xp=10&px=1',\n",
       " 'https://www.naukri.com/job-listings-senior-data-scientist-marketplace-walmart-labs-bangalore-bengaluru-5-to-9-years-310521500781?src=jobsearchDesk&sid=16236001208405074&xp=11&px=1',\n",
       " 'https://www.naukri.com/job-listings-data-scientist-ibm-garage-ibm-india-pvt-limited-bengaluru-bangalore-2-to-6-years-080621904251?src=jobsearchDesk&sid=16236001208405074&xp=12&px=1',\n",
       " 'https://www.naukri.com/job-listings-digital-enterprise-architect-data-scientist-mphasis-limited-bangalore-bengaluru-10-to-13-years-030621902728?src=jobsearchDesk&sid=16236001208405074&xp=13&px=1',\n",
       " 'https://www.naukri.com/job-listings-data-scientist-ibm-india-pvt-limited-bangalore-bengaluru-3-to-6-years-020621905994?src=jobsearchDesk&sid=16236001208405074&xp=14&px=1',\n",
       " 'https://www.naukri.com/job-listings-data-scientist-ibm-india-pvt-limited-bangalore-bengaluru-3-to-6-years-030621907010?src=jobsearchDesk&sid=16236001208405074&xp=15&px=1',\n",
       " 'https://www.naukri.com/job-listings-data-scientist-oracle-india-pvt-ltd-noida-bangalore-bengaluru-5-to-9-years-010621004567?src=jobsearchDesk&sid=16236001208405074&xp=16&px=1',\n",
       " 'https://www.naukri.com/job-listings-lead-data-scientist-fractal-analytics-pvt-ltd-gurgaon-gurugram-bangalore-bengaluru-mumbai-all-areas-10-to-15-years-110621003012?src=jobsearchDesk&sid=16236001208405074&xp=17&px=1',\n",
       " 'https://www.naukri.com/job-listings-data-scientist-visualization-aruba-networks-bangalore-bengaluru-4-to-8-years-090621501101?src=jobsearchDesk&sid=16236001208405074&xp=18&px=1',\n",
       " 'https://www.naukri.com/job-listings-data-scientist-fractal-analytics-ltd-mumbai-gurgaon-gurugram-bangalore-bengaluru-3-to-7-years-070621501457?src=jobsearchDesk&sid=16236001208405074&xp=19&px=1',\n",
       " 'https://www.naukri.com/job-listings-lead-data-scientist-bd-bangalore-bengaluru-2-to-7-years-310521500918?src=jobsearchDesk&sid=16236001208405074&xp=20&px=1']"
      ]
     },
     "execution_count": 34,
     "metadata": {},
     "output_type": "execute_result"
    }
   ],
   "source": [
    "url=[]\n",
    "\n",
    "for i in driver.find_elements_by_xpath('//a[@class=\"title fw500 ellipsis\"]'):\n",
    "  url.append(i.get_attribute('href'))\n",
    "url   "
   ]
  },
  {
   "cell_type": "code",
   "execution_count": 36,
   "id": "06d679dc",
   "metadata": {},
   "outputs": [
    {
     "data": {
      "text/plain": [
       "20"
      ]
     },
     "execution_count": 36,
     "metadata": {},
     "output_type": "execute_result"
    }
   ],
   "source": [
    "len(url)"
   ]
  },
  {
   "cell_type": "code",
   "execution_count": 39,
   "id": "2364ab40",
   "metadata": {},
   "outputs": [],
   "source": [
    "import time"
   ]
  },
  {
   "cell_type": "code",
   "execution_count": 68,
   "id": "e6064ad3",
   "metadata": {},
   "outputs": [],
   "source": [
    "job_description1=[]"
   ]
  },
  {
   "cell_type": "code",
   "execution_count": 69,
   "id": "1736bc9c",
   "metadata": {},
   "outputs": [],
   "source": [
    "for i in url[:10]:\n",
    "    driver.get(i)\n",
    "    time.sleep(3)\n",
    "\n",
    "    try:\n",
    "     job_desc=driver.find_element_by_xpath(\"//div[@class='dang-inner-html']\")\n",
    "     job_description1.append(job_desc.text)\n",
    "    \n",
    "    except NoSuchElementException :\n",
    "     job_description1.append('-')\n",
    "        \n",
    "\n",
    "\n"
   ]
  },
  {
   "cell_type": "code",
   "execution_count": 70,
   "id": "f177bd47",
   "metadata": {},
   "outputs": [
    {
     "data": {
      "text/plain": [
       "10"
      ]
     },
     "execution_count": 70,
     "metadata": {},
     "output_type": "execute_result"
    }
   ],
   "source": [
    "len(job_description1)"
   ]
  },
  {
   "cell_type": "code",
   "execution_count": 71,
   "id": "13ced0c8",
   "metadata": {
    "scrolled": true
   },
   "outputs": [
    {
     "data": {
      "text/html": [
       "<div>\n",
       "<style scoped>\n",
       "    .dataframe tbody tr th:only-of-type {\n",
       "        vertical-align: middle;\n",
       "    }\n",
       "\n",
       "    .dataframe tbody tr th {\n",
       "        vertical-align: top;\n",
       "    }\n",
       "\n",
       "    .dataframe thead th {\n",
       "        text-align: right;\n",
       "    }\n",
       "</style>\n",
       "<table border=\"1\" class=\"dataframe\">\n",
       "  <thead>\n",
       "    <tr style=\"text-align: right;\">\n",
       "      <th></th>\n",
       "      <th>Demo</th>\n",
       "    </tr>\n",
       "  </thead>\n",
       "  <tbody>\n",
       "    <tr>\n",
       "      <th>0</th>\n",
       "      <td>Roles and Responsibilities\\n- Create an indust...</td>\n",
       "    </tr>\n",
       "    <tr>\n",
       "      <th>1</th>\n",
       "      <td>Roles and Responsibilities\\n- Create an indust...</td>\n",
       "    </tr>\n",
       "    <tr>\n",
       "      <th>2</th>\n",
       "      <td>Job Role : Data Scientist/Data Analyst /Busine...</td>\n",
       "    </tr>\n",
       "    <tr>\n",
       "      <th>3</th>\n",
       "      <td>Key Responsibilities\\nBe responsible for scali...</td>\n",
       "    </tr>\n",
       "    <tr>\n",
       "      <th>4</th>\n",
       "      <td>Essential Duties Responsibilities\\nPerform bas...</td>\n",
       "    </tr>\n",
       "    <tr>\n",
       "      <th>5</th>\n",
       "      <td>We are a group of tenured professors from Tier...</td>\n",
       "    </tr>\n",
       "    <tr>\n",
       "      <th>6</th>\n",
       "      <td>-</td>\n",
       "    </tr>\n",
       "    <tr>\n",
       "      <th>7</th>\n",
       "      <td>About Us\\nMorgan Stanley is a leading global f...</td>\n",
       "    </tr>\n",
       "    <tr>\n",
       "      <th>8</th>\n",
       "      <td>As a Senior Data Scientist for Walmart Labs, y...</td>\n",
       "    </tr>\n",
       "    <tr>\n",
       "      <th>9</th>\n",
       "      <td>The Senior Data Scientist is an exciting role ...</td>\n",
       "    </tr>\n",
       "    <tr>\n",
       "      <th>10</th>\n",
       "      <td>Responsibilities: -\\nContribute across dierent...</td>\n",
       "    </tr>\n",
       "    <tr>\n",
       "      <th>11</th>\n",
       "      <td>Roles and Responsibilities\\n- Create an indust...</td>\n",
       "    </tr>\n",
       "  </tbody>\n",
       "</table>\n",
       "</div>"
      ],
      "text/plain": [
       "                                                 Demo\n",
       "0   Roles and Responsibilities\\n- Create an indust...\n",
       "1   Roles and Responsibilities\\n- Create an indust...\n",
       "2   Job Role : Data Scientist/Data Analyst /Busine...\n",
       "3   Key Responsibilities\\nBe responsible for scali...\n",
       "4   Essential Duties Responsibilities\\nPerform bas...\n",
       "5   We are a group of tenured professors from Tier...\n",
       "6                                                   -\n",
       "7   About Us\\nMorgan Stanley is a leading global f...\n",
       "8   As a Senior Data Scientist for Walmart Labs, y...\n",
       "9   The Senior Data Scientist is an exciting role ...\n",
       "10  Responsibilities: -\\nContribute across dierent...\n",
       "11  Roles and Responsibilities\\n- Create an indust..."
      ]
     },
     "execution_count": 71,
     "metadata": {},
     "output_type": "execute_result"
    }
   ],
   "source": [
    "df1=pd.DataFrame({\"Demo\":job_description})\n",
    "df1"
   ]
  },
  {
   "cell_type": "code",
   "execution_count": 106,
   "id": "3fe4940d",
   "metadata": {},
   "outputs": [],
   "source": [
    "jobtab['job_description']=df1['Demo']"
   ]
  },
  {
   "cell_type": "code",
   "execution_count": 107,
   "id": "aa2ccb21",
   "metadata": {},
   "outputs": [
    {
     "data": {
      "text/html": [
       "<div>\n",
       "<style scoped>\n",
       "    .dataframe tbody tr th:only-of-type {\n",
       "        vertical-align: middle;\n",
       "    }\n",
       "\n",
       "    .dataframe tbody tr th {\n",
       "        vertical-align: top;\n",
       "    }\n",
       "\n",
       "    .dataframe thead th {\n",
       "        text-align: right;\n",
       "    }\n",
       "</style>\n",
       "<table border=\"1\" class=\"dataframe\">\n",
       "  <thead>\n",
       "    <tr style=\"text-align: right;\">\n",
       "      <th></th>\n",
       "      <th>Titles</th>\n",
       "      <th>Company names</th>\n",
       "      <th>Location</th>\n",
       "      <th>job_description</th>\n",
       "    </tr>\n",
       "  </thead>\n",
       "  <tbody>\n",
       "    <tr>\n",
       "      <th>0</th>\n",
       "      <td>Data Scientist / Data Analyst -Business Analyst</td>\n",
       "      <td>Inflexion Analytix Private Limited</td>\n",
       "      <td>Mumbai, Hyderabad/Secunderabad, Pune, Gurgaon/...</td>\n",
       "      <td>Roles and Responsibilities\\n- Create an indust...</td>\n",
       "    </tr>\n",
       "    <tr>\n",
       "      <th>1</th>\n",
       "      <td>Senior / Lead Data Scientist</td>\n",
       "      <td>TVS CREDIT SERVICES LIMITED</td>\n",
       "      <td>Pune, Chennai, Bangalore/Bengaluru</td>\n",
       "      <td>Roles and Responsibilities\\n- Create an indust...</td>\n",
       "    </tr>\n",
       "    <tr>\n",
       "      <th>2</th>\n",
       "      <td>data scientist</td>\n",
       "      <td>Global Talent Pool</td>\n",
       "      <td>Bangalore/Bengaluru</td>\n",
       "      <td>Job Role : Data Scientist/Data Analyst /Busine...</td>\n",
       "    </tr>\n",
       "    <tr>\n",
       "      <th>3</th>\n",
       "      <td>Data analytics / Data scientist intern (work f...</td>\n",
       "      <td>TalkValley LLC</td>\n",
       "      <td>Kolkata, Bangalore/Bengaluru, Delhi / NCR</td>\n",
       "      <td>Key Responsibilities\\nBe responsible for scali...</td>\n",
       "    </tr>\n",
       "    <tr>\n",
       "      <th>4</th>\n",
       "      <td>Senior Data Scientist</td>\n",
       "      <td>RedBus</td>\n",
       "      <td>Bangalore/Bengaluru</td>\n",
       "      <td>Essential Duties Responsibilities\\nPerform bas...</td>\n",
       "    </tr>\n",
       "    <tr>\n",
       "      <th>5</th>\n",
       "      <td>VP - Sr. Data Scientist For Morgan Stanley, Ba...</td>\n",
       "      <td>Morgan Stanley Advantage Services</td>\n",
       "      <td>Bangalore/Bengaluru</td>\n",
       "      <td>We are a group of tenured professors from Tier...</td>\n",
       "    </tr>\n",
       "    <tr>\n",
       "      <th>6</th>\n",
       "      <td>Senior Data Scientist</td>\n",
       "      <td>Walmart Labs</td>\n",
       "      <td>Bangalore/Bengaluru</td>\n",
       "      <td>-</td>\n",
       "    </tr>\n",
       "    <tr>\n",
       "      <th>7</th>\n",
       "      <td>Senior Data Scientist</td>\n",
       "      <td>ExecBoardinAsia</td>\n",
       "      <td>Bangalore/Bengaluru</td>\n",
       "      <td>About Us\\nMorgan Stanley is a leading global f...</td>\n",
       "    </tr>\n",
       "    <tr>\n",
       "      <th>8</th>\n",
       "      <td>Senior Data Scientist</td>\n",
       "      <td>Perform Group</td>\n",
       "      <td>Bangalore/Bengaluru</td>\n",
       "      <td>As a Senior Data Scientist for Walmart Labs, y...</td>\n",
       "    </tr>\n",
       "    <tr>\n",
       "      <th>9</th>\n",
       "      <td>Sr Data Scientist</td>\n",
       "      <td>intelligent industrial internet systems pvt ltd.</td>\n",
       "      <td>Bangalore/Bengaluru, Mumbai (All Areas)</td>\n",
       "      <td>The Senior Data Scientist is an exciting role ...</td>\n",
       "    </tr>\n",
       "  </tbody>\n",
       "</table>\n",
       "</div>"
      ],
      "text/plain": [
       "                                              Titles  \\\n",
       "0    Data Scientist / Data Analyst -Business Analyst   \n",
       "1                       Senior / Lead Data Scientist   \n",
       "2                                     data scientist   \n",
       "3  Data analytics / Data scientist intern (work f...   \n",
       "4                              Senior Data Scientist   \n",
       "5  VP - Sr. Data Scientist For Morgan Stanley, Ba...   \n",
       "6                              Senior Data Scientist   \n",
       "7                              Senior Data Scientist   \n",
       "8                              Senior Data Scientist   \n",
       "9                                  Sr Data Scientist   \n",
       "\n",
       "                                      Company names  \\\n",
       "0                Inflexion Analytix Private Limited   \n",
       "1                       TVS CREDIT SERVICES LIMITED   \n",
       "2                                Global Talent Pool   \n",
       "3                                    TalkValley LLC   \n",
       "4                                            RedBus   \n",
       "5                 Morgan Stanley Advantage Services   \n",
       "6                                      Walmart Labs   \n",
       "7                                   ExecBoardinAsia   \n",
       "8                                     Perform Group   \n",
       "9  intelligent industrial internet systems pvt ltd.   \n",
       "\n",
       "                                            Location  \\\n",
       "0  Mumbai, Hyderabad/Secunderabad, Pune, Gurgaon/...   \n",
       "1                 Pune, Chennai, Bangalore/Bengaluru   \n",
       "2                                Bangalore/Bengaluru   \n",
       "3          Kolkata, Bangalore/Bengaluru, Delhi / NCR   \n",
       "4                                Bangalore/Bengaluru   \n",
       "5                                Bangalore/Bengaluru   \n",
       "6                                Bangalore/Bengaluru   \n",
       "7                                Bangalore/Bengaluru   \n",
       "8                                Bangalore/Bengaluru   \n",
       "9            Bangalore/Bengaluru, Mumbai (All Areas)   \n",
       "\n",
       "                                     job_description  \n",
       "0  Roles and Responsibilities\\n- Create an indust...  \n",
       "1  Roles and Responsibilities\\n- Create an indust...  \n",
       "2  Job Role : Data Scientist/Data Analyst /Busine...  \n",
       "3  Key Responsibilities\\nBe responsible for scali...  \n",
       "4  Essential Duties Responsibilities\\nPerform bas...  \n",
       "5  We are a group of tenured professors from Tier...  \n",
       "6                                                  -  \n",
       "7  About Us\\nMorgan Stanley is a leading global f...  \n",
       "8  As a Senior Data Scientist for Walmart Labs, y...  \n",
       "9  The Senior Data Scientist is an exciting role ...  "
      ]
     },
     "execution_count": 107,
     "metadata": {},
     "output_type": "execute_result"
    }
   ],
   "source": [
    "jobtab"
   ]
  },
  {
   "cell_type": "markdown",
   "id": "ef35751f",
   "metadata": {},
   "source": [
    "Q3: In this question you have to scrape data using the filters available on the \n",
    "webpage as shown below:\n",
    "You have to use the location and salary filter.\n",
    "You have to scrape data for “Data Scientist” designation for first 10 job results.\n",
    "You have to scrape the job-title, job-location, company_name,\n",
    "experience_required.\n",
    "The location filter to be used is “Delhi/NCR”\n",
    "The salary filter to be used is “3-6” lakhs\n",
    "The task will be done as shown in the below steps:\n",
    "1. first get the webpage https://www.naukri.com/\n",
    "2. Enter “Data Scientist” in “Skill,Designations,Companies” field "
   ]
  },
  {
   "cell_type": "code",
   "execution_count": 113,
   "id": "65492f21",
   "metadata": {},
   "outputs": [],
   "source": [
    "driver = webdriver.Chrome()\n",
    "driver=webdriver.Chrome(\"chromedriver.exe\")"
   ]
  },
  {
   "cell_type": "code",
   "execution_count": 114,
   "id": "dc6654e1",
   "metadata": {},
   "outputs": [],
   "source": [
    "url=\"https://www.naukri.com/\"\n",
    "driver.get(url)"
   ]
  },
  {
   "cell_type": "code",
   "execution_count": 115,
   "id": "470e8a10",
   "metadata": {},
   "outputs": [
    {
     "data": {
      "text/plain": [
       "<selenium.webdriver.remote.webelement.WebElement (session=\"8674fadf20e4ae058d0761e133b5e789\", element=\"b5a86e8c-fd5f-4241-9c67-489adf4e357a\")>"
      ]
     },
     "execution_count": 115,
     "metadata": {},
     "output_type": "execute_result"
    }
   ],
   "source": [
    "search_jobs=driver.find_element_by_xpath('//input[@ class =\"sugInp\"]')\n",
    "search_jobs"
   ]
  },
  {
   "cell_type": "code",
   "execution_count": 116,
   "id": "6e2086f5",
   "metadata": {},
   "outputs": [],
   "source": [
    "search_jobs.send_keys('Data Scientist')"
   ]
  },
  {
   "cell_type": "code",
   "execution_count": 117,
   "id": "845e45e1",
   "metadata": {},
   "outputs": [],
   "source": [
    "search_botton=driver.find_element_by_xpath('//button[@class=\"btn\"]').click()"
   ]
  },
  {
   "cell_type": "code",
   "execution_count": 120,
   "id": "87f40c37",
   "metadata": {},
   "outputs": [],
   "source": [
    "loc=driver.find_element_by_xpath('//span[@title=\"Delhi / NCR\"]').click()\n",
    "                                 \n",
    "                                 \n",
    "                                 \n",
    "                               "
   ]
  },
  {
   "cell_type": "code",
   "execution_count": 121,
   "id": "812ecf16",
   "metadata": {},
   "outputs": [],
   "source": [
    "salary=driver.find_element_by_xpath('//span[@title=\"3-6 Lakhs\"]').click()"
   ]
  },
  {
   "cell_type": "code",
   "execution_count": 122,
   "id": "bf253086",
   "metadata": {},
   "outputs": [
    {
     "data": {
      "text/plain": [
       "['Data analytics / Data scientist intern (work from Home)',\n",
       " 'Data Scientist',\n",
       " 'Chaayos is Looking For Data Scientist',\n",
       " 'Junior Data Scientist',\n",
       " 'We are hiring- Data Scientist +Python- Noida',\n",
       " 'Hiring For Data Scientist @ Prodapt Solutions',\n",
       " 'Data Scientist - High growth VC backed Influencer Marketplace',\n",
       " 'Data Scientist',\n",
       " 'Data Scientist',\n",
       " 'Data Scientist']"
      ]
     },
     "execution_count": 122,
     "metadata": {},
     "output_type": "execute_result"
    }
   ],
   "source": [
    "job_title=[]\n",
    "\n",
    "for i in driver.find_elements_by_xpath('//a[@class=\"title fw500 ellipsis\"]'):\n",
    "\n",
    "   job_title.append(i.text.replace('\\n',''))\n",
    "job_title[:10]    "
   ]
  },
  {
   "cell_type": "code",
   "execution_count": 126,
   "id": "8df0f055",
   "metadata": {},
   "outputs": [
    {
     "data": {
      "text/plain": [
       "['Mumbai, Hyderabad/Secunderabad, Pune, Gurgaon/Gurugram, Chennai, Bangalore/Bengaluru',\n",
       " 'Kolkata, Bangalore/Bengaluru, Delhi / NCR',\n",
       " 'Mumbai, Gurgaon/Gurugram, Bangalore/Bengaluru',\n",
       " 'New Delhi',\n",
       " 'Noida, Gurgaon/Gurugram, Delhi / NCR',\n",
       " 'Kolkata, Hyderabad/Secunderabad, Pune, Chennai, Bangalore/Bengaluru, Delhi / NCR',\n",
       " 'Bangalore/Bengaluru, Delhi / NCR, Mumbai (All Areas)',\n",
       " 'Gurgaon/Gurugram, Bangalore/Bengaluru',\n",
       " 'Bharuch, Jaipur, Bhopal, Mumbai, Jhansi, Nagpur, Ghaziabad, Jaunpur, Kanpur, New Delhi, Lucknow, Agra, Gurgaon/Gurugram, Rajkot, Bangalore/Bengaluru',\n",
       " 'Gurgaon/Gurugram, Delhi / NCR']"
      ]
     },
     "execution_count": 126,
     "metadata": {},
     "output_type": "execute_result"
    }
   ],
   "source": [
    "job_location=[]\n",
    "\n",
    "for i in driver.find_elements_by_xpath('//span[@class=\"ellipsis fleft fs12 lh16\"]'):\n",
    "    if  'Not'   not in i.text.strip():\n",
    "        if  'Yrs' not in  i.text.strip():\n",
    "         if '-' not in i.text.strip():\n",
    "          job_location.append(i.text.strip())\n",
    "job_location [:10]"
   ]
  },
  {
   "cell_type": "code",
   "execution_count": 127,
   "id": "1083a0d4",
   "metadata": {},
   "outputs": [
    {
     "data": {
      "text/plain": [
       "['Data analytics / Data scientist intern (work from Home)',\n",
       " 'Data Scientist',\n",
       " 'Chaayos is Looking For Data Scientist',\n",
       " 'Junior Data Scientist',\n",
       " 'We are hiring- Data Scientist +Python- Noida',\n",
       " 'Hiring For Data Scientist @ Prodapt Solutions',\n",
       " 'Data Scientist - High growth VC backed Influencer Marketplace',\n",
       " 'Data Scientist',\n",
       " 'Data Scientist',\n",
       " 'Data Scientist']"
      ]
     },
     "execution_count": 127,
     "metadata": {},
     "output_type": "execute_result"
    }
   ],
   "source": [
    "company_name=[]\n",
    "\n",
    "for i in driver.find_elements_by_xpath('//a[@class=\"title fw500 ellipsis\"]'):\n",
    "\n",
    "  company_name.append(i.text.replace('\\n',''))\n",
    "company_name[:10]    "
   ]
  },
  {
   "cell_type": "code",
   "execution_count": 159,
   "id": "4c39ddf3",
   "metadata": {},
   "outputs": [],
   "source": [
    "exp2=[]\n",
    "\n",
    "\n",
    "    "
   ]
  },
  {
   "cell_type": "code",
   "execution_count": 160,
   "id": "b1868eeb",
   "metadata": {},
   "outputs": [
    {
     "data": {
      "text/plain": [
       "['0-3 Yrs',\n",
       " '0-5 Yrs',\n",
       " '3-7 Yrs',\n",
       " '0-5 Yrs',\n",
       " '3-5 Yrs',\n",
       " '4-7 Yrs',\n",
       " '5-10 Yrs',\n",
       " '3-5 Yrs',\n",
       " '3-7 Yrs',\n",
       " '1-3 Yrs']"
      ]
     },
     "execution_count": 160,
     "metadata": {},
     "output_type": "execute_result"
    }
   ],
   "source": [
    "for i in driver.find_elements_by_xpath('//span[@class=\"ellipsis fleft fs12 lh16\"]'):\n",
    "    if  'Yrs' in  i.text.strip():\n",
    "        exp2.append(i.text.strip())\n",
    "exp2[:10]"
   ]
  },
  {
   "cell_type": "code",
   "execution_count": 164,
   "id": "dcab48ae",
   "metadata": {},
   "outputs": [
    {
     "data": {
      "text/html": [
       "<div>\n",
       "<style scoped>\n",
       "    .dataframe tbody tr th:only-of-type {\n",
       "        vertical-align: middle;\n",
       "    }\n",
       "\n",
       "    .dataframe tbody tr th {\n",
       "        vertical-align: top;\n",
       "    }\n",
       "\n",
       "    .dataframe thead th {\n",
       "        text-align: right;\n",
       "    }\n",
       "</style>\n",
       "<table border=\"1\" class=\"dataframe\">\n",
       "  <thead>\n",
       "    <tr style=\"text-align: right;\">\n",
       "      <th></th>\n",
       "      <th>EXP</th>\n",
       "    </tr>\n",
       "  </thead>\n",
       "  <tbody>\n",
       "    <tr>\n",
       "      <th>0</th>\n",
       "      <td>0-3 Yrs</td>\n",
       "    </tr>\n",
       "    <tr>\n",
       "      <th>1</th>\n",
       "      <td>0-5 Yrs</td>\n",
       "    </tr>\n",
       "    <tr>\n",
       "      <th>2</th>\n",
       "      <td>3-7 Yrs</td>\n",
       "    </tr>\n",
       "    <tr>\n",
       "      <th>3</th>\n",
       "      <td>0-5 Yrs</td>\n",
       "    </tr>\n",
       "    <tr>\n",
       "      <th>4</th>\n",
       "      <td>3-5 Yrs</td>\n",
       "    </tr>\n",
       "    <tr>\n",
       "      <th>5</th>\n",
       "      <td>4-7 Yrs</td>\n",
       "    </tr>\n",
       "    <tr>\n",
       "      <th>6</th>\n",
       "      <td>5-10 Yrs</td>\n",
       "    </tr>\n",
       "    <tr>\n",
       "      <th>7</th>\n",
       "      <td>3-5 Yrs</td>\n",
       "    </tr>\n",
       "    <tr>\n",
       "      <th>8</th>\n",
       "      <td>3-7 Yrs</td>\n",
       "    </tr>\n",
       "    <tr>\n",
       "      <th>9</th>\n",
       "      <td>1-3 Yrs</td>\n",
       "    </tr>\n",
       "  </tbody>\n",
       "</table>\n",
       "</div>"
      ],
      "text/plain": [
       "        EXP\n",
       "0   0-3 Yrs\n",
       "1   0-5 Yrs\n",
       "2   3-7 Yrs\n",
       "3   0-5 Yrs\n",
       "4   3-5 Yrs\n",
       "5   4-7 Yrs\n",
       "6  5-10 Yrs\n",
       "7   3-5 Yrs\n",
       "8   3-7 Yrs\n",
       "9   1-3 Yrs"
      ]
     },
     "execution_count": 164,
     "metadata": {},
     "output_type": "execute_result"
    }
   ],
   "source": [
    "df1=pd.DataFrame({\"EXP\":exp2})\n",
    "df1[:10]"
   ]
  },
  {
   "cell_type": "code",
   "execution_count": null,
   "id": "30830108",
   "metadata": {},
   "outputs": [],
   "source": []
  },
  {
   "cell_type": "code",
   "execution_count": 148,
   "id": "bfdb0cfd",
   "metadata": {},
   "outputs": [],
   "source": [
    "import pandas as pd\n",
    "jobtab1=pd.DataFrame({})\n",
    "\n",
    "jobtab1['Titles']=job_title[:10]\n",
    "jobtab1['Company names']=company_name[:10]\n",
    "jobtab1['Location']=job_location[:10]\n",
    "\n"
   ]
  },
  {
   "cell_type": "code",
   "execution_count": 149,
   "id": "4370d8d0",
   "metadata": {},
   "outputs": [
    {
     "data": {
      "text/html": [
       "<div>\n",
       "<style scoped>\n",
       "    .dataframe tbody tr th:only-of-type {\n",
       "        vertical-align: middle;\n",
       "    }\n",
       "\n",
       "    .dataframe tbody tr th {\n",
       "        vertical-align: top;\n",
       "    }\n",
       "\n",
       "    .dataframe thead th {\n",
       "        text-align: right;\n",
       "    }\n",
       "</style>\n",
       "<table border=\"1\" class=\"dataframe\">\n",
       "  <thead>\n",
       "    <tr style=\"text-align: right;\">\n",
       "      <th></th>\n",
       "      <th>Titles</th>\n",
       "      <th>Company names</th>\n",
       "      <th>Location</th>\n",
       "    </tr>\n",
       "  </thead>\n",
       "  <tbody>\n",
       "    <tr>\n",
       "      <th>0</th>\n",
       "      <td>Data analytics / Data scientist intern (work f...</td>\n",
       "      <td>Data analytics / Data scientist intern (work f...</td>\n",
       "      <td>Mumbai, Hyderabad/Secunderabad, Pune, Gurgaon/...</td>\n",
       "    </tr>\n",
       "    <tr>\n",
       "      <th>1</th>\n",
       "      <td>Data Scientist</td>\n",
       "      <td>Data Scientist</td>\n",
       "      <td>Kolkata, Bangalore/Bengaluru, Delhi / NCR</td>\n",
       "    </tr>\n",
       "    <tr>\n",
       "      <th>2</th>\n",
       "      <td>Chaayos is Looking For Data Scientist</td>\n",
       "      <td>Chaayos is Looking For Data Scientist</td>\n",
       "      <td>Mumbai, Gurgaon/Gurugram, Bangalore/Bengaluru</td>\n",
       "    </tr>\n",
       "    <tr>\n",
       "      <th>3</th>\n",
       "      <td>Junior Data Scientist</td>\n",
       "      <td>Junior Data Scientist</td>\n",
       "      <td>New Delhi</td>\n",
       "    </tr>\n",
       "    <tr>\n",
       "      <th>4</th>\n",
       "      <td>We are hiring- Data Scientist +Python- Noida</td>\n",
       "      <td>We are hiring- Data Scientist +Python- Noida</td>\n",
       "      <td>Noida, Gurgaon/Gurugram, Delhi / NCR</td>\n",
       "    </tr>\n",
       "    <tr>\n",
       "      <th>5</th>\n",
       "      <td>Hiring For Data Scientist @ Prodapt Solutions</td>\n",
       "      <td>Hiring For Data Scientist @ Prodapt Solutions</td>\n",
       "      <td>Kolkata, Hyderabad/Secunderabad, Pune, Chennai...</td>\n",
       "    </tr>\n",
       "    <tr>\n",
       "      <th>6</th>\n",
       "      <td>Data Scientist - High growth VC backed Influen...</td>\n",
       "      <td>Data Scientist - High growth VC backed Influen...</td>\n",
       "      <td>Bangalore/Bengaluru, Delhi / NCR, Mumbai (All ...</td>\n",
       "    </tr>\n",
       "    <tr>\n",
       "      <th>7</th>\n",
       "      <td>Data Scientist</td>\n",
       "      <td>Data Scientist</td>\n",
       "      <td>Gurgaon/Gurugram, Bangalore/Bengaluru</td>\n",
       "    </tr>\n",
       "    <tr>\n",
       "      <th>8</th>\n",
       "      <td>Data Scientist</td>\n",
       "      <td>Data Scientist</td>\n",
       "      <td>Bharuch, Jaipur, Bhopal, Mumbai, Jhansi, Nagpu...</td>\n",
       "    </tr>\n",
       "    <tr>\n",
       "      <th>9</th>\n",
       "      <td>Data Scientist</td>\n",
       "      <td>Data Scientist</td>\n",
       "      <td>Gurgaon/Gurugram, Delhi / NCR</td>\n",
       "    </tr>\n",
       "  </tbody>\n",
       "</table>\n",
       "</div>"
      ],
      "text/plain": [
       "                                              Titles  \\\n",
       "0  Data analytics / Data scientist intern (work f...   \n",
       "1                                     Data Scientist   \n",
       "2              Chaayos is Looking For Data Scientist   \n",
       "3                              Junior Data Scientist   \n",
       "4       We are hiring- Data Scientist +Python- Noida   \n",
       "5      Hiring For Data Scientist @ Prodapt Solutions   \n",
       "6  Data Scientist - High growth VC backed Influen...   \n",
       "7                                     Data Scientist   \n",
       "8                                     Data Scientist   \n",
       "9                                     Data Scientist   \n",
       "\n",
       "                                       Company names  \\\n",
       "0  Data analytics / Data scientist intern (work f...   \n",
       "1                                     Data Scientist   \n",
       "2              Chaayos is Looking For Data Scientist   \n",
       "3                              Junior Data Scientist   \n",
       "4       We are hiring- Data Scientist +Python- Noida   \n",
       "5      Hiring For Data Scientist @ Prodapt Solutions   \n",
       "6  Data Scientist - High growth VC backed Influen...   \n",
       "7                                     Data Scientist   \n",
       "8                                     Data Scientist   \n",
       "9                                     Data Scientist   \n",
       "\n",
       "                                            Location  \n",
       "0  Mumbai, Hyderabad/Secunderabad, Pune, Gurgaon/...  \n",
       "1          Kolkata, Bangalore/Bengaluru, Delhi / NCR  \n",
       "2      Mumbai, Gurgaon/Gurugram, Bangalore/Bengaluru  \n",
       "3                                          New Delhi  \n",
       "4               Noida, Gurgaon/Gurugram, Delhi / NCR  \n",
       "5  Kolkata, Hyderabad/Secunderabad, Pune, Chennai...  \n",
       "6  Bangalore/Bengaluru, Delhi / NCR, Mumbai (All ...  \n",
       "7              Gurgaon/Gurugram, Bangalore/Bengaluru  \n",
       "8  Bharuch, Jaipur, Bhopal, Mumbai, Jhansi, Nagpu...  \n",
       "9                      Gurgaon/Gurugram, Delhi / NCR  "
      ]
     },
     "execution_count": 149,
     "metadata": {},
     "output_type": "execute_result"
    }
   ],
   "source": [
    "jobtab1"
   ]
  },
  {
   "cell_type": "code",
   "execution_count": 167,
   "id": "0e986639",
   "metadata": {},
   "outputs": [],
   "source": [
    "jobtab1['exp']=df1['EXP'][:10]"
   ]
  },
  {
   "cell_type": "code",
   "execution_count": 168,
   "id": "92d85aee",
   "metadata": {},
   "outputs": [
    {
     "data": {
      "text/html": [
       "<div>\n",
       "<style scoped>\n",
       "    .dataframe tbody tr th:only-of-type {\n",
       "        vertical-align: middle;\n",
       "    }\n",
       "\n",
       "    .dataframe tbody tr th {\n",
       "        vertical-align: top;\n",
       "    }\n",
       "\n",
       "    .dataframe thead th {\n",
       "        text-align: right;\n",
       "    }\n",
       "</style>\n",
       "<table border=\"1\" class=\"dataframe\">\n",
       "  <thead>\n",
       "    <tr style=\"text-align: right;\">\n",
       "      <th></th>\n",
       "      <th>Titles</th>\n",
       "      <th>Company names</th>\n",
       "      <th>Location</th>\n",
       "      <th>exp</th>\n",
       "    </tr>\n",
       "  </thead>\n",
       "  <tbody>\n",
       "    <tr>\n",
       "      <th>0</th>\n",
       "      <td>Data analytics / Data scientist intern (work f...</td>\n",
       "      <td>Data analytics / Data scientist intern (work f...</td>\n",
       "      <td>Mumbai, Hyderabad/Secunderabad, Pune, Gurgaon/...</td>\n",
       "      <td>0-3 Yrs</td>\n",
       "    </tr>\n",
       "    <tr>\n",
       "      <th>1</th>\n",
       "      <td>Data Scientist</td>\n",
       "      <td>Data Scientist</td>\n",
       "      <td>Kolkata, Bangalore/Bengaluru, Delhi / NCR</td>\n",
       "      <td>0-5 Yrs</td>\n",
       "    </tr>\n",
       "    <tr>\n",
       "      <th>2</th>\n",
       "      <td>Chaayos is Looking For Data Scientist</td>\n",
       "      <td>Chaayos is Looking For Data Scientist</td>\n",
       "      <td>Mumbai, Gurgaon/Gurugram, Bangalore/Bengaluru</td>\n",
       "      <td>3-7 Yrs</td>\n",
       "    </tr>\n",
       "    <tr>\n",
       "      <th>3</th>\n",
       "      <td>Junior Data Scientist</td>\n",
       "      <td>Junior Data Scientist</td>\n",
       "      <td>New Delhi</td>\n",
       "      <td>0-5 Yrs</td>\n",
       "    </tr>\n",
       "    <tr>\n",
       "      <th>4</th>\n",
       "      <td>We are hiring- Data Scientist +Python- Noida</td>\n",
       "      <td>We are hiring- Data Scientist +Python- Noida</td>\n",
       "      <td>Noida, Gurgaon/Gurugram, Delhi / NCR</td>\n",
       "      <td>3-5 Yrs</td>\n",
       "    </tr>\n",
       "    <tr>\n",
       "      <th>5</th>\n",
       "      <td>Hiring For Data Scientist @ Prodapt Solutions</td>\n",
       "      <td>Hiring For Data Scientist @ Prodapt Solutions</td>\n",
       "      <td>Kolkata, Hyderabad/Secunderabad, Pune, Chennai...</td>\n",
       "      <td>4-7 Yrs</td>\n",
       "    </tr>\n",
       "    <tr>\n",
       "      <th>6</th>\n",
       "      <td>Data Scientist - High growth VC backed Influen...</td>\n",
       "      <td>Data Scientist - High growth VC backed Influen...</td>\n",
       "      <td>Bangalore/Bengaluru, Delhi / NCR, Mumbai (All ...</td>\n",
       "      <td>5-10 Yrs</td>\n",
       "    </tr>\n",
       "    <tr>\n",
       "      <th>7</th>\n",
       "      <td>Data Scientist</td>\n",
       "      <td>Data Scientist</td>\n",
       "      <td>Gurgaon/Gurugram, Bangalore/Bengaluru</td>\n",
       "      <td>3-5 Yrs</td>\n",
       "    </tr>\n",
       "    <tr>\n",
       "      <th>8</th>\n",
       "      <td>Data Scientist</td>\n",
       "      <td>Data Scientist</td>\n",
       "      <td>Bharuch, Jaipur, Bhopal, Mumbai, Jhansi, Nagpu...</td>\n",
       "      <td>3-7 Yrs</td>\n",
       "    </tr>\n",
       "    <tr>\n",
       "      <th>9</th>\n",
       "      <td>Data Scientist</td>\n",
       "      <td>Data Scientist</td>\n",
       "      <td>Gurgaon/Gurugram, Delhi / NCR</td>\n",
       "      <td>1-3 Yrs</td>\n",
       "    </tr>\n",
       "  </tbody>\n",
       "</table>\n",
       "</div>"
      ],
      "text/plain": [
       "                                              Titles  \\\n",
       "0  Data analytics / Data scientist intern (work f...   \n",
       "1                                     Data Scientist   \n",
       "2              Chaayos is Looking For Data Scientist   \n",
       "3                              Junior Data Scientist   \n",
       "4       We are hiring- Data Scientist +Python- Noida   \n",
       "5      Hiring For Data Scientist @ Prodapt Solutions   \n",
       "6  Data Scientist - High growth VC backed Influen...   \n",
       "7                                     Data Scientist   \n",
       "8                                     Data Scientist   \n",
       "9                                     Data Scientist   \n",
       "\n",
       "                                       Company names  \\\n",
       "0  Data analytics / Data scientist intern (work f...   \n",
       "1                                     Data Scientist   \n",
       "2              Chaayos is Looking For Data Scientist   \n",
       "3                              Junior Data Scientist   \n",
       "4       We are hiring- Data Scientist +Python- Noida   \n",
       "5      Hiring For Data Scientist @ Prodapt Solutions   \n",
       "6  Data Scientist - High growth VC backed Influen...   \n",
       "7                                     Data Scientist   \n",
       "8                                     Data Scientist   \n",
       "9                                     Data Scientist   \n",
       "\n",
       "                                            Location       exp  \n",
       "0  Mumbai, Hyderabad/Secunderabad, Pune, Gurgaon/...   0-3 Yrs  \n",
       "1          Kolkata, Bangalore/Bengaluru, Delhi / NCR   0-5 Yrs  \n",
       "2      Mumbai, Gurgaon/Gurugram, Bangalore/Bengaluru   3-7 Yrs  \n",
       "3                                          New Delhi   0-5 Yrs  \n",
       "4               Noida, Gurgaon/Gurugram, Delhi / NCR   3-5 Yrs  \n",
       "5  Kolkata, Hyderabad/Secunderabad, Pune, Chennai...   4-7 Yrs  \n",
       "6  Bangalore/Bengaluru, Delhi / NCR, Mumbai (All ...  5-10 Yrs  \n",
       "7              Gurgaon/Gurugram, Bangalore/Bengaluru   3-5 Yrs  \n",
       "8  Bharuch, Jaipur, Bhopal, Mumbai, Jhansi, Nagpu...   3-7 Yrs  \n",
       "9                      Gurgaon/Gurugram, Delhi / NCR   1-3 Yrs  "
      ]
     },
     "execution_count": 168,
     "metadata": {},
     "output_type": "execute_result"
    }
   ],
   "source": [
    "jobtab1"
   ]
  },
  {
   "cell_type": "markdown",
   "id": "a48ba8d4",
   "metadata": {},
   "source": [
    "Q4: Write a python program to scrape data for first 10 job results for Data scientist\n",
    "Designation in Noida location. You have to scrape company_name, No. of days\n",
    "ago when job was posted, Rating of the company.\n",
    "This task will be done in following steps:\n",
    "1. first get the webpage https://www.glassdoor.co.in/index.htm\n",
    "2. Enter “Data Scientist” in “Job Title,Keyword,Company” field and enter “Noida”\n",
    "in “location” field.\n",
    "3. Then click the search button. You will land up in the below page:"
   ]
  },
  {
   "cell_type": "code",
   "execution_count": 170,
   "id": "2ba5a9d9",
   "metadata": {},
   "outputs": [],
   "source": [
    "driver = webdriver.Chrome()\n",
    "driver=webdriver.Chrome(\"chromedriver.exe\")"
   ]
  },
  {
   "cell_type": "code",
   "execution_count": 171,
   "id": "f10ae82d",
   "metadata": {
    "scrolled": true
   },
   "outputs": [],
   "source": [
    "url='https://www.glassdoor.co.in/index.htm'\n",
    "driver.get(url)"
   ]
  },
  {
   "cell_type": "code",
   "execution_count": null,
   "id": "fd5bb562",
   "metadata": {},
   "outputs": [],
   "source": []
  },
  {
   "cell_type": "code",
   "execution_count": 172,
   "id": "60f97198",
   "metadata": {},
   "outputs": [
    {
     "data": {
      "text/plain": [
       "<selenium.webdriver.remote.webelement.WebElement (session=\"e318db49f96ea86e6d998f55c962398d\", element=\"420e9194-ad73-4957-a7aa-e728c4218a70\")>"
      ]
     },
     "execution_count": 172,
     "metadata": {},
     "output_type": "execute_result"
    }
   ],
   "source": [
    "search_jobs=driver.find_element_by_xpath('//input[@ id =\"sc.keyword\"]')\n",
    "search_jobs"
   ]
  },
  {
   "cell_type": "code",
   "execution_count": 173,
   "id": "df21ad96",
   "metadata": {},
   "outputs": [],
   "source": [
    "search_jobs.send_keys('Data Scientist')"
   ]
  },
  {
   "cell_type": "code",
   "execution_count": 174,
   "id": "1dd719b7",
   "metadata": {},
   "outputs": [
    {
     "data": {
      "text/plain": [
       "<selenium.webdriver.remote.webelement.WebElement (session=\"e318db49f96ea86e6d998f55c962398d\", element=\"93d6b804-b03f-48c5-8c6b-97a9e6e3589d\")>"
      ]
     },
     "execution_count": 174,
     "metadata": {},
     "output_type": "execute_result"
    }
   ],
   "source": [
    "search_location=driver.find_element_by_xpath('//input[@ id =\"sc.location\"]')\n",
    "search_location"
   ]
  },
  {
   "cell_type": "code",
   "execution_count": 176,
   "id": "dbffdde1",
   "metadata": {},
   "outputs": [],
   "source": [
    "search_location.send_keys('Noida')"
   ]
  },
  {
   "cell_type": "code",
   "execution_count": 177,
   "id": "82523be2",
   "metadata": {},
   "outputs": [],
   "source": [
    "search_botton=driver.find_element_by_xpath('//button[@class=\"gd-ui-button ml-std col-auto SearchStyles__newSearchButton css-iixdfr\"]').click()"
   ]
  },
  {
   "cell_type": "code",
   "execution_count": 181,
   "id": "d31496c4",
   "metadata": {},
   "outputs": [
    {
     "data": {
      "text/plain": [
       "['Colgate-Palmolive',\n",
       " 'Applied Materials Inc.',\n",
       " 'ServiceNow',\n",
       " 'Microsoft',\n",
       " 'Tata Group',\n",
       " 'OM Software Pvt Ltd',\n",
       " 'Siemens Technology and Services Private Limited',\n",
       " 'MakeMyTrip',\n",
       " 'ADCI PNQ 13 SEZ',\n",
       " 'MasterCard']"
      ]
     },
     "execution_count": 181,
     "metadata": {},
     "output_type": "execute_result"
    }
   ],
   "source": [
    "company_name=[]\n",
    "\n",
    "for i in driver.find_elements_by_xpath('//a[@class=\" css-l2wjgv e1n63ojh0 jobLink\"]'):\n",
    "     company_name.append(i.text.replace('\\n',''))\n",
    "company_name[:10]    \n",
    "\n",
    " "
   ]
  },
  {
   "cell_type": "code",
   "execution_count": 189,
   "id": "08274166",
   "metadata": {},
   "outputs": [
    {
     "data": {
      "text/plain": [
       "['4.3', '4.0', '4.3', '4.4', '3.9', '4.3', '4.1', '4.3', '4.3', '4.3']"
      ]
     },
     "execution_count": 189,
     "metadata": {},
     "output_type": "execute_result"
    }
   ],
   "source": [
    "Ratings=[]\n",
    "\n",
    "for i in driver.find_elements_by_xpath('//span[@class=\"css-19pjha7 e1cjmv6j1\"]'):\n",
    "    Ratings.append(i.text)\n",
    "Ratings[:10] "
   ]
  },
  {
   "cell_type": "code",
   "execution_count": null,
   "id": "6b3fbbfc",
   "metadata": {},
   "outputs": [],
   "source": []
  },
  {
   "cell_type": "code",
   "execution_count": null,
   "id": "3310aeae",
   "metadata": {},
   "outputs": [],
   "source": []
  },
  {
   "cell_type": "code",
   "execution_count": null,
   "id": "521a69d6",
   "metadata": {},
   "outputs": [],
   "source": []
  },
  {
   "cell_type": "code",
   "execution_count": null,
   "id": "4402a7dd",
   "metadata": {},
   "outputs": [],
   "source": []
  },
  {
   "cell_type": "code",
   "execution_count": 183,
   "id": "67279c9f",
   "metadata": {},
   "outputs": [
    {
     "data": {
      "text/plain": [
       "['19d', '3d', '17d', '8d', '24h', '10d', '15d', '22d', '3d', '19d']"
      ]
     },
     "execution_count": 183,
     "metadata": {},
     "output_type": "execute_result"
    }
   ],
   "source": [
    "days_posted=[]\n",
    "\n",
    "for i in driver.find_elements_by_xpath('//div[@data-test=\"job-age\"]'):\n",
    "    days_posted.append(i.text)\n",
    "days_posted[:10]    \n"
   ]
  },
  {
   "cell_type": "code",
   "execution_count": 184,
   "id": "af9b62d6",
   "metadata": {},
   "outputs": [
    {
     "data": {
      "text/html": [
       "<div>\n",
       "<style scoped>\n",
       "    .dataframe tbody tr th:only-of-type {\n",
       "        vertical-align: middle;\n",
       "    }\n",
       "\n",
       "    .dataframe tbody tr th {\n",
       "        vertical-align: top;\n",
       "    }\n",
       "\n",
       "    .dataframe thead th {\n",
       "        text-align: right;\n",
       "    }\n",
       "</style>\n",
       "<table border=\"1\" class=\"dataframe\">\n",
       "  <thead>\n",
       "    <tr style=\"text-align: right;\">\n",
       "      <th></th>\n",
       "      <th>jobage</th>\n",
       "    </tr>\n",
       "  </thead>\n",
       "  <tbody>\n",
       "    <tr>\n",
       "      <th>0</th>\n",
       "      <td>19d</td>\n",
       "    </tr>\n",
       "    <tr>\n",
       "      <th>1</th>\n",
       "      <td>3d</td>\n",
       "    </tr>\n",
       "    <tr>\n",
       "      <th>2</th>\n",
       "      <td>17d</td>\n",
       "    </tr>\n",
       "    <tr>\n",
       "      <th>3</th>\n",
       "      <td>8d</td>\n",
       "    </tr>\n",
       "    <tr>\n",
       "      <th>4</th>\n",
       "      <td>24h</td>\n",
       "    </tr>\n",
       "    <tr>\n",
       "      <th>5</th>\n",
       "      <td>10d</td>\n",
       "    </tr>\n",
       "    <tr>\n",
       "      <th>6</th>\n",
       "      <td>15d</td>\n",
       "    </tr>\n",
       "    <tr>\n",
       "      <th>7</th>\n",
       "      <td>22d</td>\n",
       "    </tr>\n",
       "    <tr>\n",
       "      <th>8</th>\n",
       "      <td>3d</td>\n",
       "    </tr>\n",
       "    <tr>\n",
       "      <th>9</th>\n",
       "      <td>19d</td>\n",
       "    </tr>\n",
       "  </tbody>\n",
       "</table>\n",
       "</div>"
      ],
      "text/plain": [
       "  jobage\n",
       "0    19d\n",
       "1     3d\n",
       "2    17d\n",
       "3     8d\n",
       "4    24h\n",
       "5    10d\n",
       "6    15d\n",
       "7    22d\n",
       "8     3d\n",
       "9    19d"
      ]
     },
     "execution_count": 184,
     "metadata": {},
     "output_type": "execute_result"
    }
   ],
   "source": [
    "df4=pd.DataFrame({\"jobage\":days_posted})\n",
    "df4[:10]"
   ]
  },
  {
   "cell_type": "code",
   "execution_count": 191,
   "id": "517853a6",
   "metadata": {},
   "outputs": [],
   "source": [
    "import pandas as pd\n",
    "jobtab4=pd.DataFrame({})\n",
    "\n",
    "jobtab4['Organization_name']=company_name[:10]\n",
    "jobtab4['Ratings']=Ratings[:10]"
   ]
  },
  {
   "cell_type": "code",
   "execution_count": 192,
   "id": "de25763b",
   "metadata": {},
   "outputs": [
    {
     "data": {
      "text/html": [
       "<div>\n",
       "<style scoped>\n",
       "    .dataframe tbody tr th:only-of-type {\n",
       "        vertical-align: middle;\n",
       "    }\n",
       "\n",
       "    .dataframe tbody tr th {\n",
       "        vertical-align: top;\n",
       "    }\n",
       "\n",
       "    .dataframe thead th {\n",
       "        text-align: right;\n",
       "    }\n",
       "</style>\n",
       "<table border=\"1\" class=\"dataframe\">\n",
       "  <thead>\n",
       "    <tr style=\"text-align: right;\">\n",
       "      <th></th>\n",
       "      <th>Organization_name</th>\n",
       "      <th>Ratings</th>\n",
       "    </tr>\n",
       "  </thead>\n",
       "  <tbody>\n",
       "    <tr>\n",
       "      <th>0</th>\n",
       "      <td>Colgate-Palmolive</td>\n",
       "      <td>4.3</td>\n",
       "    </tr>\n",
       "    <tr>\n",
       "      <th>1</th>\n",
       "      <td>Applied Materials Inc.</td>\n",
       "      <td>4.0</td>\n",
       "    </tr>\n",
       "    <tr>\n",
       "      <th>2</th>\n",
       "      <td>ServiceNow</td>\n",
       "      <td>4.3</td>\n",
       "    </tr>\n",
       "    <tr>\n",
       "      <th>3</th>\n",
       "      <td>Microsoft</td>\n",
       "      <td>4.4</td>\n",
       "    </tr>\n",
       "    <tr>\n",
       "      <th>4</th>\n",
       "      <td>Tata Group</td>\n",
       "      <td>3.9</td>\n",
       "    </tr>\n",
       "    <tr>\n",
       "      <th>5</th>\n",
       "      <td>OM Software Pvt Ltd</td>\n",
       "      <td>4.3</td>\n",
       "    </tr>\n",
       "    <tr>\n",
       "      <th>6</th>\n",
       "      <td>Siemens Technology and Services Private Limited</td>\n",
       "      <td>4.1</td>\n",
       "    </tr>\n",
       "    <tr>\n",
       "      <th>7</th>\n",
       "      <td>MakeMyTrip</td>\n",
       "      <td>4.3</td>\n",
       "    </tr>\n",
       "    <tr>\n",
       "      <th>8</th>\n",
       "      <td>ADCI PNQ 13 SEZ</td>\n",
       "      <td>4.3</td>\n",
       "    </tr>\n",
       "    <tr>\n",
       "      <th>9</th>\n",
       "      <td>MasterCard</td>\n",
       "      <td>4.3</td>\n",
       "    </tr>\n",
       "  </tbody>\n",
       "</table>\n",
       "</div>"
      ],
      "text/plain": [
       "                                 Organization_name Ratings\n",
       "0                                Colgate-Palmolive     4.3\n",
       "1                           Applied Materials Inc.     4.0\n",
       "2                                       ServiceNow     4.3\n",
       "3                                        Microsoft     4.4\n",
       "4                                       Tata Group     3.9\n",
       "5                              OM Software Pvt Ltd     4.3\n",
       "6  Siemens Technology and Services Private Limited     4.1\n",
       "7                                       MakeMyTrip     4.3\n",
       "8                                  ADCI PNQ 13 SEZ     4.3\n",
       "9                                       MasterCard     4.3"
      ]
     },
     "execution_count": 192,
     "metadata": {},
     "output_type": "execute_result"
    }
   ],
   "source": [
    "jobtab4"
   ]
  },
  {
   "cell_type": "code",
   "execution_count": 193,
   "id": "8b6b8573",
   "metadata": {},
   "outputs": [],
   "source": [
    "jobtab4['jobage']=df4['jobage']"
   ]
  },
  {
   "cell_type": "code",
   "execution_count": 194,
   "id": "7435c9d6",
   "metadata": {},
   "outputs": [
    {
     "data": {
      "text/html": [
       "<div>\n",
       "<style scoped>\n",
       "    .dataframe tbody tr th:only-of-type {\n",
       "        vertical-align: middle;\n",
       "    }\n",
       "\n",
       "    .dataframe tbody tr th {\n",
       "        vertical-align: top;\n",
       "    }\n",
       "\n",
       "    .dataframe thead th {\n",
       "        text-align: right;\n",
       "    }\n",
       "</style>\n",
       "<table border=\"1\" class=\"dataframe\">\n",
       "  <thead>\n",
       "    <tr style=\"text-align: right;\">\n",
       "      <th></th>\n",
       "      <th>Organization_name</th>\n",
       "      <th>Ratings</th>\n",
       "      <th>jobage</th>\n",
       "    </tr>\n",
       "  </thead>\n",
       "  <tbody>\n",
       "    <tr>\n",
       "      <th>0</th>\n",
       "      <td>Colgate-Palmolive</td>\n",
       "      <td>4.3</td>\n",
       "      <td>19d</td>\n",
       "    </tr>\n",
       "    <tr>\n",
       "      <th>1</th>\n",
       "      <td>Applied Materials Inc.</td>\n",
       "      <td>4.0</td>\n",
       "      <td>3d</td>\n",
       "    </tr>\n",
       "    <tr>\n",
       "      <th>2</th>\n",
       "      <td>ServiceNow</td>\n",
       "      <td>4.3</td>\n",
       "      <td>17d</td>\n",
       "    </tr>\n",
       "    <tr>\n",
       "      <th>3</th>\n",
       "      <td>Microsoft</td>\n",
       "      <td>4.4</td>\n",
       "      <td>8d</td>\n",
       "    </tr>\n",
       "    <tr>\n",
       "      <th>4</th>\n",
       "      <td>Tata Group</td>\n",
       "      <td>3.9</td>\n",
       "      <td>24h</td>\n",
       "    </tr>\n",
       "    <tr>\n",
       "      <th>5</th>\n",
       "      <td>OM Software Pvt Ltd</td>\n",
       "      <td>4.3</td>\n",
       "      <td>10d</td>\n",
       "    </tr>\n",
       "    <tr>\n",
       "      <th>6</th>\n",
       "      <td>Siemens Technology and Services Private Limited</td>\n",
       "      <td>4.1</td>\n",
       "      <td>15d</td>\n",
       "    </tr>\n",
       "    <tr>\n",
       "      <th>7</th>\n",
       "      <td>MakeMyTrip</td>\n",
       "      <td>4.3</td>\n",
       "      <td>22d</td>\n",
       "    </tr>\n",
       "    <tr>\n",
       "      <th>8</th>\n",
       "      <td>ADCI PNQ 13 SEZ</td>\n",
       "      <td>4.3</td>\n",
       "      <td>3d</td>\n",
       "    </tr>\n",
       "    <tr>\n",
       "      <th>9</th>\n",
       "      <td>MasterCard</td>\n",
       "      <td>4.3</td>\n",
       "      <td>19d</td>\n",
       "    </tr>\n",
       "  </tbody>\n",
       "</table>\n",
       "</div>"
      ],
      "text/plain": [
       "                                 Organization_name Ratings jobage\n",
       "0                                Colgate-Palmolive     4.3    19d\n",
       "1                           Applied Materials Inc.     4.0     3d\n",
       "2                                       ServiceNow     4.3    17d\n",
       "3                                        Microsoft     4.4     8d\n",
       "4                                       Tata Group     3.9    24h\n",
       "5                              OM Software Pvt Ltd     4.3    10d\n",
       "6  Siemens Technology and Services Private Limited     4.1    15d\n",
       "7                                       MakeMyTrip     4.3    22d\n",
       "8                                  ADCI PNQ 13 SEZ     4.3     3d\n",
       "9                                       MasterCard     4.3    19d"
      ]
     },
     "execution_count": 194,
     "metadata": {},
     "output_type": "execute_result"
    }
   ],
   "source": [
    "jobtab4"
   ]
  },
  {
   "cell_type": "markdown",
   "id": "437e2e6d",
   "metadata": {},
   "source": [
    "Q5: Write a python program to scrape the salary data for Data Scientist designation \n",
    "in Noida location.\n",
    "You have to scrape Company name, Number of salaries, Average salary, Min\n",
    "salary, Max Salary.\n",
    "The above task will be, done as shown in the below steps:\n",
    "1. first get the webpage https://www.glassdoor.co.in/Salaries/index.htm\n",
    "2. Enter “Data Scientist” in Job title field and “Noida” in location field.\n",
    "3. Click the search button.\n",
    "4. After that you will land on the below page \n",
    "You have to scrape whole data from this webpage\n",
    "5. Scrape data for first 10 companies. Scrape the min salary, max salary, company \n",
    "name, Average salary and rating of the company.\n",
    "6.Store the data in a dataframe.\n",
    "Note that all of the above steps have to be done by coding only and not manually."
   ]
  },
  {
   "cell_type": "code",
   "execution_count": 375,
   "id": "124f8a55",
   "metadata": {},
   "outputs": [],
   "source": [
    "driver = webdriver.Chrome()\n",
    "driver=webdriver.Chrome(\"chromedriver.exe\")"
   ]
  },
  {
   "cell_type": "code",
   "execution_count": 376,
   "id": "8b499fc2",
   "metadata": {},
   "outputs": [],
   "source": [
    "url='https://www.glassdoor.co.in/Salaries/index.htm'\n",
    "driver.get(url)"
   ]
  },
  {
   "cell_type": "code",
   "execution_count": 377,
   "id": "39686f30",
   "metadata": {},
   "outputs": [
    {
     "data": {
      "text/plain": [
       "<selenium.webdriver.remote.webelement.WebElement (session=\"ebc7b4c4766295027690ca71ca36e81b\", element=\"836a58f6-b145-45dd-a42f-a29e31a8fadd\")>"
      ]
     },
     "execution_count": 377,
     "metadata": {},
     "output_type": "execute_result"
    }
   ],
   "source": [
    "search_jobs=driver.find_element_by_xpath('//input[@ id=\"KeywordSearch\"]')\n",
    "search_jobs"
   ]
  },
  {
   "cell_type": "code",
   "execution_count": 379,
   "id": "6ead1370",
   "metadata": {},
   "outputs": [],
   "source": [
    "search_jobs.send_keys('Data Scientist')"
   ]
  },
  {
   "cell_type": "code",
   "execution_count": 380,
   "id": "df32d9e6",
   "metadata": {},
   "outputs": [
    {
     "data": {
      "text/plain": [
       "<selenium.webdriver.remote.webelement.WebElement (session=\"ebc7b4c4766295027690ca71ca36e81b\", element=\"704a7e32-e0a6-4d35-9151-bd57f3077cbd\")>"
      ]
     },
     "execution_count": 380,
     "metadata": {},
     "output_type": "execute_result"
    }
   ],
   "source": [
    "search_location=driver.find_element_by_xpath('//input[@ id=\"LocationSearch\"]')\n",
    "search_location"
   ]
  },
  {
   "cell_type": "code",
   "execution_count": 381,
   "id": "fb426e95",
   "metadata": {},
   "outputs": [],
   "source": [
    "search_location.send_keys('Noida')"
   ]
  },
  {
   "cell_type": "code",
   "execution_count": 382,
   "id": "dd82145c",
   "metadata": {},
   "outputs": [],
   "source": [
    "search_botton=driver.find_element_by_xpath('//button[@class=\"gd-btn-mkt\"]').click()"
   ]
  },
  {
   "cell_type": "code",
   "execution_count": 383,
   "id": "f15eb43e",
   "metadata": {},
   "outputs": [
    {
     "data": {
      "text/plain": [
       "['Tata Consultancy Services',\n",
       " 'IBM',\n",
       " 'Accenture',\n",
       " 'Ericsson-Worldwide',\n",
       " 'Delhivery',\n",
       " 'UnitedHealth Group',\n",
       " 'Optum Global Solutions',\n",
       " 'Valiance Solutions',\n",
       " 'ZS Associates',\n",
       " 'EXL Service']"
      ]
     },
     "execution_count": 383,
     "metadata": {},
     "output_type": "execute_result"
    }
   ],
   "source": [
    "Name=[]\n",
    "\n",
    "for i in driver.find_elements_by_xpath('//div[@data-test=\"job-info\"]/p[2]'):\n",
    "    Name.append(i.text)\n",
    "Name[:10] "
   ]
  },
  {
   "cell_type": "code",
   "execution_count": 385,
   "id": "c12ac377",
   "metadata": {},
   "outputs": [
    {
     "data": {
      "text/plain": [
       "['17 salaries',\n",
       " '15 salaries',\n",
       " '14 salaries',\n",
       " '14 salaries',\n",
       " '14 salaries',\n",
       " '11 salaries',\n",
       " '9 salaries',\n",
       " '9 salaries',\n",
       " '8 salaries',\n",
       " '8 salaries']"
      ]
     },
     "execution_count": 385,
     "metadata": {},
     "output_type": "execute_result"
    }
   ],
   "source": [
    "numberofsalary=[]\n",
    "\n",
    "for i in driver.find_elements_by_xpath('//p[@class=\"css-1uyte9r css-1kuy7z7 m-0 \"]'):\n",
    "    numberofsalary.append(i.text)\n",
    "numberofsalary[:10]"
   ]
  },
  {
   "cell_type": "code",
   "execution_count": 234,
   "id": "34495b31",
   "metadata": {},
   "outputs": [
    {
     "data": {
      "text/plain": [
       "['₹ 6,15,289\\n/yr',\n",
       " '₹ 9,00,000\\n/yr',\n",
       " '₹ 11,48,366\\n/yr',\n",
       " '₹ 7,39,238\\n/yr',\n",
       " '₹ 12,41,763\\n/yr',\n",
       " '₹ 13,38,279\\n/yr',\n",
       " '₹ 13,28,697\\n/yr',\n",
       " '₹ 8,16,495\\n/yr',\n",
       " '₹ 11,42,356\\n/yr',\n",
       " '₹ 11,46,073\\n/yr']"
      ]
     },
     "execution_count": 234,
     "metadata": {},
     "output_type": "execute_result"
    }
   ],
   "source": [
    "salary=[]\n",
    "\n",
    "for i in driver.find_elements_by_xpath('//div[@class=\"col-2 d-none d-md-flex flex-row justify-content-end\"]'):\n",
    "    salary.append(i.text)\n",
    "\n",
    "salary[:10]"
   ]
  },
  {
   "cell_type": "code",
   "execution_count": 246,
   "id": "ff8bf138",
   "metadata": {},
   "outputs": [
    {
     "data": {
      "text/plain": [
       "['₹343KMinimum------- Maxup to₹1,250K',\n",
       " '₹587KMinimum------- Maxup to₹2,734K',\n",
       " '₹578KMinimum------- Maxup to₹2,217K',\n",
       " '₹355KMinimum------- Maxup to₹1,615K',\n",
       " '₹451KMinimum------- Maxup to₹11,640K',\n",
       " '₹1,071KMinimum------- Maxup to₹1,523K',\n",
       " '₹350KMinimum------- Maxup to₹2,152K',\n",
       " '₹502KMinimum------- Maxup to₹1,467K',\n",
       " '₹202KMinimum------- Maxup to₹1,812K',\n",
       " '₹576KMinimum------- Maxup to₹1,523K']"
      ]
     },
     "execution_count": 246,
     "metadata": {},
     "output_type": "execute_result"
    }
   ],
   "source": [
    "minmax=[]\n",
    "\n",
    "for i in driver.find_elements_by_xpath('//div[@class=\"common__RangeBarStyle__values d-flex justify-content-between \"]'):\n",
    "    minmax.append(i.text.replace('\\n','Minimum------- Maxup to'))\n",
    "\n",
    "minmax[:10]"
   ]
  },
  {
   "cell_type": "code",
   "execution_count": 386,
   "id": "7aee3f41",
   "metadata": {},
   "outputs": [],
   "source": [
    "import pandas as pd\n",
    "jobtab5=pd.DataFrame({})\n",
    "\n",
    "jobtab5['Company name']=Name[:10]\n",
    "jobtab5['Average salary']=salary[:10]\n",
    "jobtab5['No of salary fetched']=numberofsalary[:10]\n",
    "jobtab5['minand max salary']=minmax[:10]"
   ]
  },
  {
   "cell_type": "code",
   "execution_count": 387,
   "id": "d60febc8",
   "metadata": {},
   "outputs": [
    {
     "data": {
      "text/html": [
       "<div>\n",
       "<style scoped>\n",
       "    .dataframe tbody tr th:only-of-type {\n",
       "        vertical-align: middle;\n",
       "    }\n",
       "\n",
       "    .dataframe tbody tr th {\n",
       "        vertical-align: top;\n",
       "    }\n",
       "\n",
       "    .dataframe thead th {\n",
       "        text-align: right;\n",
       "    }\n",
       "</style>\n",
       "<table border=\"1\" class=\"dataframe\">\n",
       "  <thead>\n",
       "    <tr style=\"text-align: right;\">\n",
       "      <th></th>\n",
       "      <th>Company name</th>\n",
       "      <th>Average salary</th>\n",
       "      <th>No of salary fetched</th>\n",
       "      <th>minand max salary</th>\n",
       "    </tr>\n",
       "  </thead>\n",
       "  <tbody>\n",
       "    <tr>\n",
       "      <th>0</th>\n",
       "      <td>Tata Consultancy Services</td>\n",
       "      <td>₹ 6,15,289\\n/yr</td>\n",
       "      <td>17 salaries</td>\n",
       "      <td>₹343KMinimum------- Maxup to₹1,250K</td>\n",
       "    </tr>\n",
       "    <tr>\n",
       "      <th>1</th>\n",
       "      <td>IBM</td>\n",
       "      <td>₹ 9,00,000\\n/yr</td>\n",
       "      <td>15 salaries</td>\n",
       "      <td>₹587KMinimum------- Maxup to₹2,734K</td>\n",
       "    </tr>\n",
       "    <tr>\n",
       "      <th>2</th>\n",
       "      <td>Accenture</td>\n",
       "      <td>₹ 11,48,366\\n/yr</td>\n",
       "      <td>14 salaries</td>\n",
       "      <td>₹578KMinimum------- Maxup to₹2,217K</td>\n",
       "    </tr>\n",
       "    <tr>\n",
       "      <th>3</th>\n",
       "      <td>Ericsson-Worldwide</td>\n",
       "      <td>₹ 7,39,238\\n/yr</td>\n",
       "      <td>14 salaries</td>\n",
       "      <td>₹355KMinimum------- Maxup to₹1,615K</td>\n",
       "    </tr>\n",
       "    <tr>\n",
       "      <th>4</th>\n",
       "      <td>Delhivery</td>\n",
       "      <td>₹ 12,41,763\\n/yr</td>\n",
       "      <td>14 salaries</td>\n",
       "      <td>₹451KMinimum------- Maxup to₹11,640K</td>\n",
       "    </tr>\n",
       "    <tr>\n",
       "      <th>5</th>\n",
       "      <td>UnitedHealth Group</td>\n",
       "      <td>₹ 13,38,279\\n/yr</td>\n",
       "      <td>11 salaries</td>\n",
       "      <td>₹1,071KMinimum------- Maxup to₹1,523K</td>\n",
       "    </tr>\n",
       "    <tr>\n",
       "      <th>6</th>\n",
       "      <td>Optum Global Solutions</td>\n",
       "      <td>₹ 13,28,697\\n/yr</td>\n",
       "      <td>9 salaries</td>\n",
       "      <td>₹350KMinimum------- Maxup to₹2,152K</td>\n",
       "    </tr>\n",
       "    <tr>\n",
       "      <th>7</th>\n",
       "      <td>Valiance Solutions</td>\n",
       "      <td>₹ 8,16,495\\n/yr</td>\n",
       "      <td>9 salaries</td>\n",
       "      <td>₹502KMinimum------- Maxup to₹1,467K</td>\n",
       "    </tr>\n",
       "    <tr>\n",
       "      <th>8</th>\n",
       "      <td>ZS Associates</td>\n",
       "      <td>₹ 11,42,356\\n/yr</td>\n",
       "      <td>8 salaries</td>\n",
       "      <td>₹202KMinimum------- Maxup to₹1,812K</td>\n",
       "    </tr>\n",
       "    <tr>\n",
       "      <th>9</th>\n",
       "      <td>EXL Service</td>\n",
       "      <td>₹ 11,46,073\\n/yr</td>\n",
       "      <td>8 salaries</td>\n",
       "      <td>₹576KMinimum------- Maxup to₹1,523K</td>\n",
       "    </tr>\n",
       "  </tbody>\n",
       "</table>\n",
       "</div>"
      ],
      "text/plain": [
       "                Company name    Average salary No of salary fetched  \\\n",
       "0  Tata Consultancy Services   ₹ 6,15,289\\n/yr          17 salaries   \n",
       "1                        IBM   ₹ 9,00,000\\n/yr          15 salaries   \n",
       "2                  Accenture  ₹ 11,48,366\\n/yr          14 salaries   \n",
       "3         Ericsson-Worldwide   ₹ 7,39,238\\n/yr          14 salaries   \n",
       "4                  Delhivery  ₹ 12,41,763\\n/yr          14 salaries   \n",
       "5         UnitedHealth Group  ₹ 13,38,279\\n/yr          11 salaries   \n",
       "6     Optum Global Solutions  ₹ 13,28,697\\n/yr           9 salaries   \n",
       "7         Valiance Solutions   ₹ 8,16,495\\n/yr           9 salaries   \n",
       "8              ZS Associates  ₹ 11,42,356\\n/yr           8 salaries   \n",
       "9                EXL Service  ₹ 11,46,073\\n/yr           8 salaries   \n",
       "\n",
       "                       minand max salary  \n",
       "0    ₹343KMinimum------- Maxup to₹1,250K  \n",
       "1    ₹587KMinimum------- Maxup to₹2,734K  \n",
       "2    ₹578KMinimum------- Maxup to₹2,217K  \n",
       "3    ₹355KMinimum------- Maxup to₹1,615K  \n",
       "4   ₹451KMinimum------- Maxup to₹11,640K  \n",
       "5  ₹1,071KMinimum------- Maxup to₹1,523K  \n",
       "6    ₹350KMinimum------- Maxup to₹2,152K  \n",
       "7    ₹502KMinimum------- Maxup to₹1,467K  \n",
       "8    ₹202KMinimum------- Maxup to₹1,812K  \n",
       "9    ₹576KMinimum------- Maxup to₹1,523K  "
      ]
     },
     "execution_count": 387,
     "metadata": {},
     "output_type": "execute_result"
    }
   ],
   "source": [
    "jobtab5"
   ]
  },
  {
   "cell_type": "code",
   "execution_count": null,
   "id": "c0d91260",
   "metadata": {},
   "outputs": [],
   "source": []
  },
  {
   "cell_type": "code",
   "execution_count": null,
   "id": "c94a647b",
   "metadata": {},
   "outputs": [],
   "source": []
  },
  {
   "cell_type": "code",
   "execution_count": null,
   "id": "df17b6e0",
   "metadata": {},
   "outputs": [],
   "source": []
  },
  {
   "cell_type": "markdown",
   "id": "4e07000b",
   "metadata": {},
   "source": [
    "Q6 : Scrape data of first 100 sunglasses listings on flipkart.com. You have to \n",
    "scrape four attributes:\n",
    "1. Brand\n",
    "2. Product Description\n",
    "3. Price\n",
    "4. Discount %\n",
    "The attributes which you have to scrape is ticked marked in the below image.\n",
    "To scrape the data you have to go through following steps:\n",
    "1. Go to flipkart webpage by url https://www.flipkart.com/\n",
    "2. Enter “sunglasses” in the search field where “search for products, brands and \n",
    "more” is written and click the search icon\n",
    "3. after that you will reach to a webpage having a lot of sunglasses. From this page \n",
    "you can scrap the required data as usual.\n",
    "4. after scraping data from the first page, go to the “Next” Button at the bottom of \n",
    "the page , then click on itWEB SCRAPING ASSIGNMENT-2\n",
    ".\n",
    "5. Now scrape data from this page as us"
   ]
  },
  {
   "cell_type": "code",
   "execution_count": 272,
   "id": "17a7f435",
   "metadata": {},
   "outputs": [],
   "source": [
    "driver = webdriver.Chrome()\n",
    "driver=webdriver.Chrome(\"chromedriver.exe\")"
   ]
  },
  {
   "cell_type": "code",
   "execution_count": 273,
   "id": "e6408ead",
   "metadata": {},
   "outputs": [],
   "source": [
    "url=\" https://www.flipkart.com/\"\n",
    "driver.get(url)"
   ]
  },
  {
   "cell_type": "code",
   "execution_count": 277,
   "id": "0c065940",
   "metadata": {},
   "outputs": [],
   "source": [
    " try:\n",
    "     search_box=driver.find_element_by_xpath('//input[@title=\"Search for products, brands and more\"]')\n",
    "    \n",
    "except NoSuchElementException :\n",
    "  search_box='na'\n",
    "        "
   ]
  },
  {
   "cell_type": "code",
   "execution_count": 280,
   "id": "6ea2222b",
   "metadata": {},
   "outputs": [],
   "source": [
    "search_box.send_keys('sunglasses')"
   ]
  },
  {
   "cell_type": "code",
   "execution_count": 282,
   "id": "8cec96ed",
   "metadata": {},
   "outputs": [],
   "source": [
    "search_botton=driver.find_element_by_xpath('//button[@class=\"L0Z3Pu\"]').click()"
   ]
  },
  {
   "cell_type": "code",
   "execution_count": 283,
   "id": "b5310180",
   "metadata": {},
   "outputs": [],
   "source": [
    "search_botton"
   ]
  },
  {
   "cell_type": "code",
   "execution_count": 321,
   "id": "558c51ed",
   "metadata": {},
   "outputs": [],
   "source": [
    "driver.get('https://www.flipkart.com/search?q=sunglasses&otracker=search&otracker1=search&marketplace=FLIPKART&as-show=off&as=off&page=1')"
   ]
  },
  {
   "cell_type": "code",
   "execution_count": 331,
   "id": "f807e08f",
   "metadata": {},
   "outputs": [],
   "source": [
    "for i in range(3):\n",
    " driver.find_element_by_xpath('//a[@class=\"ge-49M\"]').click()\n",
    " time.sleep(2)\n",
    " "
   ]
  },
  {
   "cell_type": "code",
   "execution_count": 304,
   "id": "1ebbf220",
   "metadata": {},
   "outputs": [],
   "source": []
  },
  {
   "cell_type": "code",
   "execution_count": 332,
   "id": "924165d4",
   "metadata": {},
   "outputs": [],
   "source": [
    "\n",
    "\n",
    "B1=[]\n",
    "for i in range(10):\n",
    " for i in driver.find_elements_by_xpath('//div[@class=\"_2WkVRV\"]'):\n",
    "\n",
    "   B1.append(i.text.replace('\\n',''))\n",
    "   \n",
    " driver.find_element_by_xpath('//a[@class=\"ge-49M\"]').click()\n",
    " time.sleep(2)\n",
    " "
   ]
  },
  {
   "cell_type": "code",
   "execution_count": 335,
   "id": "ca793dd2",
   "metadata": {},
   "outputs": [
    {
     "data": {
      "text/plain": [
       "['PIRASO',\n",
       " 'PIRASO',\n",
       " 'Fastrack',\n",
       " 'PIRASO',\n",
       " 'ROZZETTA CRAFT',\n",
       " 'Fastrack',\n",
       " 'PHENOMENAL',\n",
       " 'DEIXELS',\n",
       " 'Fastrack',\n",
       " 'HIPPON',\n",
       " 'PIRASO',\n",
       " 'GANSTA',\n",
       " 'PIRASO',\n",
       " 'ROYAL SON',\n",
       " 'PIRASO',\n",
       " 'ROYAL SON',\n",
       " 'ROZZETTA CRAFT',\n",
       " 'Silver Kartz',\n",
       " 'Fastrack',\n",
       " 'Fastrack',\n",
       " 'elegante',\n",
       " 'ROYAL SON',\n",
       " 'Fastrack',\n",
       " 'ROZZETTA CRAFT',\n",
       " 'hipe',\n",
       " 'ROYAL SON',\n",
       " 'Fastrack',\n",
       " 'ROZZETTA CRAFT',\n",
       " 'PHENOMENAL',\n",
       " 'NuVew',\n",
       " 'PHENOMENAL',\n",
       " 'NuVew',\n",
       " 'PIRASO',\n",
       " 'ROZZETTA CRAFT',\n",
       " 'PHENOMENAL',\n",
       " 'PIRASO',\n",
       " 'ROZZETTA CRAFT',\n",
       " 'Poland',\n",
       " 'GANSTA',\n",
       " 'hipe',\n",
       " 'hipe',\n",
       " 'Fastrack',\n",
       " 'PHENOMENAL',\n",
       " 'NuVew',\n",
       " 'Singco India',\n",
       " 'Fastrack',\n",
       " 'DEIXELS',\n",
       " 'NuVew',\n",
       " 'Flizz',\n",
       " 'NuVew',\n",
       " 'NuVew',\n",
       " 'DEIXELS',\n",
       " 'Fastrack',\n",
       " 'Cristiano Ronnie',\n",
       " 'hipe',\n",
       " 'Singco',\n",
       " 'GANSTA',\n",
       " 'ROYAL SON',\n",
       " 'NuVew',\n",
       " 'PHENOMENAL',\n",
       " 'Fastrack',\n",
       " 'NuVew',\n",
       " 'PIRASO',\n",
       " 'Fastrack',\n",
       " 'GANSTA',\n",
       " 'NuVew',\n",
       " 'ROYAL SON',\n",
       " 'PIRASO',\n",
       " 'Billion',\n",
       " 'ROYAL SON',\n",
       " 'GANSTA',\n",
       " 'Fravy',\n",
       " 'NuVew',\n",
       " 'NuVew',\n",
       " 'Silver Kartz',\n",
       " 'Fastrack',\n",
       " 'ROZZETTA CRAFT',\n",
       " 'Fastrack',\n",
       " 'ROZZETTA CRAFT',\n",
       " 'PIRASO',\n",
       " 'PIRASO',\n",
       " 'PIRASO',\n",
       " 'Fastrack',\n",
       " 'PIRASO',\n",
       " 'ROZZETTA CRAFT',\n",
       " 'Fastrack',\n",
       " 'PHENOMENAL',\n",
       " 'DEIXELS',\n",
       " 'Fastrack',\n",
       " 'HIPPON',\n",
       " 'PIRASO',\n",
       " 'GANSTA',\n",
       " 'PIRASO',\n",
       " 'ROYAL SON',\n",
       " 'PIRASO',\n",
       " 'ROYAL SON',\n",
       " 'ROZZETTA CRAFT',\n",
       " 'Silver Kartz',\n",
       " 'Fastrack',\n",
       " 'Fastrack']"
      ]
     },
     "execution_count": 335,
     "metadata": {},
     "output_type": "execute_result"
    }
   ],
   "source": [
    "B=B[:100]\n",
    "B"
   ]
  },
  {
   "cell_type": "code",
   "execution_count": 336,
   "id": "a651f34d",
   "metadata": {},
   "outputs": [
    {
     "data": {
      "text/plain": [
       "100"
      ]
     },
     "execution_count": 336,
     "metadata": {},
     "output_type": "execute_result"
    }
   ],
   "source": [
    "len(B)"
   ]
  },
  {
   "cell_type": "code",
   "execution_count": 337,
   "id": "66586b20",
   "metadata": {},
   "outputs": [
    {
     "data": {
      "text/plain": [
       "['UV Protection, Mirrored Aviator Sunglasses (Free Size)',\n",
       " 'UV Protection Wrap-around Sunglasses (Free Size)',\n",
       " 'UV Protection, Mirrored Retro Square Sunglasses (Free S...',\n",
       " 'UV Protection, Mirrored Sports Sunglasses (73)',\n",
       " 'UV Protection, Riding Glasses, Others Aviator, Wayfarer...',\n",
       " 'Gradient, UV Protection Wayfarer Sunglasses (Free Size)',\n",
       " 'UV Protection Round Sunglasses (Free Size)',\n",
       " 'UV Protection Aviator Sunglasses (58)',\n",
       " 'UV Protection Retro Square Sunglasses (Free Size)',\n",
       " 'UV Protection, Gradient, Night Vision, Mirrored Aviator...',\n",
       " 'UV Protection, Riding Glasses Aviator Sunglasses (58)',\n",
       " 'Polarized, UV Protection, Riding Glasses Wayfarer Sungl...',\n",
       " 'UV Protection Shield Sunglasses (Free Size)',\n",
       " 'UV Protection, Riding Glasses Aviator Sunglasses (57)',\n",
       " 'Mirrored Wayfarer Sunglasses (55)',\n",
       " 'Mirrored Aviator Sunglasses (53)',\n",
       " 'UV Protection, Riding Glasses Wayfarer Sunglasses (53)',\n",
       " 'Polarized, UV Protection Aviator Sunglasses (58)',\n",
       " 'UV Protection Aviator Sunglasses (58)',\n",
       " 'UV Protection, Mirrored Clubmaster Sunglasses (Free Siz...',\n",
       " 'Gradient, UV Protection Wayfarer Sunglasses (Free Size)',\n",
       " 'UV Protection Aviator Sunglasses (57)',\n",
       " 'UV Protection Aviator Sunglasses (50)',\n",
       " 'Mirrored, UV Protection Wayfarer Sunglasses (Free Size)',\n",
       " 'UV Protection, Mirrored Wayfarer Sunglasses (53)',\n",
       " 'UV Protection Aviator Sunglasses (57)',\n",
       " 'Mirrored Aviator Sunglasses (Free Size)',\n",
       " 'UV Protection Aviator Sunglasses (50)',\n",
       " 'UV Protection Clubmaster Sunglasses (53)',\n",
       " 'Mirrored Aviator Sunglasses (55)',\n",
       " 'UV Protection, Gradient Wayfarer Sunglasses (53)',\n",
       " 'UV Protection, Gradient, Night Vision Retro Square Sung...',\n",
       " 'UV Protection, Riding Glasses Aviator Sunglasses (58)',\n",
       " 'UV Protection, Gradient, Riding Glasses Aviator Sunglas...',\n",
       " 'UV Protection Oval Sunglasses (56)',\n",
       " 'UV Protection Wayfarer Sunglasses (Free Size)',\n",
       " 'UV Protection Retro Square Sunglasses (Free Size)',\n",
       " 'Gradient, UV Protection Wayfarer Sunglasses (Free Size)',\n",
       " 'UV Protection Rectangular Sunglasses (Free Size)',\n",
       " 'UV Protection Aviator Sunglasses (58)',\n",
       " 'UV Protection Aviator Sunglasses (54)',\n",
       " 'UV Protection Aviator Sunglasses (54)',\n",
       " 'UV Protection Rectangular Sunglasses (Free Size)',\n",
       " 'UV Protection Aviator Sunglasses (54)',\n",
       " 'UV Protection, Gradient Rectangular Sunglasses (Free Si...',\n",
       " 'Gradient, UV Protection Wayfarer Sunglasses (Free Size)',\n",
       " 'UV Protection Retro Square Sunglasses (Free Size)',\n",
       " 'UV Protection Aviator, Wayfarer Sunglasses (Free Size)',\n",
       " 'UV Protection Aviator Sunglasses (58)',\n",
       " 'UV Protection Wayfarer Sunglasses (55)',\n",
       " 'UV Protection Wayfarer Sunglasses (32)',\n",
       " 'UV Protection Aviator Sunglasses (57)',\n",
       " 'UV Protection Aviator Sunglasses (Free Size)',\n",
       " 'UV Protection, Gradient Wayfarer Sunglasses (55)',\n",
       " 'UV Protection Aviator Sunglasses (58)',\n",
       " 'Mirrored Aviator Sunglasses (55)',\n",
       " 'UV Protection Retro Square Sunglasses (Free Size)',\n",
       " 'UV Protection Wayfarer Sunglasses (Free Size)',\n",
       " 'UV Protection Aviator Sunglasses (Free Size)',\n",
       " 'UV Protection Wayfarer Sunglasses (56)',\n",
       " 'UV Protection Wrap-around Sunglasses (Free Size)',\n",
       " 'UV Protection Rectangular Sunglasses (58)',\n",
       " 'UV Protection Wayfarer Sunglasses (Free Size)',\n",
       " 'UV Protection, Gradient Rectangular Sunglasses (Free Si...',\n",
       " 'Mirrored, UV Protection, Gradient Round Sunglasses (55)',\n",
       " 'UV Protection Wayfarer Sunglasses (55)',\n",
       " 'UV Protection Wayfarer Sunglasses (Free Size)',\n",
       " 'UV Protection, Gradient Round Sunglasses (Free Size)',\n",
       " 'UV Protection, Mirrored Retro Square Sunglasses (53)',\n",
       " 'UV Protection Aviator Sunglasses (57)',\n",
       " 'UV Protection, Mirrored Retro Square Sunglasses (53)',\n",
       " 'UV Protection, Riding Glasses Wayfarer Sunglasses (56)',\n",
       " 'UV Protection Aviator Sunglasses (54)',\n",
       " 'UV Protection, Riding Glasses Rectangular Sunglasses (F...',\n",
       " 'UV Protection Clubmaster Sunglasses (Free Size)',\n",
       " 'UV Protection Butterfly Sunglasses (65)',\n",
       " 'Gradient, UV Protection Round Sunglasses (Free Size)',\n",
       " 'UV Protection Wayfarer Sunglasses (Free Size)',\n",
       " 'UV Protection, Night Vision, Riding Glasses Aviator Sun...',\n",
       " 'UV Protection Sports Sunglasses (Free Size)',\n",
       " 'UV Protection, Mirrored Aviator Sunglasses (Free Size)',\n",
       " 'UV Protection Wrap-around Sunglasses (Free Size)',\n",
       " 'UV Protection, Mirrored Retro Square Sunglasses (Free S...',\n",
       " 'UV Protection, Mirrored Sports Sunglasses (73)',\n",
       " 'UV Protection, Riding Glasses, Others Aviator, Wayfarer...',\n",
       " 'Gradient, UV Protection Wayfarer Sunglasses (Free Size)',\n",
       " 'UV Protection Round Sunglasses (Free Size)',\n",
       " 'UV Protection Aviator Sunglasses (58)',\n",
       " 'UV Protection Retro Square Sunglasses (Free Size)',\n",
       " 'UV Protection, Gradient, Night Vision, Mirrored Aviator...',\n",
       " 'UV Protection, Riding Glasses Aviator Sunglasses (58)',\n",
       " 'Polarized, UV Protection, Riding Glasses Wayfarer Sungl...',\n",
       " 'UV Protection Shield Sunglasses (Free Size)',\n",
       " 'UV Protection, Riding Glasses Aviator Sunglasses (57)',\n",
       " 'Mirrored Wayfarer Sunglasses (55)',\n",
       " 'Mirrored Aviator Sunglasses (53)',\n",
       " 'UV Protection, Riding Glasses Wayfarer Sunglasses (53)',\n",
       " 'Polarized, UV Protection Aviator Sunglasses (58)',\n",
       " 'UV Protection Aviator Sunglasses (58)',\n",
       " 'UV Protection, Mirrored Clubmaster Sunglasses (Free Siz...',\n",
       " 'Gradient, UV Protection Wayfarer Sunglasses (Free Size)',\n",
       " 'UV Protection Aviator Sunglasses (57)',\n",
       " 'UV Protection Aviator Sunglasses (50)',\n",
       " 'Mirrored, UV Protection Wayfarer Sunglasses (Free Size)',\n",
       " 'UV Protection, Mirrored Wayfarer Sunglasses (53)',\n",
       " 'UV Protection Aviator Sunglasses (57)',\n",
       " 'Mirrored Aviator Sunglasses (Free Size)',\n",
       " 'UV Protection Aviator Sunglasses (50)',\n",
       " 'UV Protection Clubmaster Sunglasses (53)',\n",
       " 'Mirrored Aviator Sunglasses (55)',\n",
       " 'UV Protection, Gradient Wayfarer Sunglasses (53)',\n",
       " 'UV Protection, Gradient, Night Vision Retro Square Sung...',\n",
       " 'UV Protection, Riding Glasses Aviator Sunglasses (58)',\n",
       " 'UV Protection, Gradient, Riding Glasses Aviator Sunglas...',\n",
       " 'UV Protection Oval Sunglasses (56)',\n",
       " 'UV Protection Wayfarer Sunglasses (Free Size)',\n",
       " 'UV Protection Retro Square Sunglasses (Free Size)',\n",
       " 'Gradient, UV Protection Wayfarer Sunglasses (Free Size)',\n",
       " 'UV Protection Rectangular Sunglasses (Free Size)',\n",
       " 'UV Protection Aviator Sunglasses (58)',\n",
       " 'UV Protection Aviator Sunglasses (54)',\n",
       " 'UV Protection Aviator Sunglasses (54)',\n",
       " 'UV Protection Rectangular Sunglasses (Free Size)',\n",
       " 'UV Protection Aviator Sunglasses (54)',\n",
       " 'UV Protection, Gradient Rectangular Sunglasses (Free Si...',\n",
       " 'Gradient, UV Protection Wayfarer Sunglasses (Free Size)',\n",
       " 'UV Protection Retro Square Sunglasses (Free Size)',\n",
       " 'UV Protection Aviator, Wayfarer Sunglasses (Free Size)',\n",
       " 'UV Protection Aviator Sunglasses (58)',\n",
       " 'UV Protection Wayfarer Sunglasses (55)',\n",
       " 'UV Protection Wayfarer Sunglasses (32)',\n",
       " 'UV Protection Aviator Sunglasses (57)',\n",
       " 'UV Protection Aviator Sunglasses (Free Size)',\n",
       " 'UV Protection, Gradient Wayfarer Sunglasses (55)',\n",
       " 'UV Protection Aviator Sunglasses (58)',\n",
       " 'Mirrored Aviator Sunglasses (55)',\n",
       " 'UV Protection Retro Square Sunglasses (Free Size)',\n",
       " 'UV Protection Wayfarer Sunglasses (Free Size)',\n",
       " 'UV Protection Aviator Sunglasses (Free Size)',\n",
       " 'UV Protection Wayfarer Sunglasses (56)',\n",
       " 'UV Protection Wrap-around Sunglasses (Free Size)',\n",
       " 'UV Protection Rectangular Sunglasses (58)',\n",
       " 'UV Protection Wayfarer Sunglasses (Free Size)',\n",
       " 'UV Protection, Gradient Rectangular Sunglasses (Free Si...',\n",
       " 'Mirrored, UV Protection, Gradient Round Sunglasses (55)',\n",
       " 'UV Protection Wayfarer Sunglasses (55)',\n",
       " 'UV Protection Wayfarer Sunglasses (Free Size)',\n",
       " 'UV Protection, Gradient Round Sunglasses (Free Size)',\n",
       " 'UV Protection, Mirrored Retro Square Sunglasses (53)',\n",
       " 'UV Protection Aviator Sunglasses (57)',\n",
       " 'UV Protection, Mirrored Retro Square Sunglasses (53)',\n",
       " 'UV Protection, Riding Glasses Wayfarer Sunglasses (56)',\n",
       " 'UV Protection Aviator Sunglasses (54)',\n",
       " 'UV Protection, Riding Glasses Rectangular Sunglasses (F...',\n",
       " 'UV Protection Clubmaster Sunglasses (Free Size)',\n",
       " 'UV Protection Butterfly Sunglasses (65)',\n",
       " 'Gradient, UV Protection Round Sunglasses (Free Size)',\n",
       " 'UV Protection Wayfarer Sunglasses (Free Size)',\n",
       " 'UV Protection, Night Vision, Riding Glasses Aviator Sun...',\n",
       " 'UV Protection Sports Sunglasses (Free Size)',\n",
       " 'UV Protection, Mirrored Aviator Sunglasses (Free Size)',\n",
       " 'UV Protection Wrap-around Sunglasses (Free Size)',\n",
       " 'UV Protection, Mirrored Retro Square Sunglasses (Free S...',\n",
       " 'UV Protection, Mirrored Sports Sunglasses (73)',\n",
       " 'UV Protection, Riding Glasses, Others Aviator, Wayfarer...',\n",
       " 'Gradient, UV Protection Wayfarer Sunglasses (Free Size)',\n",
       " 'UV Protection Round Sunglasses (Free Size)',\n",
       " 'UV Protection Aviator Sunglasses (58)',\n",
       " 'UV Protection Retro Square Sunglasses (Free Size)',\n",
       " 'UV Protection, Gradient, Night Vision, Mirrored Aviator...',\n",
       " 'UV Protection, Riding Glasses Aviator Sunglasses (58)',\n",
       " 'Polarized, UV Protection, Riding Glasses Wayfarer Sungl...',\n",
       " 'UV Protection Shield Sunglasses (Free Size)',\n",
       " 'UV Protection, Riding Glasses Aviator Sunglasses (57)',\n",
       " 'Mirrored Wayfarer Sunglasses (55)',\n",
       " 'Mirrored Aviator Sunglasses (53)',\n",
       " 'UV Protection, Riding Glasses Wayfarer Sunglasses (53)',\n",
       " 'Polarized, UV Protection Aviator Sunglasses (58)',\n",
       " 'UV Protection Aviator Sunglasses (58)',\n",
       " 'UV Protection, Mirrored Clubmaster Sunglasses (Free Siz...',\n",
       " 'Gradient, UV Protection Wayfarer Sunglasses (Free Size)',\n",
       " 'UV Protection Aviator Sunglasses (57)',\n",
       " 'UV Protection Aviator Sunglasses (50)',\n",
       " 'Mirrored, UV Protection Wayfarer Sunglasses (Free Size)',\n",
       " 'UV Protection, Mirrored Wayfarer Sunglasses (53)',\n",
       " 'UV Protection Aviator Sunglasses (57)',\n",
       " 'Mirrored Aviator Sunglasses (Free Size)',\n",
       " 'UV Protection Aviator Sunglasses (50)',\n",
       " 'UV Protection Clubmaster Sunglasses (53)',\n",
       " 'Mirrored Aviator Sunglasses (55)',\n",
       " 'UV Protection, Gradient Wayfarer Sunglasses (53)',\n",
       " 'UV Protection, Gradient, Night Vision Retro Square Sung...',\n",
       " 'UV Protection, Riding Glasses Aviator Sunglasses (58)',\n",
       " 'UV Protection, Gradient, Riding Glasses Aviator Sunglas...',\n",
       " 'UV Protection Oval Sunglasses (56)',\n",
       " 'UV Protection Wayfarer Sunglasses (Free Size)',\n",
       " 'UV Protection Retro Square Sunglasses (Free Size)',\n",
       " 'Gradient, UV Protection Wayfarer Sunglasses (Free Size)',\n",
       " 'UV Protection Rectangular Sunglasses (Free Size)',\n",
       " 'UV Protection Aviator Sunglasses (58)',\n",
       " 'UV Protection Aviator Sunglasses (54)',\n",
       " 'UV Protection Aviator Sunglasses (54)',\n",
       " 'UV Protection Rectangular Sunglasses (Free Size)',\n",
       " 'UV Protection Aviator Sunglasses (54)',\n",
       " 'UV Protection, Gradient Rectangular Sunglasses (Free Si...',\n",
       " 'Gradient, UV Protection Wayfarer Sunglasses (Free Size)',\n",
       " 'UV Protection Retro Square Sunglasses (Free Size)',\n",
       " 'UV Protection Aviator, Wayfarer Sunglasses (Free Size)',\n",
       " 'UV Protection Aviator Sunglasses (58)',\n",
       " 'UV Protection Wayfarer Sunglasses (55)',\n",
       " 'UV Protection Wayfarer Sunglasses (32)',\n",
       " 'UV Protection Aviator Sunglasses (57)',\n",
       " 'UV Protection Aviator Sunglasses (Free Size)',\n",
       " 'UV Protection, Gradient Wayfarer Sunglasses (55)',\n",
       " 'UV Protection Aviator Sunglasses (58)',\n",
       " 'Mirrored Aviator Sunglasses (55)',\n",
       " 'UV Protection Retro Square Sunglasses (Free Size)',\n",
       " 'UV Protection Wayfarer Sunglasses (Free Size)',\n",
       " 'UV Protection Aviator Sunglasses (Free Size)',\n",
       " 'UV Protection Wayfarer Sunglasses (56)',\n",
       " 'UV Protection Wrap-around Sunglasses (Free Size)',\n",
       " 'UV Protection Rectangular Sunglasses (58)',\n",
       " 'UV Protection Wayfarer Sunglasses (Free Size)',\n",
       " 'UV Protection, Gradient Rectangular Sunglasses (Free Si...',\n",
       " 'Mirrored, UV Protection, Gradient Round Sunglasses (55)',\n",
       " 'UV Protection Wayfarer Sunglasses (55)',\n",
       " 'UV Protection Wayfarer Sunglasses (Free Size)',\n",
       " 'UV Protection, Gradient Round Sunglasses (Free Size)',\n",
       " 'UV Protection, Mirrored Retro Square Sunglasses (53)',\n",
       " 'UV Protection Aviator Sunglasses (57)',\n",
       " 'UV Protection, Mirrored Retro Square Sunglasses (53)',\n",
       " 'UV Protection, Riding Glasses Wayfarer Sunglasses (56)',\n",
       " 'UV Protection Aviator Sunglasses (54)',\n",
       " 'UV Protection, Riding Glasses Rectangular Sunglasses (F...',\n",
       " 'UV Protection Clubmaster Sunglasses (Free Size)',\n",
       " 'UV Protection Butterfly Sunglasses (65)',\n",
       " 'Gradient, UV Protection Round Sunglasses (Free Size)',\n",
       " 'UV Protection Wayfarer Sunglasses (Free Size)',\n",
       " 'UV Protection, Night Vision, Riding Glasses Aviator Sun...',\n",
       " 'UV Protection Sports Sunglasses (Free Size)',\n",
       " 'UV Protection, Mirrored Aviator Sunglasses (Free Size)',\n",
       " 'UV Protection Wrap-around Sunglasses (Free Size)',\n",
       " 'UV Protection, Mirrored Retro Square Sunglasses (Free S...',\n",
       " 'UV Protection, Mirrored Sports Sunglasses (73)',\n",
       " 'UV Protection, Riding Glasses, Others Aviator, Wayfarer...',\n",
       " 'Gradient, UV Protection Wayfarer Sunglasses (Free Size)',\n",
       " 'UV Protection Round Sunglasses (Free Size)',\n",
       " 'UV Protection Aviator Sunglasses (58)',\n",
       " 'UV Protection Retro Square Sunglasses (Free Size)',\n",
       " 'UV Protection, Gradient, Night Vision, Mirrored Aviator...',\n",
       " 'UV Protection, Riding Glasses Aviator Sunglasses (58)',\n",
       " 'Polarized, UV Protection, Riding Glasses Wayfarer Sungl...',\n",
       " 'UV Protection Shield Sunglasses (Free Size)',\n",
       " 'UV Protection, Riding Glasses Aviator Sunglasses (57)',\n",
       " 'Mirrored Wayfarer Sunglasses (55)',\n",
       " 'Mirrored Aviator Sunglasses (53)',\n",
       " 'UV Protection, Riding Glasses Wayfarer Sunglasses (53)',\n",
       " 'Polarized, UV Protection Aviator Sunglasses (58)',\n",
       " 'UV Protection Aviator Sunglasses (58)',\n",
       " 'UV Protection, Mirrored Clubmaster Sunglasses (Free Siz...',\n",
       " 'Gradient, UV Protection Wayfarer Sunglasses (Free Size)',\n",
       " 'UV Protection Aviator Sunglasses (57)',\n",
       " 'UV Protection Aviator Sunglasses (50)',\n",
       " 'Mirrored, UV Protection Wayfarer Sunglasses (Free Size)',\n",
       " 'UV Protection, Mirrored Wayfarer Sunglasses (53)',\n",
       " 'UV Protection Aviator Sunglasses (57)',\n",
       " 'Mirrored Aviator Sunglasses (Free Size)',\n",
       " 'UV Protection Aviator Sunglasses (50)',\n",
       " 'UV Protection Clubmaster Sunglasses (53)',\n",
       " 'Mirrored Aviator Sunglasses (55)',\n",
       " 'UV Protection, Gradient Wayfarer Sunglasses (53)',\n",
       " 'UV Protection, Gradient, Night Vision Retro Square Sung...',\n",
       " 'UV Protection, Riding Glasses Aviator Sunglasses (58)',\n",
       " 'UV Protection, Gradient, Riding Glasses Aviator Sunglas...',\n",
       " 'UV Protection Oval Sunglasses (56)',\n",
       " 'UV Protection Wayfarer Sunglasses (Free Size)',\n",
       " 'UV Protection Retro Square Sunglasses (Free Size)',\n",
       " 'Gradient, UV Protection Wayfarer Sunglasses (Free Size)',\n",
       " 'UV Protection Rectangular Sunglasses (Free Size)',\n",
       " 'UV Protection Aviator Sunglasses (58)',\n",
       " 'UV Protection Aviator Sunglasses (54)',\n",
       " 'UV Protection Aviator Sunglasses (54)',\n",
       " 'UV Protection Rectangular Sunglasses (Free Size)',\n",
       " 'UV Protection Aviator Sunglasses (54)',\n",
       " 'UV Protection, Gradient Rectangular Sunglasses (Free Si...',\n",
       " 'Gradient, UV Protection Wayfarer Sunglasses (Free Size)',\n",
       " 'UV Protection Retro Square Sunglasses (Free Size)',\n",
       " 'UV Protection Aviator, Wayfarer Sunglasses (Free Size)',\n",
       " 'UV Protection Aviator Sunglasses (58)',\n",
       " 'UV Protection Wayfarer Sunglasses (55)',\n",
       " 'UV Protection Wayfarer Sunglasses (32)',\n",
       " 'UV Protection Aviator Sunglasses (57)',\n",
       " 'UV Protection Aviator Sunglasses (Free Size)',\n",
       " 'UV Protection, Gradient Wayfarer Sunglasses (55)',\n",
       " 'UV Protection Aviator Sunglasses (58)',\n",
       " 'Mirrored Aviator Sunglasses (55)',\n",
       " 'UV Protection Retro Square Sunglasses (Free Size)',\n",
       " 'UV Protection Wayfarer Sunglasses (Free Size)',\n",
       " 'UV Protection Aviator Sunglasses (Free Size)',\n",
       " 'UV Protection Wayfarer Sunglasses (56)',\n",
       " 'UV Protection Wrap-around Sunglasses (Free Size)',\n",
       " 'UV Protection Rectangular Sunglasses (58)',\n",
       " 'UV Protection Wayfarer Sunglasses (Free Size)',\n",
       " 'UV Protection, Gradient Rectangular Sunglasses (Free Si...',\n",
       " 'Mirrored, UV Protection, Gradient Round Sunglasses (55)',\n",
       " 'UV Protection Wayfarer Sunglasses (55)',\n",
       " 'UV Protection Wayfarer Sunglasses (Free Size)',\n",
       " 'UV Protection, Gradient Round Sunglasses (Free Size)',\n",
       " 'UV Protection, Mirrored Retro Square Sunglasses (53)',\n",
       " 'UV Protection Aviator Sunglasses (57)',\n",
       " 'UV Protection, Mirrored Retro Square Sunglasses (53)',\n",
       " 'UV Protection, Riding Glasses Wayfarer Sunglasses (56)',\n",
       " 'UV Protection Aviator Sunglasses (54)',\n",
       " 'UV Protection, Riding Glasses Rectangular Sunglasses (F...',\n",
       " 'UV Protection Clubmaster Sunglasses (Free Size)',\n",
       " 'UV Protection Butterfly Sunglasses (65)',\n",
       " 'Gradient, UV Protection Round Sunglasses (Free Size)',\n",
       " 'UV Protection Wayfarer Sunglasses (Free Size)',\n",
       " 'UV Protection, Night Vision, Riding Glasses Aviator Sun...',\n",
       " 'UV Protection Sports Sunglasses (Free Size)',\n",
       " 'UV Protection, Mirrored Aviator Sunglasses (Free Size)',\n",
       " 'UV Protection Wrap-around Sunglasses (Free Size)',\n",
       " 'UV Protection, Mirrored Retro Square Sunglasses (Free S...',\n",
       " 'UV Protection, Mirrored Sports Sunglasses (73)',\n",
       " 'UV Protection, Riding Glasses, Others Aviator, Wayfarer...',\n",
       " 'Gradient, UV Protection Wayfarer Sunglasses (Free Size)',\n",
       " 'UV Protection Round Sunglasses (Free Size)',\n",
       " 'UV Protection Aviator Sunglasses (58)',\n",
       " 'UV Protection Retro Square Sunglasses (Free Size)',\n",
       " 'UV Protection, Gradient, Night Vision, Mirrored Aviator...',\n",
       " 'UV Protection, Riding Glasses Aviator Sunglasses (58)',\n",
       " 'Polarized, UV Protection, Riding Glasses Wayfarer Sungl...',\n",
       " 'UV Protection Shield Sunglasses (Free Size)',\n",
       " 'UV Protection, Riding Glasses Aviator Sunglasses (57)',\n",
       " 'Mirrored Wayfarer Sunglasses (55)',\n",
       " 'Mirrored Aviator Sunglasses (53)',\n",
       " 'UV Protection, Riding Glasses Wayfarer Sunglasses (53)',\n",
       " 'Polarized, UV Protection Aviator Sunglasses (58)',\n",
       " 'UV Protection Aviator Sunglasses (58)',\n",
       " 'UV Protection, Mirrored Clubmaster Sunglasses (Free Siz...',\n",
       " 'Gradient, UV Protection Wayfarer Sunglasses (Free Size)',\n",
       " 'UV Protection Aviator Sunglasses (57)',\n",
       " 'UV Protection Aviator Sunglasses (50)',\n",
       " 'Mirrored, UV Protection Wayfarer Sunglasses (Free Size)',\n",
       " 'UV Protection, Mirrored Wayfarer Sunglasses (53)',\n",
       " 'UV Protection Aviator Sunglasses (57)',\n",
       " 'Mirrored Aviator Sunglasses (Free Size)',\n",
       " 'UV Protection Aviator Sunglasses (50)',\n",
       " 'UV Protection Clubmaster Sunglasses (53)',\n",
       " 'Mirrored Aviator Sunglasses (55)',\n",
       " 'UV Protection, Gradient Wayfarer Sunglasses (53)',\n",
       " 'UV Protection, Gradient, Night Vision Retro Square Sung...',\n",
       " 'UV Protection, Riding Glasses Aviator Sunglasses (58)',\n",
       " 'UV Protection, Gradient, Riding Glasses Aviator Sunglas...',\n",
       " 'UV Protection Oval Sunglasses (56)',\n",
       " 'UV Protection Wayfarer Sunglasses (Free Size)',\n",
       " 'UV Protection Retro Square Sunglasses (Free Size)',\n",
       " 'Gradient, UV Protection Wayfarer Sunglasses (Free Size)',\n",
       " 'UV Protection Rectangular Sunglasses (Free Size)',\n",
       " 'UV Protection Aviator Sunglasses (58)',\n",
       " 'UV Protection Aviator Sunglasses (54)',\n",
       " 'UV Protection Aviator Sunglasses (54)',\n",
       " 'UV Protection Rectangular Sunglasses (Free Size)',\n",
       " 'UV Protection Aviator Sunglasses (54)',\n",
       " 'UV Protection, Gradient Rectangular Sunglasses (Free Si...',\n",
       " 'Gradient, UV Protection Wayfarer Sunglasses (Free Size)',\n",
       " 'UV Protection Retro Square Sunglasses (Free Size)',\n",
       " 'UV Protection Aviator, Wayfarer Sunglasses (Free Size)',\n",
       " 'UV Protection Aviator Sunglasses (58)',\n",
       " 'UV Protection Wayfarer Sunglasses (55)',\n",
       " 'UV Protection Wayfarer Sunglasses (32)',\n",
       " 'UV Protection Aviator Sunglasses (57)',\n",
       " 'UV Protection Aviator Sunglasses (Free Size)',\n",
       " 'UV Protection, Gradient Wayfarer Sunglasses (55)',\n",
       " 'UV Protection Aviator Sunglasses (58)',\n",
       " 'Mirrored Aviator Sunglasses (55)',\n",
       " 'UV Protection Retro Square Sunglasses (Free Size)',\n",
       " 'UV Protection Wayfarer Sunglasses (Free Size)',\n",
       " 'UV Protection Aviator Sunglasses (Free Size)',\n",
       " 'UV Protection Wayfarer Sunglasses (56)',\n",
       " 'UV Protection Wrap-around Sunglasses (Free Size)',\n",
       " 'UV Protection Rectangular Sunglasses (58)',\n",
       " 'UV Protection Wayfarer Sunglasses (Free Size)',\n",
       " 'UV Protection, Gradient Rectangular Sunglasses (Free Si...',\n",
       " 'Mirrored, UV Protection, Gradient Round Sunglasses (55)',\n",
       " 'UV Protection Wayfarer Sunglasses (55)',\n",
       " 'UV Protection Wayfarer Sunglasses (Free Size)',\n",
       " 'UV Protection, Gradient Round Sunglasses (Free Size)',\n",
       " 'UV Protection, Mirrored Retro Square Sunglasses (53)',\n",
       " 'UV Protection Aviator Sunglasses (57)',\n",
       " 'UV Protection, Mirrored Retro Square Sunglasses (53)',\n",
       " 'UV Protection, Riding Glasses Wayfarer Sunglasses (56)',\n",
       " 'UV Protection Aviator Sunglasses (54)',\n",
       " 'UV Protection, Riding Glasses Rectangular Sunglasses (F...',\n",
       " 'UV Protection Clubmaster Sunglasses (Free Size)',\n",
       " 'UV Protection Butterfly Sunglasses (65)',\n",
       " 'Gradient, UV Protection Round Sunglasses (Free Size)',\n",
       " 'UV Protection Wayfarer Sunglasses (Free Size)',\n",
       " 'UV Protection, Night Vision, Riding Glasses Aviator Sun...',\n",
       " 'UV Protection Sports Sunglasses (Free Size)']"
      ]
     },
     "execution_count": 337,
     "metadata": {},
     "output_type": "execute_result"
    }
   ],
   "source": [
    "PD=[]\n",
    "for i in range(10):\n",
    " for i in driver.find_elements_by_xpath('//a[@class=\"IRpwTa\"]'):\n",
    "\n",
    "   PD.append(i.text.replace('\\n',''))\n",
    "\n",
    "\n",
    " driver.find_element_by_xpath('//a[@class=\"ge-49M\"]').click()\n",
    " time.sleep(2)\n",
    " \n",
    "PD    "
   ]
  },
  {
   "cell_type": "code",
   "execution_count": 340,
   "id": "d3f1146d",
   "metadata": {},
   "outputs": [],
   "source": [
    "PD=PD[:100]"
   ]
  },
  {
   "cell_type": "code",
   "execution_count": 341,
   "id": "70efc600",
   "metadata": {},
   "outputs": [
    {
     "data": {
      "text/plain": [
       "100"
      ]
     },
     "execution_count": 341,
     "metadata": {},
     "output_type": "execute_result"
    }
   ],
   "source": [
    "len(PD)"
   ]
  },
  {
   "cell_type": "code",
   "execution_count": 339,
   "id": "2273a2ff",
   "metadata": {},
   "outputs": [
    {
     "data": {
      "text/plain": [
       "['₹199',\n",
       " '₹576',\n",
       " '₹399',\n",
       " '₹311',\n",
       " '₹198',\n",
       " '₹606',\n",
       " '₹219',\n",
       " '₹248',\n",
       " '₹399',\n",
       " '₹364',\n",
       " '₹366',\n",
       " '₹224',\n",
       " '₹721',\n",
       " '₹399',\n",
       " '₹219',\n",
       " '₹227',\n",
       " '₹263',\n",
       " '₹711',\n",
       " '₹204',\n",
       " '₹319',\n",
       " '₹589',\n",
       " '₹156',\n",
       " '₹331',\n",
       " '₹738',\n",
       " '₹199',\n",
       " '₹237',\n",
       " '₹319',\n",
       " '₹331',\n",
       " '₹234',\n",
       " '₹319',\n",
       " '₹296',\n",
       " '₹296',\n",
       " '₹206',\n",
       " '₹367',\n",
       " '₹284',\n",
       " '₹547',\n",
       " '₹499',\n",
       " '₹600',\n",
       " '₹398',\n",
       " '₹298',\n",
       " '₹199',\n",
       " '₹576',\n",
       " '₹399',\n",
       " '₹311',\n",
       " '₹198',\n",
       " '₹606',\n",
       " '₹219',\n",
       " '₹248',\n",
       " '₹399',\n",
       " '₹364',\n",
       " '₹366',\n",
       " '₹224',\n",
       " '₹721',\n",
       " '₹399',\n",
       " '₹219',\n",
       " '₹227',\n",
       " '₹263',\n",
       " '₹711',\n",
       " '₹204',\n",
       " '₹319',\n",
       " '₹589',\n",
       " '₹156',\n",
       " '₹331',\n",
       " '₹738',\n",
       " '₹199',\n",
       " '₹237',\n",
       " '₹319',\n",
       " '₹331',\n",
       " '₹234',\n",
       " '₹319',\n",
       " '₹296',\n",
       " '₹296',\n",
       " '₹206',\n",
       " '₹367',\n",
       " '₹284',\n",
       " '₹547',\n",
       " '₹499',\n",
       " '₹600',\n",
       " '₹398',\n",
       " '₹298',\n",
       " '₹199',\n",
       " '₹576',\n",
       " '₹399',\n",
       " '₹311',\n",
       " '₹198',\n",
       " '₹606',\n",
       " '₹219',\n",
       " '₹248',\n",
       " '₹399',\n",
       " '₹364',\n",
       " '₹366',\n",
       " '₹224',\n",
       " '₹721',\n",
       " '₹399',\n",
       " '₹219',\n",
       " '₹227',\n",
       " '₹263',\n",
       " '₹711',\n",
       " '₹204',\n",
       " '₹319',\n",
       " '₹589',\n",
       " '₹156',\n",
       " '₹331',\n",
       " '₹738',\n",
       " '₹199',\n",
       " '₹237',\n",
       " '₹319',\n",
       " '₹331',\n",
       " '₹234',\n",
       " '₹319',\n",
       " '₹296',\n",
       " '₹296',\n",
       " '₹206',\n",
       " '₹367',\n",
       " '₹284',\n",
       " '₹547',\n",
       " '₹499',\n",
       " '₹600',\n",
       " '₹398',\n",
       " '₹298']"
      ]
     },
     "execution_count": 339,
     "metadata": {},
     "output_type": "execute_result"
    }
   ],
   "source": [
    "P=[]\n",
    "for i in range(3):\n",
    " for i in driver.find_elements_by_xpath('//div[@class=\"_30jeq3\"]'):\n",
    "\n",
    "   P.append(i.text.replace('\\n',''))\n",
    "\n",
    "driver.find_element_by_xpath('//a[@class=\"ge-49M\"]').click()\n",
    "time.sleep(2)\n",
    "P    "
   ]
  },
  {
   "cell_type": "code",
   "execution_count": 342,
   "id": "0d77cb79",
   "metadata": {},
   "outputs": [],
   "source": [
    "P=P[:100]"
   ]
  },
  {
   "cell_type": "code",
   "execution_count": 343,
   "id": "58325800",
   "metadata": {},
   "outputs": [
    {
     "data": {
      "text/plain": [
       "100"
      ]
     },
     "execution_count": 343,
     "metadata": {},
     "output_type": "execute_result"
    }
   ],
   "source": [
    "len(P)"
   ]
  },
  {
   "cell_type": "code",
   "execution_count": 344,
   "id": "a56a1361",
   "metadata": {},
   "outputs": [
    {
     "data": {
      "text/plain": [
       "['85% off',\n",
       " '85% off',\n",
       " '32% off',\n",
       " '85% off',\n",
       " '79% off',\n",
       " '36% off',\n",
       " '80% off',\n",
       " '82% off',\n",
       " '21% off',\n",
       " '79% off',\n",
       " '85% off',\n",
       " '85% off',\n",
       " '79% off',\n",
       " '81% off',\n",
       " '87% off',\n",
       " '78% off',\n",
       " '77% off',\n",
       " '83% off',\n",
       " '28% off',\n",
       " '22% off',\n",
       " '68% off',\n",
       " '73% off',\n",
       " '22% off',\n",
       " '78% off',\n",
       " '85% off',\n",
       " '82% off',\n",
       " '31% off',\n",
       " '78% off',\n",
       " '81% off',\n",
       " '79% off',\n",
       " '81% off',\n",
       " '78% off',\n",
       " '85% off',\n",
       " '80% off',\n",
       " '84% off',\n",
       " '87% off',\n",
       " '77% off',\n",
       " '67% off',\n",
       " '85% off',\n",
       " '83% off',\n",
       " '85% off',\n",
       " '85% off',\n",
       " '32% off',\n",
       " '85% off',\n",
       " '79% off',\n",
       " '36% off',\n",
       " '80% off',\n",
       " '82% off',\n",
       " '21% off',\n",
       " '79% off',\n",
       " '85% off',\n",
       " '85% off',\n",
       " '79% off',\n",
       " '81% off',\n",
       " '87% off',\n",
       " '78% off',\n",
       " '77% off',\n",
       " '83% off',\n",
       " '28% off',\n",
       " '22% off',\n",
       " '68% off',\n",
       " '73% off',\n",
       " '22% off',\n",
       " '78% off',\n",
       " '85% off',\n",
       " '82% off',\n",
       " '31% off',\n",
       " '78% off',\n",
       " '81% off',\n",
       " '79% off',\n",
       " '81% off',\n",
       " '78% off',\n",
       " '85% off',\n",
       " '80% off',\n",
       " '84% off',\n",
       " '87% off',\n",
       " '77% off',\n",
       " '67% off',\n",
       " '85% off',\n",
       " '83% off',\n",
       " '85% off',\n",
       " '85% off',\n",
       " '32% off',\n",
       " '85% off',\n",
       " '79% off',\n",
       " '36% off',\n",
       " '80% off',\n",
       " '82% off',\n",
       " '21% off',\n",
       " '79% off',\n",
       " '85% off',\n",
       " '85% off',\n",
       " '79% off',\n",
       " '81% off',\n",
       " '87% off',\n",
       " '78% off',\n",
       " '77% off',\n",
       " '83% off',\n",
       " '28% off',\n",
       " '22% off',\n",
       " '68% off',\n",
       " '73% off',\n",
       " '22% off',\n",
       " '78% off',\n",
       " '85% off',\n",
       " '82% off',\n",
       " '31% off',\n",
       " '78% off',\n",
       " '81% off',\n",
       " '79% off',\n",
       " '81% off',\n",
       " '78% off',\n",
       " '85% off',\n",
       " '80% off',\n",
       " '84% off',\n",
       " '87% off',\n",
       " '77% off',\n",
       " '67% off',\n",
       " '85% off',\n",
       " '83% off']"
      ]
     },
     "execution_count": 344,
     "metadata": {},
     "output_type": "execute_result"
    }
   ],
   "source": [
    "D=[]\n",
    "for i in range(3):\n",
    " for i in driver.find_elements_by_xpath('//div[@class=\"_3Ay6Sb\"]'):\n",
    "\n",
    "   D.append(i.text.replace('\\n',''))\n",
    "driver.find_element_by_xpath('//a[@class=\"ge-49M\"]').click()\n",
    "time.sleep(2)\n",
    "D    "
   ]
  },
  {
   "cell_type": "code",
   "execution_count": 345,
   "id": "6c81dc2d",
   "metadata": {},
   "outputs": [],
   "source": [
    "D=D[:100]"
   ]
  },
  {
   "cell_type": "code",
   "execution_count": 346,
   "id": "374f55d9",
   "metadata": {},
   "outputs": [
    {
     "data": {
      "text/plain": [
       "100"
      ]
     },
     "execution_count": 346,
     "metadata": {},
     "output_type": "execute_result"
    }
   ],
   "source": [
    "len(D)"
   ]
  },
  {
   "cell_type": "code",
   "execution_count": 389,
   "id": "2cfda961",
   "metadata": {},
   "outputs": [],
   "source": [
    "import pandas as pd\n",
    "jobtab6=pd.DataFrame({})\n",
    "\n",
    "jobtab6['brand name']=B[:10]\n",
    "jobtab6['product desc']=PD[:10]\n",
    "jobtab6['price']=P[:10]\n",
    "jobtab6['discount']=D[:10]"
   ]
  },
  {
   "cell_type": "code",
   "execution_count": 390,
   "id": "5d3dd1e9",
   "metadata": {},
   "outputs": [
    {
     "data": {
      "text/html": [
       "<div>\n",
       "<style scoped>\n",
       "    .dataframe tbody tr th:only-of-type {\n",
       "        vertical-align: middle;\n",
       "    }\n",
       "\n",
       "    .dataframe tbody tr th {\n",
       "        vertical-align: top;\n",
       "    }\n",
       "\n",
       "    .dataframe thead th {\n",
       "        text-align: right;\n",
       "    }\n",
       "</style>\n",
       "<table border=\"1\" class=\"dataframe\">\n",
       "  <thead>\n",
       "    <tr style=\"text-align: right;\">\n",
       "      <th></th>\n",
       "      <th>brand name</th>\n",
       "      <th>product desc</th>\n",
       "      <th>price</th>\n",
       "      <th>discount</th>\n",
       "    </tr>\n",
       "  </thead>\n",
       "  <tbody>\n",
       "    <tr>\n",
       "      <th>0</th>\n",
       "      <td>PIRASO</td>\n",
       "      <td>UV Protection, Mirrored Aviator Sunglasses (Fr...</td>\n",
       "      <td>₹199</td>\n",
       "      <td>85% off</td>\n",
       "    </tr>\n",
       "    <tr>\n",
       "      <th>1</th>\n",
       "      <td>PIRASO</td>\n",
       "      <td>UV Protection Wrap-around Sunglasses (Free Size)</td>\n",
       "      <td>₹576</td>\n",
       "      <td>85% off</td>\n",
       "    </tr>\n",
       "    <tr>\n",
       "      <th>2</th>\n",
       "      <td>Fastrack</td>\n",
       "      <td>UV Protection, Mirrored Retro Square Sunglasse...</td>\n",
       "      <td>₹399</td>\n",
       "      <td>32% off</td>\n",
       "    </tr>\n",
       "    <tr>\n",
       "      <th>3</th>\n",
       "      <td>PIRASO</td>\n",
       "      <td>UV Protection, Mirrored Sports Sunglasses (73)</td>\n",
       "      <td>₹311</td>\n",
       "      <td>85% off</td>\n",
       "    </tr>\n",
       "    <tr>\n",
       "      <th>4</th>\n",
       "      <td>ROZZETTA CRAFT</td>\n",
       "      <td>UV Protection, Riding Glasses, Others Aviator,...</td>\n",
       "      <td>₹198</td>\n",
       "      <td>79% off</td>\n",
       "    </tr>\n",
       "    <tr>\n",
       "      <th>5</th>\n",
       "      <td>Fastrack</td>\n",
       "      <td>Gradient, UV Protection Wayfarer Sunglasses (F...</td>\n",
       "      <td>₹606</td>\n",
       "      <td>36% off</td>\n",
       "    </tr>\n",
       "    <tr>\n",
       "      <th>6</th>\n",
       "      <td>PHENOMENAL</td>\n",
       "      <td>UV Protection Round Sunglasses (Free Size)</td>\n",
       "      <td>₹219</td>\n",
       "      <td>80% off</td>\n",
       "    </tr>\n",
       "    <tr>\n",
       "      <th>7</th>\n",
       "      <td>DEIXELS</td>\n",
       "      <td>UV Protection Aviator Sunglasses (58)</td>\n",
       "      <td>₹248</td>\n",
       "      <td>82% off</td>\n",
       "    </tr>\n",
       "    <tr>\n",
       "      <th>8</th>\n",
       "      <td>Fastrack</td>\n",
       "      <td>UV Protection Retro Square Sunglasses (Free Size)</td>\n",
       "      <td>₹399</td>\n",
       "      <td>21% off</td>\n",
       "    </tr>\n",
       "    <tr>\n",
       "      <th>9</th>\n",
       "      <td>HIPPON</td>\n",
       "      <td>UV Protection, Gradient, Night Vision, Mirrore...</td>\n",
       "      <td>₹364</td>\n",
       "      <td>79% off</td>\n",
       "    </tr>\n",
       "  </tbody>\n",
       "</table>\n",
       "</div>"
      ],
      "text/plain": [
       "       brand name                                       product desc price  \\\n",
       "0          PIRASO  UV Protection, Mirrored Aviator Sunglasses (Fr...  ₹199   \n",
       "1          PIRASO   UV Protection Wrap-around Sunglasses (Free Size)  ₹576   \n",
       "2        Fastrack  UV Protection, Mirrored Retro Square Sunglasse...  ₹399   \n",
       "3          PIRASO     UV Protection, Mirrored Sports Sunglasses (73)  ₹311   \n",
       "4  ROZZETTA CRAFT  UV Protection, Riding Glasses, Others Aviator,...  ₹198   \n",
       "5        Fastrack  Gradient, UV Protection Wayfarer Sunglasses (F...  ₹606   \n",
       "6      PHENOMENAL         UV Protection Round Sunglasses (Free Size)  ₹219   \n",
       "7         DEIXELS              UV Protection Aviator Sunglasses (58)  ₹248   \n",
       "8        Fastrack  UV Protection Retro Square Sunglasses (Free Size)  ₹399   \n",
       "9          HIPPON  UV Protection, Gradient, Night Vision, Mirrore...  ₹364   \n",
       "\n",
       "  discount  \n",
       "0  85% off  \n",
       "1  85% off  \n",
       "2  32% off  \n",
       "3  85% off  \n",
       "4  79% off  \n",
       "5  36% off  \n",
       "6  80% off  \n",
       "7  82% off  \n",
       "8  21% off  \n",
       "9  79% off  "
      ]
     },
     "execution_count": 390,
     "metadata": {},
     "output_type": "execute_result"
    }
   ],
   "source": [
    "jobtab6"
   ]
  },
  {
   "cell_type": "markdown",
   "id": "2a89223f",
   "metadata": {},
   "source": [
    "Q7: Scrape 100 reviews data from flipkart.com for iphone11 phone. You have to \n",
    "go the link: https://www.flipkart.com/apple-iphone-11-black-64-gb-includes\u0002earpods-power\u0002adapter/p/itm0f37c2240b217?pid=MOBFKCTSVZAXUHGR&lid=LSTMOBFKC\n",
    "TSVZAXUHGREPBFGI&marketplace.\n",
    "When you will open the above link you will reach to the below shown webpage.\n",
    "As shown in the above page you have to scrape the tick marked attributes.\n",
    "These are \n",
    "1. Rating \n",
    "2. Review_summary \n",
    "3. Full review\n",
    "You have to scrape this data for first 100 reviews"
   ]
  },
  {
   "cell_type": "code",
   "execution_count": null,
   "id": "c05c9bc0",
   "metadata": {},
   "outputs": [],
   "source": []
  },
  {
   "cell_type": "code",
   "execution_count": 104,
   "id": "a828b0c9",
   "metadata": {},
   "outputs": [],
   "source": [
    "driver = webdriver.Chrome()\n",
    "driver=webdriver.Chrome(\"chromedriver.exe\")"
   ]
  },
  {
   "cell_type": "code",
   "execution_count": 105,
   "id": "ec410dad",
   "metadata": {},
   "outputs": [],
   "source": [
    "url=\"https://www.flipkart.com/apple-iphone-11-black-64-gb-includes-earpods-power-adapter/p/itm0f37c2240b217?pid=MOBFKCTSVZAXUHGR&lid=LSTMOBFKCTSVZAXUHGREPBFGI&marketplace\"\n",
    "driver.get(url)"
   ]
  },
  {
   "cell_type": "code",
   "execution_count": 106,
   "id": "f459d5d7",
   "metadata": {},
   "outputs": [],
   "source": [
    "import time"
   ]
  },
  {
   "cell_type": "code",
   "execution_count": 115,
   "id": "ddda6c5d",
   "metadata": {},
   "outputs": [],
   "source": [
    "for i in range(10):\n",
    "    try:\n",
    "     driver.find_element_by_xpath('//a[@class=\"ge-49M\"]').click()\n",
    "     time.sleep(1)\n",
    "    \n",
    "    except NoSuchElementException :\n",
    "      print('na')"
   ]
  },
  {
   "cell_type": "code",
   "execution_count": 116,
   "id": "0cf49929",
   "metadata": {},
   "outputs": [
    {
     "data": {
      "text/plain": [
       "['5',\n",
       " '5',\n",
       " '5',\n",
       " '5',\n",
       " '5',\n",
       " '4',\n",
       " '5',\n",
       " '5',\n",
       " '5',\n",
       " '5',\n",
       " '5',\n",
       " '5',\n",
       " '5',\n",
       " '5',\n",
       " '5',\n",
       " '4',\n",
       " '5',\n",
       " '5',\n",
       " '5',\n",
       " '5',\n",
       " '5',\n",
       " '5',\n",
       " '5',\n",
       " '5',\n",
       " '5',\n",
       " '4',\n",
       " '5',\n",
       " '5',\n",
       " '5',\n",
       " '5',\n",
       " '5',\n",
       " '5',\n",
       " '5',\n",
       " '5',\n",
       " '5',\n",
       " '4',\n",
       " '5',\n",
       " '5',\n",
       " '5',\n",
       " '5',\n",
       " '5',\n",
       " '5',\n",
       " '5',\n",
       " '5',\n",
       " '5',\n",
       " '4',\n",
       " '5',\n",
       " '5',\n",
       " '5',\n",
       " '5',\n",
       " '5',\n",
       " '5',\n",
       " '5',\n",
       " '5',\n",
       " '5',\n",
       " '4',\n",
       " '5',\n",
       " '5',\n",
       " '5',\n",
       " '5',\n",
       " '5',\n",
       " '5',\n",
       " '5',\n",
       " '5',\n",
       " '5',\n",
       " '4',\n",
       " '5',\n",
       " '5',\n",
       " '5',\n",
       " '5',\n",
       " '5',\n",
       " '5',\n",
       " '5',\n",
       " '5',\n",
       " '5',\n",
       " '4',\n",
       " '5',\n",
       " '5',\n",
       " '5',\n",
       " '5',\n",
       " '5',\n",
       " '5',\n",
       " '5',\n",
       " '5',\n",
       " '5',\n",
       " '4',\n",
       " '5',\n",
       " '5',\n",
       " '5',\n",
       " '5',\n",
       " '5',\n",
       " '5',\n",
       " '5',\n",
       " '5',\n",
       " '5',\n",
       " '4',\n",
       " '5',\n",
       " '5',\n",
       " '5',\n",
       " '5']"
      ]
     },
     "execution_count": 116,
     "metadata": {},
     "output_type": "execute_result"
    }
   ],
   "source": [
    "R4=[]\n",
    "for i in range(10):\n",
    " for i in driver.find_elements_by_xpath('//div[@class=\"_3LWZlK _1BLPMq\"]'):\n",
    "   R4.append(i.text.replace('\\n',''))\n",
    "\n",
    "driver.find_element_by_xpath('//a[@class=\"ge-49M\"]').click()\n",
    "time.sleep(2)\n",
    "\n",
    "R4  "
   ]
  },
  {
   "cell_type": "code",
   "execution_count": 117,
   "id": "baaf48ea",
   "metadata": {},
   "outputs": [
    {
     "data": {
      "text/plain": [
       "100"
      ]
     },
     "execution_count": 117,
     "metadata": {},
     "output_type": "execute_result"
    }
   ],
   "source": [
    "len(R4)"
   ]
  },
  {
   "cell_type": "code",
   "execution_count": 118,
   "id": "ab8b3032",
   "metadata": {},
   "outputs": [
    {
     "data": {
      "text/plain": [
       "['Perfect product!',\n",
       " 'Highly recommended',\n",
       " 'Simply awesome',\n",
       " 'Worth every penny',\n",
       " 'Nice product',\n",
       " 'Terrific',\n",
       " 'Classy product',\n",
       " 'Highly recommended',\n",
       " 'Wonderful',\n",
       " 'Brilliant',\n",
       " 'Perfect product!',\n",
       " 'Highly recommended',\n",
       " 'Simply awesome',\n",
       " 'Worth every penny',\n",
       " 'Nice product',\n",
       " 'Terrific',\n",
       " 'Classy product',\n",
       " 'Highly recommended',\n",
       " 'Wonderful',\n",
       " 'Brilliant',\n",
       " 'Perfect product!',\n",
       " 'Highly recommended',\n",
       " 'Simply awesome',\n",
       " 'Worth every penny',\n",
       " 'Nice product',\n",
       " 'Terrific',\n",
       " 'Classy product',\n",
       " 'Highly recommended',\n",
       " 'Wonderful',\n",
       " 'Brilliant',\n",
       " 'Perfect product!',\n",
       " 'Highly recommended',\n",
       " 'Simply awesome',\n",
       " 'Worth every penny',\n",
       " 'Nice product',\n",
       " 'Terrific',\n",
       " 'Classy product',\n",
       " 'Highly recommended',\n",
       " 'Wonderful',\n",
       " 'Brilliant',\n",
       " 'Perfect product!',\n",
       " 'Highly recommended',\n",
       " 'Simply awesome',\n",
       " 'Worth every penny',\n",
       " 'Nice product',\n",
       " 'Terrific',\n",
       " 'Classy product',\n",
       " 'Highly recommended',\n",
       " 'Wonderful',\n",
       " 'Brilliant',\n",
       " 'Perfect product!',\n",
       " 'Highly recommended',\n",
       " 'Simply awesome',\n",
       " 'Worth every penny',\n",
       " 'Nice product',\n",
       " 'Terrific',\n",
       " 'Classy product',\n",
       " 'Highly recommended',\n",
       " 'Wonderful',\n",
       " 'Brilliant',\n",
       " 'Perfect product!',\n",
       " 'Highly recommended',\n",
       " 'Simply awesome',\n",
       " 'Worth every penny',\n",
       " 'Nice product',\n",
       " 'Terrific',\n",
       " 'Classy product',\n",
       " 'Highly recommended',\n",
       " 'Wonderful',\n",
       " 'Brilliant',\n",
       " 'Perfect product!',\n",
       " 'Highly recommended',\n",
       " 'Simply awesome',\n",
       " 'Worth every penny',\n",
       " 'Nice product',\n",
       " 'Terrific',\n",
       " 'Classy product',\n",
       " 'Highly recommended',\n",
       " 'Wonderful',\n",
       " 'Brilliant',\n",
       " 'Perfect product!',\n",
       " 'Highly recommended',\n",
       " 'Simply awesome',\n",
       " 'Worth every penny',\n",
       " 'Nice product',\n",
       " 'Terrific',\n",
       " 'Classy product',\n",
       " 'Highly recommended',\n",
       " 'Wonderful',\n",
       " 'Brilliant',\n",
       " 'Perfect product!',\n",
       " 'Highly recommended',\n",
       " 'Simply awesome',\n",
       " 'Worth every penny',\n",
       " 'Nice product',\n",
       " 'Terrific',\n",
       " 'Classy product',\n",
       " 'Highly recommended',\n",
       " 'Wonderful',\n",
       " 'Brilliant']"
      ]
     },
     "execution_count": 118,
     "metadata": {},
     "output_type": "execute_result"
    }
   ],
   "source": [
    "Review=[]\n",
    "for i in range(10):\n",
    " for i in driver.find_elements_by_xpath('//p[@class=\"_2-N8zT\"]'):\n",
    "   Review.append(i.text.replace('\\n',''))\n",
    "\n",
    "\n",
    "driver.find_element_by_xpath('//a[@class=\"ge-49M\"]').click()\n",
    "time.sleep(2)\n",
    "\n",
    "Review  "
   ]
  },
  {
   "cell_type": "code",
   "execution_count": 119,
   "id": "34b48faa",
   "metadata": {},
   "outputs": [
    {
     "data": {
      "text/plain": [
       "100"
      ]
     },
     "execution_count": 119,
     "metadata": {},
     "output_type": "execute_result"
    }
   ],
   "source": [
    "len(Review)"
   ]
  },
  {
   "cell_type": "code",
   "execution_count": 120,
   "id": "0a883248",
   "metadata": {},
   "outputs": [
    {
     "data": {
      "text/plain": [
       "['The Best Phone for the MoneyThe iPhone 11 offers superb cameras, a more durable design and excellent battery life for an affordable price.Compelling ultra-wide cameraNew Night mode is excellentLong battery life',\n",
       " 'Amazing phone with great cameras and better battery which gives you the best performance. I just love the camera .',\n",
       " 'Amazing Powerful and Durable Gadget.I’m am very happy with the camera picture quality, Amazing face id unlocked in dark room, Strong battery with perfect screen size as you can carry easily in pocket. This is my third iPhone.I shifted from android Samsung Note series to iPhone because of the strong build quality and peace of mind for next 3-4 years.Don’t think to much just go for it and I suggest you to go for minimum 128gb variant or more 256gb.I’ve attached my puppy pics and no fi...READ MORE',\n",
       " 'Previously I was using one plus 3t it was a great phoneAnd then I decided to upgrade I am stuck between Samsung s10 plus or iPhone 11I have seen the specs and everything were good except the display it’s somewhere between 720-1080 and it’s not even an amoled it’s an LCD displayBut I decided to go with iPhone because I have never used an IOS device I have Been an android user from the past 9 years I ordered IPhone 11 (128gb) product redMy experience after using 3 weeks1. The delivery ...READ MORE',\n",
       " 'This is my first iOS phone. I am very happy with this product. Very much satisfied with this. I love this phone.',\n",
       " 'So far it’s been an AMAZING experience coming back to iOS after nearly a decade but it’s not as versatile as android though phone is sturdy dropped it accidentally a couple of times and nothing happened fortunately camera is awesome',\n",
       " 'iphone 11 is a very good phone to buy only if you can compromise for the display. The display on this is device is pretty good but you can get other options with better displays in this price segment.If you can survive with an HD+ LCD panel with thicker bezels and a notch up top then this is a very good phone for you.Cameras are awesome, battery backup excellent, great performance and a decent premium look. Good job Apple !',\n",
       " 'It’s a must buy who is looking for an upgrade from previous generation of iPhones. If you are using XR then still you can hold on for sometime and upgrade to 2020 model else this phone is a must buy . Camera quality is amazing and wide angle is something to count upon. Performance wise it’s amazing and feels premium while holding in hand. So a big YES for this device. Go for 128 GB variant as the 4K videos will occupy lots of space and the storage can get over very quickly. Try to buy it with...READ MORE',\n",
       " 'Value for money❤️❤️Its awesome mobile phone in the world ...Display was very good and bright ..Trust me freinds you r never regret after Buying..Just go for it....I love this phone and i switch to iphone x to 11',\n",
       " 'Best budget Iphone till date ❤️ go for it guys without second thought. Let me explain you guys about Camera, Display, battery, and performance.Camera: at this price range there is no comparison of camera, you’ll love the picture quality as well as video quality. I am a Vlogger I wanted an iPhone with 4k video by front camera and I got this phone and I am more than happy 😃Battery: I use this phone roughly as I am active social media person and I have a youtube channel. so the battery ba...READ MORE',\n",
       " 'The Best Phone for the MoneyThe iPhone 11 offers superb cameras, a more durable design and excellent battery life for an affordable price.Compelling ultra-wide cameraNew Night mode is excellentLong battery life',\n",
       " 'Amazing phone with great cameras and better battery which gives you the best performance. I just love the camera .',\n",
       " 'Amazing Powerful and Durable Gadget.I’m am very happy with the camera picture quality, Amazing face id unlocked in dark room, Strong battery with perfect screen size as you can carry easily in pocket. This is my third iPhone.I shifted from android Samsung Note series to iPhone because of the strong build quality and peace of mind for next 3-4 years.Don’t think to much just go for it and I suggest you to go for minimum 128gb variant or more 256gb.I’ve attached my puppy pics and no fi...READ MORE',\n",
       " 'Previously I was using one plus 3t it was a great phoneAnd then I decided to upgrade I am stuck between Samsung s10 plus or iPhone 11I have seen the specs and everything were good except the display it’s somewhere between 720-1080 and it’s not even an amoled it’s an LCD displayBut I decided to go with iPhone because I have never used an IOS device I have Been an android user from the past 9 years I ordered IPhone 11 (128gb) product redMy experience after using 3 weeks1. The delivery ...READ MORE',\n",
       " 'This is my first iOS phone. I am very happy with this product. Very much satisfied with this. I love this phone.',\n",
       " 'So far it’s been an AMAZING experience coming back to iOS after nearly a decade but it’s not as versatile as android though phone is sturdy dropped it accidentally a couple of times and nothing happened fortunately camera is awesome',\n",
       " 'iphone 11 is a very good phone to buy only if you can compromise for the display. The display on this is device is pretty good but you can get other options with better displays in this price segment.If you can survive with an HD+ LCD panel with thicker bezels and a notch up top then this is a very good phone for you.Cameras are awesome, battery backup excellent, great performance and a decent premium look. Good job Apple !',\n",
       " 'It’s a must buy who is looking for an upgrade from previous generation of iPhones. If you are using XR then still you can hold on for sometime and upgrade to 2020 model else this phone is a must buy . Camera quality is amazing and wide angle is something to count upon. Performance wise it’s amazing and feels premium while holding in hand. So a big YES for this device. Go for 128 GB variant as the 4K videos will occupy lots of space and the storage can get over very quickly. Try to buy it with...READ MORE',\n",
       " 'Value for money❤️❤️Its awesome mobile phone in the world ...Display was very good and bright ..Trust me freinds you r never regret after Buying..Just go for it....I love this phone and i switch to iphone x to 11',\n",
       " 'Best budget Iphone till date ❤️ go for it guys without second thought. Let me explain you guys about Camera, Display, battery, and performance.Camera: at this price range there is no comparison of camera, you’ll love the picture quality as well as video quality. I am a Vlogger I wanted an iPhone with 4k video by front camera and I got this phone and I am more than happy 😃Battery: I use this phone roughly as I am active social media person and I have a youtube channel. so the battery ba...READ MORE',\n",
       " 'The Best Phone for the MoneyThe iPhone 11 offers superb cameras, a more durable design and excellent battery life for an affordable price.Compelling ultra-wide cameraNew Night mode is excellentLong battery life',\n",
       " 'Amazing phone with great cameras and better battery which gives you the best performance. I just love the camera .',\n",
       " 'Amazing Powerful and Durable Gadget.I’m am very happy with the camera picture quality, Amazing face id unlocked in dark room, Strong battery with perfect screen size as you can carry easily in pocket. This is my third iPhone.I shifted from android Samsung Note series to iPhone because of the strong build quality and peace of mind for next 3-4 years.Don’t think to much just go for it and I suggest you to go for minimum 128gb variant or more 256gb.I’ve attached my puppy pics and no fi...READ MORE',\n",
       " 'Previously I was using one plus 3t it was a great phoneAnd then I decided to upgrade I am stuck between Samsung s10 plus or iPhone 11I have seen the specs and everything were good except the display it’s somewhere between 720-1080 and it’s not even an amoled it’s an LCD displayBut I decided to go with iPhone because I have never used an IOS device I have Been an android user from the past 9 years I ordered IPhone 11 (128gb) product redMy experience after using 3 weeks1. The delivery ...READ MORE',\n",
       " 'This is my first iOS phone. I am very happy with this product. Very much satisfied with this. I love this phone.',\n",
       " 'So far it’s been an AMAZING experience coming back to iOS after nearly a decade but it’s not as versatile as android though phone is sturdy dropped it accidentally a couple of times and nothing happened fortunately camera is awesome',\n",
       " 'iphone 11 is a very good phone to buy only if you can compromise for the display. The display on this is device is pretty good but you can get other options with better displays in this price segment.If you can survive with an HD+ LCD panel with thicker bezels and a notch up top then this is a very good phone for you.Cameras are awesome, battery backup excellent, great performance and a decent premium look. Good job Apple !',\n",
       " 'It’s a must buy who is looking for an upgrade from previous generation of iPhones. If you are using XR then still you can hold on for sometime and upgrade to 2020 model else this phone is a must buy . Camera quality is amazing and wide angle is something to count upon. Performance wise it’s amazing and feels premium while holding in hand. So a big YES for this device. Go for 128 GB variant as the 4K videos will occupy lots of space and the storage can get over very quickly. Try to buy it with...READ MORE',\n",
       " 'Value for money❤️❤️Its awesome mobile phone in the world ...Display was very good and bright ..Trust me freinds you r never regret after Buying..Just go for it....I love this phone and i switch to iphone x to 11',\n",
       " 'Best budget Iphone till date ❤️ go for it guys without second thought. Let me explain you guys about Camera, Display, battery, and performance.Camera: at this price range there is no comparison of camera, you’ll love the picture quality as well as video quality. I am a Vlogger I wanted an iPhone with 4k video by front camera and I got this phone and I am more than happy 😃Battery: I use this phone roughly as I am active social media person and I have a youtube channel. so the battery ba...READ MORE',\n",
       " 'The Best Phone for the MoneyThe iPhone 11 offers superb cameras, a more durable design and excellent battery life for an affordable price.Compelling ultra-wide cameraNew Night mode is excellentLong battery life',\n",
       " 'Amazing phone with great cameras and better battery which gives you the best performance. I just love the camera .',\n",
       " 'Amazing Powerful and Durable Gadget.I’m am very happy with the camera picture quality, Amazing face id unlocked in dark room, Strong battery with perfect screen size as you can carry easily in pocket. This is my third iPhone.I shifted from android Samsung Note series to iPhone because of the strong build quality and peace of mind for next 3-4 years.Don’t think to much just go for it and I suggest you to go for minimum 128gb variant or more 256gb.I’ve attached my puppy pics and no fi...READ MORE',\n",
       " 'Previously I was using one plus 3t it was a great phoneAnd then I decided to upgrade I am stuck between Samsung s10 plus or iPhone 11I have seen the specs and everything were good except the display it’s somewhere between 720-1080 and it’s not even an amoled it’s an LCD displayBut I decided to go with iPhone because I have never used an IOS device I have Been an android user from the past 9 years I ordered IPhone 11 (128gb) product redMy experience after using 3 weeks1. The delivery ...READ MORE',\n",
       " 'This is my first iOS phone. I am very happy with this product. Very much satisfied with this. I love this phone.',\n",
       " 'So far it’s been an AMAZING experience coming back to iOS after nearly a decade but it’s not as versatile as android though phone is sturdy dropped it accidentally a couple of times and nothing happened fortunately camera is awesome',\n",
       " 'iphone 11 is a very good phone to buy only if you can compromise for the display. The display on this is device is pretty good but you can get other options with better displays in this price segment.If you can survive with an HD+ LCD panel with thicker bezels and a notch up top then this is a very good phone for you.Cameras are awesome, battery backup excellent, great performance and a decent premium look. Good job Apple !',\n",
       " 'It’s a must buy who is looking for an upgrade from previous generation of iPhones. If you are using XR then still you can hold on for sometime and upgrade to 2020 model else this phone is a must buy . Camera quality is amazing and wide angle is something to count upon. Performance wise it’s amazing and feels premium while holding in hand. So a big YES for this device. Go for 128 GB variant as the 4K videos will occupy lots of space and the storage can get over very quickly. Try to buy it with...READ MORE',\n",
       " 'Value for money❤️❤️Its awesome mobile phone in the world ...Display was very good and bright ..Trust me freinds you r never regret after Buying..Just go for it....I love this phone and i switch to iphone x to 11',\n",
       " 'Best budget Iphone till date ❤️ go for it guys without second thought. Let me explain you guys about Camera, Display, battery, and performance.Camera: at this price range there is no comparison of camera, you’ll love the picture quality as well as video quality. I am a Vlogger I wanted an iPhone with 4k video by front camera and I got this phone and I am more than happy 😃Battery: I use this phone roughly as I am active social media person and I have a youtube channel. so the battery ba...READ MORE',\n",
       " 'The Best Phone for the MoneyThe iPhone 11 offers superb cameras, a more durable design and excellent battery life for an affordable price.Compelling ultra-wide cameraNew Night mode is excellentLong battery life',\n",
       " 'Amazing phone with great cameras and better battery which gives you the best performance. I just love the camera .',\n",
       " 'Amazing Powerful and Durable Gadget.I’m am very happy with the camera picture quality, Amazing face id unlocked in dark room, Strong battery with perfect screen size as you can carry easily in pocket. This is my third iPhone.I shifted from android Samsung Note series to iPhone because of the strong build quality and peace of mind for next 3-4 years.Don’t think to much just go for it and I suggest you to go for minimum 128gb variant or more 256gb.I’ve attached my puppy pics and no fi...READ MORE',\n",
       " 'Previously I was using one plus 3t it was a great phoneAnd then I decided to upgrade I am stuck between Samsung s10 plus or iPhone 11I have seen the specs and everything were good except the display it’s somewhere between 720-1080 and it’s not even an amoled it’s an LCD displayBut I decided to go with iPhone because I have never used an IOS device I have Been an android user from the past 9 years I ordered IPhone 11 (128gb) product redMy experience after using 3 weeks1. The delivery ...READ MORE',\n",
       " 'This is my first iOS phone. I am very happy with this product. Very much satisfied with this. I love this phone.',\n",
       " 'So far it’s been an AMAZING experience coming back to iOS after nearly a decade but it’s not as versatile as android though phone is sturdy dropped it accidentally a couple of times and nothing happened fortunately camera is awesome',\n",
       " 'iphone 11 is a very good phone to buy only if you can compromise for the display. The display on this is device is pretty good but you can get other options with better displays in this price segment.If you can survive with an HD+ LCD panel with thicker bezels and a notch up top then this is a very good phone for you.Cameras are awesome, battery backup excellent, great performance and a decent premium look. Good job Apple !',\n",
       " 'It’s a must buy who is looking for an upgrade from previous generation of iPhones. If you are using XR then still you can hold on for sometime and upgrade to 2020 model else this phone is a must buy . Camera quality is amazing and wide angle is something to count upon. Performance wise it’s amazing and feels premium while holding in hand. So a big YES for this device. Go for 128 GB variant as the 4K videos will occupy lots of space and the storage can get over very quickly. Try to buy it with...READ MORE',\n",
       " 'Value for money❤️❤️Its awesome mobile phone in the world ...Display was very good and bright ..Trust me freinds you r never regret after Buying..Just go for it....I love this phone and i switch to iphone x to 11',\n",
       " 'Best budget Iphone till date ❤️ go for it guys without second thought. Let me explain you guys about Camera, Display, battery, and performance.Camera: at this price range there is no comparison of camera, you’ll love the picture quality as well as video quality. I am a Vlogger I wanted an iPhone with 4k video by front camera and I got this phone and I am more than happy 😃Battery: I use this phone roughly as I am active social media person and I have a youtube channel. so the battery ba...READ MORE',\n",
       " 'The Best Phone for the MoneyThe iPhone 11 offers superb cameras, a more durable design and excellent battery life for an affordable price.Compelling ultra-wide cameraNew Night mode is excellentLong battery life',\n",
       " 'Amazing phone with great cameras and better battery which gives you the best performance. I just love the camera .',\n",
       " 'Amazing Powerful and Durable Gadget.I’m am very happy with the camera picture quality, Amazing face id unlocked in dark room, Strong battery with perfect screen size as you can carry easily in pocket. This is my third iPhone.I shifted from android Samsung Note series to iPhone because of the strong build quality and peace of mind for next 3-4 years.Don’t think to much just go for it and I suggest you to go for minimum 128gb variant or more 256gb.I’ve attached my puppy pics and no fi...READ MORE',\n",
       " 'Previously I was using one plus 3t it was a great phoneAnd then I decided to upgrade I am stuck between Samsung s10 plus or iPhone 11I have seen the specs and everything were good except the display it’s somewhere between 720-1080 and it’s not even an amoled it’s an LCD displayBut I decided to go with iPhone because I have never used an IOS device I have Been an android user from the past 9 years I ordered IPhone 11 (128gb) product redMy experience after using 3 weeks1. The delivery ...READ MORE',\n",
       " 'This is my first iOS phone. I am very happy with this product. Very much satisfied with this. I love this phone.',\n",
       " 'So far it’s been an AMAZING experience coming back to iOS after nearly a decade but it’s not as versatile as android though phone is sturdy dropped it accidentally a couple of times and nothing happened fortunately camera is awesome',\n",
       " 'iphone 11 is a very good phone to buy only if you can compromise for the display. The display on this is device is pretty good but you can get other options with better displays in this price segment.If you can survive with an HD+ LCD panel with thicker bezels and a notch up top then this is a very good phone for you.Cameras are awesome, battery backup excellent, great performance and a decent premium look. Good job Apple !',\n",
       " 'It’s a must buy who is looking for an upgrade from previous generation of iPhones. If you are using XR then still you can hold on for sometime and upgrade to 2020 model else this phone is a must buy . Camera quality is amazing and wide angle is something to count upon. Performance wise it’s amazing and feels premium while holding in hand. So a big YES for this device. Go for 128 GB variant as the 4K videos will occupy lots of space and the storage can get over very quickly. Try to buy it with...READ MORE',\n",
       " 'Value for money❤️❤️Its awesome mobile phone in the world ...Display was very good and bright ..Trust me freinds you r never regret after Buying..Just go for it....I love this phone and i switch to iphone x to 11',\n",
       " 'Best budget Iphone till date ❤️ go for it guys without second thought. Let me explain you guys about Camera, Display, battery, and performance.Camera: at this price range there is no comparison of camera, you’ll love the picture quality as well as video quality. I am a Vlogger I wanted an iPhone with 4k video by front camera and I got this phone and I am more than happy 😃Battery: I use this phone roughly as I am active social media person and I have a youtube channel. so the battery ba...READ MORE',\n",
       " 'The Best Phone for the MoneyThe iPhone 11 offers superb cameras, a more durable design and excellent battery life for an affordable price.Compelling ultra-wide cameraNew Night mode is excellentLong battery life',\n",
       " 'Amazing phone with great cameras and better battery which gives you the best performance. I just love the camera .',\n",
       " 'Amazing Powerful and Durable Gadget.I’m am very happy with the camera picture quality, Amazing face id unlocked in dark room, Strong battery with perfect screen size as you can carry easily in pocket. This is my third iPhone.I shifted from android Samsung Note series to iPhone because of the strong build quality and peace of mind for next 3-4 years.Don’t think to much just go for it and I suggest you to go for minimum 128gb variant or more 256gb.I’ve attached my puppy pics and no fi...READ MORE',\n",
       " 'Previously I was using one plus 3t it was a great phoneAnd then I decided to upgrade I am stuck between Samsung s10 plus or iPhone 11I have seen the specs and everything were good except the display it’s somewhere between 720-1080 and it’s not even an amoled it’s an LCD displayBut I decided to go with iPhone because I have never used an IOS device I have Been an android user from the past 9 years I ordered IPhone 11 (128gb) product redMy experience after using 3 weeks1. The delivery ...READ MORE',\n",
       " 'This is my first iOS phone. I am very happy with this product. Very much satisfied with this. I love this phone.',\n",
       " 'So far it’s been an AMAZING experience coming back to iOS after nearly a decade but it’s not as versatile as android though phone is sturdy dropped it accidentally a couple of times and nothing happened fortunately camera is awesome',\n",
       " 'iphone 11 is a very good phone to buy only if you can compromise for the display. The display on this is device is pretty good but you can get other options with better displays in this price segment.If you can survive with an HD+ LCD panel with thicker bezels and a notch up top then this is a very good phone for you.Cameras are awesome, battery backup excellent, great performance and a decent premium look. Good job Apple !',\n",
       " 'It’s a must buy who is looking for an upgrade from previous generation of iPhones. If you are using XR then still you can hold on for sometime and upgrade to 2020 model else this phone is a must buy . Camera quality is amazing and wide angle is something to count upon. Performance wise it’s amazing and feels premium while holding in hand. So a big YES for this device. Go for 128 GB variant as the 4K videos will occupy lots of space and the storage can get over very quickly. Try to buy it with...READ MORE',\n",
       " 'Value for money❤️❤️Its awesome mobile phone in the world ...Display was very good and bright ..Trust me freinds you r never regret after Buying..Just go for it....I love this phone and i switch to iphone x to 11',\n",
       " 'Best budget Iphone till date ❤️ go for it guys without second thought. Let me explain you guys about Camera, Display, battery, and performance.Camera: at this price range there is no comparison of camera, you’ll love the picture quality as well as video quality. I am a Vlogger I wanted an iPhone with 4k video by front camera and I got this phone and I am more than happy 😃Battery: I use this phone roughly as I am active social media person and I have a youtube channel. so the battery ba...READ MORE',\n",
       " 'The Best Phone for the MoneyThe iPhone 11 offers superb cameras, a more durable design and excellent battery life for an affordable price.Compelling ultra-wide cameraNew Night mode is excellentLong battery life',\n",
       " 'Amazing phone with great cameras and better battery which gives you the best performance. I just love the camera .',\n",
       " 'Amazing Powerful and Durable Gadget.I’m am very happy with the camera picture quality, Amazing face id unlocked in dark room, Strong battery with perfect screen size as you can carry easily in pocket. This is my third iPhone.I shifted from android Samsung Note series to iPhone because of the strong build quality and peace of mind for next 3-4 years.Don’t think to much just go for it and I suggest you to go for minimum 128gb variant or more 256gb.I’ve attached my puppy pics and no fi...READ MORE',\n",
       " 'Previously I was using one plus 3t it was a great phoneAnd then I decided to upgrade I am stuck between Samsung s10 plus or iPhone 11I have seen the specs and everything were good except the display it’s somewhere between 720-1080 and it’s not even an amoled it’s an LCD displayBut I decided to go with iPhone because I have never used an IOS device I have Been an android user from the past 9 years I ordered IPhone 11 (128gb) product redMy experience after using 3 weeks1. The delivery ...READ MORE',\n",
       " 'This is my first iOS phone. I am very happy with this product. Very much satisfied with this. I love this phone.',\n",
       " 'So far it’s been an AMAZING experience coming back to iOS after nearly a decade but it’s not as versatile as android though phone is sturdy dropped it accidentally a couple of times and nothing happened fortunately camera is awesome',\n",
       " 'iphone 11 is a very good phone to buy only if you can compromise for the display. The display on this is device is pretty good but you can get other options with better displays in this price segment.If you can survive with an HD+ LCD panel with thicker bezels and a notch up top then this is a very good phone for you.Cameras are awesome, battery backup excellent, great performance and a decent premium look. Good job Apple !',\n",
       " 'It’s a must buy who is looking for an upgrade from previous generation of iPhones. If you are using XR then still you can hold on for sometime and upgrade to 2020 model else this phone is a must buy . Camera quality is amazing and wide angle is something to count upon. Performance wise it’s amazing and feels premium while holding in hand. So a big YES for this device. Go for 128 GB variant as the 4K videos will occupy lots of space and the storage can get over very quickly. Try to buy it with...READ MORE',\n",
       " 'Value for money❤️❤️Its awesome mobile phone in the world ...Display was very good and bright ..Trust me freinds you r never regret after Buying..Just go for it....I love this phone and i switch to iphone x to 11',\n",
       " 'Best budget Iphone till date ❤️ go for it guys without second thought. Let me explain you guys about Camera, Display, battery, and performance.Camera: at this price range there is no comparison of camera, you’ll love the picture quality as well as video quality. I am a Vlogger I wanted an iPhone with 4k video by front camera and I got this phone and I am more than happy 😃Battery: I use this phone roughly as I am active social media person and I have a youtube channel. so the battery ba...READ MORE',\n",
       " 'The Best Phone for the MoneyThe iPhone 11 offers superb cameras, a more durable design and excellent battery life for an affordable price.Compelling ultra-wide cameraNew Night mode is excellentLong battery life',\n",
       " 'Amazing phone with great cameras and better battery which gives you the best performance. I just love the camera .',\n",
       " 'Amazing Powerful and Durable Gadget.I’m am very happy with the camera picture quality, Amazing face id unlocked in dark room, Strong battery with perfect screen size as you can carry easily in pocket. This is my third iPhone.I shifted from android Samsung Note series to iPhone because of the strong build quality and peace of mind for next 3-4 years.Don’t think to much just go for it and I suggest you to go for minimum 128gb variant or more 256gb.I’ve attached my puppy pics and no fi...READ MORE',\n",
       " 'Previously I was using one plus 3t it was a great phoneAnd then I decided to upgrade I am stuck between Samsung s10 plus or iPhone 11I have seen the specs and everything were good except the display it’s somewhere between 720-1080 and it’s not even an amoled it’s an LCD displayBut I decided to go with iPhone because I have never used an IOS device I have Been an android user from the past 9 years I ordered IPhone 11 (128gb) product redMy experience after using 3 weeks1. The delivery ...READ MORE',\n",
       " 'This is my first iOS phone. I am very happy with this product. Very much satisfied with this. I love this phone.',\n",
       " 'So far it’s been an AMAZING experience coming back to iOS after nearly a decade but it’s not as versatile as android though phone is sturdy dropped it accidentally a couple of times and nothing happened fortunately camera is awesome',\n",
       " 'iphone 11 is a very good phone to buy only if you can compromise for the display. The display on this is device is pretty good but you can get other options with better displays in this price segment.If you can survive with an HD+ LCD panel with thicker bezels and a notch up top then this is a very good phone for you.Cameras are awesome, battery backup excellent, great performance and a decent premium look. Good job Apple !',\n",
       " 'It’s a must buy who is looking for an upgrade from previous generation of iPhones. If you are using XR then still you can hold on for sometime and upgrade to 2020 model else this phone is a must buy . Camera quality is amazing and wide angle is something to count upon. Performance wise it’s amazing and feels premium while holding in hand. So a big YES for this device. Go for 128 GB variant as the 4K videos will occupy lots of space and the storage can get over very quickly. Try to buy it with...READ MORE',\n",
       " 'Value for money❤️❤️Its awesome mobile phone in the world ...Display was very good and bright ..Trust me freinds you r never regret after Buying..Just go for it....I love this phone and i switch to iphone x to 11',\n",
       " 'Best budget Iphone till date ❤️ go for it guys without second thought. Let me explain you guys about Camera, Display, battery, and performance.Camera: at this price range there is no comparison of camera, you’ll love the picture quality as well as video quality. I am a Vlogger I wanted an iPhone with 4k video by front camera and I got this phone and I am more than happy 😃Battery: I use this phone roughly as I am active social media person and I have a youtube channel. so the battery ba...READ MORE',\n",
       " 'The Best Phone for the MoneyThe iPhone 11 offers superb cameras, a more durable design and excellent battery life for an affordable price.Compelling ultra-wide cameraNew Night mode is excellentLong battery life',\n",
       " 'Amazing phone with great cameras and better battery which gives you the best performance. I just love the camera .',\n",
       " 'Amazing Powerful and Durable Gadget.I’m am very happy with the camera picture quality, Amazing face id unlocked in dark room, Strong battery with perfect screen size as you can carry easily in pocket. This is my third iPhone.I shifted from android Samsung Note series to iPhone because of the strong build quality and peace of mind for next 3-4 years.Don’t think to much just go for it and I suggest you to go for minimum 128gb variant or more 256gb.I’ve attached my puppy pics and no fi...READ MORE',\n",
       " 'Previously I was using one plus 3t it was a great phoneAnd then I decided to upgrade I am stuck between Samsung s10 plus or iPhone 11I have seen the specs and everything were good except the display it’s somewhere between 720-1080 and it’s not even an amoled it’s an LCD displayBut I decided to go with iPhone because I have never used an IOS device I have Been an android user from the past 9 years I ordered IPhone 11 (128gb) product redMy experience after using 3 weeks1. The delivery ...READ MORE',\n",
       " 'This is my first iOS phone. I am very happy with this product. Very much satisfied with this. I love this phone.',\n",
       " 'So far it’s been an AMAZING experience coming back to iOS after nearly a decade but it’s not as versatile as android though phone is sturdy dropped it accidentally a couple of times and nothing happened fortunately camera is awesome',\n",
       " 'iphone 11 is a very good phone to buy only if you can compromise for the display. The display on this is device is pretty good but you can get other options with better displays in this price segment.If you can survive with an HD+ LCD panel with thicker bezels and a notch up top then this is a very good phone for you.Cameras are awesome, battery backup excellent, great performance and a decent premium look. Good job Apple !',\n",
       " 'It’s a must buy who is looking for an upgrade from previous generation of iPhones. If you are using XR then still you can hold on for sometime and upgrade to 2020 model else this phone is a must buy . Camera quality is amazing and wide angle is something to count upon. Performance wise it’s amazing and feels premium while holding in hand. So a big YES for this device. Go for 128 GB variant as the 4K videos will occupy lots of space and the storage can get over very quickly. Try to buy it with...READ MORE',\n",
       " 'Value for money❤️❤️Its awesome mobile phone in the world ...Display was very good and bright ..Trust me freinds you r never regret after Buying..Just go for it....I love this phone and i switch to iphone x to 11',\n",
       " 'Best budget Iphone till date ❤️ go for it guys without second thought. Let me explain you guys about Camera, Display, battery, and performance.Camera: at this price range there is no comparison of camera, you’ll love the picture quality as well as video quality. I am a Vlogger I wanted an iPhone with 4k video by front camera and I got this phone and I am more than happy 😃Battery: I use this phone roughly as I am active social media person and I have a youtube channel. so the battery ba...READ MORE']"
      ]
     },
     "execution_count": 120,
     "metadata": {},
     "output_type": "execute_result"
    }
   ],
   "source": [
    "full_Review=[]\n",
    "for i in range(10):\n",
    " for i in driver.find_elements_by_xpath('//div[@class=\"t-ZTKy\"]'):\n",
    "   full_Review.append(i.text.replace('\\n',''))\n",
    "\n",
    "driver.find_element_by_xpath('//a[@class=\"ge-49M\"]').click()\n",
    "time.sleep(2)\n",
    "\n",
    "full_Review  "
   ]
  },
  {
   "cell_type": "code",
   "execution_count": 121,
   "id": "77b94d40",
   "metadata": {},
   "outputs": [
    {
     "data": {
      "text/plain": [
       "100"
      ]
     },
     "execution_count": 121,
     "metadata": {},
     "output_type": "execute_result"
    }
   ],
   "source": [
    "len(full_Review)"
   ]
  },
  {
   "cell_type": "code",
   "execution_count": 122,
   "id": "06c1b191",
   "metadata": {},
   "outputs": [],
   "source": [
    "import pandas as pd\n",
    "iph6=pd.DataFrame({})\n",
    "\n",
    "iph6['Ratings']=R4\n",
    "iph6['Review_summery']=Review\n",
    "iph6['full_Review']=full_Review\n"
   ]
  },
  {
   "cell_type": "code",
   "execution_count": 123,
   "id": "ed69e1c3",
   "metadata": {},
   "outputs": [
    {
     "data": {
      "text/html": [
       "<div>\n",
       "<style scoped>\n",
       "    .dataframe tbody tr th:only-of-type {\n",
       "        vertical-align: middle;\n",
       "    }\n",
       "\n",
       "    .dataframe tbody tr th {\n",
       "        vertical-align: top;\n",
       "    }\n",
       "\n",
       "    .dataframe thead th {\n",
       "        text-align: right;\n",
       "    }\n",
       "</style>\n",
       "<table border=\"1\" class=\"dataframe\">\n",
       "  <thead>\n",
       "    <tr style=\"text-align: right;\">\n",
       "      <th></th>\n",
       "      <th>Ratings</th>\n",
       "      <th>Review_summery</th>\n",
       "      <th>full_Review</th>\n",
       "    </tr>\n",
       "  </thead>\n",
       "  <tbody>\n",
       "    <tr>\n",
       "      <th>0</th>\n",
       "      <td>5</td>\n",
       "      <td>Perfect product!</td>\n",
       "      <td>The Best Phone for the MoneyThe iPhone 11 offe...</td>\n",
       "    </tr>\n",
       "    <tr>\n",
       "      <th>1</th>\n",
       "      <td>5</td>\n",
       "      <td>Highly recommended</td>\n",
       "      <td>Amazing phone with great cameras and better ba...</td>\n",
       "    </tr>\n",
       "    <tr>\n",
       "      <th>2</th>\n",
       "      <td>5</td>\n",
       "      <td>Simply awesome</td>\n",
       "      <td>Amazing Powerful and Durable Gadget.I’m am ver...</td>\n",
       "    </tr>\n",
       "    <tr>\n",
       "      <th>3</th>\n",
       "      <td>5</td>\n",
       "      <td>Worth every penny</td>\n",
       "      <td>Previously I was using one plus 3t it was a gr...</td>\n",
       "    </tr>\n",
       "    <tr>\n",
       "      <th>4</th>\n",
       "      <td>5</td>\n",
       "      <td>Nice product</td>\n",
       "      <td>This is my first iOS phone. I am very happy wi...</td>\n",
       "    </tr>\n",
       "    <tr>\n",
       "      <th>...</th>\n",
       "      <td>...</td>\n",
       "      <td>...</td>\n",
       "      <td>...</td>\n",
       "    </tr>\n",
       "    <tr>\n",
       "      <th>95</th>\n",
       "      <td>4</td>\n",
       "      <td>Terrific</td>\n",
       "      <td>So far it’s been an AMAZING experience coming ...</td>\n",
       "    </tr>\n",
       "    <tr>\n",
       "      <th>96</th>\n",
       "      <td>5</td>\n",
       "      <td>Classy product</td>\n",
       "      <td>iphone 11 is a very good phone to buy only if ...</td>\n",
       "    </tr>\n",
       "    <tr>\n",
       "      <th>97</th>\n",
       "      <td>5</td>\n",
       "      <td>Highly recommended</td>\n",
       "      <td>It’s a must buy who is looking for an upgrade ...</td>\n",
       "    </tr>\n",
       "    <tr>\n",
       "      <th>98</th>\n",
       "      <td>5</td>\n",
       "      <td>Wonderful</td>\n",
       "      <td>Value for money❤️❤️Its awesome mobile phone in...</td>\n",
       "    </tr>\n",
       "    <tr>\n",
       "      <th>99</th>\n",
       "      <td>5</td>\n",
       "      <td>Brilliant</td>\n",
       "      <td>Best budget Iphone till date ❤️ go for it guys...</td>\n",
       "    </tr>\n",
       "  </tbody>\n",
       "</table>\n",
       "<p>100 rows × 3 columns</p>\n",
       "</div>"
      ],
      "text/plain": [
       "   Ratings      Review_summery  \\\n",
       "0        5    Perfect product!   \n",
       "1        5  Highly recommended   \n",
       "2        5      Simply awesome   \n",
       "3        5   Worth every penny   \n",
       "4        5        Nice product   \n",
       "..     ...                 ...   \n",
       "95       4            Terrific   \n",
       "96       5      Classy product   \n",
       "97       5  Highly recommended   \n",
       "98       5           Wonderful   \n",
       "99       5           Brilliant   \n",
       "\n",
       "                                          full_Review  \n",
       "0   The Best Phone for the MoneyThe iPhone 11 offe...  \n",
       "1   Amazing phone with great cameras and better ba...  \n",
       "2   Amazing Powerful and Durable Gadget.I’m am ver...  \n",
       "3   Previously I was using one plus 3t it was a gr...  \n",
       "4   This is my first iOS phone. I am very happy wi...  \n",
       "..                                                ...  \n",
       "95  So far it’s been an AMAZING experience coming ...  \n",
       "96  iphone 11 is a very good phone to buy only if ...  \n",
       "97  It’s a must buy who is looking for an upgrade ...  \n",
       "98  Value for money❤️❤️Its awesome mobile phone in...  \n",
       "99  Best budget Iphone till date ❤️ go for it guys...  \n",
       "\n",
       "[100 rows x 3 columns]"
      ]
     },
     "execution_count": 123,
     "metadata": {},
     "output_type": "execute_result"
    }
   ],
   "source": [
    "iph6"
   ]
  },
  {
   "cell_type": "markdown",
   "id": "1aadf73b",
   "metadata": {},
   "source": [
    "# Q8: Scrape data for first 100 sneakers you find when you visit flipkart.com and \n",
    "search for “sneakers” in the search field.\n",
    "You have to scrape 4 attributes of each sneaker :\n",
    "1. Brand\n",
    "2. Product Description\n",
    "3. Price\n",
    "4. discount %\n",
    "As shown in the below image, you have to scrape the tick marked attributes"
   ]
  },
  {
   "cell_type": "code",
   "execution_count": 48,
   "id": "b88a9f08",
   "metadata": {},
   "outputs": [],
   "source": [
    "driver = webdriver.Chrome()\n",
    "driver=webdriver.Chrome(\"chromedriver.exe\")"
   ]
  },
  {
   "cell_type": "code",
   "execution_count": 49,
   "id": "2927276b",
   "metadata": {},
   "outputs": [],
   "source": [
    "url=\" https://www.flipkart.com/\"\n",
    "driver.get(url)"
   ]
  },
  {
   "cell_type": "code",
   "execution_count": 50,
   "id": "b7f01d91",
   "metadata": {},
   "outputs": [],
   "source": [
    " try:\n",
    "     search_box=driver.find_element_by_xpath('//input[@title=\"Search for products, brands and more\"]')\n",
    "    \n",
    "except NoSuchElementException :\n",
    "  search_box='na'"
   ]
  },
  {
   "cell_type": "code",
   "execution_count": 51,
   "id": "f236ec48",
   "metadata": {},
   "outputs": [],
   "source": [
    "search_box.send_keys('sneakers ')"
   ]
  },
  {
   "cell_type": "code",
   "execution_count": 52,
   "id": "e8d77515",
   "metadata": {},
   "outputs": [],
   "source": [
    "search_botton=driver.find_element_by_xpath('//button[@class=\"L0Z3Pu\"]').click()"
   ]
  },
  {
   "cell_type": "code",
   "execution_count": 53,
   "id": "b1ff4ed0",
   "metadata": {},
   "outputs": [],
   "source": [
    "for i in range(3):\n",
    " driver.find_element_by_xpath('//a[@class=\"ge-49M\"]').click()\n",
    " time.sleep(2)\n",
    " "
   ]
  },
  {
   "cell_type": "code",
   "execution_count": 151,
   "id": "4b1ee877",
   "metadata": {},
   "outputs": [
    {
     "data": {
      "text/plain": [
       "['PEHANOSA',\n",
       " 'India hub',\n",
       " 'ORICUM',\n",
       " 'tigonis',\n",
       " 'Robbie jones',\n",
       " 'CALCADOS',\n",
       " 'Shoes Bank',\n",
       " 'ADIDAS',\n",
       " '3SIX5',\n",
       " 'bluemaker',\n",
       " 'TR',\n",
       " 'otoos',\n",
       " 'VIPSJAZZY',\n",
       " 'Kraasa',\n",
       " 'Alfiya',\n",
       " 'BLACK BOTTOM',\n",
       " 'Stefano Rads',\n",
       " 'HOTSTYLE',\n",
       " 'Chevit',\n",
       " 'PUMA',\n",
       " 'Numenzo',\n",
       " 'HOTSTYLE',\n",
       " 'SCATCHITE',\n",
       " 'PUMA',\n",
       " 'Absolute comfort',\n",
       " 'ESSENCE',\n",
       " 'Chevit',\n",
       " 'RED TAPE',\n",
       " 'Birde',\n",
       " 'restinfoot',\n",
       " 'Aura',\n",
       " 'Echor',\n",
       " 'KULP',\n",
       " 'D-SNEAKERZ',\n",
       " 'Nilatin',\n",
       " 'SUSON',\n",
       " 'Zsyto',\n",
       " 'Arohi',\n",
       " 'Robbie jones',\n",
       " 'PUMA',\n",
       " 'Robbie jones',\n",
       " 'World Wear Footwear',\n",
       " 'Birde',\n",
       " 'PEHANOSA',\n",
       " 'SWIGGY',\n",
       " 'India hub',\n",
       " 'Chevit',\n",
       " 'TR',\n",
       " 'Zorth',\n",
       " 'Chevit',\n",
       " 'Robbie jones',\n",
       " 'U.S. POLO ASSN.',\n",
       " 'bluemaker',\n",
       " 'ASTEROID',\n",
       " 'HOC',\n",
       " 'JUBENTA',\n",
       " 'HOTSTYLE',\n",
       " 'warships',\n",
       " 'World Wear Footwear',\n",
       " 'India hub',\n",
       " 'kardam&sons',\n",
       " 'ORICUM',\n",
       " 'Axter',\n",
       " 'Echor',\n",
       " 'Chevit',\n",
       " 'SPARX',\n",
       " 'bluemaker',\n",
       " 'Robbie jones',\n",
       " 'Ktiz',\n",
       " 'LEATHERKRAFT',\n",
       " 'ESSENCE',\n",
       " 'Robbie jones',\n",
       " 'BLACK BOTTOM',\n",
       " 'World Wear Footwear',\n",
       " 'ESSENCE',\n",
       " 'CALCADOS',\n",
       " 'Magnolia',\n",
       " 'Chevit',\n",
       " 'D-SNEAKERZ',\n",
       " 'Echor',\n",
       " 'PEHANOSA',\n",
       " 'India hub',\n",
       " 'ORICUM',\n",
       " 'tigonis',\n",
       " 'Robbie jones',\n",
       " 'CALCADOS',\n",
       " 'Shoes Bank',\n",
       " 'ADIDAS',\n",
       " '3SIX5',\n",
       " 'bluemaker',\n",
       " 'TR',\n",
       " 'otoos',\n",
       " 'VIPSJAZZY',\n",
       " 'Kraasa',\n",
       " 'Alfiya',\n",
       " 'BLACK BOTTOM',\n",
       " 'Stefano Rads',\n",
       " 'HOTSTYLE',\n",
       " 'Chevit',\n",
       " 'PUMA',\n",
       " 'Numenzo',\n",
       " 'HOTSTYLE',\n",
       " 'SCATCHITE',\n",
       " 'PUMA',\n",
       " 'Absolute comfort',\n",
       " 'ESSENCE',\n",
       " 'Chevit',\n",
       " 'RED TAPE',\n",
       " 'Birde',\n",
       " 'restinfoot',\n",
       " 'Aura',\n",
       " 'Echor',\n",
       " 'KULP',\n",
       " 'D-SNEAKERZ',\n",
       " 'Nilatin',\n",
       " 'PUMA',\n",
       " 'Zsyto',\n",
       " 'Arohi',\n",
       " 'Robbie jones',\n",
       " 'PUMA']"
      ]
     },
     "execution_count": 151,
     "metadata": {},
     "output_type": "execute_result"
    }
   ],
   "source": [
    "Brand=[]\n",
    "for i in range(3):\n",
    " for i in driver.find_elements_by_xpath('//div[@class=\"_2WkVRV\"]'):\n",
    "\n",
    "   Brand.append(i.text.replace('\\n',''))\n",
    "   \n",
    " driver.find_element_by_xpath('//a[@class=\"ge-49M\"]').click()\n",
    " time.sleep(2)\n",
    "    \n",
    "Brand\n",
    " "
   ]
  },
  {
   "cell_type": "code",
   "execution_count": 153,
   "id": "10b2b9c5",
   "metadata": {},
   "outputs": [
    {
     "data": {
      "text/plain": [
       "120"
      ]
     },
     "execution_count": 153,
     "metadata": {},
     "output_type": "execute_result"
    }
   ],
   "source": [
    "len(Brand)"
   ]
  },
  {
   "cell_type": "code",
   "execution_count": 154,
   "id": "98a5d39e",
   "metadata": {},
   "outputs": [
    {
     "data": {
      "text/plain": [
       "['PEHANOSA',\n",
       " 'India hub',\n",
       " 'ORICUM',\n",
       " 'tigonis',\n",
       " 'Robbie jones',\n",
       " 'CALCADOS',\n",
       " 'Shoes Bank',\n",
       " 'ADIDAS',\n",
       " '3SIX5',\n",
       " 'bluemaker',\n",
       " 'TR',\n",
       " 'otoos',\n",
       " 'VIPSJAZZY',\n",
       " 'Kraasa',\n",
       " 'Alfiya',\n",
       " 'BLACK BOTTOM',\n",
       " 'Stefano Rads',\n",
       " 'HOTSTYLE',\n",
       " 'Chevit',\n",
       " 'PUMA',\n",
       " 'Numenzo',\n",
       " 'HOTSTYLE',\n",
       " 'SCATCHITE',\n",
       " 'PUMA',\n",
       " 'Absolute comfort',\n",
       " 'ESSENCE',\n",
       " 'Chevit',\n",
       " 'RED TAPE',\n",
       " 'Birde',\n",
       " 'restinfoot',\n",
       " 'Aura',\n",
       " 'Echor',\n",
       " 'KULP',\n",
       " 'D-SNEAKERZ',\n",
       " 'Nilatin',\n",
       " 'SUSON',\n",
       " 'Zsyto',\n",
       " 'Arohi',\n",
       " 'Robbie jones',\n",
       " 'PUMA',\n",
       " 'Robbie jones',\n",
       " 'World Wear Footwear',\n",
       " 'Birde',\n",
       " 'PEHANOSA',\n",
       " 'SWIGGY',\n",
       " 'India hub',\n",
       " 'Chevit',\n",
       " 'TR',\n",
       " 'Zorth',\n",
       " 'Chevit',\n",
       " 'Robbie jones',\n",
       " 'U.S. POLO ASSN.',\n",
       " 'bluemaker',\n",
       " 'ASTEROID',\n",
       " 'HOC',\n",
       " 'JUBENTA',\n",
       " 'HOTSTYLE',\n",
       " 'warships',\n",
       " 'World Wear Footwear',\n",
       " 'India hub',\n",
       " 'kardam&sons',\n",
       " 'ORICUM',\n",
       " 'Axter',\n",
       " 'Echor',\n",
       " 'Chevit',\n",
       " 'SPARX',\n",
       " 'bluemaker',\n",
       " 'Robbie jones',\n",
       " 'Ktiz',\n",
       " 'LEATHERKRAFT',\n",
       " 'ESSENCE',\n",
       " 'Robbie jones',\n",
       " 'BLACK BOTTOM',\n",
       " 'World Wear Footwear',\n",
       " 'ESSENCE',\n",
       " 'CALCADOS',\n",
       " 'Magnolia',\n",
       " 'Chevit',\n",
       " 'D-SNEAKERZ',\n",
       " 'Echor',\n",
       " 'PEHANOSA',\n",
       " 'India hub',\n",
       " 'ORICUM',\n",
       " 'tigonis',\n",
       " 'Robbie jones',\n",
       " 'CALCADOS',\n",
       " 'Shoes Bank',\n",
       " 'ADIDAS',\n",
       " '3SIX5',\n",
       " 'bluemaker',\n",
       " 'TR',\n",
       " 'otoos',\n",
       " 'VIPSJAZZY',\n",
       " 'Kraasa',\n",
       " 'Alfiya',\n",
       " 'BLACK BOTTOM',\n",
       " 'Stefano Rads',\n",
       " 'HOTSTYLE',\n",
       " 'Chevit',\n",
       " 'PUMA']"
      ]
     },
     "execution_count": 154,
     "metadata": {},
     "output_type": "execute_result"
    }
   ],
   "source": [
    "B=Brand[:100]\n",
    "B"
   ]
  },
  {
   "cell_type": "code",
   "execution_count": 155,
   "id": "a8605b6a",
   "metadata": {},
   "outputs": [
    {
     "data": {
      "text/plain": [
       "100"
      ]
     },
     "execution_count": 155,
     "metadata": {},
     "output_type": "execute_result"
    }
   ],
   "source": [
    "len(B)"
   ]
  },
  {
   "cell_type": "code",
   "execution_count": 67,
   "id": "27b21b56",
   "metadata": {},
   "outputs": [],
   "source": [
    "for i in range(4):\n",
    " driver.find_element_by_xpath('//a[@class=\"ge-49M\"]').click()\n",
    " time.sleep(2)\n",
    " "
   ]
  },
  {
   "cell_type": "code",
   "execution_count": 107,
   "id": "296f41de",
   "metadata": {},
   "outputs": [
    {
     "data": {
      "text/plain": [
       "['',\n",
       " 'Sneakers For Men',\n",
       " '',\n",
       " 'Fashionable casual sneakers shoes Sneakers For Men',\n",
       " '',\n",
       " 'Combo pack of 2 casual sneaker shoes for men Sneakers F...',\n",
       " '',\n",
       " 'Casual Sneakers Shoes For Men And Boys Sneakers For Men',\n",
       " '',\n",
       " 'Sneakers For Men',\n",
       " '',\n",
       " \"White Sneaker For Men's/Boy's Sneakers For Men\",\n",
       " '',\n",
       " 'Modern Trendy Shoes Combo pack of 4 Sneakers For Men',\n",
       " '',\n",
       " 'Fashionable casual sneakers shoes Sneakers For Men',\n",
       " '',\n",
       " 'ORIFWSH(OR)-1077 Sneakers For Men',\n",
       " '',\n",
       " 'casual for men (blue 06) Sneakers For Men',\n",
       " '',\n",
       " 'Sneakers For Men',\n",
       " '',\n",
       " 'Casual Sneakers White Shoes For Men Sneakers For Men',\n",
       " '',\n",
       " 'Sneakers For Men',\n",
       " 'Trending',\n",
       " 'Shoes in Black Color Party wear/Outdoor/Casual Shoes Fo...',\n",
       " '',\n",
       " 'Series 7 Sneakers For Men',\n",
       " '',\n",
       " 'Fashion Outdoor Canvas Casual Light Weight Partywear Sn...',\n",
       " '',\n",
       " 'Classy Sneakers For Men',\n",
       " '',\n",
       " 'Sneakers Sneakers For Men',\n",
       " '',\n",
       " 'Perfect & Affordable Combo Pack of 02 Pairs Sneakers Ou...',\n",
       " '',\n",
       " 'Icon IDP Sneakers For Men',\n",
       " '',\n",
       " 'Sneakers For Men',\n",
       " '',\n",
       " 'Sneakers Sneakers For Men',\n",
       " '',\n",
       " 'Sneakers Sneakers For Men',\n",
       " '',\n",
       " 'Gym/Walking/Running Sneakers For Men',\n",
       " '',\n",
       " 'Combo Pack of 2 Casual Shoes Sneakers For Men',\n",
       " '',\n",
       " 'SOFT Sneakers For Men',\n",
       " '',\n",
       " 'Sneakers For Men',\n",
       " '',\n",
       " 'Sneakers For Men',\n",
       " '',\n",
       " \"Men's Combo Pack of 02 Shoes for Men Casual Sneakers Ou...\",\n",
       " '',\n",
       " \"Casual shoes,Sneakers for men's,shoes for men's Sneaker...\",\n",
       " '',\n",
       " 'Combo Pack of 4 Casual Shoes Sneakers For Men',\n",
       " '',\n",
       " 'Urban SL Sneakers For Men',\n",
       " '',\n",
       " 'Sneakers For Men',\n",
       " '',\n",
       " \"Casual , Partywear Sneakers Shoes For Men's And Boys Wh...\",\n",
       " '',\n",
       " 'White Sneaker for Men Sneakers For Men',\n",
       " '',\n",
       " 'Sneakers For Men',\n",
       " '',\n",
       " 'Sneakers For Men',\n",
       " '',\n",
       " 'Sneakers For Men',\n",
       " '',\n",
       " 'Sneakers For Men',\n",
       " '',\n",
       " 'Classic Sneakers For Men',\n",
       " 'Flipkart Wholesale',\n",
       " '']"
      ]
     },
     "execution_count": 107,
     "metadata": {},
     "output_type": "execute_result"
    }
   ],
   "source": [
    "Product_desc_2=[]\n",
    "\n",
    "for i in driver.find_elements_by_xpath('//a[@target=\"_blank\"]'):\n",
    "    if  '%'   not in i.text.strip():\n",
    "        \n",
    "         Product_desc_2.append(i.text)\n",
    "\n",
    "Product_desc_2"
   ]
  },
  {
   "cell_type": "code",
   "execution_count": null,
   "id": "d345e39c",
   "metadata": {},
   "outputs": [],
   "source": []
  },
  {
   "cell_type": "markdown",
   "id": "14d7ce71",
   "metadata": {},
   "source": [
    "So   1st page we got 40 review "
   ]
  },
  {
   "cell_type": "code",
   "execution_count": 110,
   "id": "43bb1793",
   "metadata": {},
   "outputs": [
    {
     "data": {
      "text/plain": [
       "['Sneakers For Men',\n",
       " 'Fashionable casual sneakers shoes Sneakers For Men',\n",
       " 'Combo pack of 2 casual sneaker shoes for men Sneakers F...',\n",
       " 'Casual Sneakers Shoes For Men And Boys Sneakers For Men',\n",
       " 'Sneakers For Men',\n",
       " \"White Sneaker For Men's/Boy's Sneakers For Men\",\n",
       " 'Modern Trendy Shoes Combo pack of 4 Sneakers For Men',\n",
       " 'Fashionable casual sneakers shoes Sneakers For Men',\n",
       " 'ORIFWSH(OR)-1077 Sneakers For Men',\n",
       " 'casual for men (blue 06) Sneakers For Men',\n",
       " 'Sneakers For Men',\n",
       " 'Casual Sneakers White Shoes For Men Sneakers For Men',\n",
       " 'Sneakers For Men',\n",
       " 'Series 7 Sneakers For Men',\n",
       " 'Classy Sneakers For Men',\n",
       " 'Sneakers Sneakers For Men',\n",
       " 'Perfect & Affordable Combo Pack of 02 Pairs Sneakers Ou...',\n",
       " 'Icon IDP Sneakers For Men',\n",
       " 'Sneakers For Men',\n",
       " 'Sneakers Sneakers For Men',\n",
       " 'Sneakers Sneakers For Men',\n",
       " 'Gym/Walking/Running Sneakers For Men',\n",
       " 'Combo Pack of 2 Casual Shoes Sneakers For Men',\n",
       " 'SOFT Sneakers For Men',\n",
       " 'Sneakers For Men',\n",
       " 'Sneakers For Men',\n",
       " \"Men's Combo Pack of 02 Shoes for Men Casual Sneakers Ou...\",\n",
       " \"Casual shoes,Sneakers for men's,shoes for men's Sneaker...\",\n",
       " 'Combo Pack of 4 Casual Shoes Sneakers For Men',\n",
       " 'Urban SL Sneakers For Men',\n",
       " 'Sneakers For Men',\n",
       " \"Casual , Partywear Sneakers Shoes For Men's And Boys Wh...\",\n",
       " 'White Sneaker for Men Sneakers For Men',\n",
       " 'Sneakers For Men',\n",
       " 'Sneakers For Men',\n",
       " 'Sneakers For Men',\n",
       " 'Sneakers For Men',\n",
       " 'Classic Sneakers For Men',\n",
       " 'Sneakers For Men',\n",
       " 'Fashionable casual sneakers shoes Sneakers For Men',\n",
       " 'Combo pack of 2 casual sneaker shoes for men Sneakers F...',\n",
       " 'Casual Sneakers Shoes For Men And Boys Sneakers For Men',\n",
       " 'Sneakers For Men',\n",
       " \"White Sneaker For Men's/Boy's Sneakers For Men\",\n",
       " 'Modern Trendy Shoes Combo pack of 4 Sneakers For Men',\n",
       " 'Fashionable casual sneakers shoes Sneakers For Men',\n",
       " 'ORIFWSH(OR)-1077 Sneakers For Men',\n",
       " 'casual for men (blue 06) Sneakers For Men',\n",
       " 'Sneakers For Men',\n",
       " 'Casual Sneakers White Shoes For Men Sneakers For Men',\n",
       " 'Sneakers For Men',\n",
       " 'Series 7 Sneakers For Men',\n",
       " 'Classy Sneakers For Men',\n",
       " 'Sneakers Sneakers For Men',\n",
       " 'Perfect & Affordable Combo Pack of 02 Pairs Sneakers Ou...',\n",
       " 'Icon IDP Sneakers For Men',\n",
       " 'Sneakers For Men',\n",
       " 'Sneakers Sneakers For Men',\n",
       " 'Sneakers Sneakers For Men',\n",
       " 'Gym/Walking/Running Sneakers For Men',\n",
       " 'Combo Pack of 2 Casual Shoes Sneakers For Men',\n",
       " 'SOFT Sneakers For Men',\n",
       " 'Sneakers For Men',\n",
       " 'Sneakers For Men',\n",
       " \"Men's Combo Pack of 02 Shoes for Men Casual Sneakers Ou...\",\n",
       " \"Casual shoes,Sneakers for men's,shoes for men's Sneaker...\",\n",
       " 'Combo Pack of 4 Casual Shoes Sneakers For Men',\n",
       " 'Urban SL Sneakers For Men',\n",
       " 'Sneakers For Men',\n",
       " \"Casual , Partywear Sneakers Shoes For Men's And Boys Wh...\",\n",
       " 'White Sneaker for Men Sneakers For Men',\n",
       " 'Sneakers For Men',\n",
       " 'Sneakers For Men',\n",
       " 'Sneakers For Men',\n",
       " 'Sneakers For Men',\n",
       " 'Classic Sneakers For Men',\n",
       " 'Sneakers For Men',\n",
       " 'Fashionable casual sneakers shoes Sneakers For Men',\n",
       " 'Combo pack of 2 casual sneaker shoes for men Sneakers F...',\n",
       " 'Casual Sneakers Shoes For Men And Boys Sneakers For Men',\n",
       " 'Sneakers For Men',\n",
       " \"White Sneaker For Men's/Boy's Sneakers For Men\",\n",
       " 'Modern Trendy Shoes Combo pack of 4 Sneakers For Men',\n",
       " 'Fashionable casual sneakers shoes Sneakers For Men',\n",
       " 'ORIFWSH(OR)-1077 Sneakers For Men',\n",
       " 'casual for men (blue 06) Sneakers For Men',\n",
       " 'Sneakers For Men',\n",
       " 'Casual Sneakers White Shoes For Men Sneakers For Men',\n",
       " 'Sneakers For Men',\n",
       " 'Series 7 Sneakers For Men',\n",
       " 'Classy Sneakers For Men',\n",
       " 'Sneakers Sneakers For Men',\n",
       " 'Perfect & Affordable Combo Pack of 02 Pairs Sneakers Ou...',\n",
       " 'Icon IDP Sneakers For Men',\n",
       " 'Sneakers For Men',\n",
       " 'Sneakers Sneakers For Men',\n",
       " 'Sneakers Sneakers For Men',\n",
       " 'Gym/Walking/Running Sneakers For Men',\n",
       " 'Combo Pack of 2 Casual Shoes Sneakers For Men',\n",
       " 'SOFT Sneakers For Men',\n",
       " 'Sneakers For Men',\n",
       " 'Sneakers For Men',\n",
       " \"Men's Combo Pack of 02 Shoes for Men Casual Sneakers Ou...\",\n",
       " \"Casual shoes,Sneakers for men's,shoes for men's Sneaker...\",\n",
       " 'Combo Pack of 4 Casual Shoes Sneakers For Men',\n",
       " 'Urban SL Sneakers For Men',\n",
       " 'Sneakers For Men',\n",
       " \"Casual , Partywear Sneakers Shoes For Men's And Boys Wh...\",\n",
       " 'White Sneaker for Men Sneakers For Men',\n",
       " 'Sneakers For Men',\n",
       " 'Sneakers For Men',\n",
       " 'Sneakers For Men',\n",
       " 'Sneakers For Men',\n",
       " 'Classic Sneakers For Men']"
      ]
     },
     "execution_count": 110,
     "metadata": {},
     "output_type": "execute_result"
    }
   ],
   "source": [
    "  \n",
    "    \n",
    "    \n",
    "Product_desc_3=[]\n",
    "for i in range(3):\n",
    "  for i in driver.find_elements_by_xpath('//a[@target=\"_blank\"]'):\n",
    "    if  '%'   not in i.text.strip():\n",
    "        if 'Sneakers' in i.text.strip():\n",
    "         Product_desc_3.append(i.text)\n",
    "\n",
    "\n",
    "driver.find_element_by_xpath('//a[@target=\"_blank\"]').click()\n",
    "time.sleep(2)\n",
    "\n",
    "\n",
    "Product_desc_3\n",
    "    "
   ]
  },
  {
   "cell_type": "code",
   "execution_count": 113,
   "id": "e8d20692",
   "metadata": {},
   "outputs": [
    {
     "data": {
      "text/plain": [
       "['Sneakers For Men',\n",
       " 'Fashionable casual sneakers shoes Sneakers For Men',\n",
       " 'Combo pack of 2 casual sneaker shoes for men Sneakers F...',\n",
       " 'Casual Sneakers Shoes For Men And Boys Sneakers For Men',\n",
       " 'Sneakers For Men',\n",
       " \"White Sneaker For Men's/Boy's Sneakers For Men\",\n",
       " 'Modern Trendy Shoes Combo pack of 4 Sneakers For Men',\n",
       " 'Fashionable casual sneakers shoes Sneakers For Men',\n",
       " 'ORIFWSH(OR)-1077 Sneakers For Men',\n",
       " 'casual for men (blue 06) Sneakers For Men',\n",
       " 'Sneakers For Men',\n",
       " 'Casual Sneakers White Shoes For Men Sneakers For Men',\n",
       " 'Sneakers For Men',\n",
       " 'Series 7 Sneakers For Men',\n",
       " 'Classy Sneakers For Men',\n",
       " 'Sneakers Sneakers For Men',\n",
       " 'Perfect & Affordable Combo Pack of 02 Pairs Sneakers Ou...',\n",
       " 'Icon IDP Sneakers For Men',\n",
       " 'Sneakers For Men',\n",
       " 'Sneakers Sneakers For Men',\n",
       " 'Sneakers Sneakers For Men',\n",
       " 'Gym/Walking/Running Sneakers For Men',\n",
       " 'Combo Pack of 2 Casual Shoes Sneakers For Men',\n",
       " 'SOFT Sneakers For Men',\n",
       " 'Sneakers For Men',\n",
       " 'Sneakers For Men',\n",
       " \"Men's Combo Pack of 02 Shoes for Men Casual Sneakers Ou...\",\n",
       " \"Casual shoes,Sneakers for men's,shoes for men's Sneaker...\",\n",
       " 'Combo Pack of 4 Casual Shoes Sneakers For Men',\n",
       " 'Urban SL Sneakers For Men',\n",
       " 'Sneakers For Men',\n",
       " \"Casual , Partywear Sneakers Shoes For Men's And Boys Wh...\",\n",
       " 'White Sneaker for Men Sneakers For Men',\n",
       " 'Sneakers For Men',\n",
       " 'Sneakers For Men',\n",
       " 'Sneakers For Men',\n",
       " 'Sneakers For Men',\n",
       " 'Classic Sneakers For Men',\n",
       " 'Sneakers For Men',\n",
       " 'Fashionable casual sneakers shoes Sneakers For Men',\n",
       " 'Combo pack of 2 casual sneaker shoes for men Sneakers F...',\n",
       " 'Casual Sneakers Shoes For Men And Boys Sneakers For Men',\n",
       " 'Sneakers For Men',\n",
       " \"White Sneaker For Men's/Boy's Sneakers For Men\",\n",
       " 'Modern Trendy Shoes Combo pack of 4 Sneakers For Men',\n",
       " 'Fashionable casual sneakers shoes Sneakers For Men',\n",
       " 'ORIFWSH(OR)-1077 Sneakers For Men',\n",
       " 'casual for men (blue 06) Sneakers For Men',\n",
       " 'Sneakers For Men',\n",
       " 'Casual Sneakers White Shoes For Men Sneakers For Men',\n",
       " 'Sneakers For Men',\n",
       " 'Series 7 Sneakers For Men',\n",
       " 'Classy Sneakers For Men',\n",
       " 'Sneakers Sneakers For Men',\n",
       " 'Perfect & Affordable Combo Pack of 02 Pairs Sneakers Ou...',\n",
       " 'Icon IDP Sneakers For Men',\n",
       " 'Sneakers For Men',\n",
       " 'Sneakers Sneakers For Men',\n",
       " 'Sneakers Sneakers For Men',\n",
       " 'Gym/Walking/Running Sneakers For Men',\n",
       " 'Combo Pack of 2 Casual Shoes Sneakers For Men',\n",
       " 'SOFT Sneakers For Men',\n",
       " 'Sneakers For Men',\n",
       " 'Sneakers For Men',\n",
       " \"Men's Combo Pack of 02 Shoes for Men Casual Sneakers Ou...\",\n",
       " \"Casual shoes,Sneakers for men's,shoes for men's Sneaker...\",\n",
       " 'Combo Pack of 4 Casual Shoes Sneakers For Men',\n",
       " 'Urban SL Sneakers For Men',\n",
       " 'Sneakers For Men',\n",
       " \"Casual , Partywear Sneakers Shoes For Men's And Boys Wh...\",\n",
       " 'White Sneaker for Men Sneakers For Men',\n",
       " 'Sneakers For Men',\n",
       " 'Sneakers For Men',\n",
       " 'Sneakers For Men',\n",
       " 'Sneakers For Men',\n",
       " 'Classic Sneakers For Men',\n",
       " 'Sneakers For Men',\n",
       " 'Fashionable casual sneakers shoes Sneakers For Men',\n",
       " 'Combo pack of 2 casual sneaker shoes for men Sneakers F...',\n",
       " 'Casual Sneakers Shoes For Men And Boys Sneakers For Men',\n",
       " 'Sneakers For Men',\n",
       " \"White Sneaker For Men's/Boy's Sneakers For Men\",\n",
       " 'Modern Trendy Shoes Combo pack of 4 Sneakers For Men',\n",
       " 'Fashionable casual sneakers shoes Sneakers For Men',\n",
       " 'ORIFWSH(OR)-1077 Sneakers For Men',\n",
       " 'casual for men (blue 06) Sneakers For Men',\n",
       " 'Sneakers For Men',\n",
       " 'Casual Sneakers White Shoes For Men Sneakers For Men',\n",
       " 'Sneakers For Men',\n",
       " 'Series 7 Sneakers For Men',\n",
       " 'Classy Sneakers For Men',\n",
       " 'Sneakers Sneakers For Men',\n",
       " 'Perfect & Affordable Combo Pack of 02 Pairs Sneakers Ou...',\n",
       " 'Icon IDP Sneakers For Men',\n",
       " 'Sneakers For Men',\n",
       " 'Sneakers Sneakers For Men',\n",
       " 'Sneakers Sneakers For Men',\n",
       " 'Gym/Walking/Running Sneakers For Men',\n",
       " 'Combo Pack of 2 Casual Shoes Sneakers For Men',\n",
       " 'SOFT Sneakers For Men']"
      ]
     },
     "execution_count": 113,
     "metadata": {},
     "output_type": "execute_result"
    }
   ],
   "source": [
    "Product_desc_3=Product_desc_3[:100]\n",
    "Product_desc_3"
   ]
  },
  {
   "cell_type": "markdown",
   "id": "98230c31",
   "metadata": {},
   "source": [
    "# Fetching snekeer price ,  length issue so 3 page we will fetch differently and append ,from 3 page each page having 40 , 40, 40 data but in this question we are facing huge length issue because first page bottom line product also coming what ever xpath we are using so basically I fetched seperately from 3 page then append"
   ]
  },
  {
   "cell_type": "code",
   "execution_count": 115,
   "id": "d364caad",
   "metadata": {},
   "outputs": [
    {
     "data": {
      "text/plain": [
       "['₹499',\n",
       " '₹389',\n",
       " '₹377',\n",
       " '₹449',\n",
       " '₹449',\n",
       " '₹349',\n",
       " '₹748',\n",
       " '₹449',\n",
       " '₹214',\n",
       " '₹449',\n",
       " '₹312',\n",
       " '₹499',\n",
       " '₹429',\n",
       " '₹377',\n",
       " '₹416',\n",
       " '₹449',\n",
       " '₹242',\n",
       " '₹283',\n",
       " '₹473',\n",
       " '₹1,047',\n",
       " '₹398',\n",
       " '₹283',\n",
       " '₹398',\n",
       " '₹398',\n",
       " '₹498',\n",
       " '₹199',\n",
       " '₹416',\n",
       " '₹1,228',\n",
       " '₹448',\n",
       " '₹321',\n",
       " '₹698',\n",
       " '₹1,216',\n",
       " '₹499',\n",
       " '₹365',\n",
       " '₹407',\n",
       " '₹1,708',\n",
       " '₹378',\n",
       " '₹439',\n",
       " '₹405',\n",
       " '₹1,678']"
      ]
     },
     "execution_count": 115,
     "metadata": {},
     "output_type": "execute_result"
    }
   ],
   "source": [
    "price=[]\n",
    "\n",
    "for i in driver.find_elements_by_xpath('//div[@class=\"_30jeq3\"]'):\n",
    "\n",
    "  price.append(i.text.replace('\\n',''))\n",
    "  \n",
    "    \n",
    "price"
   ]
  },
  {
   "cell_type": "code",
   "execution_count": 126,
   "id": "7b7d0cb9",
   "metadata": {},
   "outputs": [
    {
     "data": {
      "text/plain": [
       "['₹499',\n",
       " '₹389',\n",
       " '₹377',\n",
       " '₹449',\n",
       " '₹449',\n",
       " '₹349',\n",
       " '₹748',\n",
       " '₹449',\n",
       " '₹214',\n",
       " '₹449',\n",
       " '₹312',\n",
       " '₹499',\n",
       " '₹429',\n",
       " '₹377',\n",
       " '₹416',\n",
       " '₹449',\n",
       " '₹242',\n",
       " '₹283',\n",
       " '₹473',\n",
       " '₹1,047',\n",
       " '₹398',\n",
       " '₹283',\n",
       " '₹398',\n",
       " '₹398',\n",
       " '₹498',\n",
       " '₹199',\n",
       " '₹416',\n",
       " '₹1,228',\n",
       " '₹448',\n",
       " '₹321',\n",
       " '₹698',\n",
       " '₹1,216',\n",
       " '₹499',\n",
       " '₹365',\n",
       " '₹407',\n",
       " '₹1,708',\n",
       " '₹378',\n",
       " '₹439',\n",
       " '₹405',\n",
       " '₹1,678']"
      ]
     },
     "execution_count": 126,
     "metadata": {},
     "output_type": "execute_result"
    }
   ],
   "source": [
    "A=price[:40]\n",
    "A"
   ]
  },
  {
   "cell_type": "code",
   "execution_count": null,
   "id": "3a0286c2",
   "metadata": {},
   "outputs": [],
   "source": []
  },
  {
   "cell_type": "code",
   "execution_count": null,
   "id": "18d05e10",
   "metadata": {},
   "outputs": [],
   "source": []
  },
  {
   "cell_type": "code",
   "execution_count": 118,
   "id": "ac746674",
   "metadata": {},
   "outputs": [],
   "source": [
    " driver.find_element_by_xpath('//a[@class=\"ge-49M\"]').click()\n",
    " time.sleep(2)"
   ]
  },
  {
   "cell_type": "code",
   "execution_count": 119,
   "id": "9c0b51ce",
   "metadata": {},
   "outputs": [
    {
     "data": {
      "text/plain": [
       "['₹499',\n",
       " '₹405',\n",
       " '₹293',\n",
       " '₹499',\n",
       " '₹449',\n",
       " '₹719',\n",
       " '₹348',\n",
       " '₹312',\n",
       " '₹499',\n",
       " '₹446',\n",
       " '₹199',\n",
       " '₹2,794',\n",
       " '₹405',\n",
       " '₹449',\n",
       " '₹451',\n",
       " '₹440',\n",
       " '₹379',\n",
       " '₹240',\n",
       " '₹398',\n",
       " '₹521',\n",
       " '₹379',\n",
       " '₹472',\n",
       " '₹679',\n",
       " '₹599',\n",
       " '₹449',\n",
       " '₹769',\n",
       " '₹399',\n",
       " '₹499',\n",
       " '₹399',\n",
       " '₹299',\n",
       " '₹416',\n",
       " '₹449',\n",
       " '₹240',\n",
       " '₹449',\n",
       " '₹416',\n",
       " '₹748',\n",
       " '₹311',\n",
       " '₹211',\n",
       " '₹346',\n",
       " '₹599']"
      ]
     },
     "execution_count": 119,
     "metadata": {},
     "output_type": "execute_result"
    }
   ],
   "source": [
    "price_from_second_page=[]\n",
    "\n",
    "for i in driver.find_elements_by_xpath('//div[@class=\"_30jeq3\"]'):\n",
    "\n",
    "  price_from_second_page.append(i.text.replace('\\n',''))\n",
    "  \n",
    "    \n",
    "price_from_second_page"
   ]
  },
  {
   "cell_type": "code",
   "execution_count": 121,
   "id": "f78a482c",
   "metadata": {},
   "outputs": [
    {
     "data": {
      "text/plain": [
       "40"
      ]
     },
     "execution_count": 121,
     "metadata": {},
     "output_type": "execute_result"
    }
   ],
   "source": [
    "len(price_from_second_page)"
   ]
  },
  {
   "cell_type": "code",
   "execution_count": 127,
   "id": "99dd5988",
   "metadata": {},
   "outputs": [],
   "source": [
    "B=price_from_second_page"
   ]
  },
  {
   "cell_type": "code",
   "execution_count": 123,
   "id": "b119b2eb",
   "metadata": {},
   "outputs": [],
   "source": [
    "driver.find_element_by_xpath('//a[@class=\"ge-49M\"]').click()\n",
    "time.sleep(2)"
   ]
  },
  {
   "cell_type": "code",
   "execution_count": 124,
   "id": "dd750278",
   "metadata": {},
   "outputs": [
    {
     "data": {
      "text/plain": [
       "['₹499',\n",
       " '₹389',\n",
       " '₹377',\n",
       " '₹449',\n",
       " '₹449',\n",
       " '₹748',\n",
       " '₹349',\n",
       " '₹398',\n",
       " '₹214',\n",
       " '₹449',\n",
       " '₹312',\n",
       " '₹1,568',\n",
       " '₹429',\n",
       " '₹416',\n",
       " '₹377',\n",
       " '₹1,588',\n",
       " '₹242',\n",
       " '₹283',\n",
       " '₹473',\n",
       " '₹1,047',\n",
       " '₹398',\n",
       " '₹283',\n",
       " '₹398',\n",
       " '₹1,258',\n",
       " '₹698',\n",
       " '₹321',\n",
       " '₹199',\n",
       " '₹512',\n",
       " '₹416',\n",
       " '₹448',\n",
       " '₹498',\n",
       " '₹2,500',\n",
       " '₹365',\n",
       " '₹499',\n",
       " '₹378',\n",
       " '₹424',\n",
       " '₹407',\n",
       " '₹439',\n",
       " '₹499',\n",
       " '₹2,971']"
      ]
     },
     "execution_count": 124,
     "metadata": {},
     "output_type": "execute_result"
    }
   ],
   "source": [
    "price_from_third_page=[]\n",
    "\n",
    "for i in driver.find_elements_by_xpath('//div[@class=\"_30jeq3\"]'):\n",
    "\n",
    "  price_from_third_page.append(i.text.replace('\\n',''))\n",
    "  \n",
    "    \n",
    "price_from_third_page"
   ]
  },
  {
   "cell_type": "code",
   "execution_count": 125,
   "id": "bdb4e200",
   "metadata": {},
   "outputs": [
    {
     "data": {
      "text/plain": [
       "40"
      ]
     },
     "execution_count": 125,
     "metadata": {},
     "output_type": "execute_result"
    }
   ],
   "source": [
    "len(price_from_third_page)"
   ]
  },
  {
   "cell_type": "code",
   "execution_count": 128,
   "id": "505e6f80",
   "metadata": {},
   "outputs": [],
   "source": [
    "C=price_from_third_page"
   ]
  },
  {
   "cell_type": "code",
   "execution_count": 130,
   "id": "0f7d6899",
   "metadata": {},
   "outputs": [],
   "source": [
    "price_data=A+B+C"
   ]
  },
  {
   "cell_type": "code",
   "execution_count": 131,
   "id": "b96448f0",
   "metadata": {},
   "outputs": [
    {
     "data": {
      "text/plain": [
       "['₹499',\n",
       " '₹389',\n",
       " '₹377',\n",
       " '₹449',\n",
       " '₹449',\n",
       " '₹349',\n",
       " '₹748',\n",
       " '₹449',\n",
       " '₹214',\n",
       " '₹449',\n",
       " '₹312',\n",
       " '₹499',\n",
       " '₹429',\n",
       " '₹377',\n",
       " '₹416',\n",
       " '₹449',\n",
       " '₹242',\n",
       " '₹283',\n",
       " '₹473',\n",
       " '₹1,047',\n",
       " '₹398',\n",
       " '₹283',\n",
       " '₹398',\n",
       " '₹398',\n",
       " '₹498',\n",
       " '₹199',\n",
       " '₹416',\n",
       " '₹1,228',\n",
       " '₹448',\n",
       " '₹321',\n",
       " '₹698',\n",
       " '₹1,216',\n",
       " '₹499',\n",
       " '₹365',\n",
       " '₹407',\n",
       " '₹1,708',\n",
       " '₹378',\n",
       " '₹439',\n",
       " '₹405',\n",
       " '₹1,678',\n",
       " '₹499',\n",
       " '₹405',\n",
       " '₹293',\n",
       " '₹499',\n",
       " '₹449',\n",
       " '₹719',\n",
       " '₹348',\n",
       " '₹312',\n",
       " '₹499',\n",
       " '₹446',\n",
       " '₹199',\n",
       " '₹2,794',\n",
       " '₹405',\n",
       " '₹449',\n",
       " '₹451',\n",
       " '₹440',\n",
       " '₹379',\n",
       " '₹240',\n",
       " '₹398',\n",
       " '₹521',\n",
       " '₹379',\n",
       " '₹472',\n",
       " '₹679',\n",
       " '₹599',\n",
       " '₹449',\n",
       " '₹769',\n",
       " '₹399',\n",
       " '₹499',\n",
       " '₹399',\n",
       " '₹299',\n",
       " '₹416',\n",
       " '₹449',\n",
       " '₹240',\n",
       " '₹449',\n",
       " '₹416',\n",
       " '₹748',\n",
       " '₹311',\n",
       " '₹211',\n",
       " '₹346',\n",
       " '₹599',\n",
       " '₹499',\n",
       " '₹389',\n",
       " '₹377',\n",
       " '₹449',\n",
       " '₹449',\n",
       " '₹748',\n",
       " '₹349',\n",
       " '₹398',\n",
       " '₹214',\n",
       " '₹449',\n",
       " '₹312',\n",
       " '₹1,568',\n",
       " '₹429',\n",
       " '₹416',\n",
       " '₹377',\n",
       " '₹1,588',\n",
       " '₹242',\n",
       " '₹283',\n",
       " '₹473',\n",
       " '₹1,047',\n",
       " '₹398',\n",
       " '₹283',\n",
       " '₹398',\n",
       " '₹1,258',\n",
       " '₹698',\n",
       " '₹321',\n",
       " '₹199',\n",
       " '₹512',\n",
       " '₹416',\n",
       " '₹448',\n",
       " '₹498',\n",
       " '₹2,500',\n",
       " '₹365',\n",
       " '₹499',\n",
       " '₹378',\n",
       " '₹424',\n",
       " '₹407',\n",
       " '₹439',\n",
       " '₹499',\n",
       " '₹2,971']"
      ]
     },
     "execution_count": 131,
     "metadata": {},
     "output_type": "execute_result"
    }
   ],
   "source": [
    "price_data"
   ]
  },
  {
   "cell_type": "code",
   "execution_count": 132,
   "id": "8ed44f42",
   "metadata": {},
   "outputs": [
    {
     "data": {
      "text/plain": [
       "120"
      ]
     },
     "execution_count": 132,
     "metadata": {},
     "output_type": "execute_result"
    }
   ],
   "source": [
    "len(price_data)"
   ]
  },
  {
   "cell_type": "code",
   "execution_count": null,
   "id": "9061da70",
   "metadata": {},
   "outputs": [],
   "source": [
    "As we need only first 100 "
   ]
  },
  {
   "cell_type": "code",
   "execution_count": 133,
   "id": "4c82a7ba",
   "metadata": {},
   "outputs": [],
   "source": [
    "price_data=price_data[:100]"
   ]
  },
  {
   "cell_type": "code",
   "execution_count": 134,
   "id": "cfe83ac3",
   "metadata": {},
   "outputs": [
    {
     "data": {
      "text/plain": [
       "['₹499',\n",
       " '₹389',\n",
       " '₹377',\n",
       " '₹449',\n",
       " '₹449',\n",
       " '₹349',\n",
       " '₹748',\n",
       " '₹449',\n",
       " '₹214',\n",
       " '₹449',\n",
       " '₹312',\n",
       " '₹499',\n",
       " '₹429',\n",
       " '₹377',\n",
       " '₹416',\n",
       " '₹449',\n",
       " '₹242',\n",
       " '₹283',\n",
       " '₹473',\n",
       " '₹1,047',\n",
       " '₹398',\n",
       " '₹283',\n",
       " '₹398',\n",
       " '₹398',\n",
       " '₹498',\n",
       " '₹199',\n",
       " '₹416',\n",
       " '₹1,228',\n",
       " '₹448',\n",
       " '₹321',\n",
       " '₹698',\n",
       " '₹1,216',\n",
       " '₹499',\n",
       " '₹365',\n",
       " '₹407',\n",
       " '₹1,708',\n",
       " '₹378',\n",
       " '₹439',\n",
       " '₹405',\n",
       " '₹1,678',\n",
       " '₹499',\n",
       " '₹405',\n",
       " '₹293',\n",
       " '₹499',\n",
       " '₹449',\n",
       " '₹719',\n",
       " '₹348',\n",
       " '₹312',\n",
       " '₹499',\n",
       " '₹446',\n",
       " '₹199',\n",
       " '₹2,794',\n",
       " '₹405',\n",
       " '₹449',\n",
       " '₹451',\n",
       " '₹440',\n",
       " '₹379',\n",
       " '₹240',\n",
       " '₹398',\n",
       " '₹521',\n",
       " '₹379',\n",
       " '₹472',\n",
       " '₹679',\n",
       " '₹599',\n",
       " '₹449',\n",
       " '₹769',\n",
       " '₹399',\n",
       " '₹499',\n",
       " '₹399',\n",
       " '₹299',\n",
       " '₹416',\n",
       " '₹449',\n",
       " '₹240',\n",
       " '₹449',\n",
       " '₹416',\n",
       " '₹748',\n",
       " '₹311',\n",
       " '₹211',\n",
       " '₹346',\n",
       " '₹599',\n",
       " '₹499',\n",
       " '₹389',\n",
       " '₹377',\n",
       " '₹449',\n",
       " '₹449',\n",
       " '₹748',\n",
       " '₹349',\n",
       " '₹398',\n",
       " '₹214',\n",
       " '₹449',\n",
       " '₹312',\n",
       " '₹1,568',\n",
       " '₹429',\n",
       " '₹416',\n",
       " '₹377',\n",
       " '₹1,588',\n",
       " '₹242',\n",
       " '₹283',\n",
       " '₹473',\n",
       " '₹1,047']"
      ]
     },
     "execution_count": 134,
     "metadata": {},
     "output_type": "execute_result"
    }
   ],
   "source": [
    "price_data"
   ]
  },
  {
   "cell_type": "markdown",
   "id": "7173d220",
   "metadata": {},
   "source": [
    "# discount fetching  from 3 page each page having 40 , 40, 40 data but in this question we are facing huge length issue because first page bottom line product also coming  what ever xpath we are using so basically I fetched seperately from 3 page  then append"
   ]
  },
  {
   "cell_type": "markdown",
   "id": "eba3b02b",
   "metadata": {},
   "source": [
    "from 1st page discount"
   ]
  },
  {
   "cell_type": "code",
   "execution_count": 135,
   "id": "288f3931",
   "metadata": {},
   "outputs": [
    {
     "data": {
      "text/plain": [
       "['50% off',\n",
       " '87% off',\n",
       " '62% off',\n",
       " '85% off',\n",
       " '55% off',\n",
       " '62% off',\n",
       " '65% off',\n",
       " '77% off',\n",
       " '57% off',\n",
       " '55% off',\n",
       " '84% off',\n",
       " '60% off',\n",
       " '57% off',\n",
       " '58% off',\n",
       " '62% off',\n",
       " '60% off',\n",
       " '65% off',\n",
       " '43% off',\n",
       " '73% off',\n",
       " '68% off',\n",
       " '60% off',\n",
       " '43% off',\n",
       " '60% off',\n",
       " '70% off',\n",
       " '65% off',\n",
       " '67% off',\n",
       " '60% off',\n",
       " '48% off',\n",
       " '58% off',\n",
       " '55% off',\n",
       " '50% off',\n",
       " '49% off',\n",
       " '44% off',\n",
       " '50% off',\n",
       " '70% off',\n",
       " '57% off',\n",
       " '68% off',\n",
       " '56% off',\n",
       " '50% off',\n",
       " '57% off']"
      ]
     },
     "execution_count": 135,
     "metadata": {},
     "output_type": "execute_result"
    }
   ],
   "source": [
    "discount1=[]\n",
    "\n",
    "for i in driver.find_elements_by_xpath('//div[@class=\"_3Ay6Sb\"]'):\n",
    "\n",
    "  discount1.append(i.text.replace('\\n',''))\n",
    "  \n",
    "    \n",
    "discount1"
   ]
  },
  {
   "cell_type": "code",
   "execution_count": 136,
   "id": "88b247dd",
   "metadata": {},
   "outputs": [],
   "source": [
    "A=discount1[:40]\n"
   ]
  },
  {
   "cell_type": "markdown",
   "id": "93301587",
   "metadata": {},
   "source": [
    "from 2 nd page:"
   ]
  },
  {
   "cell_type": "code",
   "execution_count": 137,
   "id": "f0c8b6bf",
   "metadata": {},
   "outputs": [],
   "source": [
    " driver.find_element_by_xpath('//a[@class=\"ge-49M\"]').click()\n",
    " time.sleep(2)"
   ]
  },
  {
   "cell_type": "code",
   "execution_count": 139,
   "id": "b55646f1",
   "metadata": {},
   "outputs": [
    {
     "data": {
      "text/plain": [
       "['81% off',\n",
       " '59% off',\n",
       " '41% off',\n",
       " '50% off',\n",
       " '85% off',\n",
       " '71% off',\n",
       " '30% off',\n",
       " '84% off',\n",
       " '50% off',\n",
       " '77% off',\n",
       " '60% off',\n",
       " '35% off',\n",
       " '59% off',\n",
       " '55% off',\n",
       " '54% off',\n",
       " '47% off',\n",
       " '70% off',\n",
       " '51% off',\n",
       " '60% off',\n",
       " '85% off',\n",
       " '81% off',\n",
       " '52% off',\n",
       " '72% off',\n",
       " '40% off',\n",
       " '55% off',\n",
       " '23% off',\n",
       " '60% off',\n",
       " '50% off',\n",
       " '70% off',\n",
       " '70% off',\n",
       " '58% off',\n",
       " '55% off',\n",
       " '51% off',\n",
       " '55% off',\n",
       " '58% off',\n",
       " '62% off',\n",
       " '68% off',\n",
       " '57% off',\n",
       " '65% off',\n",
       " '40% off']"
      ]
     },
     "execution_count": 139,
     "metadata": {},
     "output_type": "execute_result"
    }
   ],
   "source": [
    "discount2=[]\n",
    "\n",
    "for i in driver.find_elements_by_xpath('//div[@class=\"_3Ay6Sb\"]'):\n",
    "\n",
    "  discount2.append(i.text.replace('\\n',''))\n",
    "  \n",
    "    \n",
    "discount2"
   ]
  },
  {
   "cell_type": "code",
   "execution_count": 141,
   "id": "833850ba",
   "metadata": {},
   "outputs": [
    {
     "data": {
      "text/plain": [
       "40"
      ]
     },
     "execution_count": 141,
     "metadata": {},
     "output_type": "execute_result"
    }
   ],
   "source": [
    "B=discount2\n",
    "len(B)"
   ]
  },
  {
   "cell_type": "code",
   "execution_count": 142,
   "id": "95329048",
   "metadata": {},
   "outputs": [],
   "source": [
    " \n",
    " driver.find_element_by_xpath('//a[@class=\"ge-49M\"]').click()\n",
    " time.sleep(2)"
   ]
  },
  {
   "cell_type": "code",
   "execution_count": 143,
   "id": "4b834c3a",
   "metadata": {},
   "outputs": [
    {
     "data": {
      "text/plain": [
       "['50% off',\n",
       " '87% off',\n",
       " '62% off',\n",
       " '77% off',\n",
       " '55% off',\n",
       " '62% off',\n",
       " '65% off',\n",
       " '60% off',\n",
       " '57% off',\n",
       " '55% off',\n",
       " '84% off',\n",
       " '55% off',\n",
       " '57% off',\n",
       " '58% off',\n",
       " '62% off',\n",
       " '55% off',\n",
       " '65% off',\n",
       " '43% off',\n",
       " '73% off',\n",
       " '60% off',\n",
       " '60% off',\n",
       " '43% off',\n",
       " '60% off',\n",
       " '68% off',\n",
       " '60% off',\n",
       " '58% off',\n",
       " '55% off',\n",
       " '70% off',\n",
       " '65% off',\n",
       " '67% off',\n",
       " '50% off',\n",
       " '48% off',\n",
       " '50% off',\n",
       " '44% off',\n",
       " '68% off',\n",
       " '60% off',\n",
       " '70% off',\n",
       " '56% off',\n",
       " '59% off',\n",
       " '49% off']"
      ]
     },
     "execution_count": 143,
     "metadata": {},
     "output_type": "execute_result"
    }
   ],
   "source": [
    "discount3=[]\n",
    "\n",
    "for i in driver.find_elements_by_xpath('//div[@class=\"_3Ay6Sb\"]'):\n",
    "\n",
    "  discount3.append(i.text.replace('\\n',''))\n",
    "  \n",
    "    \n",
    "discount3"
   ]
  },
  {
   "cell_type": "code",
   "execution_count": 144,
   "id": "6b558bee",
   "metadata": {},
   "outputs": [
    {
     "data": {
      "text/plain": [
       "40"
      ]
     },
     "execution_count": 144,
     "metadata": {},
     "output_type": "execute_result"
    }
   ],
   "source": [
    "C=discount3\n",
    "len(C)"
   ]
  },
  {
   "cell_type": "code",
   "execution_count": 145,
   "id": "fadcb785",
   "metadata": {},
   "outputs": [],
   "source": [
    "discount_data=A+B+C"
   ]
  },
  {
   "cell_type": "code",
   "execution_count": 146,
   "id": "4ebe22a8",
   "metadata": {},
   "outputs": [
    {
     "data": {
      "text/plain": [
       "120"
      ]
     },
     "execution_count": 146,
     "metadata": {},
     "output_type": "execute_result"
    }
   ],
   "source": [
    "len(discount_data)"
   ]
  },
  {
   "cell_type": "code",
   "execution_count": 147,
   "id": "66f79c24",
   "metadata": {},
   "outputs": [],
   "source": [
    "discount_data=discount_data[:100]"
   ]
  },
  {
   "cell_type": "code",
   "execution_count": 156,
   "id": "b65cb3da",
   "metadata": {},
   "outputs": [],
   "source": [
    "import pandas as pd\n",
    "jobtab7=pd.DataFrame({})\n",
    "\n",
    "jobtab7['brand name']=B\n",
    "jobtab7['price']=price_data\n",
    "jobtab7['discount']=discount_data"
   ]
  },
  {
   "cell_type": "code",
   "execution_count": 157,
   "id": "193159f9",
   "metadata": {},
   "outputs": [
    {
     "data": {
      "text/html": [
       "<div>\n",
       "<style scoped>\n",
       "    .dataframe tbody tr th:only-of-type {\n",
       "        vertical-align: middle;\n",
       "    }\n",
       "\n",
       "    .dataframe tbody tr th {\n",
       "        vertical-align: top;\n",
       "    }\n",
       "\n",
       "    .dataframe thead th {\n",
       "        text-align: right;\n",
       "    }\n",
       "</style>\n",
       "<table border=\"1\" class=\"dataframe\">\n",
       "  <thead>\n",
       "    <tr style=\"text-align: right;\">\n",
       "      <th></th>\n",
       "      <th>brand name</th>\n",
       "      <th>price</th>\n",
       "      <th>discount</th>\n",
       "    </tr>\n",
       "  </thead>\n",
       "  <tbody>\n",
       "    <tr>\n",
       "      <th>0</th>\n",
       "      <td>PEHANOSA</td>\n",
       "      <td>₹499</td>\n",
       "      <td>50% off</td>\n",
       "    </tr>\n",
       "    <tr>\n",
       "      <th>1</th>\n",
       "      <td>India hub</td>\n",
       "      <td>₹389</td>\n",
       "      <td>87% off</td>\n",
       "    </tr>\n",
       "    <tr>\n",
       "      <th>2</th>\n",
       "      <td>ORICUM</td>\n",
       "      <td>₹377</td>\n",
       "      <td>62% off</td>\n",
       "    </tr>\n",
       "    <tr>\n",
       "      <th>3</th>\n",
       "      <td>tigonis</td>\n",
       "      <td>₹449</td>\n",
       "      <td>85% off</td>\n",
       "    </tr>\n",
       "    <tr>\n",
       "      <th>4</th>\n",
       "      <td>Robbie jones</td>\n",
       "      <td>₹449</td>\n",
       "      <td>55% off</td>\n",
       "    </tr>\n",
       "    <tr>\n",
       "      <th>...</th>\n",
       "      <td>...</td>\n",
       "      <td>...</td>\n",
       "      <td>...</td>\n",
       "    </tr>\n",
       "    <tr>\n",
       "      <th>95</th>\n",
       "      <td>BLACK BOTTOM</td>\n",
       "      <td>₹1,588</td>\n",
       "      <td>55% off</td>\n",
       "    </tr>\n",
       "    <tr>\n",
       "      <th>96</th>\n",
       "      <td>Stefano Rads</td>\n",
       "      <td>₹242</td>\n",
       "      <td>65% off</td>\n",
       "    </tr>\n",
       "    <tr>\n",
       "      <th>97</th>\n",
       "      <td>HOTSTYLE</td>\n",
       "      <td>₹283</td>\n",
       "      <td>43% off</td>\n",
       "    </tr>\n",
       "    <tr>\n",
       "      <th>98</th>\n",
       "      <td>Chevit</td>\n",
       "      <td>₹473</td>\n",
       "      <td>73% off</td>\n",
       "    </tr>\n",
       "    <tr>\n",
       "      <th>99</th>\n",
       "      <td>PUMA</td>\n",
       "      <td>₹1,047</td>\n",
       "      <td>60% off</td>\n",
       "    </tr>\n",
       "  </tbody>\n",
       "</table>\n",
       "<p>100 rows × 3 columns</p>\n",
       "</div>"
      ],
      "text/plain": [
       "      brand name   price discount\n",
       "0       PEHANOSA    ₹499  50% off\n",
       "1      India hub    ₹389  87% off\n",
       "2         ORICUM    ₹377  62% off\n",
       "3        tigonis    ₹449  85% off\n",
       "4   Robbie jones    ₹449  55% off\n",
       "..           ...     ...      ...\n",
       "95  BLACK BOTTOM  ₹1,588  55% off\n",
       "96  Stefano Rads    ₹242  65% off\n",
       "97      HOTSTYLE    ₹283  43% off\n",
       "98        Chevit    ₹473  73% off\n",
       "99          PUMA  ₹1,047  60% off\n",
       "\n",
       "[100 rows x 3 columns]"
      ]
     },
     "execution_count": 157,
     "metadata": {},
     "output_type": "execute_result"
    }
   ],
   "source": [
    "jobtab7"
   ]
  },
  {
   "cell_type": "markdown",
   "id": "a4d0e468",
   "metadata": {},
   "source": [
    "# Q9: Go to the link - https://www.myntra.com/shoes\n",
    "Set Price filter to “Rs. 6649 to Rs. 13099” , Color filter to “Black”, as shown in \n",
    "the below image\n",
    "And then scrape First 100 shoes data you get. The data should include “Brand” of \n",
    "the shoes , Short Shoe description, price of the shoe as shown in the below image"
   ]
  },
  {
   "cell_type": "markdown",
   "id": "cbf8dcfe",
   "metadata": {},
   "source": [
    "# "
   ]
  },
  {
   "cell_type": "code",
   "execution_count": 231,
   "id": "2dd1bb23",
   "metadata": {},
   "outputs": [],
   "source": [
    "from selenium import webdriver\n",
    "driver = webdriver.Chrome()"
   ]
  },
  {
   "cell_type": "code",
   "execution_count": 232,
   "id": "64124ad8",
   "metadata": {},
   "outputs": [],
   "source": [
    "from selenium.webdriver.support.ui import WebDriverWait\n",
    "from selenium.webdriver.support import expected_conditions as EC\n",
    "from selenium.webdriver.common.by import By"
   ]
  },
  {
   "cell_type": "code",
   "execution_count": 233,
   "id": "ee4d6e0c",
   "metadata": {},
   "outputs": [],
   "source": [
    "from selenium.common.exceptions import NoSuchElementException"
   ]
  },
  {
   "cell_type": "code",
   "execution_count": 234,
   "id": "537a7bef",
   "metadata": {},
   "outputs": [],
   "source": [
    "driver=webdriver.Chrome(\"chromedriver.exe\")"
   ]
  },
  {
   "cell_type": "code",
   "execution_count": 235,
   "id": "0915aea2",
   "metadata": {},
   "outputs": [],
   "source": [
    "url=\"https://www.myntra.com/shoes\"\n",
    "driver.get(url)"
   ]
  },
  {
   "cell_type": "code",
   "execution_count": 269,
   "id": "d4b87532",
   "metadata": {},
   "outputs": [],
   "source": [
    "search_box=driver.find_element_by_xpath(\"//div[@class='common-checkboxIndicator']\")"
   ]
  },
  {
   "cell_type": "code",
   "execution_count": 283,
   "id": "190c6b8d",
   "metadata": {},
   "outputs": [],
   "source": [
    " search_box=driver.find_element_by_xpath(\"//input[@value='6649.0 TO 13099.0']\")\n",
    "    \n"
   ]
  },
  {
   "cell_type": "code",
   "execution_count": 271,
   "id": "f0f74afe",
   "metadata": {},
   "outputs": [],
   "source": [
    "colour=driver.find_element_by_xpath(\"//span[@data-colorhex='black']\")"
   ]
  },
  {
   "cell_type": "code",
   "execution_count": 272,
   "id": "fab6f302",
   "metadata": {},
   "outputs": [],
   "source": [
    "colour.click()"
   ]
  },
  {
   "cell_type": "code",
   "execution_count": null,
   "id": "759d1c84",
   "metadata": {},
   "outputs": [],
   "source": []
  },
  {
   "cell_type": "code",
   "execution_count": 296,
   "id": "11bcdc85",
   "metadata": {},
   "outputs": [
    {
     "data": {
      "text/plain": [
       "['Rs. 12495',\n",
       " 'Rs. 2697Rs. 4495(40% OFF)',\n",
       " 'Rs. 758Rs. 3299(77% OFF)',\n",
       " 'Rs. 899',\n",
       " 'Rs. 3746Rs. 4995(25% OFF)',\n",
       " 'Rs. 721Rs. 849(15% OFF)',\n",
       " 'Rs. 1049Rs. 1399(25% OFF)',\n",
       " 'Rs. 5756Rs. 7195(20% OFF)',\n",
       " 'Rs. 3224Rs. 4299(25% OFF)',\n",
       " 'Rs. 1499',\n",
       " 'Rs. 11246Rs. 14995(25% OFF)',\n",
       " 'Rs. 645Rs. 1699(62% OFF)',\n",
       " 'Rs. 1824Rs. 7299(75% OFF)',\n",
       " 'Rs. 5756Rs. 7195(20% OFF)',\n",
       " 'Rs. 1799Rs. 2999(40% OFF)',\n",
       " 'Rs. 1499Rs. 5999(75% OFF)',\n",
       " 'Rs. 799Rs. 3699(Rs. 2900 OFF)',\n",
       " 'Rs. 4549Rs. 6499(30% OFF)',\n",
       " 'Rs. 11470Rs. 13495(15% OFF)',\n",
       " 'Rs. 1999',\n",
       " 'Rs. 804Rs. 2299(65% OFF)',\n",
       " 'Rs. 1199Rs. 1990(Rs. 791 OFF)',\n",
       " 'Rs. 1399Rs. 2799(50% OFF)',\n",
       " 'Rs. 12995',\n",
       " 'Rs. 599Rs. 999(40% OFF)',\n",
       " 'Rs. 584Rs. 1499(61% OFF)',\n",
       " 'Rs. 2399',\n",
       " 'Rs. 1999Rs. 3999(50% OFF)',\n",
       " 'Rs. 2469Rs. 3799(35% OFF)',\n",
       " 'Rs. 4399Rs. 5499(20% OFF)',\n",
       " 'Rs. 3839Rs. 4799(20% OFF)',\n",
       " 'Rs. 1749Rs. 6999(75% OFF)',\n",
       " 'Rs. 17595',\n",
       " 'Rs. 5499Rs. 9999(45% OFF)',\n",
       " 'Rs. 824Rs. 1099(25% OFF)',\n",
       " 'Rs. 519Rs. 1999(74% OFF)',\n",
       " 'Rs. 2014Rs. 3099(35% OFF)',\n",
       " 'Rs. 1499Rs. 5999(75% OFF)',\n",
       " 'Rs. 1499Rs. 5999(75% OFF)',\n",
       " 'Rs. 6079Rs. 7599(20% OFF)',\n",
       " 'Rs. 689Rs. 2999(77% OFF)',\n",
       " 'Rs. 2749Rs. 4999(45% OFF)',\n",
       " 'Rs. 899Rs. 2599(Rs. 1700 OFF)',\n",
       " 'Rs. 479Rs. 999(52% OFF)',\n",
       " 'Rs. 4121Rs. 5495(25% OFF)',\n",
       " 'Rs. 12316Rs. 17595(30% OFF)',\n",
       " 'Rs. 1289Rs. 4299(70% OFF)',\n",
       " 'Rs. 699Rs. 1499(Rs. 800 OFF)',\n",
       " 'Rs. 1799Rs. 3999(55% OFF)',\n",
       " 'Rs. 1199Rs. 3199(Rs. 2000 OFF)']"
      ]
     },
     "execution_count": 296,
     "metadata": {},
     "output_type": "execute_result"
    }
   ],
   "source": [
    "price=[]\n",
    "\n",
    "for i in driver.find_elements_by_xpath(\"//div[@class = 'product-price']\"):\n",
    "\n",
    "  price.append(i.text.replace('\\n',''))\n",
    "  \n",
    "    \n",
    "price"
   ]
  },
  {
   "cell_type": "code",
   "execution_count": null,
   "id": "28f49bd0",
   "metadata": {},
   "outputs": [],
   "source": []
  },
  {
   "cell_type": "code",
   "execution_count": 297,
   "id": "c985aed4",
   "metadata": {},
   "outputs": [
    {
     "data": {
      "text/plain": [
       "50"
      ]
     },
     "execution_count": 297,
     "metadata": {},
     "output_type": "execute_result"
    }
   ],
   "source": [
    "len(price)"
   ]
  },
  {
   "cell_type": "code",
   "execution_count": 308,
   "id": "956e94e5",
   "metadata": {},
   "outputs": [],
   "source": [
    "for i in range(3):\n",
    " driver.find_element_by_xpath('//li[@class=\"pagination-number\"]').click()\n",
    " time.sleep(2)\n",
    " "
   ]
  },
  {
   "cell_type": "code",
   "execution_count": 323,
   "id": "8c1a468a",
   "metadata": {},
   "outputs": [
    {
     "data": {
      "text/plain": [
       "['Rs. 4121Rs. 5495(25% OFF)',\n",
       " 'Rs. 2697Rs. 4495(40% OFF)',\n",
       " 'Rs. 645Rs. 1699(62% OFF)',\n",
       " 'Rs. 758Rs. 3299(77% OFF)',\n",
       " 'Rs. 899',\n",
       " 'Rs. 1049Rs. 1399(25% OFF)',\n",
       " 'Rs. 721Rs. 849(15% OFF)',\n",
       " 'Rs. 3224Rs. 4299(25% OFF)',\n",
       " 'Rs. 999Rs. 3999(75% OFF)',\n",
       " 'Rs. 4499Rs. 5999(25% OFF)',\n",
       " 'Rs. 1499',\n",
       " 'Rs. 1749Rs. 6999(75% OFF)',\n",
       " 'Rs. 1824Rs. 7299(75% OFF)',\n",
       " 'Rs. 3996Rs. 4995(20% OFF)',\n",
       " 'Rs. 4199Rs. 5599(25% OFF)',\n",
       " 'Rs. 799Rs. 3699(Rs. 2900 OFF)',\n",
       " 'Rs. 1999Rs. 3999(50% OFF)',\n",
       " 'Rs. 17595',\n",
       " 'Rs. 3839Rs. 4799(20% OFF)',\n",
       " 'Rs. 1499Rs. 5999(75% OFF)',\n",
       " 'Rs. 599Rs. 999(40% OFF)',\n",
       " 'Rs. 7496Rs. 9995(25% OFF)',\n",
       " 'Rs. 1839Rs. 4599(60% OFF)',\n",
       " 'Rs. 1799Rs. 2999(40% OFF)',\n",
       " 'Rs. 5756Rs. 7195(20% OFF)',\n",
       " 'Rs. 1199Rs. 1990(Rs. 791 OFF)',\n",
       " 'Rs. 1709Rs. 3799(55% OFF)',\n",
       " 'Rs. 939Rs. 4699(80% OFF)',\n",
       " 'Rs. 11246Rs. 14995(25% OFF)',\n",
       " 'Rs. 1574Rs. 3499(55% OFF)',\n",
       " 'Rs. 2469Rs. 3799(35% OFF)',\n",
       " 'Rs. 11470Rs. 13495(15% OFF)',\n",
       " 'Rs. 584Rs. 1499(61% OFF)',\n",
       " 'Rs. 1649Rs. 6599(75% OFF)',\n",
       " 'Rs. 1224Rs. 4899(75% OFF)',\n",
       " 'Rs. 1799Rs. 3999(55% OFF)',\n",
       " 'Rs. 5756Rs. 7195(20% OFF)',\n",
       " 'Rs. 1274Rs. 1499(15% OFF)',\n",
       " 'Rs. 669Rs. 999(33% OFF)',\n",
       " 'Rs. 804Rs. 2299(65% OFF)',\n",
       " 'Rs. 519Rs. 1999(74% OFF)',\n",
       " 'Rs. 12995',\n",
       " 'Rs. 699Rs. 1499(Rs. 800 OFF)',\n",
       " 'Rs. 1499Rs. 5999(75% OFF)',\n",
       " 'Rs. 4874Rs. 6499(25% OFF)',\n",
       " 'Rs. 12495',\n",
       " 'Rs. 2749Rs. 4999(45% OFF)',\n",
       " 'Rs. 2879Rs. 3599(20% OFF)',\n",
       " 'Rs. 7796Rs. 11995(35% OFF)',\n",
       " 'Rs. 899Rs. 2599(Rs. 1700 OFF)',\n",
       " 'Rs. 4121Rs. 5495(25% OFF)',\n",
       " 'Rs. 2697Rs. 4495(40% OFF)',\n",
       " 'Rs. 645Rs. 1699(62% OFF)',\n",
       " 'Rs. 758Rs. 3299(77% OFF)',\n",
       " 'Rs. 899',\n",
       " 'Rs. 1049Rs. 1399(25% OFF)',\n",
       " 'Rs. 721Rs. 849(15% OFF)',\n",
       " 'Rs. 3224Rs. 4299(25% OFF)',\n",
       " 'Rs. 999Rs. 3999(75% OFF)',\n",
       " 'Rs. 4499Rs. 5999(25% OFF)',\n",
       " 'Rs. 1499',\n",
       " 'Rs. 1749Rs. 6999(75% OFF)',\n",
       " 'Rs. 1824Rs. 7299(75% OFF)',\n",
       " 'Rs. 3996Rs. 4995(20% OFF)',\n",
       " 'Rs. 4199Rs. 5599(25% OFF)',\n",
       " 'Rs. 799Rs. 3699(Rs. 2900 OFF)',\n",
       " 'Rs. 1999Rs. 3999(50% OFF)',\n",
       " 'Rs. 17595',\n",
       " 'Rs. 3839Rs. 4799(20% OFF)',\n",
       " 'Rs. 1499Rs. 5999(75% OFF)',\n",
       " 'Rs. 599Rs. 999(40% OFF)',\n",
       " 'Rs. 7496Rs. 9995(25% OFF)',\n",
       " 'Rs. 1839Rs. 4599(60% OFF)',\n",
       " 'Rs. 1799Rs. 2999(40% OFF)',\n",
       " 'Rs. 5756Rs. 7195(20% OFF)',\n",
       " 'Rs. 1199Rs. 1990(Rs. 791 OFF)',\n",
       " 'Rs. 1709Rs. 3799(55% OFF)',\n",
       " 'Rs. 939Rs. 4699(80% OFF)',\n",
       " 'Rs. 11246Rs. 14995(25% OFF)',\n",
       " 'Rs. 1574Rs. 3499(55% OFF)',\n",
       " 'Rs. 2469Rs. 3799(35% OFF)',\n",
       " 'Rs. 11470Rs. 13495(15% OFF)',\n",
       " 'Rs. 584Rs. 1499(61% OFF)',\n",
       " 'Rs. 1649Rs. 6599(75% OFF)',\n",
       " 'Rs. 1224Rs. 4899(75% OFF)',\n",
       " 'Rs. 1799Rs. 3999(55% OFF)',\n",
       " 'Rs. 5756Rs. 7195(20% OFF)',\n",
       " 'Rs. 1274Rs. 1499(15% OFF)',\n",
       " 'Rs. 669Rs. 999(33% OFF)',\n",
       " 'Rs. 804Rs. 2299(65% OFF)',\n",
       " 'Rs. 519Rs. 1999(74% OFF)',\n",
       " 'Rs. 12995',\n",
       " 'Rs. 699Rs. 1499(Rs. 800 OFF)',\n",
       " 'Rs. 1499Rs. 5999(75% OFF)',\n",
       " 'Rs. 4874Rs. 6499(25% OFF)',\n",
       " 'Rs. 12495',\n",
       " 'Rs. 2749Rs. 4999(45% OFF)',\n",
       " 'Rs. 2879Rs. 3599(20% OFF)',\n",
       " 'Rs. 7796Rs. 11995(35% OFF)',\n",
       " 'Rs. 899Rs. 2599(Rs. 1700 OFF)']"
      ]
     },
     "execution_count": 323,
     "metadata": {},
     "output_type": "execute_result"
    }
   ],
   "source": [
    "price=[]\n",
    "\n",
    "for i in range(2):\n",
    " for i in driver.find_elements_by_xpath(\"//div[@class = 'product-price']\"):\n",
    "\n",
    "  price.append(i.text.replace('\\n ',''))\n",
    "  \n",
    " \n",
    "\n",
    "driver.find_element_by_xpath('//li[@class=\"pagination-number\"]').click()\n",
    "time.sleep(2)   \n",
    "    \n",
    "price"
   ]
  },
  {
   "cell_type": "code",
   "execution_count": 321,
   "id": "7216dd9b",
   "metadata": {},
   "outputs": [
    {
     "data": {
      "text/plain": [
       "100"
      ]
     },
     "execution_count": 321,
     "metadata": {},
     "output_type": "execute_result"
    }
   ],
   "source": [
    "len(price)"
   ]
  },
  {
   "cell_type": "code",
   "execution_count": 304,
   "id": "3dc365dd",
   "metadata": {},
   "outputs": [
    {
     "data": {
      "text/plain": [
       "['Nike',\n",
       " 'ASICS',\n",
       " 'Nabaiji By Decathlon',\n",
       " 'Nike',\n",
       " 'Campus',\n",
       " 'Sparx',\n",
       " 'Nike',\n",
       " 'Skechers',\n",
       " 'H&M',\n",
       " 'Nike',\n",
       " 'MENGLER',\n",
       " 'Red Tape',\n",
       " 'Nike',\n",
       " 'Puma',\n",
       " 'Red Tape',\n",
       " 'Provogue',\n",
       " 'Puma',\n",
       " 'Nike',\n",
       " 'H&M',\n",
       " 'Crew STREET',\n",
       " 'HIGHLANDER',\n",
       " 'HRX by Hrithik Roshan',\n",
       " 'Nike',\n",
       " 'ZAPATOZ',\n",
       " 'Butterflies',\n",
       " 'Campus',\n",
       " 'Puma',\n",
       " 'ADIDAS Originals',\n",
       " 'Skechers',\n",
       " 'ADIDAS',\n",
       " 'Red Tape',\n",
       " 'Nike',\n",
       " 'Skechers',\n",
       " 'Champs',\n",
       " 'ELIXIR MAN',\n",
       " 'House of Pataudi',\n",
       " 'Red Tape',\n",
       " 'Red Tape',\n",
       " 'ADIDAS',\n",
       " 'ASICS',\n",
       " 'Puma',\n",
       " 'Eego Italy',\n",
       " 'Histeria',\n",
       " 'Nike',\n",
       " 'Nike',\n",
       " 'HRX by Hrithik Roshan',\n",
       " 'Shezone',\n",
       " 'Puma',\n",
       " 'HRX by Hrithik Roshan']"
      ]
     },
     "execution_count": 304,
     "metadata": {},
     "output_type": "execute_result"
    }
   ],
   "source": [
    "Brand=[]\n",
    "\n",
    "for i in driver.find_elements_by_xpath(\"//h3[@class='product-brand']\"):\n",
    " Brand.append(i.text.replace('\\n',''))\n",
    "  \n",
    "    \n",
    "Brand"
   ]
  },
  {
   "cell_type": "code",
   "execution_count": 305,
   "id": "80a5e754",
   "metadata": {},
   "outputs": [
    {
     "data": {
      "text/plain": [
       "49"
      ]
     },
     "execution_count": 305,
     "metadata": {},
     "output_type": "execute_result"
    }
   ],
   "source": [
    "len(Brand)"
   ]
  },
  {
   "cell_type": "code",
   "execution_count": 311,
   "id": "83ef9a8f",
   "metadata": {},
   "outputs": [
    {
     "data": {
      "text/plain": [
       "['PUMA Motorsport',\n",
       " 'Mode by Red Tape',\n",
       " 'Catwalk',\n",
       " 'Red Tape',\n",
       " 'HRX by Hrithik Roshan',\n",
       " 'Nike',\n",
       " 'Nike',\n",
       " 'Shoetopia',\n",
       " 'ZAPATOZ',\n",
       " 'Truffle Collection',\n",
       " 'Skechers',\n",
       " 'Nike',\n",
       " 'Skechers',\n",
       " 'Sparx',\n",
       " 'Nike',\n",
       " 'DressBerry',\n",
       " 'Sir Corbett',\n",
       " 'Bata',\n",
       " 'Bella Toes',\n",
       " 'Red Tape',\n",
       " 'Puma',\n",
       " 'HRX by Hrithik Roshan',\n",
       " 'Nike',\n",
       " 'Catwalk',\n",
       " 'TRASE',\n",
       " 'ZAPATOZ',\n",
       " 'Nike',\n",
       " 'Catwalk',\n",
       " 'Clarks',\n",
       " 'H&M',\n",
       " 'Nike',\n",
       " 'HRX by Hrithik Roshan',\n",
       " 'Campus',\n",
       " 'Puma',\n",
       " 'Red Tape',\n",
       " 'Nike',\n",
       " 'DressBerry',\n",
       " 'Puma',\n",
       " 'U.S. Polo Assn.',\n",
       " 'Campus',\n",
       " 'ADIDAS',\n",
       " 'HIGHLANDER',\n",
       " 'Catwalk',\n",
       " 'Vishudh',\n",
       " 'Puma',\n",
       " 'Reebok',\n",
       " 'AfroJack',\n",
       " 'Campus',\n",
       " 'Skechers',\n",
       " 'Crew STREET',\n",
       " 'PUMA Motorsport',\n",
       " 'Mode by Red Tape',\n",
       " 'Catwalk',\n",
       " 'Red Tape',\n",
       " 'HRX by Hrithik Roshan',\n",
       " 'Nike',\n",
       " 'Nike',\n",
       " 'Shoetopia',\n",
       " 'ZAPATOZ',\n",
       " 'Truffle Collection',\n",
       " 'Skechers',\n",
       " 'Nike',\n",
       " 'Skechers',\n",
       " 'Sparx',\n",
       " 'Nike',\n",
       " 'DressBerry',\n",
       " 'Sir Corbett',\n",
       " 'Bata',\n",
       " 'Bella Toes',\n",
       " 'Red Tape',\n",
       " 'Puma',\n",
       " 'HRX by Hrithik Roshan',\n",
       " 'Nike',\n",
       " 'Catwalk',\n",
       " 'TRASE',\n",
       " 'ZAPATOZ',\n",
       " 'Nike',\n",
       " 'Catwalk',\n",
       " 'Clarks',\n",
       " 'H&M',\n",
       " 'Nike',\n",
       " 'HRX by Hrithik Roshan',\n",
       " 'Campus',\n",
       " 'Puma',\n",
       " 'Red Tape',\n",
       " 'Nike',\n",
       " 'DressBerry',\n",
       " 'Puma',\n",
       " 'U.S. Polo Assn.',\n",
       " 'Campus',\n",
       " 'ADIDAS',\n",
       " 'HIGHLANDER',\n",
       " 'Catwalk',\n",
       " 'Vishudh',\n",
       " 'Puma',\n",
       " 'Reebok',\n",
       " 'AfroJack',\n",
       " 'Campus',\n",
       " 'Skechers',\n",
       " 'Crew STREET']"
      ]
     },
     "execution_count": 311,
     "metadata": {},
     "output_type": "execute_result"
    }
   ],
   "source": [
    "Brand=[]\n",
    "for i in range(2):\n",
    " for i in driver.find_elements_by_xpath(\"//h3[@class='product-brand']\"):\n",
    "   Brand.append(i.text.replace('\\n',''))\n",
    "  \n",
    "driver.find_element_by_xpath('//li[@class=\"pagination-number\"]').click()\n",
    "time.sleep(2)\n",
    "\n",
    "\n",
    "Brand"
   ]
  },
  {
   "cell_type": "code",
   "execution_count": 312,
   "id": "17e3cff3",
   "metadata": {},
   "outputs": [
    {
     "data": {
      "text/plain": [
       "100"
      ]
     },
     "execution_count": 312,
     "metadata": {},
     "output_type": "execute_result"
    }
   ],
   "source": [
    "len(Brand)"
   ]
  },
  {
   "cell_type": "code",
   "execution_count": 300,
   "id": "a7218bf5",
   "metadata": {},
   "outputs": [
    {
     "data": {
      "text/plain": [
       "['Men JORDAN DELTA Basketball',\n",
       " 'Men COURT ROYALE AC Sneakers',\n",
       " 'Kids Solid Running Shoes',\n",
       " 'Unisex Aqua Aerobics Shoes',\n",
       " 'Men FLEX EXPERIENCE Running',\n",
       " 'Men Running Shoes',\n",
       " 'Men Running Shoes',\n",
       " 'Men ZOOM SPAN 3 Running Shoes',\n",
       " 'Men GO WALK MAX Walking Shoes',\n",
       " 'Canvas trainers',\n",
       " 'Men JOYRIDE Running Shoes',\n",
       " 'Men Walking Shoes',\n",
       " 'Men Walking Shoes',\n",
       " 'Men SPEEDREP Training Shoes',\n",
       " 'Unisex Kent 2.0 IDP Sneakers',\n",
       " 'Men Walking Shoes',\n",
       " 'Men Solid Horsebit Loafers',\n",
       " 'Men ULTRA 3.2 FG/AG Football',\n",
       " 'Unisex COSMIC UNITY Basketball',\n",
       " 'Men Patterned Trainers',\n",
       " 'Men Woven Design Walking Shoes',\n",
       " 'Men Sneakers',\n",
       " 'Women Flex Running Shoes',\n",
       " 'Men KD13 EP Basketball Shoes',\n",
       " 'Women Walking Shoes',\n",
       " 'Women Embellished Wedge Heels',\n",
       " 'Men SYCLONE (R) Running Shoes',\n",
       " 'Men Running Slip-On Sneakers',\n",
       " 'Men Easy VULC 2.0 Skateboard',\n",
       " 'Go Flex 2 Contort Walking',\n",
       " 'Men Sturds Running Shoes',\n",
       " 'Men Walking Shoes',\n",
       " 'LEBRON XVIII Basketball Shoes',\n",
       " 'Men GO RUN 7+ Running Shoes',\n",
       " 'Men Running Shoes',\n",
       " 'Men Sneakers',\n",
       " 'Women Handcrafted Flats',\n",
       " 'Men Walking Shoes',\n",
       " 'Men Walking Shoes',\n",
       " 'Men Response SR Running Shoes',\n",
       " 'Pre Contend 4 Ps Running Shoes',\n",
       " 'Women Running Shoes',\n",
       " 'Men Trekking Shoes',\n",
       " 'Men Perforations Clogs',\n",
       " 'HERITAGE VULC Skateboarding',\n",
       " 'Unisex LEBRON XVIII Basketball',\n",
       " 'Men Running Shoes',\n",
       " 'Women Animal Print Ballerinas',\n",
       " 'Men Gamble XT IDP Shoes',\n",
       " 'Men Skate Street Sneakers']"
      ]
     },
     "execution_count": 300,
     "metadata": {},
     "output_type": "execute_result"
    }
   ],
   "source": [
    "product_desc=[]\n",
    "\n",
    "for i in driver.find_elements_by_xpath(\"//h4[@class='product-product']\"):\n",
    " product_desc.append(i.text.replace('\\n',''))\n",
    "  \n",
    "    \n",
    "product_desc"
   ]
  },
  {
   "cell_type": "code",
   "execution_count": 301,
   "id": "60d8a701",
   "metadata": {},
   "outputs": [
    {
     "data": {
      "text/plain": [
       "50"
      ]
     },
     "execution_count": 301,
     "metadata": {},
     "output_type": "execute_result"
    }
   ],
   "source": [
    "len(product_desc)"
   ]
  },
  {
   "cell_type": "code",
   "execution_count": 313,
   "id": "cc3cf134",
   "metadata": {},
   "outputs": [
    {
     "data": {
      "text/plain": [
       "['Men COURT ROYALE AC Sneakers',\n",
       " 'Men Walking Shoes',\n",
       " 'Kids Solid Running Shoes',\n",
       " 'Unisex Aqua Aerobics Shoes',\n",
       " 'Men Woven Design Walking Shoes',\n",
       " 'Men Running Shoes',\n",
       " 'Women Mid-Top Open Toe Flats',\n",
       " 'HERITAGE VULC Skateboarding',\n",
       " 'Men GO WALK MAX Walking Shoes',\n",
       " 'Canvas trainers',\n",
       " 'Unisex LEBRON XVIII Basketball',\n",
       " 'Men Walking Shoes',\n",
       " 'Women Open Toe Flats',\n",
       " 'Men Walking Shoes',\n",
       " 'Men Solid Horsebit Loafers',\n",
       " 'Men Running Slip-On Sneakers',\n",
       " 'Men Walking Shoes',\n",
       " 'Men ZOOM FREAK 2 Basketball',\n",
       " 'Women PEGASUS 37 Running Shoes',\n",
       " 'Unisex LEBRON XVIII Basketball',\n",
       " 'Men CREST Walking Shoes',\n",
       " 'Unisex Kent 2.0 IDP Sneakers',\n",
       " 'Men Sneakers',\n",
       " 'Men Knit Run 1.0 Running Shoe',\n",
       " 'Sneakers',\n",
       " 'Men Easy VULC 2.0 Skateboard',\n",
       " 'Women Lace -Up Open Toe Flats',\n",
       " 'Men JOYRIDE Running Shoes',\n",
       " 'Men Sturds Running Shoes',\n",
       " 'Men Walking Shoes',\n",
       " 'Men Colourblocked Flat Boots',\n",
       " 'Women Embellished Wedge Heels',\n",
       " 'Men NORTH-ON Running Shoes',\n",
       " 'Men Solid Leather Formal Derbys',\n",
       " 'Men Gamble XT IDP Shoes',\n",
       " 'Men Woven Design Sneakers',\n",
       " 'Men Woven Design Walking Shoes',\n",
       " 'Women Heeled Boots',\n",
       " 'Men Sneakers',\n",
       " 'Men Walking Shoes',\n",
       " 'Men JORDAN DELTA Basketball',\n",
       " 'Women Walking Shoes',\n",
       " 'Women Animal Print Ballerinas',\n",
       " 'Men Walking Shoes',\n",
       " 'Men FLEX EXPERIENCE Running',\n",
       " 'Women Running Shoes',\n",
       " 'Men KD13 EP Basketball Shoes',\n",
       " 'Men Perforations Clogs',\n",
       " 'Women REACT Running Shoes',\n",
       " 'Men ZOOM SPAN 3 Running Shoes',\n",
       " 'Men COURT ROYALE AC Sneakers',\n",
       " 'Men Walking Shoes',\n",
       " 'Kids Solid Running Shoes',\n",
       " 'Unisex Aqua Aerobics Shoes',\n",
       " 'Men Woven Design Walking Shoes',\n",
       " 'Men Running Shoes',\n",
       " 'Women Mid-Top Open Toe Flats',\n",
       " 'HERITAGE VULC Skateboarding',\n",
       " 'Men GO WALK MAX Walking Shoes',\n",
       " 'Canvas trainers',\n",
       " 'Unisex LEBRON XVIII Basketball',\n",
       " 'Men Walking Shoes',\n",
       " 'Women Open Toe Flats',\n",
       " 'Men Walking Shoes',\n",
       " 'Men Solid Horsebit Loafers',\n",
       " 'Men Running Slip-On Sneakers',\n",
       " 'Men Walking Shoes',\n",
       " 'Men ZOOM FREAK 2 Basketball',\n",
       " 'Women PEGASUS 37 Running Shoes',\n",
       " 'Unisex LEBRON XVIII Basketball',\n",
       " 'Men CREST Walking Shoes',\n",
       " 'Unisex Kent 2.0 IDP Sneakers',\n",
       " 'Men Sneakers',\n",
       " 'Men Knit Run 1.0 Running Shoe',\n",
       " 'Sneakers',\n",
       " 'Men Easy VULC 2.0 Skateboard',\n",
       " 'Women Lace -Up Open Toe Flats',\n",
       " 'Men JOYRIDE Running Shoes',\n",
       " 'Men Sturds Running Shoes',\n",
       " 'Men Walking Shoes',\n",
       " 'Men Colourblocked Flat Boots',\n",
       " 'Women Embellished Wedge Heels',\n",
       " 'Men NORTH-ON Running Shoes',\n",
       " 'Men Solid Leather Formal Derbys',\n",
       " 'Men Gamble XT IDP Shoes',\n",
       " 'Men Woven Design Sneakers',\n",
       " 'Men Woven Design Walking Shoes',\n",
       " 'Women Heeled Boots',\n",
       " 'Men Sneakers',\n",
       " 'Men Walking Shoes',\n",
       " 'Men JORDAN DELTA Basketball',\n",
       " 'Women Walking Shoes',\n",
       " 'Women Animal Print Ballerinas',\n",
       " 'Men Walking Shoes',\n",
       " 'Men FLEX EXPERIENCE Running',\n",
       " 'Women Running Shoes',\n",
       " 'Men KD13 EP Basketball Shoes',\n",
       " 'Men Perforations Clogs',\n",
       " 'Women REACT Running Shoes',\n",
       " 'Men ZOOM SPAN 3 Running Shoes']"
      ]
     },
     "execution_count": 313,
     "metadata": {},
     "output_type": "execute_result"
    }
   ],
   "source": [
    "product_desc=[]\n",
    "for i in range(2):\n",
    " for i in driver.find_elements_by_xpath(\"//h4[@class='product-product']\"):\n",
    "   product_desc.append(i.text.replace('\\n',''))\n",
    "  \n",
    "driver.find_element_by_xpath('//li[@class=\"pagination-number\"]').click()\n",
    "time.sleep(2)      \n",
    "product_desc"
   ]
  },
  {
   "cell_type": "code",
   "execution_count": 314,
   "id": "a30ffd2a",
   "metadata": {},
   "outputs": [
    {
     "data": {
      "text/plain": [
       "100"
      ]
     },
     "execution_count": 314,
     "metadata": {},
     "output_type": "execute_result"
    }
   ],
   "source": [
    "len(product_desc)"
   ]
  },
  {
   "cell_type": "code",
   "execution_count": 316,
   "id": "e8df771e",
   "metadata": {},
   "outputs": [],
   "source": [
    "import pandas as pd\n",
    "shoe=pd.DataFrame({})\n",
    "\n",
    "shoe['brand name']=Brand\n",
    "shoe['price']=price\n",
    "shoe['desc']=product_desc"
   ]
  },
  {
   "cell_type": "code",
   "execution_count": 317,
   "id": "41985486",
   "metadata": {},
   "outputs": [
    {
     "data": {
      "text/html": [
       "<div>\n",
       "<style scoped>\n",
       "    .dataframe tbody tr th:only-of-type {\n",
       "        vertical-align: middle;\n",
       "    }\n",
       "\n",
       "    .dataframe tbody tr th {\n",
       "        vertical-align: top;\n",
       "    }\n",
       "\n",
       "    .dataframe thead th {\n",
       "        text-align: right;\n",
       "    }\n",
       "</style>\n",
       "<table border=\"1\" class=\"dataframe\">\n",
       "  <thead>\n",
       "    <tr style=\"text-align: right;\">\n",
       "      <th></th>\n",
       "      <th>brand name</th>\n",
       "      <th>price</th>\n",
       "      <th>desc</th>\n",
       "    </tr>\n",
       "  </thead>\n",
       "  <tbody>\n",
       "    <tr>\n",
       "      <th>0</th>\n",
       "      <td>PUMA Motorsport</td>\n",
       "      <td>Rs. 2697Rs. 4495(40% OFF)</td>\n",
       "      <td>Men COURT ROYALE AC Sneakers</td>\n",
       "    </tr>\n",
       "    <tr>\n",
       "      <th>1</th>\n",
       "      <td>Mode by Red Tape</td>\n",
       "      <td>Rs. 645Rs. 1699(62% OFF)</td>\n",
       "      <td>Men Walking Shoes</td>\n",
       "    </tr>\n",
       "    <tr>\n",
       "      <th>2</th>\n",
       "      <td>Catwalk</td>\n",
       "      <td>Rs. 758Rs. 3299(77% OFF)</td>\n",
       "      <td>Kids Solid Running Shoes</td>\n",
       "    </tr>\n",
       "    <tr>\n",
       "      <th>3</th>\n",
       "      <td>Red Tape</td>\n",
       "      <td>Rs. 899</td>\n",
       "      <td>Unisex Aqua Aerobics Shoes</td>\n",
       "    </tr>\n",
       "    <tr>\n",
       "      <th>4</th>\n",
       "      <td>HRX by Hrithik Roshan</td>\n",
       "      <td>Rs. 1259Rs. 2799(55% OFF)</td>\n",
       "      <td>Men Woven Design Walking Shoes</td>\n",
       "    </tr>\n",
       "    <tr>\n",
       "      <th>...</th>\n",
       "      <td>...</td>\n",
       "      <td>...</td>\n",
       "      <td>...</td>\n",
       "    </tr>\n",
       "    <tr>\n",
       "      <th>95</th>\n",
       "      <td>Reebok</td>\n",
       "      <td>Rs. 2749Rs. 4999(45% OFF)</td>\n",
       "      <td>Women Running Shoes</td>\n",
       "    </tr>\n",
       "    <tr>\n",
       "      <th>96</th>\n",
       "      <td>AfroJack</td>\n",
       "      <td>Rs. 12995</td>\n",
       "      <td>Men KD13 EP Basketball Shoes</td>\n",
       "    </tr>\n",
       "    <tr>\n",
       "      <th>97</th>\n",
       "      <td>Campus</td>\n",
       "      <td>Rs. 479Rs. 999(52% OFF)</td>\n",
       "      <td>Men Perforations Clogs</td>\n",
       "    </tr>\n",
       "    <tr>\n",
       "      <th>98</th>\n",
       "      <td>Skechers</td>\n",
       "      <td>Rs. 7796Rs. 11995(35% OFF)</td>\n",
       "      <td>Women REACT Running Shoes</td>\n",
       "    </tr>\n",
       "    <tr>\n",
       "      <th>99</th>\n",
       "      <td>Crew STREET</td>\n",
       "      <td>Rs. 5756Rs. 7195(20% OFF)</td>\n",
       "      <td>Men ZOOM SPAN 3 Running Shoes</td>\n",
       "    </tr>\n",
       "  </tbody>\n",
       "</table>\n",
       "<p>100 rows × 3 columns</p>\n",
       "</div>"
      ],
      "text/plain": [
       "               brand name                       price  \\\n",
       "0         PUMA Motorsport   Rs. 2697Rs. 4495(40% OFF)   \n",
       "1        Mode by Red Tape    Rs. 645Rs. 1699(62% OFF)   \n",
       "2                 Catwalk    Rs. 758Rs. 3299(77% OFF)   \n",
       "3                Red Tape                     Rs. 899   \n",
       "4   HRX by Hrithik Roshan   Rs. 1259Rs. 2799(55% OFF)   \n",
       "..                    ...                         ...   \n",
       "95                 Reebok   Rs. 2749Rs. 4999(45% OFF)   \n",
       "96               AfroJack                   Rs. 12995   \n",
       "97                 Campus     Rs. 479Rs. 999(52% OFF)   \n",
       "98               Skechers  Rs. 7796Rs. 11995(35% OFF)   \n",
       "99            Crew STREET   Rs. 5756Rs. 7195(20% OFF)   \n",
       "\n",
       "                              desc  \n",
       "0     Men COURT ROYALE AC Sneakers  \n",
       "1                Men Walking Shoes  \n",
       "2         Kids Solid Running Shoes  \n",
       "3       Unisex Aqua Aerobics Shoes  \n",
       "4   Men Woven Design Walking Shoes  \n",
       "..                             ...  \n",
       "95             Women Running Shoes  \n",
       "96    Men KD13 EP Basketball Shoes  \n",
       "97          Men Perforations Clogs  \n",
       "98       Women REACT Running Shoes  \n",
       "99   Men ZOOM SPAN 3 Running Shoes  \n",
       "\n",
       "[100 rows x 3 columns]"
      ]
     },
     "execution_count": 317,
     "metadata": {},
     "output_type": "execute_result"
    }
   ],
   "source": [
    "shoe"
   ]
  },
  {
   "cell_type": "markdown",
   "id": "aee77df1",
   "metadata": {},
   "source": [
    "# Please note that applying the filter and scraping the data , everything should be \n",
    "done through code only and there should not be any manual step.\n",
    "Q10: Go to webpage https://www.amazon.in/\n",
    " Enter “Laptop” in the search field and then click the search icon.\n",
    " Then set CPU Type filter to “Intel Core i7” and “Intel Core i9” as shown in the \n",
    "below image\n",
    "After setting the filters scrape first 10 laptops data. You have to scrape 3 attributes \n",
    "for each laptop:\n",
    "1. title\n",
    "2. Ratings\n",
    "3. Price\n",
    "As shown in the below image as the tick marked attributes"
   ]
  },
  {
   "cell_type": "code",
   "execution_count": 5,
   "id": "8405bbcd",
   "metadata": {},
   "outputs": [],
   "source": [
    "url=\"  https://www.amazon.in/\"\n",
    "driver.get(url)"
   ]
  },
  {
   "cell_type": "code",
   "execution_count": 6,
   "id": "e396fb2d",
   "metadata": {},
   "outputs": [],
   "source": [
    "try:\n",
    "     search_box=driver.find_element_by_xpath('//input[@id=\"twotabsearchtextbox\"]')\n",
    "    \n",
    "except NoSuchElementException :\n",
    "  search_box='na'"
   ]
  },
  {
   "cell_type": "code",
   "execution_count": 7,
   "id": "52bfe82a",
   "metadata": {},
   "outputs": [],
   "source": [
    "search_box.send_keys('Laptop')"
   ]
  },
  {
   "cell_type": "code",
   "execution_count": 8,
   "id": "d8a1f35d",
   "metadata": {},
   "outputs": [],
   "source": [
    "search_botton=driver.find_element_by_xpath('//div[@class=\"nav-search-submit nav-sprite\"]').click()"
   ]
  },
  {
   "cell_type": "code",
   "execution_count": 10,
   "id": "ffa35331",
   "metadata": {},
   "outputs": [],
   "source": [
    "filterbotton=driver.find_elements_by_xpath('//a[@class=\"a-link-normal s-navigation-item\"]/span')"
   ]
  },
  {
   "cell_type": "code",
   "execution_count": 11,
   "id": "032a81f9",
   "metadata": {},
   "outputs": [
    {
     "data": {
      "text/plain": [
       "[<selenium.webdriver.remote.webelement.WebElement (session=\"4ef51535071982d61926d3051674b760\", element=\"2bca2553-68c5-4bb5-ba12-6374b81f2b79\")>,\n",
       " <selenium.webdriver.remote.webelement.WebElement (session=\"4ef51535071982d61926d3051674b760\", element=\"ca07c49e-5259-4fc4-9944-c2d427ec12f4\")>,\n",
       " <selenium.webdriver.remote.webelement.WebElement (session=\"4ef51535071982d61926d3051674b760\", element=\"46453b83-540f-4f50-ae85-e8c94a34d1db\")>,\n",
       " <selenium.webdriver.remote.webelement.WebElement (session=\"4ef51535071982d61926d3051674b760\", element=\"f5a72835-5bec-46b4-bd86-fd82a00e76fe\")>,\n",
       " <selenium.webdriver.remote.webelement.WebElement (session=\"4ef51535071982d61926d3051674b760\", element=\"919a6480-5696-4833-87bc-d0862bfecd83\")>,\n",
       " <selenium.webdriver.remote.webelement.WebElement (session=\"4ef51535071982d61926d3051674b760\", element=\"def46021-298b-4d7d-8f58-a49b241fc020\")>,\n",
       " <selenium.webdriver.remote.webelement.WebElement (session=\"4ef51535071982d61926d3051674b760\", element=\"3ae10e81-8ed1-46ea-8960-b4ea1ef20832\")>,\n",
       " <selenium.webdriver.remote.webelement.WebElement (session=\"4ef51535071982d61926d3051674b760\", element=\"285004f9-84fb-4ba4-b667-67710711d8e7\")>,\n",
       " <selenium.webdriver.remote.webelement.WebElement (session=\"4ef51535071982d61926d3051674b760\", element=\"9bfee65f-7d36-41e0-ade6-d48ce8481244\")>,\n",
       " <selenium.webdriver.remote.webelement.WebElement (session=\"4ef51535071982d61926d3051674b760\", element=\"61182788-7914-44ba-901a-3e3e68c0fc8f\")>,\n",
       " <selenium.webdriver.remote.webelement.WebElement (session=\"4ef51535071982d61926d3051674b760\", element=\"dfb80a53-7adb-4c1b-ba81-8d11cafb4998\")>,\n",
       " <selenium.webdriver.remote.webelement.WebElement (session=\"4ef51535071982d61926d3051674b760\", element=\"c7396cdf-a3cd-4eaf-91f1-6eb6b962cdc8\")>,\n",
       " <selenium.webdriver.remote.webelement.WebElement (session=\"4ef51535071982d61926d3051674b760\", element=\"de9d7523-3a8f-417e-bc90-f5242268a4a3\")>,\n",
       " <selenium.webdriver.remote.webelement.WebElement (session=\"4ef51535071982d61926d3051674b760\", element=\"9711af71-c7db-46bd-8a29-84419625c44f\")>,\n",
       " <selenium.webdriver.remote.webelement.WebElement (session=\"4ef51535071982d61926d3051674b760\", element=\"8d663e07-690e-47f3-b079-73c126c81d3f\")>,\n",
       " <selenium.webdriver.remote.webelement.WebElement (session=\"4ef51535071982d61926d3051674b760\", element=\"f694f66a-c5ea-411a-997a-9bcf7027b18b\")>,\n",
       " <selenium.webdriver.remote.webelement.WebElement (session=\"4ef51535071982d61926d3051674b760\", element=\"5efeb0eb-6155-43b5-8e61-1475cd54d6de\")>,\n",
       " <selenium.webdriver.remote.webelement.WebElement (session=\"4ef51535071982d61926d3051674b760\", element=\"debfd7c5-1092-4ddb-a9a4-2c578805b95a\")>,\n",
       " <selenium.webdriver.remote.webelement.WebElement (session=\"4ef51535071982d61926d3051674b760\", element=\"14c68d6a-a3a1-41db-817d-58eadd7007b6\")>,\n",
       " <selenium.webdriver.remote.webelement.WebElement (session=\"4ef51535071982d61926d3051674b760\", element=\"53f6084c-8a36-4ace-9e1f-c35337e07f94\")>,\n",
       " <selenium.webdriver.remote.webelement.WebElement (session=\"4ef51535071982d61926d3051674b760\", element=\"55115387-83b5-4856-8e63-0cc2acc5c4bb\")>,\n",
       " <selenium.webdriver.remote.webelement.WebElement (session=\"4ef51535071982d61926d3051674b760\", element=\"c42330c3-e9cb-4d42-857b-816bbf612c4d\")>,\n",
       " <selenium.webdriver.remote.webelement.WebElement (session=\"4ef51535071982d61926d3051674b760\", element=\"0df6b156-a544-44ed-b993-a1e15dd52e28\")>,\n",
       " <selenium.webdriver.remote.webelement.WebElement (session=\"4ef51535071982d61926d3051674b760\", element=\"0093339b-1ded-4955-8ca7-f2efe52e89d5\")>,\n",
       " <selenium.webdriver.remote.webelement.WebElement (session=\"4ef51535071982d61926d3051674b760\", element=\"e0a10348-2ffa-4435-ab98-30950df10540\")>,\n",
       " <selenium.webdriver.remote.webelement.WebElement (session=\"4ef51535071982d61926d3051674b760\", element=\"d1ac56c0-8907-4948-8cda-f120da2578a6\")>,\n",
       " <selenium.webdriver.remote.webelement.WebElement (session=\"4ef51535071982d61926d3051674b760\", element=\"10da7871-3d12-427a-9b2f-5c287c392c54\")>,\n",
       " <selenium.webdriver.remote.webelement.WebElement (session=\"4ef51535071982d61926d3051674b760\", element=\"e51fdd00-f330-4410-8747-5560031c77a3\")>,\n",
       " <selenium.webdriver.remote.webelement.WebElement (session=\"4ef51535071982d61926d3051674b760\", element=\"ee0a1f51-978e-440b-86d0-94b6f7dfc915\")>,\n",
       " <selenium.webdriver.remote.webelement.WebElement (session=\"4ef51535071982d61926d3051674b760\", element=\"0caba2a5-c172-4f09-877a-b2aeed840c79\")>,\n",
       " <selenium.webdriver.remote.webelement.WebElement (session=\"4ef51535071982d61926d3051674b760\", element=\"f0daa924-97b7-4ffc-9d8e-5ffe45132498\")>,\n",
       " <selenium.webdriver.remote.webelement.WebElement (session=\"4ef51535071982d61926d3051674b760\", element=\"5b0e5cc9-d328-41c3-afff-7f4a16e07d3e\")>,\n",
       " <selenium.webdriver.remote.webelement.WebElement (session=\"4ef51535071982d61926d3051674b760\", element=\"e42aac06-d8c7-4f2d-8b27-7147ed7a8f67\")>,\n",
       " <selenium.webdriver.remote.webelement.WebElement (session=\"4ef51535071982d61926d3051674b760\", element=\"7cc66449-3113-4599-b71a-6ee2a1a39375\")>,\n",
       " <selenium.webdriver.remote.webelement.WebElement (session=\"4ef51535071982d61926d3051674b760\", element=\"70c5a74c-7f37-4f6d-97cd-76ab0d15bcdd\")>,\n",
       " <selenium.webdriver.remote.webelement.WebElement (session=\"4ef51535071982d61926d3051674b760\", element=\"70bb2308-0d11-4cba-8c0d-cd6ed3b03de1\")>,\n",
       " <selenium.webdriver.remote.webelement.WebElement (session=\"4ef51535071982d61926d3051674b760\", element=\"3ffe9b43-11ac-4e38-9c9e-adc4251687ff\")>,\n",
       " <selenium.webdriver.remote.webelement.WebElement (session=\"4ef51535071982d61926d3051674b760\", element=\"5878a8a7-fc75-41fe-8604-ba42641fa41f\")>,\n",
       " <selenium.webdriver.remote.webelement.WebElement (session=\"4ef51535071982d61926d3051674b760\", element=\"e2699f5d-2c32-4e8b-a86c-781c3b5a5bf5\")>,\n",
       " <selenium.webdriver.remote.webelement.WebElement (session=\"4ef51535071982d61926d3051674b760\", element=\"df96e825-0538-43bf-b0bc-24cc0a9f0410\")>,\n",
       " <selenium.webdriver.remote.webelement.WebElement (session=\"4ef51535071982d61926d3051674b760\", element=\"8a87a11e-7108-485f-9a57-e7a7a19954b1\")>,\n",
       " <selenium.webdriver.remote.webelement.WebElement (session=\"4ef51535071982d61926d3051674b760\", element=\"068dc316-8f9f-415a-87d9-f0aa83368e93\")>,\n",
       " <selenium.webdriver.remote.webelement.WebElement (session=\"4ef51535071982d61926d3051674b760\", element=\"04a0bb19-2a9d-48ed-968d-b896d2b860ca\")>,\n",
       " <selenium.webdriver.remote.webelement.WebElement (session=\"4ef51535071982d61926d3051674b760\", element=\"ee6fc744-1fd4-484c-807c-05bd96e35e92\")>,\n",
       " <selenium.webdriver.remote.webelement.WebElement (session=\"4ef51535071982d61926d3051674b760\", element=\"460589b1-3261-45e4-b929-c0ef2cedf9ea\")>,\n",
       " <selenium.webdriver.remote.webelement.WebElement (session=\"4ef51535071982d61926d3051674b760\", element=\"d319775c-ebc1-4a1b-9f3c-0cf04381f56d\")>,\n",
       " <selenium.webdriver.remote.webelement.WebElement (session=\"4ef51535071982d61926d3051674b760\", element=\"d8be0108-6aef-49a3-94d8-d653f1635663\")>,\n",
       " <selenium.webdriver.remote.webelement.WebElement (session=\"4ef51535071982d61926d3051674b760\", element=\"e5ea0b98-e247-48da-95b8-e93fd8bcbc7a\")>,\n",
       " <selenium.webdriver.remote.webelement.WebElement (session=\"4ef51535071982d61926d3051674b760\", element=\"0ab2d6b3-c0b8-4003-8501-c29f1ba03bd1\")>,\n",
       " <selenium.webdriver.remote.webelement.WebElement (session=\"4ef51535071982d61926d3051674b760\", element=\"f0dfd1e7-3574-4a75-a52a-f425213df47a\")>,\n",
       " <selenium.webdriver.remote.webelement.WebElement (session=\"4ef51535071982d61926d3051674b760\", element=\"8c22a95e-8f9c-47b8-8526-8f89e46d235d\")>,\n",
       " <selenium.webdriver.remote.webelement.WebElement (session=\"4ef51535071982d61926d3051674b760\", element=\"50380b16-8ca0-4811-8ffc-6ab6631fc5e8\")>,\n",
       " <selenium.webdriver.remote.webelement.WebElement (session=\"4ef51535071982d61926d3051674b760\", element=\"8c441c11-13cc-41a0-ac11-f2c9fc4717d7\")>,\n",
       " <selenium.webdriver.remote.webelement.WebElement (session=\"4ef51535071982d61926d3051674b760\", element=\"5f66cbae-0e6e-4c46-9710-0cd4481a05d8\")>,\n",
       " <selenium.webdriver.remote.webelement.WebElement (session=\"4ef51535071982d61926d3051674b760\", element=\"cae80d50-f54b-4a32-ab6a-cb6a13ce21b4\")>,\n",
       " <selenium.webdriver.remote.webelement.WebElement (session=\"4ef51535071982d61926d3051674b760\", element=\"a9cc03bb-e5da-400c-8860-a95b9228b6c2\")>,\n",
       " <selenium.webdriver.remote.webelement.WebElement (session=\"4ef51535071982d61926d3051674b760\", element=\"0cf9bd93-58dc-4e39-ba3a-078ffb1ca67d\")>,\n",
       " <selenium.webdriver.remote.webelement.WebElement (session=\"4ef51535071982d61926d3051674b760\", element=\"0fc03ef7-1b8a-4c37-9d70-c19ab030a8fa\")>,\n",
       " <selenium.webdriver.remote.webelement.WebElement (session=\"4ef51535071982d61926d3051674b760\", element=\"cb61f338-13c0-4a10-b23b-aa76a7f17a15\")>,\n",
       " <selenium.webdriver.remote.webelement.WebElement (session=\"4ef51535071982d61926d3051674b760\", element=\"0a9e7471-356c-4d11-b99d-4fa6df8c729d\")>,\n",
       " <selenium.webdriver.remote.webelement.WebElement (session=\"4ef51535071982d61926d3051674b760\", element=\"f5741ba3-8f62-48f0-a5aa-5afd8054b2fd\")>,\n",
       " <selenium.webdriver.remote.webelement.WebElement (session=\"4ef51535071982d61926d3051674b760\", element=\"8e2d7705-5fa3-4377-b00f-9d4794da2327\")>,\n",
       " <selenium.webdriver.remote.webelement.WebElement (session=\"4ef51535071982d61926d3051674b760\", element=\"375bc440-6dad-4526-89ed-e2701d845207\")>,\n",
       " <selenium.webdriver.remote.webelement.WebElement (session=\"4ef51535071982d61926d3051674b760\", element=\"692d36f6-a8a5-46f1-a1f2-37f46f16eb3f\")>,\n",
       " <selenium.webdriver.remote.webelement.WebElement (session=\"4ef51535071982d61926d3051674b760\", element=\"d8de0e7c-85e0-4718-8ace-ebcab701cf97\")>,\n",
       " <selenium.webdriver.remote.webelement.WebElement (session=\"4ef51535071982d61926d3051674b760\", element=\"563e226b-65d4-4aa0-8a46-b6627edb5d2e\")>,\n",
       " <selenium.webdriver.remote.webelement.WebElement (session=\"4ef51535071982d61926d3051674b760\", element=\"27b9e2b5-d4bb-41c7-a8cd-4b968e9d8f78\")>,\n",
       " <selenium.webdriver.remote.webelement.WebElement (session=\"4ef51535071982d61926d3051674b760\", element=\"93938bd2-de35-4571-b062-e2c719b2e205\")>,\n",
       " <selenium.webdriver.remote.webelement.WebElement (session=\"4ef51535071982d61926d3051674b760\", element=\"feda5703-ec94-4a3f-85d6-58ebcf808481\")>,\n",
       " <selenium.webdriver.remote.webelement.WebElement (session=\"4ef51535071982d61926d3051674b760\", element=\"c4bd764d-edc0-43d0-b72e-c832e3b6b4b4\")>,\n",
       " <selenium.webdriver.remote.webelement.WebElement (session=\"4ef51535071982d61926d3051674b760\", element=\"a91e071c-f7f2-452f-8013-da7715c258f5\")>,\n",
       " <selenium.webdriver.remote.webelement.WebElement (session=\"4ef51535071982d61926d3051674b760\", element=\"d6f8ecee-94c7-491c-bf61-855e2f772e74\")>,\n",
       " <selenium.webdriver.remote.webelement.WebElement (session=\"4ef51535071982d61926d3051674b760\", element=\"c3eb5886-7209-431a-b59d-78dee76e1cc0\")>,\n",
       " <selenium.webdriver.remote.webelement.WebElement (session=\"4ef51535071982d61926d3051674b760\", element=\"0e3c2377-280e-48e8-a774-d1bc58f24a59\")>,\n",
       " <selenium.webdriver.remote.webelement.WebElement (session=\"4ef51535071982d61926d3051674b760\", element=\"bbdd056c-03ae-4d9f-82f7-d9ae467e0dcc\")>,\n",
       " <selenium.webdriver.remote.webelement.WebElement (session=\"4ef51535071982d61926d3051674b760\", element=\"b73c8356-e9af-482a-91ed-11efbd57fc4a\")>,\n",
       " <selenium.webdriver.remote.webelement.WebElement (session=\"4ef51535071982d61926d3051674b760\", element=\"9433d2c2-50b2-46f0-bdd9-82b17f9d6704\")>,\n",
       " <selenium.webdriver.remote.webelement.WebElement (session=\"4ef51535071982d61926d3051674b760\", element=\"b29be02b-324e-4b5a-9e0c-8b2a7c422e76\")>,\n",
       " <selenium.webdriver.remote.webelement.WebElement (session=\"4ef51535071982d61926d3051674b760\", element=\"617a9683-e616-4371-be77-1e60291ce6d3\")>,\n",
       " <selenium.webdriver.remote.webelement.WebElement (session=\"4ef51535071982d61926d3051674b760\", element=\"c4c98811-7120-4d71-bf46-1f367fbf8b65\")>,\n",
       " <selenium.webdriver.remote.webelement.WebElement (session=\"4ef51535071982d61926d3051674b760\", element=\"a7e83b93-331f-4983-98d8-12dd05de8000\")>,\n",
       " <selenium.webdriver.remote.webelement.WebElement (session=\"4ef51535071982d61926d3051674b760\", element=\"e3301022-2e53-41f0-9ccb-85a185e872b5\")>,\n",
       " <selenium.webdriver.remote.webelement.WebElement (session=\"4ef51535071982d61926d3051674b760\", element=\"137749dd-ad20-4f62-8a9a-2a11903addc4\")>,\n",
       " <selenium.webdriver.remote.webelement.WebElement (session=\"4ef51535071982d61926d3051674b760\", element=\"131da770-2e12-4203-b775-1d207580e03b\")>,\n",
       " <selenium.webdriver.remote.webelement.WebElement (session=\"4ef51535071982d61926d3051674b760\", element=\"06db649b-8c97-456d-bb4c-8d7c78e99f1f\")>,\n",
       " <selenium.webdriver.remote.webelement.WebElement (session=\"4ef51535071982d61926d3051674b760\", element=\"4bd1594f-66b3-47c5-a259-02f897703ba9\")>,\n",
       " <selenium.webdriver.remote.webelement.WebElement (session=\"4ef51535071982d61926d3051674b760\", element=\"45199347-140c-4a32-b2ab-7d7c0c9be358\")>,\n",
       " <selenium.webdriver.remote.webelement.WebElement (session=\"4ef51535071982d61926d3051674b760\", element=\"83c7790d-25ea-4bf6-8a4c-ec2fa599ff4f\")>,\n",
       " <selenium.webdriver.remote.webelement.WebElement (session=\"4ef51535071982d61926d3051674b760\", element=\"a8d7c94f-958b-4898-bb16-4fd2b482fef2\")>,\n",
       " <selenium.webdriver.remote.webelement.WebElement (session=\"4ef51535071982d61926d3051674b760\", element=\"3e2fb023-a51d-4db8-ad58-a7d57b662be0\")>,\n",
       " <selenium.webdriver.remote.webelement.WebElement (session=\"4ef51535071982d61926d3051674b760\", element=\"16f92b3f-2536-4ebb-917f-a87033354737\")>,\n",
       " <selenium.webdriver.remote.webelement.WebElement (session=\"4ef51535071982d61926d3051674b760\", element=\"508a6c39-a2f1-4039-9894-11459290b650\")>,\n",
       " <selenium.webdriver.remote.webelement.WebElement (session=\"4ef51535071982d61926d3051674b760\", element=\"3a4a7358-a209-4713-bee7-d85eb5365749\")>,\n",
       " <selenium.webdriver.remote.webelement.WebElement (session=\"4ef51535071982d61926d3051674b760\", element=\"c2e72029-3c2f-469e-9021-4128b8f5f768\")>,\n",
       " <selenium.webdriver.remote.webelement.WebElement (session=\"4ef51535071982d61926d3051674b760\", element=\"cae15f61-a24b-40ef-bd9a-5118fdfc4752\")>,\n",
       " <selenium.webdriver.remote.webelement.WebElement (session=\"4ef51535071982d61926d3051674b760\", element=\"5cb51071-2384-4fc0-853a-ba655a16cf5b\")>,\n",
       " <selenium.webdriver.remote.webelement.WebElement (session=\"4ef51535071982d61926d3051674b760\", element=\"507c8a16-c1d5-497a-a8c0-69bc4c2feff9\")>,\n",
       " <selenium.webdriver.remote.webelement.WebElement (session=\"4ef51535071982d61926d3051674b760\", element=\"1f7cb7f0-4ea4-428c-a596-6152df2a316c\")>,\n",
       " <selenium.webdriver.remote.webelement.WebElement (session=\"4ef51535071982d61926d3051674b760\", element=\"b32188bc-fa0a-4ea8-be6c-ff7a3eef8f72\")>,\n",
       " <selenium.webdriver.remote.webelement.WebElement (session=\"4ef51535071982d61926d3051674b760\", element=\"319a4b32-786c-4a16-9155-10fc7fc5fa0c\")>,\n",
       " <selenium.webdriver.remote.webelement.WebElement (session=\"4ef51535071982d61926d3051674b760\", element=\"c50a165a-e961-4b2d-8d5c-ad926f509bb1\")>,\n",
       " <selenium.webdriver.remote.webelement.WebElement (session=\"4ef51535071982d61926d3051674b760\", element=\"26a27d9f-e49f-4904-8f89-40fa9a522a6a\")>,\n",
       " <selenium.webdriver.remote.webelement.WebElement (session=\"4ef51535071982d61926d3051674b760\", element=\"7e4c3345-698b-4ad8-81d8-4c94e8955cb9\")>,\n",
       " <selenium.webdriver.remote.webelement.WebElement (session=\"4ef51535071982d61926d3051674b760\", element=\"b82ba077-5e5a-4150-a9c6-c33a2eb9a696\")>,\n",
       " <selenium.webdriver.remote.webelement.WebElement (session=\"4ef51535071982d61926d3051674b760\", element=\"dbdcd00d-3c49-404f-8ea9-f526c6f50467\")>,\n",
       " <selenium.webdriver.remote.webelement.WebElement (session=\"4ef51535071982d61926d3051674b760\", element=\"5f604f4e-a782-4f95-b6c4-0f354dae2fcd\")>,\n",
       " <selenium.webdriver.remote.webelement.WebElement (session=\"4ef51535071982d61926d3051674b760\", element=\"13440ed4-c2ca-42db-903a-f0d52d0ee762\")>,\n",
       " <selenium.webdriver.remote.webelement.WebElement (session=\"4ef51535071982d61926d3051674b760\", element=\"815d1255-397a-4487-90d2-c11329a5b05a\")>,\n",
       " <selenium.webdriver.remote.webelement.WebElement (session=\"4ef51535071982d61926d3051674b760\", element=\"5e12d3f8-5011-46a0-8004-281f98c4a228\")>,\n",
       " <selenium.webdriver.remote.webelement.WebElement (session=\"4ef51535071982d61926d3051674b760\", element=\"40f88976-bdd7-4f01-b24b-d9da1c84b976\")>,\n",
       " <selenium.webdriver.remote.webelement.WebElement (session=\"4ef51535071982d61926d3051674b760\", element=\"7588070d-19f8-47a6-bab7-49857ee3a782\")>,\n",
       " <selenium.webdriver.remote.webelement.WebElement (session=\"4ef51535071982d61926d3051674b760\", element=\"5e4ffb8a-a1c2-4797-b8e4-83f9d09f5422\")>,\n",
       " <selenium.webdriver.remote.webelement.WebElement (session=\"4ef51535071982d61926d3051674b760\", element=\"495dd4ad-1fba-4cfa-922d-eba8b0958831\")>,\n",
       " <selenium.webdriver.remote.webelement.WebElement (session=\"4ef51535071982d61926d3051674b760\", element=\"850a0c62-722f-42bd-bf21-b83d05d46c71\")>,\n",
       " <selenium.webdriver.remote.webelement.WebElement (session=\"4ef51535071982d61926d3051674b760\", element=\"84ae99fa-3a26-443b-b59e-a29a8664ec11\")>,\n",
       " <selenium.webdriver.remote.webelement.WebElement (session=\"4ef51535071982d61926d3051674b760\", element=\"8ef75101-651f-4676-9630-a4ccd902291c\")>,\n",
       " <selenium.webdriver.remote.webelement.WebElement (session=\"4ef51535071982d61926d3051674b760\", element=\"8864f862-6f13-4164-9fc5-57300a03a972\")>,\n",
       " <selenium.webdriver.remote.webelement.WebElement (session=\"4ef51535071982d61926d3051674b760\", element=\"f00397b1-1fc7-4a93-8d6c-7cadf3156ed0\")>,\n",
       " <selenium.webdriver.remote.webelement.WebElement (session=\"4ef51535071982d61926d3051674b760\", element=\"a45313e7-3d57-48b6-bc37-2983592b10f8\")>,\n",
       " <selenium.webdriver.remote.webelement.WebElement (session=\"4ef51535071982d61926d3051674b760\", element=\"10d20423-7a02-49db-a72e-1fcf64504454\")>,\n",
       " <selenium.webdriver.remote.webelement.WebElement (session=\"4ef51535071982d61926d3051674b760\", element=\"b69f1989-723d-4a3d-8e2e-c6a414a04759\")>,\n",
       " <selenium.webdriver.remote.webelement.WebElement (session=\"4ef51535071982d61926d3051674b760\", element=\"4f988a25-bbc8-481c-b719-b782c5316809\")>,\n",
       " <selenium.webdriver.remote.webelement.WebElement (session=\"4ef51535071982d61926d3051674b760\", element=\"4961c8ab-2ece-43c9-a080-dce43ba0f848\")>,\n",
       " <selenium.webdriver.remote.webelement.WebElement (session=\"4ef51535071982d61926d3051674b760\", element=\"697ef3ed-05d7-4bc2-8c20-b6dd1e617835\")>,\n",
       " <selenium.webdriver.remote.webelement.WebElement (session=\"4ef51535071982d61926d3051674b760\", element=\"81b761c6-37e1-4252-9c72-a57979b8ed76\")>,\n",
       " <selenium.webdriver.remote.webelement.WebElement (session=\"4ef51535071982d61926d3051674b760\", element=\"2613f18c-695c-49c5-b7c4-1b13b4a35688\")>,\n",
       " <selenium.webdriver.remote.webelement.WebElement (session=\"4ef51535071982d61926d3051674b760\", element=\"1e789891-5c07-4c7c-9ab2-ab4eb6a75792\")>,\n",
       " <selenium.webdriver.remote.webelement.WebElement (session=\"4ef51535071982d61926d3051674b760\", element=\"4b940741-2cb3-467a-929b-bfa90c669cf7\")>,\n",
       " <selenium.webdriver.remote.webelement.WebElement (session=\"4ef51535071982d61926d3051674b760\", element=\"e442c8a3-3250-4fe4-ab0b-1a50e01ebac4\")>,\n",
       " <selenium.webdriver.remote.webelement.WebElement (session=\"4ef51535071982d61926d3051674b760\", element=\"8f65894b-0f0a-4cd1-8d4f-bcfc044b3d54\")>,\n",
       " <selenium.webdriver.remote.webelement.WebElement (session=\"4ef51535071982d61926d3051674b760\", element=\"cc28763a-3879-4ef0-802b-7eeab8b42c73\")>,\n",
       " <selenium.webdriver.remote.webelement.WebElement (session=\"4ef51535071982d61926d3051674b760\", element=\"d77ffcf2-d7b5-4451-bdcd-4ea3bd599873\")>,\n",
       " <selenium.webdriver.remote.webelement.WebElement (session=\"4ef51535071982d61926d3051674b760\", element=\"5083b745-5c07-4ade-9367-cd1e3717e098\")>,\n",
       " <selenium.webdriver.remote.webelement.WebElement (session=\"4ef51535071982d61926d3051674b760\", element=\"f3be3d83-a749-43c5-abec-bf2ebddae6bf\")>]"
      ]
     },
     "execution_count": 11,
     "metadata": {},
     "output_type": "execute_result"
    }
   ],
   "source": [
    "filterbotton"
   ]
  },
  {
   "cell_type": "code",
   "execution_count": 12,
   "id": "c114d7b8",
   "metadata": {},
   "outputs": [],
   "source": [
    "from selenium.common.exceptions import StaleElementReferenceException\n",
    "from selenium.webdriver.support.ui import WebDriverWait\n",
    "from selenium.webdriver.support import expected_conditions as EC\n",
    "from selenium.webdriver.common.by import By"
   ]
  },
  {
   "cell_type": "code",
   "execution_count": 13,
   "id": "6d138789",
   "metadata": {},
   "outputs": [],
   "source": [
    "from selenium.common.exceptions import NoSuchElementException"
   ]
  },
  {
   "cell_type": "code",
   "execution_count": 14,
   "id": "91fae632",
   "metadata": {},
   "outputs": [],
   "source": [
    "import time"
   ]
  },
  {
   "cell_type": "code",
   "execution_count": 15,
   "id": "0946a38f",
   "metadata": {},
   "outputs": [
    {
     "name": "stdout",
     "output_type": "stream",
     "text": [
      "Message: stale element reference: element is not attached to the page document\n",
      "  (Session info: chrome=91.0.4472.101)\n",
      "\n"
     ]
    }
   ],
   "source": [
    "filterbotton=driver.find_elements_by_xpath('//a[@class=\"a-link-normal s-navigation-item\"]/span')\n",
    "time.sleep(2)\n",
    "try:\n",
    " for i in filterbotton:\n",
    "   if i.text == 'Intel Core i9':\n",
    "     i.click()\n",
    "except StaleElementReferenceException as e:\n",
    " print(e)"
   ]
  },
  {
   "cell_type": "code",
   "execution_count": 17,
   "id": "176440f9",
   "metadata": {},
   "outputs": [
    {
     "name": "stdout",
     "output_type": "stream",
     "text": [
      "Message: stale element reference: element is not attached to the page document\n",
      "  (Session info: chrome=91.0.4472.101)\n",
      "\n"
     ]
    }
   ],
   "source": [
    "filterbotton=driver.find_elements_by_xpath('//a[@class=\"a-link-normal s-navigation-item\"]/span')\n",
    "time.sleep(2)\n",
    "\n",
    " \n",
    "\n",
    "\n",
    "try:\n",
    " for i in filterbotton:\n",
    "   if i.text == 'Intel Core i7':\n",
    "     i.click()\n",
    "except StaleElementReferenceException as e:\n",
    " print(e)"
   ]
  },
  {
   "cell_type": "code",
   "execution_count": 18,
   "id": "89148be7",
   "metadata": {},
   "outputs": [],
   "source": [
    "Name=[]\n",
    "\n",
    "for i in driver.find_elements_by_xpath('//span[@ class =\"a-size-medium a-color-base a-text-normal\"]'):\n",
    "\n",
    "    Name.append(i.text.replace('\\n',''))\n",
    "    \n",
    "    "
   ]
  },
  {
   "cell_type": "code",
   "execution_count": 20,
   "id": "3a7647f5",
   "metadata": {},
   "outputs": [
    {
     "data": {
      "text/plain": [
       "['Lenovo Ideapad 5 Intel i7 11th Gen 15.6\" Thin and Light (16GB/512SSD/Win10 +Office Home/Intel Iris Xe Graphics/Graphite Grey/1.66kg), 82FG0117IN',\n",
       " 'Mi Notebook Horizon Edition 14 Intel Core i5-10210U 10th Gen 14-inch (35.56 cms) Thin and Light Laptop(8GB/512GB SSD/Windows 10/Nvidia MX350 2GB Graphics/Grey/1.35Kg), XMA1904-AR+Webcam',\n",
       " 'HP Pavilion (2021) Thin & Light 11th Gen Core i7 Laptop, 16 GB RAM, 1TB SSD, Iris Xe Graphics, 14\" (35.56cms) FHD Screen, Windows 10, MS Office, Backlit Keyboard (14-dv0058TU)',\n",
       " 'Life Digital Laptop 15.6-inch (39.62 cms) (Intel Core i7, 4GB RAM, 256GB SSD, Windows 10), ZED AIR CX7',\n",
       " 'HP Pavilion Gaming 10th Gen Intel Core i7 Processor 15.6-inch FHD Gaming Laptop (16GB/512GB SSD + 32GB Intel Optane/Windows 10/NVIDIA 1650Ti 4GB/Shadow Black), 15-dk1509TX',\n",
       " 'Dell XPS 9570 15.6\" (39.62cms) UHD Laptop (8th Gen i9-8950HK/32GB/1TB SSD/Win 10 + MS Office/Integrated Graphics), Silver',\n",
       " 'ASUS ROG Zephyrus Duo 15, 15.6\" 4K UHD, Intel Core i7-10875H 10th Gen, RTX 2080 Super Max-Q 8GB Graphics, Gaming Laptop (32GB/2TB RAID 0 SSD/Windows 10/MS Office/Gray/2.48 Kg) GX550LXS-HC145TS',\n",
       " 'HP 14 Thin & Light 14\" (35.56cms) FHD Laptop (11th Gen Intel i7-1165G7/8GB/512GB SSD/Windows 10/MS Office 2019/Alexa Built-in/Pale Gold/1.47 kg), 14s-dr2007TU',\n",
       " '(Renewed) Lenovo T430 14-inch Laptop (Core i7/ 8GB RAM(Upgradable to 16)/512GB SSD/Windows 10 Pro/MS Office 2019, Intel Integrated Graphics, PAN INDIA WARRANTY) Black',\n",
       " 'Lenovo Legion 5Pi 10th Gen Intel Core i7 15.6\" FHD Gaming Laptop (16GB/1TB SSD/Windows 10/MS Office 2019/144 Hz/NVIDIA RTX 2060 6GB GDDR6/with M300 RGB Gaming Mouse/Iron Grey/2.3Kg), 82AW005SIN']"
      ]
     },
     "execution_count": 20,
     "metadata": {},
     "output_type": "execute_result"
    }
   ],
   "source": [
    "Name=Name[:10]\n",
    "Name"
   ]
  },
  {
   "cell_type": "code",
   "execution_count": 21,
   "id": "3407eecf",
   "metadata": {},
   "outputs": [],
   "source": [
    "price=[]\n",
    "\n",
    "for i in driver.find_elements_by_xpath('//span[@ class =\"a-price-whole\"]'):\n",
    "\n",
    "    price.append(i.text.replace('\\n',''))\n",
    "    "
   ]
  },
  {
   "cell_type": "code",
   "execution_count": 23,
   "id": "347b007f",
   "metadata": {},
   "outputs": [
    {
     "data": {
      "text/plain": [
       "['76,990',\n",
       " '54,999',\n",
       " '84,990',\n",
       " '26,990',\n",
       " '86,990',\n",
       " '1,92,492',\n",
       " '2,69,990',\n",
       " '89,990',\n",
       " '51,999',\n",
       " '76,990']"
      ]
     },
     "execution_count": 23,
     "metadata": {},
     "output_type": "execute_result"
    }
   ],
   "source": [
    " price= price[:10]\n",
    " price"
   ]
  },
  {
   "cell_type": "code",
   "execution_count": 62,
   "id": "bab215e3",
   "metadata": {},
   "outputs": [
    {
     "data": {
      "text/plain": [
       "['https://www.amazon.in/Acer-Predator-Graphics-PH315-53-Laptop/dp/B08WKFQPF4/ref=cr_br_sbs_2/262-6946948-4079843?pd_rd_w=EVnYR&pf_rd_p=6814d7a8-d0b5-42ef-b594-4c33a76705cc&pf_rd_r=Z10FE2BS2BJ9A82528MS&pd_rd_r=ad105a05-d188-4ec0-b1df-8a35c55c446b&pd_rd_wg=zFHlT&pd_rd_i=B08WKFQPF4&psc=1',\n",
       " 'https://www.amazon.in/HP-Processor-15-6-inch-i7-10750H-15-ek0019TX/dp/B08CGM1PKK/ref=cr_br_sbs_4/262-6946948-4079843?pd_rd_w=EVnYR&pf_rd_p=6814d7a8-d0b5-42ef-b594-4c33a76705cc&pf_rd_r=Z10FE2BS2BJ9A82528MS&pd_rd_r=ad105a05-d188-4ec0-b1df-8a35c55c446b&pd_rd_wg=zFHlT&pd_rd_i=B08CGM1PKK&psc=1',\n",
       " 'https://www.amazon.in/ASUS-i7-11370H-GeForce-RTX-Moonlight-FX516PR-AZ024TS/dp/B08XBVY35R/ref=cr_br_sbs_5/262-6946948-4079843?pd_rd_w=EVnYR&pf_rd_p=6814d7a8-d0b5-42ef-b594-4c33a76705cc&pf_rd_r=Z10FE2BS2BJ9A82528MS&pd_rd_r=ad105a05-d188-4ec0-b1df-8a35c55c446b&pd_rd_wg=zFHlT&pd_rd_i=B08XBVY35R&psc=1',\n",
       " 'https://www.amazon.in/HP-Processor-15-6-inch-i7-10750H-15-ek0042TX/dp/B08CGJDFCK/ref=cr_br_sbs_6/262-6946948-4079843?pd_rd_w=EVnYR&pf_rd_p=6814d7a8-d0b5-42ef-b594-4c33a76705cc&pf_rd_r=Z10FE2BS2BJ9A82528MS&pd_rd_r=ad105a05-d188-4ec0-b1df-8a35c55c446b&pd_rd_wg=zFHlT&pd_rd_i=B08CGJDFCK&psc=1',\n",
       " 'https://www.amazon.in/ASUS-VivoBook-i7-1165G7-Graphics-S433EA-AM701TS/dp/B08PQTZB3Z/ref=pd_di_sccai_1/262-6946948-4079843?pd_rd_w=7qOaW&pf_rd_p=fe781afd-b38e-460e-84b3-0b9cfeddda81&pf_rd_r=Z10FE2BS2BJ9A82528MS&pd_rd_r=ad105a05-d188-4ec0-b1df-8a35c55c446b&pd_rd_wg=zFHlT&pd_rd_i=B08PQTZB3Z&psc=1',\n",
       " 'https://www.amazon.in/Renewed-Lenovo-X1-1980x1080-Thinkpad/dp/B08WHM7YSV/ref=pd_di_sccai_2/262-6946948-4079843?pd_rd_w=7qOaW&pf_rd_p=fe781afd-b38e-460e-84b3-0b9cfeddda81&pf_rd_r=Z10FE2BS2BJ9A82528MS&pd_rd_r=ad105a05-d188-4ec0-b1df-8a35c55c446b&pd_rd_wg=zFHlT&pd_rd_i=B08WHM7YSV&psc=1',\n",
       " 'https://www.amazon.in/Renewed-Lenovo-X1-1980x1080-Thinkpad/dp/B08WHCYDG6/ref=pd_di_sccai_3/262-6946948-4079843?pd_rd_w=7qOaW&pf_rd_p=fe781afd-b38e-460e-84b3-0b9cfeddda81&pf_rd_r=Z10FE2BS2BJ9A82528MS&pd_rd_r=ad105a05-d188-4ec0-b1df-8a35c55c446b&pd_rd_wg=zFHlT&pd_rd_i=B08WHCYDG6&psc=1',\n",
       " 'https://www.amazon.in/Lenovo-ThinkPad-Fingerprint-Aluminium-20TDS0AB00/dp/B08Y927FK4/ref=pd_di_sccai_4/262-6946948-4079843?pd_rd_w=7qOaW&pf_rd_p=fe781afd-b38e-460e-84b3-0b9cfeddda81&pf_rd_r=Z10FE2BS2BJ9A82528MS&pd_rd_r=ad105a05-d188-4ec0-b1df-8a35c55c446b&pd_rd_wg=zFHlT&pd_rd_i=B08Y927FK4&psc=1',\n",
       " 'https://www.amazon.in/Certified-REFURBISHED-Lenovo-T450-Integrated/dp/B07HPV69ZQ/ref=pd_di_sccai_5/262-6946948-4079843?pd_rd_w=7qOaW&pf_rd_p=fe781afd-b38e-460e-84b3-0b9cfeddda81&pf_rd_r=Z10FE2BS2BJ9A82528MS&pd_rd_r=ad105a05-d188-4ec0-b1df-8a35c55c446b&pd_rd_wg=zFHlT&pd_rd_i=B07HPV69ZQ&psc=1',\n",
       " 'https://www.amazon.in/HP-Convertible-Touchscreen-13-3-inch-13-ay0046AU/dp/B08L84H8WS/ref=pd_di_sccai_6/262-6946948-4079843?pd_rd_w=7qOaW&pf_rd_p=fe781afd-b38e-460e-84b3-0b9cfeddda81&pf_rd_r=Z10FE2BS2BJ9A82528MS&pd_rd_r=ad105a05-d188-4ec0-b1df-8a35c55c446b&pd_rd_wg=zFHlT&pd_rd_i=B08L84H8WS&psc=1',\n",
       " 'https://www.amazon.in/gp/slredirect/picassoRedirect.html/ref=sspa_dk_detail_0?ie=UTF8&adId=A03559833KFZ8XTRHSU5M&qualifier=1623693626&id=4485196964330885&widgetName=sp_detail&url=%2Fdp%2FB092MRQCJ6%2Fref%3Dsspa_dk_detail_0%3Fpsc%3D1%26pd_rd_i%3DB092MRQCJ6%26pd_rd_w%3DKN4N1%26pf_rd_p%3D22b566f7-b705-4003-ab1d-17d90225e15f%26pd_rd_wg%3DzFHlT%26pf_rd_r%3DZ10FE2BS2BJ9A82528MS%26pd_rd_r%3Dad105a05-d188-4ec0-b1df-8a35c55c446b',\n",
       " 'https://www.amazon.in/gp/slredirect/picassoRedirect.html/ref=sspa_dk_detail_0?ie=UTF8&adId=A03559833KFZ8XTRHSU5M&qualifier=1623693626&id=4485196964330885&widgetName=sp_detail&url=%2Fdp%2FB092MRQCJ6%2Fref%3Dsspa_dk_detail_0%3Fpsc%3D1%26pd_rd_i%3DB092MRQCJ6%26pd_rd_w%3DKN4N1%26pf_rd_p%3D22b566f7-b705-4003-ab1d-17d90225e15f%26pd_rd_wg%3DzFHlT%26pf_rd_r%3DZ10FE2BS2BJ9A82528MS%26pd_rd_r%3Dad105a05-d188-4ec0-b1df-8a35c55c446b',\n",
       " 'https://www.amazon.in/gp/slredirect/picassoRedirect.html/ref=sspa_dk_detail_1?ie=UTF8&adId=A03562953LCD6AH7TP93K&qualifier=1623693626&id=4485196964330885&widgetName=sp_detail&url=%2Fdp%2FB092MTLNBB%2Fref%3Dsspa_dk_detail_1%3Fpsc%3D1%26pd_rd_i%3DB092MTLNBB%26pd_rd_w%3DKN4N1%26pf_rd_p%3D22b566f7-b705-4003-ab1d-17d90225e15f%26pd_rd_wg%3DzFHlT%26pf_rd_r%3DZ10FE2BS2BJ9A82528MS%26pd_rd_r%3Dad105a05-d188-4ec0-b1df-8a35c55c446b',\n",
       " 'https://www.amazon.in/gp/slredirect/picassoRedirect.html/ref=sspa_dk_detail_1?ie=UTF8&adId=A03562953LCD6AH7TP93K&qualifier=1623693626&id=4485196964330885&widgetName=sp_detail&url=%2Fdp%2FB092MTLNBB%2Fref%3Dsspa_dk_detail_1%3Fpsc%3D1%26pd_rd_i%3DB092MTLNBB%26pd_rd_w%3DKN4N1%26pf_rd_p%3D22b566f7-b705-4003-ab1d-17d90225e15f%26pd_rd_wg%3DzFHlT%26pf_rd_r%3DZ10FE2BS2BJ9A82528MS%26pd_rd_r%3Dad105a05-d188-4ec0-b1df-8a35c55c446b',\n",
       " 'https://www.amazon.in/gp/slredirect/picassoRedirect.html/ref=sspa_dk_detail_2?ie=UTF8&adId=A043677823XGBJUIF4AP0&qualifier=1623693626&id=4485196964330885&widgetName=sp_detail&url=%2Fdp%2FB08SK1K92C%2Fref%3Dsspa_dk_detail_2%3Fpsc%3D1%26pd_rd_i%3DB08SK1K92C%26pd_rd_w%3DKN4N1%26pf_rd_p%3D22b566f7-b705-4003-ab1d-17d90225e15f%26pd_rd_wg%3DzFHlT%26pf_rd_r%3DZ10FE2BS2BJ9A82528MS%26pd_rd_r%3Dad105a05-d188-4ec0-b1df-8a35c55c446b',\n",
       " 'https://www.amazon.in/gp/slredirect/picassoRedirect.html/ref=sspa_dk_detail_2?ie=UTF8&adId=A043677823XGBJUIF4AP0&qualifier=1623693626&id=4485196964330885&widgetName=sp_detail&url=%2Fdp%2FB08SK1K92C%2Fref%3Dsspa_dk_detail_2%3Fpsc%3D1%26pd_rd_i%3DB08SK1K92C%26pd_rd_w%3DKN4N1%26pf_rd_p%3D22b566f7-b705-4003-ab1d-17d90225e15f%26pd_rd_wg%3DzFHlT%26pf_rd_r%3DZ10FE2BS2BJ9A82528MS%26pd_rd_r%3Dad105a05-d188-4ec0-b1df-8a35c55c446b',\n",
       " 'https://www.amazon.in/gp/slredirect/picassoRedirect.html/ref=sspa_dk_detail_3?ie=UTF8&adId=A04612831D32XFOAB3519&qualifier=1623693626&id=4485196964330885&widgetName=sp_detail&url=%2Fdp%2FB00CD8AFFW%2Fref%3Dsspa_dk_detail_3%3Fpsc%3D1%26pd_rd_i%3DB00CD8AFFW%26pd_rd_w%3DKN4N1%26pf_rd_p%3D22b566f7-b705-4003-ab1d-17d90225e15f%26pd_rd_wg%3DzFHlT%26pf_rd_r%3DZ10FE2BS2BJ9A82528MS%26pd_rd_r%3Dad105a05-d188-4ec0-b1df-8a35c55c446b',\n",
       " 'https://www.amazon.in/gp/slredirect/picassoRedirect.html/ref=sspa_dk_detail_3?ie=UTF8&adId=A04612831D32XFOAB3519&qualifier=1623693626&id=4485196964330885&widgetName=sp_detail&url=%2Fdp%2FB00CD8AFFW%2Fref%3Dsspa_dk_detail_3%3Fpsc%3D1%26pd_rd_i%3DB00CD8AFFW%26pd_rd_w%3DKN4N1%26pf_rd_p%3D22b566f7-b705-4003-ab1d-17d90225e15f%26pd_rd_wg%3DzFHlT%26pf_rd_r%3DZ10FE2BS2BJ9A82528MS%26pd_rd_r%3Dad105a05-d188-4ec0-b1df-8a35c55c446b',\n",
       " 'https://www.amazon.in/gp/slredirect/picassoRedirect.html/ref=sspa_dk_detail_4?ie=UTF8&adId=A07754392JQ1CIE67HQ8J&qualifier=1623693626&id=4485196964330885&widgetName=sp_detail&url=%2Fdp%2FB07PKF4WH5%2Fref%3Dsspa_dk_detail_4%3Fpsc%3D1%26pd_rd_i%3DB07PKF4WH5%26pd_rd_w%3DKN4N1%26pf_rd_p%3D22b566f7-b705-4003-ab1d-17d90225e15f%26pd_rd_wg%3DzFHlT%26pf_rd_r%3DZ10FE2BS2BJ9A82528MS%26pd_rd_r%3Dad105a05-d188-4ec0-b1df-8a35c55c446b',\n",
       " 'https://www.amazon.in/gp/slredirect/picassoRedirect.html/ref=sspa_dk_detail_4?ie=UTF8&adId=A07754392JQ1CIE67HQ8J&qualifier=1623693626&id=4485196964330885&widgetName=sp_detail&url=%2Fdp%2FB07PKF4WH5%2Fref%3Dsspa_dk_detail_4%3Fpsc%3D1%26pd_rd_i%3DB07PKF4WH5%26pd_rd_w%3DKN4N1%26pf_rd_p%3D22b566f7-b705-4003-ab1d-17d90225e15f%26pd_rd_wg%3DzFHlT%26pf_rd_r%3DZ10FE2BS2BJ9A82528MS%26pd_rd_r%3Dad105a05-d188-4ec0-b1df-8a35c55c446b',\n",
       " 'https://www.amazon.in/gp/slredirect/picassoRedirect.html/ref=sspa_dk_detail_5?ie=UTF8&adId=A01319881M9KCVYRS1E4X&qualifier=1623693626&id=4485196964330885&widgetName=sp_detail&url=%2Fdp%2FB01H58MBEC%2Fref%3Dsspa_dk_detail_5%3Fpsc%3D1%26pd_rd_i%3DB01H58MBEC%26pd_rd_w%3DKN4N1%26pf_rd_p%3D22b566f7-b705-4003-ab1d-17d90225e15f%26pd_rd_wg%3DzFHlT%26pf_rd_r%3DZ10FE2BS2BJ9A82528MS%26pd_rd_r%3Dad105a05-d188-4ec0-b1df-8a35c55c446b',\n",
       " 'https://www.amazon.in/gp/slredirect/picassoRedirect.html/ref=sspa_dk_detail_5?ie=UTF8&adId=A01319881M9KCVYRS1E4X&qualifier=1623693626&id=4485196964330885&widgetName=sp_detail&url=%2Fdp%2FB01H58MBEC%2Fref%3Dsspa_dk_detail_5%3Fpsc%3D1%26pd_rd_i%3DB01H58MBEC%26pd_rd_w%3DKN4N1%26pf_rd_p%3D22b566f7-b705-4003-ab1d-17d90225e15f%26pd_rd_wg%3DzFHlT%26pf_rd_r%3DZ10FE2BS2BJ9A82528MS%26pd_rd_r%3Dad105a05-d188-4ec0-b1df-8a35c55c446b',\n",
       " 'https://www.amazon.in/gp/slredirect/picassoRedirect.html/ref=sspa_dk_detail_6?ie=UTF8&adId=A0522556276V1VRBSJZLX&qualifier=1623693626&id=4485196964330885&widgetName=sp_detail&url=%2Fdp%2FB08WLSYPWF%2Fref%3Dsspa_dk_detail_6%3Fpsc%3D1%26pd_rd_i%3DB08WLSYPWF%26pd_rd_w%3DKN4N1%26pf_rd_p%3D22b566f7-b705-4003-ab1d-17d90225e15f%26pd_rd_wg%3DzFHlT%26pf_rd_r%3DZ10FE2BS2BJ9A82528MS%26pd_rd_r%3Dad105a05-d188-4ec0-b1df-8a35c55c446b',\n",
       " 'https://www.amazon.in/gp/slredirect/picassoRedirect.html/ref=sspa_dk_detail_6?ie=UTF8&adId=A0522556276V1VRBSJZLX&qualifier=1623693626&id=4485196964330885&widgetName=sp_detail&url=%2Fdp%2FB08WLSYPWF%2Fref%3Dsspa_dk_detail_6%3Fpsc%3D1%26pd_rd_i%3DB08WLSYPWF%26pd_rd_w%3DKN4N1%26pf_rd_p%3D22b566f7-b705-4003-ab1d-17d90225e15f%26pd_rd_wg%3DzFHlT%26pf_rd_r%3DZ10FE2BS2BJ9A82528MS%26pd_rd_r%3Dad105a05-d188-4ec0-b1df-8a35c55c446b',\n",
       " 'https://www.amazon.in/gp/slredirect/picassoRedirect.html/ref=sspa_dk_detail_7?ie=UTF8&adId=A05273012966GWNFDKD18&qualifier=1623693626&id=4485196964330885&widgetName=sp_detail&url=%2Fdp%2FB07TS33VCV%2Fref%3Dsspa_dk_detail_7%3Fpsc%3D1%26pd_rd_i%3DB07TS33VCV%26pd_rd_w%3DKN4N1%26pf_rd_p%3D22b566f7-b705-4003-ab1d-17d90225e15f%26pd_rd_wg%3DzFHlT%26pf_rd_r%3DZ10FE2BS2BJ9A82528MS%26pd_rd_r%3Dad105a05-d188-4ec0-b1df-8a35c55c446b',\n",
       " 'https://www.amazon.in/gp/slredirect/picassoRedirect.html/ref=sspa_dk_detail_7?ie=UTF8&adId=A05273012966GWNFDKD18&qualifier=1623693626&id=4485196964330885&widgetName=sp_detail&url=%2Fdp%2FB07TS33VCV%2Fref%3Dsspa_dk_detail_7%3Fpsc%3D1%26pd_rd_i%3DB07TS33VCV%26pd_rd_w%3DKN4N1%26pf_rd_p%3D22b566f7-b705-4003-ab1d-17d90225e15f%26pd_rd_wg%3DzFHlT%26pf_rd_r%3DZ10FE2BS2BJ9A82528MS%26pd_rd_r%3Dad105a05-d188-4ec0-b1df-8a35c55c446b',\n",
       " 'https://www.amazon.in/gp/slredirect/picassoRedirect.html/ref=sspa_dk_detail_8?ie=UTF8&adId=A05462112SDTKDK1K3H2D&qualifier=1623693626&id=4485196964330885&widgetName=sp_detail&url=%2Fdp%2FB08PRYRXYW%2Fref%3Dsspa_dk_detail_8%3Fpsc%3D1%26pd_rd_i%3DB08PRYRXYW%26pd_rd_w%3DKN4N1%26pf_rd_p%3D22b566f7-b705-4003-ab1d-17d90225e15f%26pd_rd_wg%3DzFHlT%26pf_rd_r%3DZ10FE2BS2BJ9A82528MS%26pd_rd_r%3Dad105a05-d188-4ec0-b1df-8a35c55c446b',\n",
       " 'https://www.amazon.in/gp/slredirect/picassoRedirect.html/ref=sspa_dk_detail_8?ie=UTF8&adId=A05462112SDTKDK1K3H2D&qualifier=1623693626&id=4485196964330885&widgetName=sp_detail&url=%2Fdp%2FB08PRYRXYW%2Fref%3Dsspa_dk_detail_8%3Fpsc%3D1%26pd_rd_i%3DB08PRYRXYW%26pd_rd_w%3DKN4N1%26pf_rd_p%3D22b566f7-b705-4003-ab1d-17d90225e15f%26pd_rd_wg%3DzFHlT%26pf_rd_r%3DZ10FE2BS2BJ9A82528MS%26pd_rd_r%3Dad105a05-d188-4ec0-b1df-8a35c55c446b',\n",
       " 'https://www.amazon.in/gp/slredirect/picassoRedirect.html/ref=sspa_dk_detail_9?ie=UTF8&adId=A0546399YPSLN5851ZYK&qualifier=1623693626&id=4485196964330885&widgetName=sp_detail&url=%2Fdp%2FB08PRY8NDX%2Fref%3Dsspa_dk_detail_9%3Fpsc%3D1%26pd_rd_i%3DB08PRY8NDX%26pd_rd_w%3DKN4N1%26pf_rd_p%3D22b566f7-b705-4003-ab1d-17d90225e15f%26pd_rd_wg%3DzFHlT%26pf_rd_r%3DZ10FE2BS2BJ9A82528MS%26pd_rd_r%3Dad105a05-d188-4ec0-b1df-8a35c55c446b',\n",
       " 'https://www.amazon.in/gp/slredirect/picassoRedirect.html/ref=sspa_dk_detail_9?ie=UTF8&adId=A0546399YPSLN5851ZYK&qualifier=1623693626&id=4485196964330885&widgetName=sp_detail&url=%2Fdp%2FB08PRY8NDX%2Fref%3Dsspa_dk_detail_9%3Fpsc%3D1%26pd_rd_i%3DB08PRY8NDX%26pd_rd_w%3DKN4N1%26pf_rd_p%3D22b566f7-b705-4003-ab1d-17d90225e15f%26pd_rd_wg%3DzFHlT%26pf_rd_r%3DZ10FE2BS2BJ9A82528MS%26pd_rd_r%3Dad105a05-d188-4ec0-b1df-8a35c55c446b',\n",
       " 'https://www.amazon.in/Lenovo-Authorized-Accidental-Protection-Service/dp/B08D9J6TZS/ref=bmx_1/262-6946948-4079843?pd_rd_w=w5Xhk&pf_rd_p=733c3c6e-69dd-48c4-aaeb-acc982b5fc9a&pf_rd_r=Z10FE2BS2BJ9A82528MS&pd_rd_r=ad105a05-d188-4ec0-b1df-8a35c55c446b&pd_rd_wg=zFHlT&pd_rd_i=B08D9J6TZS&psc=1',\n",
       " 'https://www.amazon.in/Exchange-Pick-up-Service-for-Laptops/dp/B07P64X5YP/ref=bmx_2/262-6946948-4079843?pd_rd_w=w5Xhk&pf_rd_p=733c3c6e-69dd-48c4-aaeb-acc982b5fc9a&pf_rd_r=Z10FE2BS2BJ9A82528MS&pd_rd_r=ad105a05-d188-4ec0-b1df-8a35c55c446b&pd_rd_wg=zFHlT&pd_rd_i=B07P64X5YP&psc=1',\n",
       " 'https://www.amazon.in/Acko-Year-Extended-Warranty-Laptops/dp/B07MMN22R3/ref=bmx_3/262-6946948-4079843?pd_rd_w=w5Xhk&pf_rd_p=733c3c6e-69dd-48c4-aaeb-acc982b5fc9a&pf_rd_r=Z10FE2BS2BJ9A82528MS&pd_rd_r=ad105a05-d188-4ec0-b1df-8a35c55c446b&pd_rd_wg=zFHlT&pd_rd_i=B07MMN22R3&psc=1',\n",
       " 'https://www.amazon.in/Lenovo-Laptop-Windows-Office-81UE0085IN/dp/B08JCL6R75/ref=bmx_4/262-6946948-4079843?pd_rd_w=w5Xhk&pf_rd_p=733c3c6e-69dd-48c4-aaeb-acc982b5fc9a&pf_rd_r=Z10FE2BS2BJ9A82528MS&pd_rd_r=ad105a05-d188-4ec0-b1df-8a35c55c446b&pd_rd_wg=zFHlT&pd_rd_i=B08JCL6R75&psc=1',\n",
       " 'https://www.amazon.in/Lenovo-Touchscreen-Fingerprint-Graphite-82HS0092IN/dp/B08WRZQBQ6/ref=bmx_5/262-6946948-4079843?pd_rd_w=w5Xhk&pf_rd_p=733c3c6e-69dd-48c4-aaeb-acc982b5fc9a&pf_rd_r=Z10FE2BS2BJ9A82528MS&pd_rd_r=ad105a05-d188-4ec0-b1df-8a35c55c446b&pd_rd_wg=zFHlT&pd_rd_i=B08WRZQBQ6&psc=1',\n",
       " 'https://www.amazon.in/Lenovo-Accidental-Protection-IdeaPad-5PS0K76361/dp/B08XXVKTX5/ref=bmx_6/262-6946948-4079843?pd_rd_w=w5Xhk&pf_rd_p=733c3c6e-69dd-48c4-aaeb-acc982b5fc9a&pf_rd_r=Z10FE2BS2BJ9A82528MS&pd_rd_r=ad105a05-d188-4ec0-b1df-8a35c55c446b&pd_rd_wg=zFHlT&pd_rd_i=B08XXVKTX5&psc=1',\n",
       " 'https://www.amazon.in/gp/slredirect/picassoRedirect.html/ref=sspa_dk_detail_0?ie=UTF8&adId=A03559833KFZ8XTRHSU5M&qualifier=1623693626&id=2224350968411970&widgetName=sp_detail2&url=%2Fdp%2FB092MRQCJ6%2Fref%3Dsspa_dk_detail_0%3Fpsc%3D1%26pd_rd_i%3DB092MRQCJ6p13NParams',\n",
       " 'https://www.amazon.in/gp/slredirect/picassoRedirect.html/ref=sspa_dk_detail_0?ie=UTF8&adId=A03559833KFZ8XTRHSU5M&qualifier=1623693626&id=2224350968411970&widgetName=sp_detail2&url=%2Fdp%2FB092MRQCJ6%2Fref%3Dsspa_dk_detail_0%3Fpsc%3D1%26pd_rd_i%3DB092MRQCJ6p13NParams',\n",
       " 'https://www.amazon.in/gp/slredirect/picassoRedirect.html/ref=sspa_dk_detail_1?ie=UTF8&adId=A03562953LCD6AH7TP93K&qualifier=1623693626&id=2224350968411970&widgetName=sp_detail2&url=%2Fdp%2FB092MTLNBB%2Fref%3Dsspa_dk_detail_1%3Fpsc%3D1%26pd_rd_i%3DB092MTLNBBp13NParams',\n",
       " 'https://www.amazon.in/gp/slredirect/picassoRedirect.html/ref=sspa_dk_detail_1?ie=UTF8&adId=A03562953LCD6AH7TP93K&qualifier=1623693626&id=2224350968411970&widgetName=sp_detail2&url=%2Fdp%2FB092MTLNBB%2Fref%3Dsspa_dk_detail_1%3Fpsc%3D1%26pd_rd_i%3DB092MTLNBBp13NParams',\n",
       " 'https://www.amazon.in/gp/slredirect/picassoRedirect.html/ref=sspa_dk_detail_2?ie=UTF8&adId=A043677823XGBJUIF4AP0&qualifier=1623693626&id=2224350968411970&widgetName=sp_detail2&url=%2Fdp%2FB08SK1K92C%2Fref%3Dsspa_dk_detail_2%3Fpsc%3D1%26pd_rd_i%3DB08SK1K92Cp13NParams',\n",
       " 'https://www.amazon.in/gp/slredirect/picassoRedirect.html/ref=sspa_dk_detail_2?ie=UTF8&adId=A043677823XGBJUIF4AP0&qualifier=1623693626&id=2224350968411970&widgetName=sp_detail2&url=%2Fdp%2FB08SK1K92C%2Fref%3Dsspa_dk_detail_2%3Fpsc%3D1%26pd_rd_i%3DB08SK1K92Cp13NParams',\n",
       " 'https://www.amazon.in/gp/slredirect/picassoRedirect.html/ref=sspa_dk_detail_3?ie=UTF8&adId=A0537137ND2D2YLXNUCT&qualifier=1623693626&id=2224350968411970&widgetName=sp_detail2&url=%2Fdp%2FB012QQCATY%2Fref%3Dsspa_dk_detail_3%3Fpsc%3D1%26pd_rd_i%3DB012QQCATYp13NParams',\n",
       " 'https://www.amazon.in/gp/slredirect/picassoRedirect.html/ref=sspa_dk_detail_3?ie=UTF8&adId=A0537137ND2D2YLXNUCT&qualifier=1623693626&id=2224350968411970&widgetName=sp_detail2&url=%2Fdp%2FB012QQCATY%2Fref%3Dsspa_dk_detail_3%3Fpsc%3D1%26pd_rd_i%3DB012QQCATYp13NParams',\n",
       " 'https://www.amazon.in/gp/slredirect/picassoRedirect.html/ref=sspa_dk_detail_3?ie=UTF8&adId=A0537137ND2D2YLXNUCT&qualifier=1623693626&id=2224350968411970&widgetName=sp_detail2&url=%2Fdp%2FB012QQCATY%2Fref%3Dsspa_dk_detail_3%3Fpsc%3D1%26pd_rd_i%3DB012QQCATYp13NParams',\n",
       " 'https://www.amazon.in/gp/slredirect/picassoRedirect.html/ref=sspa_dk_detail_3?ie=UTF8&adId=A0537137ND2D2YLXNUCT&qualifier=1623693626&id=2224350968411970&widgetName=sp_detail2&url=%2Fdp%2FB012QQCATY%2Fref%3Dsspa_dk_detail_3%3Fpsc%3D1%26pd_rd_i%3DB012QQCATYp13NParams',\n",
       " 'https://www.amazon.in/gp/slredirect/picassoRedirect.html/ref=sspa_dk_detail_4?ie=UTF8&adId=A10277671EL7H1NC3OB1J&qualifier=1623693626&id=2224350968411970&widgetName=sp_detail2&url=%2Fdp%2FB013TGFPNS%2Fref%3Dsspa_dk_detail_4%3Fpsc%3D1%26pd_rd_i%3DB013TGFPNSp13NParams',\n",
       " 'https://www.amazon.in/gp/slredirect/picassoRedirect.html/ref=sspa_dk_detail_4?ie=UTF8&adId=A10277671EL7H1NC3OB1J&qualifier=1623693626&id=2224350968411970&widgetName=sp_detail2&url=%2Fdp%2FB013TGFPNS%2Fref%3Dsspa_dk_detail_4%3Fpsc%3D1%26pd_rd_i%3DB013TGFPNSp13NParams',\n",
       " 'https://www.amazon.in/gp/slredirect/picassoRedirect.html/ref=sspa_dk_detail_5?ie=UTF8&adId=A02044081XTFYO4XU5XFM&qualifier=1623693626&id=2224350968411970&widgetName=sp_detail2&url=%2Fdp%2FB08KZH6MSK%2Fref%3Dsspa_dk_detail_5%3Fpsc%3D1%26pd_rd_i%3DB08KZH6MSKp13NParams',\n",
       " 'https://www.amazon.in/gp/slredirect/picassoRedirect.html/ref=sspa_dk_detail_5?ie=UTF8&adId=A02044081XTFYO4XU5XFM&qualifier=1623693626&id=2224350968411970&widgetName=sp_detail2&url=%2Fdp%2FB08KZH6MSK%2Fref%3Dsspa_dk_detail_5%3Fpsc%3D1%26pd_rd_i%3DB08KZH6MSKp13NParams',\n",
       " 'https://www.amazon.in/gp/slredirect/picassoRedirect.html/ref=sspa_dk_detail_6?ie=UTF8&adId=A02184112VZEHOJBEAYBW&qualifier=1623693626&id=2224350968411970&widgetName=sp_detail2&url=%2Fdp%2FB07S6BYLYT%2Fref%3Dsspa_dk_detail_6%3Fpsc%3D1%26pd_rd_i%3DB07S6BYLYTp13NParams',\n",
       " 'https://www.amazon.in/gp/slredirect/picassoRedirect.html/ref=sspa_dk_detail_6?ie=UTF8&adId=A02184112VZEHOJBEAYBW&qualifier=1623693626&id=2224350968411970&widgetName=sp_detail2&url=%2Fdp%2FB07S6BYLYT%2Fref%3Dsspa_dk_detail_6%3Fpsc%3D1%26pd_rd_i%3DB07S6BYLYTp13NParams',\n",
       " 'https://www.amazon.in/gp/slredirect/picassoRedirect.html/ref=sspa_dk_detail_7?ie=UTF8&adId=A0482573VNQYX7GCAIZB&qualifier=1623693626&id=2224350968411970&widgetName=sp_detail2&url=%2Fdp%2FB093HHBCVJ%2Fref%3Dsspa_dk_detail_7%3Fpsc%3D1%26pd_rd_i%3DB093HHBCVJp13NParams',\n",
       " 'https://www.amazon.in/gp/slredirect/picassoRedirect.html/ref=sspa_dk_detail_7?ie=UTF8&adId=A0482573VNQYX7GCAIZB&qualifier=1623693626&id=2224350968411970&widgetName=sp_detail2&url=%2Fdp%2FB093HHBCVJ%2Fref%3Dsspa_dk_detail_7%3Fpsc%3D1%26pd_rd_i%3DB093HHBCVJp13NParams',\n",
       " 'https://www.amazon.in/gp/slredirect/picassoRedirect.html/ref=sspa_dk_detail_8?ie=UTF8&adId=A01170962TSHW64I57RAB&qualifier=1623693626&id=2224350968411970&widgetName=sp_detail2&url=%2Fdp%2FB07NZ419KZ%2Fref%3Dsspa_dk_detail_8%3Fpsc%3D1%26pd_rd_i%3DB07NZ419KZp13NParams',\n",
       " 'https://www.amazon.in/gp/slredirect/picassoRedirect.html/ref=sspa_dk_detail_8?ie=UTF8&adId=A01170962TSHW64I57RAB&qualifier=1623693626&id=2224350968411970&widgetName=sp_detail2&url=%2Fdp%2FB07NZ419KZ%2Fref%3Dsspa_dk_detail_8%3Fpsc%3D1%26pd_rd_i%3DB07NZ419KZp13NParams',\n",
       " 'https://www.amazon.in/gp/slredirect/picassoRedirect.html/ref=sspa_dk_detail_9?ie=UTF8&adId=A04070611YR16QJT854OI&qualifier=1623693626&id=2224350968411970&widgetName=sp_detail2&url=%2Fdp%2FB091YZB18M%2Fref%3Dsspa_dk_detail_9%3Fpsc%3D1%26pd_rd_i%3DB091YZB18Mp13NParams',\n",
       " 'https://www.amazon.in/gp/slredirect/picassoRedirect.html/ref=sspa_dk_detail_9?ie=UTF8&adId=A04070611YR16QJT854OI&qualifier=1623693626&id=2224350968411970&widgetName=sp_detail2&url=%2Fdp%2FB091YZB18M%2Fref%3Dsspa_dk_detail_9%3Fpsc%3D1%26pd_rd_i%3DB091YZB18Mp13NParams']"
      ]
     },
     "execution_count": 62,
     "metadata": {},
     "output_type": "execute_result"
    }
   ],
   "source": [
    "url=[]\n",
    "\n",
    "for i in driver.find_elements_by_xpath('//a[@class=\"a-link-normal a-text-normal\"]'):\n",
    "  url.append(i.get_attribute('href'))\n",
    "url   "
   ]
  },
  {
   "cell_type": "code",
   "execution_count": 69,
   "id": "57133c88",
   "metadata": {},
   "outputs": [
    {
     "data": {
      "text/plain": [
       "58"
      ]
     },
     "execution_count": 69,
     "metadata": {},
     "output_type": "execute_result"
    }
   ],
   "source": [
    "len(url)"
   ]
  },
  {
   "cell_type": "code",
   "execution_count": 83,
   "id": "4b64f55f",
   "metadata": {},
   "outputs": [],
   "source": [
    "Ratings=[]"
   ]
  },
  {
   "cell_type": "code",
   "execution_count": 86,
   "id": "a9000101",
   "metadata": {},
   "outputs": [],
   "source": [
    "for i in url[:10]:\n",
    "    driver.get(i)\n",
    "    time.sleep(3)\n",
    "   \n",
    "\n",
    "    try:\n",
    "      Ro=driver.find_element_by_xpath('//span[@data-hook=\"rating-out-of-text\"]')\n",
    "      Ratings.append(Ro.text)\n",
    "    \n",
    "    except NoSuchElementException :\n",
    "     Ratings.append('-')\n",
    "        \n",
    "\n",
    "\n",
    "    \n"
   ]
  },
  {
   "cell_type": "code",
   "execution_count": 87,
   "id": "6f4468a4",
   "metadata": {},
   "outputs": [
    {
     "data": {
      "text/plain": [
       "['4.4 out of 5',\n",
       " '4 out of 5',\n",
       " '3.6 out of 5',\n",
       " '3.3 out of 5',\n",
       " '4.3 out of 5',\n",
       " '-',\n",
       " '-',\n",
       " '4.1 out of 5',\n",
       " '4 out of 5',\n",
       " '5 out of 5']"
      ]
     },
     "execution_count": 87,
     "metadata": {},
     "output_type": "execute_result"
    }
   ],
   "source": [
    "Ratings"
   ]
  },
  {
   "cell_type": "code",
   "execution_count": 88,
   "id": "12301ebc",
   "metadata": {},
   "outputs": [],
   "source": [
    "import pandas as pd\n",
    "Laptop=pd.DataFrame({})\n",
    "\n",
    "Laptop['Name']=Name\n",
    "Laptop['price']=price\n",
    "Laptop['Ratings']=Ratings"
   ]
  },
  {
   "cell_type": "code",
   "execution_count": 89,
   "id": "2f506d1a",
   "metadata": {},
   "outputs": [
    {
     "data": {
      "text/html": [
       "<div>\n",
       "<style scoped>\n",
       "    .dataframe tbody tr th:only-of-type {\n",
       "        vertical-align: middle;\n",
       "    }\n",
       "\n",
       "    .dataframe tbody tr th {\n",
       "        vertical-align: top;\n",
       "    }\n",
       "\n",
       "    .dataframe thead th {\n",
       "        text-align: right;\n",
       "    }\n",
       "</style>\n",
       "<table border=\"1\" class=\"dataframe\">\n",
       "  <thead>\n",
       "    <tr style=\"text-align: right;\">\n",
       "      <th></th>\n",
       "      <th>Name</th>\n",
       "      <th>price</th>\n",
       "      <th>Ratings</th>\n",
       "    </tr>\n",
       "  </thead>\n",
       "  <tbody>\n",
       "    <tr>\n",
       "      <th>0</th>\n",
       "      <td>Lenovo Ideapad 5 Intel i7 11th Gen 15.6\" Thin ...</td>\n",
       "      <td>76,990</td>\n",
       "      <td>4.4 out of 5</td>\n",
       "    </tr>\n",
       "    <tr>\n",
       "      <th>1</th>\n",
       "      <td>Mi Notebook Horizon Edition 14 Intel Core i5-1...</td>\n",
       "      <td>54,999</td>\n",
       "      <td>4 out of 5</td>\n",
       "    </tr>\n",
       "    <tr>\n",
       "      <th>2</th>\n",
       "      <td>HP Pavilion (2021) Thin &amp; Light 11th Gen Core ...</td>\n",
       "      <td>84,990</td>\n",
       "      <td>3.6 out of 5</td>\n",
       "    </tr>\n",
       "    <tr>\n",
       "      <th>3</th>\n",
       "      <td>Life Digital Laptop 15.6-inch (39.62 cms) (Int...</td>\n",
       "      <td>26,990</td>\n",
       "      <td>3.3 out of 5</td>\n",
       "    </tr>\n",
       "    <tr>\n",
       "      <th>4</th>\n",
       "      <td>HP Pavilion Gaming 10th Gen Intel Core i7 Proc...</td>\n",
       "      <td>86,990</td>\n",
       "      <td>4.3 out of 5</td>\n",
       "    </tr>\n",
       "    <tr>\n",
       "      <th>5</th>\n",
       "      <td>Dell XPS 9570 15.6\" (39.62cms) UHD Laptop (8th...</td>\n",
       "      <td>1,92,492</td>\n",
       "      <td>-</td>\n",
       "    </tr>\n",
       "    <tr>\n",
       "      <th>6</th>\n",
       "      <td>ASUS ROG Zephyrus Duo 15, 15.6\" 4K UHD, Intel ...</td>\n",
       "      <td>2,69,990</td>\n",
       "      <td>-</td>\n",
       "    </tr>\n",
       "    <tr>\n",
       "      <th>7</th>\n",
       "      <td>HP 14 Thin &amp; Light 14\" (35.56cms) FHD Laptop (...</td>\n",
       "      <td>89,990</td>\n",
       "      <td>4.1 out of 5</td>\n",
       "    </tr>\n",
       "    <tr>\n",
       "      <th>8</th>\n",
       "      <td>(Renewed) Lenovo T430 14-inch Laptop (Core i7/...</td>\n",
       "      <td>51,999</td>\n",
       "      <td>4 out of 5</td>\n",
       "    </tr>\n",
       "    <tr>\n",
       "      <th>9</th>\n",
       "      <td>Lenovo Legion 5Pi 10th Gen Intel Core i7 15.6\"...</td>\n",
       "      <td>76,990</td>\n",
       "      <td>5 out of 5</td>\n",
       "    </tr>\n",
       "  </tbody>\n",
       "</table>\n",
       "</div>"
      ],
      "text/plain": [
       "                                                Name     price       Ratings\n",
       "0  Lenovo Ideapad 5 Intel i7 11th Gen 15.6\" Thin ...    76,990  4.4 out of 5\n",
       "1  Mi Notebook Horizon Edition 14 Intel Core i5-1...    54,999    4 out of 5\n",
       "2  HP Pavilion (2021) Thin & Light 11th Gen Core ...    84,990  3.6 out of 5\n",
       "3  Life Digital Laptop 15.6-inch (39.62 cms) (Int...    26,990  3.3 out of 5\n",
       "4  HP Pavilion Gaming 10th Gen Intel Core i7 Proc...    86,990  4.3 out of 5\n",
       "5  Dell XPS 9570 15.6\" (39.62cms) UHD Laptop (8th...  1,92,492             -\n",
       "6  ASUS ROG Zephyrus Duo 15, 15.6\" 4K UHD, Intel ...  2,69,990             -\n",
       "7  HP 14 Thin & Light 14\" (35.56cms) FHD Laptop (...    89,990  4.1 out of 5\n",
       "8  (Renewed) Lenovo T430 14-inch Laptop (Core i7/...    51,999    4 out of 5\n",
       "9  Lenovo Legion 5Pi 10th Gen Intel Core i7 15.6\"...    76,990    5 out of 5"
      ]
     },
     "execution_count": 89,
     "metadata": {},
     "output_type": "execute_result"
    }
   ],
   "source": [
    "Laptop"
   ]
  },
  {
   "cell_type": "code",
   "execution_count": null,
   "id": "6ccbb333",
   "metadata": {},
   "outputs": [],
   "source": []
  }
 ],
 "metadata": {
  "kernelspec": {
   "display_name": "Python 3",
   "language": "python",
   "name": "python3"
  },
  "language_info": {
   "codemirror_mode": {
    "name": "ipython",
    "version": 3
   },
   "file_extension": ".py",
   "mimetype": "text/x-python",
   "name": "python",
   "nbconvert_exporter": "python",
   "pygments_lexer": "ipython3",
   "version": "3.8.8"
  }
 },
 "nbformat": 4,
 "nbformat_minor": 5
}
